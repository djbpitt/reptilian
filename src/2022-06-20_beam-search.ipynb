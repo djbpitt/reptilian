{
 "cells": [
  {
   "cell_type": "markdown",
   "metadata": {
    "collapsed": false,
    "pycharm": {
     "name": "#%% md\n"
    }
   },
   "source": [
    "# Traverse LCP, then MFS\n",
    "\n",
    "* Replace earlier masked-array strategy with regular arrays, using 0 to represent a null.\n",
    "* Real data (offset of token within witness) is one-based.\n",
    "\n"
   ]
  },
  {
   "cell_type": "code",
   "execution_count": 95,
   "metadata": {
    "collapsed": false,
    "pycharm": {
     "name": "#%%\n"
    }
   },
   "outputs": [],
   "source": [
    "from typing import List\n",
    "from linsuffarr import SuffixArray\n",
    "from linsuffarr import UNIT_BYTE\n",
    "import pprint\n",
    "import numpy as np\n",
    "from dataclasses import dataclass\n",
    "from heapq import * # priority heap, https://docs.python.org/3/library/heapq.html\n",
    "pp = pprint.PrettyPrinter(indent=2)\n",
    "from bisect import bisect_right\n",
    "debug = True"
   ]
  },
  {
   "cell_type": "code",
   "execution_count": 96,
   "metadata": {
    "collapsed": false,
    "pycharm": {
     "name": "#%%\n"
    }
   },
   "outputs": [],
   "source": [
    "# sigla = ['w0', 'w1', 'w2', 'w3', 'w4', 'w5']\n",
    "# filenames = ['darwin1859.txt', 'darwin1860.txt', 'darwin1861.txt', 'darwin1866.txt', 'darwin1869.txt', 'darwin1872.txt']\n",
    "# sigla = ['w0', 'w1', 'w2', 'w3']\n",
    "# filenames = ['darwin1859.txt', 'darwin1860.txt', 'darwin1861.txt', 'darwin1866.txt']\n",
    "# sigla = ['w0', 'w1']\n",
    "# filenames = ['darwin1859.txt', 'darwin1860.txt']\n",
    "sigla = ['w0', 'w1', 'w2', 'w3', 'w4']\n",
    "filenames = ['abc/abcd.txt', 'abc/abcda.txt', 'abc/abcdb.txt', 'abc/abcdc.txt', 'abc/abcdd.txt']\n",
    "first_paragraph = 0\n",
    "last_paragraph = 10\n",
    "how_many_paragraphs = last_paragraph - first_paragraph\n",
    "raw_data_dict = {}\n",
    "for siglum, filename in zip(sigla, filenames):\n",
    "    with open(filename) as f:\n",
    "        lines = f.readlines()\n",
    "        lines = [line for line in lines if line != '\\n']\n",
    "        raw_data_dict[siglum] = \" \".join(lines[first_paragraph : last_paragraph])"
   ]
  },
  {
   "cell_type": "code",
   "execution_count": 97,
   "metadata": {
    "collapsed": false,
    "pycharm": {
     "name": "#%%\n"
    }
   },
   "outputs": [],
   "source": [
    "def tokenize_witnesses(witness_strings: List[str]): # one string per witness\n",
    "    '''Return list of witnesses, each represented by a list of tokens'''\n",
    "    # TODO: handle punctuation, upper- vs lowercase\n",
    "    witnesses = []\n",
    "    for witness_string in witness_strings:\n",
    "        witness_tokens = witness_string.split()\n",
    "        witnesses.append(witness_tokens)\n",
    "    return witnesses"
   ]
  },
  {
   "cell_type": "code",
   "execution_count": 98,
   "metadata": {
    "collapsed": false,
    "pycharm": {
     "name": "#%%\n"
    }
   },
   "outputs": [],
   "source": [
    "def create_token_array(witness_token_lists): # list of token lists per witness\n",
    "    '''Create token array (single list, with separator \" # \" between witnesses'''\n",
    "    token_array = [] # strings\n",
    "    token_membership_array = [] # witness identifiers, same offsets as in token_array\n",
    "    token_witness_offset_array = [] # one-based offset of token in witness\n",
    "    last_witness_offset = len(witness_token_lists) - 1\n",
    "    for index, witness_token_list in enumerate(witness_token_lists):\n",
    "        token_array.extend(witness_token_list)\n",
    "        for token_offset, token in enumerate(witness_token_list): # don't need enumerate, just len()\n",
    "            token_witness_offset_array.append(token_offset)\n",
    "        token_membership_array.extend([index for token in witness_token_list])\n",
    "        if index < last_witness_offset:\n",
    "            separator = \" #\" + str(index + 1) + \" \"\n",
    "            token_array.append(separator)\n",
    "            token_membership_array.append(separator)\n",
    "            token_witness_offset_array.append(-1)\n",
    "    return token_array, token_membership_array, token_witness_offset_array"
   ]
  },
  {
   "cell_type": "code",
   "execution_count": 99,
   "metadata": {
    "collapsed": false,
    "pycharm": {
     "name": "#%%\n"
    }
   },
   "outputs": [],
   "source": [
    "witness_sigla = [key for key in raw_data_dict.keys()]\n",
    "witnesses = tokenize_witnesses([value for value in raw_data_dict.values()]) # strings\n",
    "# token_list"
   ]
  },
  {
   "cell_type": "code",
   "execution_count": 100,
   "metadata": {
    "collapsed": false,
    "pycharm": {
     "name": "#%%\n"
    }
   },
   "outputs": [
    {
     "name": "stdout",
     "output_type": "stream",
     "text": [
      "token_array=['Darwin', '1859', 'WHEN', 'we', 'look', 'to', 'the', 'individuals', 'of', 'the', 'same', 'variety', 'or', 'sub-variety', 'of', 'our', 'older', 'cultivated', 'plants', 'and', 'animals,', 'one', 'of', 'the', 'first', 'points', 'which', 'strikes', 'us,', 'is,', 'that', 'they', 'generally', 'differ', 'much', 'more', 'from', 'each', 'other,', 'than', 'do', 'the', 'individuals', 'of', 'any', 'one', 'species', 'or', 'variety', 'in', 'a', 'state', 'of', 'nature.', 'When', 'we', 'reflect', 'on', 'the', 'vast', 'diversity', 'of', 'the', 'plants', 'and', 'animals', 'which', 'have', 'been', 'cultivated,', 'and', 'which', 'have', 'varied', 'during', 'all', 'ages', 'under', 'the', 'most', 'different', 'climates', 'and', 'treatment,', 'I', 'think', 'we', 'are', 'driven', 'to', 'conclude', 'that', 'this', 'greater', 'variability', 'is', 'simply', 'due', 'to', 'our', 'domestic', 'productions', 'having', 'been', 'raised', 'under', 'conditions', 'of', 'life', 'not', 'so', 'uniform', 'as,', 'and', 'somewhat', 'different', 'from,', 'those', 'to', 'which', 'the', 'parent-species', 'have', 'been', 'exposed', 'under', 'nature.', 'There', 'is,', 'also,', 'I', 'think,', 'some', 'probability', 'in', 'the', 'view', 'propounded', 'by', 'Andrew', 'Knight,', 'that', 'this', 'variability', 'may', 'be', 'partly', 'connected', 'with', 'excess', 'of', 'food.', 'It', 'seems', 'pretty', 'clear', 'that', 'organic', 'beings', 'must', 'be', 'exposed', 'during', 'several', 'generations', 'to', 'the', 'new', 'conditions', 'of', 'life', 'to', 'cause', 'any', 'appreciable', 'amount', 'of', 'variation;', 'and', 'that', 'when', 'the', 'organisation', 'has', 'once', 'begun', 'to', 'vary,', 'it', 'generally', 'continues', 'to', 'vary', 'for', 'many', 'generations.', 'No', 'case', 'is', 'on', 'record', 'of', 'a', 'variable', 'being', 'ceasing', 'to', 'be', 'variable', 'under', 'cultivation.', 'Our', 'oldest', 'cultivated', 'plants,', 'such', 'as', 'wheat,', 'still', 'often', 'yield', 'new', 'varieties:', 'our', 'oldest', 'domesticated', 'animals', 'are', 'still', 'capable', 'of', 'rapid', 'improvement', 'or', 'modification.', ' #1 ', 'Darwin', '1860', 'WHEN', 'we', 'look', 'to', 'the', 'individuals', 'of', 'the', 'same', 'variety', 'or', 'sub-variety', 'of', 'our', 'older', 'cultivated', 'plants', 'and', 'animals,', 'one', 'of', 'the', 'first', 'points', 'which', 'strikes', 'us,', 'is,', 'that', 'they', 'generally', 'differ', 'more', 'from', 'each', 'other', 'than', 'do', 'the', 'individuals', 'of', 'any', 'one', 'species', 'or', 'variety', 'in', 'a', 'state', 'of', 'nature.', 'When', 'we', 'reflect', 'on', 'the', 'vast', 'diversity', 'of', 'the', 'plants', 'and', 'animals', 'which', 'have', 'been', 'cultivated,', 'and', 'which', 'have', 'varied', 'during', 'all', 'ages', 'under', 'the', 'most', 'different', 'climates', 'and', 'treatment,', 'I', 'think', 'we', 'are', 'driven', 'to', 'conclude', 'that', 'this', 'great', 'variability', 'is', 'simply', 'due', 'to', 'our', 'domestic', 'productions', 'having', 'been', 'raised', 'under', 'conditions', 'of', 'life', 'not', 'so', 'uniform', 'as,', 'and', 'somewhat', 'different', 'from,', 'those', 'to', 'which', 'the', 'parent-species', 'have', 'been', 'exposed', 'under', 'nature.', 'There', 'is', 'also,', 'I', 'think,', 'some', 'probability', 'in', 'the', 'view', 'propounded', 'by', 'Andrew', 'Knight,', 'that', 'this', 'variability', 'may', 'be', 'partly', 'connected', 'with', 'excess', 'of', 'food.', 'It', 'seems', 'pretty', 'clear', 'that', 'organic', 'beings', 'must', 'be', 'exposed', 'during', 'several', 'generations', 'to', 'the', 'new', 'conditions', 'of', 'life', 'to', 'cause', 'any', 'appreciable', 'amount', 'of', 'variation;', 'and', 'that', 'when', 'the', 'organisation', 'has', 'once', 'begun', 'to', 'vary,', 'it', 'generally', 'continues', 'to', 'vary', 'for', 'many', 'generations.', 'No', 'case', 'is', 'on', 'record', 'of', 'a', 'variable', 'being', 'ceasing', 'to', 'be', 'variable', 'under', 'cultivation.', 'Our', 'oldest', 'cultivated', 'plants,', 'such', 'as', 'wheat,', 'still', 'often', 'yield', 'new', 'varieties:', 'our', 'oldest', 'domesticated', 'animals', 'are', 'still', 'capable', 'of', 'rapid', 'improvement', 'or', 'modification.', ' #2 ', 'Darwin', '1861', 'WHEN', 'we', 'look', 'to', 'the', 'individuals', 'of', 'the', 'same', 'variety', 'or', 'sub-variety', 'of', 'our', 'older', 'cultivated', 'plants', 'and', 'animals,', 'one', 'of', 'the', 'first', 'points', 'which', 'strikes', 'us,', 'is,', 'that', 'they', 'generally', 'differ', 'more', 'from', 'each', 'other', 'than', 'do', 'the', 'individuals', 'of', 'any', 'one', 'species', 'or', 'variety', 'in', 'a', 'state', 'of', 'nature.', 'When', 'we', 'reflect', 'on', 'the', 'vast', 'diversity', 'of', 'the', 'plants', 'and', 'animals', 'which', 'have', 'been', 'cultivated,', 'and', 'which', 'have', 'varied', 'during', 'all', 'ages', 'under', 'the', 'most', 'different', 'climates', 'and', 'treatment,', 'I', 'think', 'we', 'are', 'driven', 'to', 'conclude', 'that', 'this', 'great', 'variability', 'is', 'simply', 'due', 'to', 'our', 'domestic', 'productions', 'having', 'been', 'raised', 'under', 'conditions', 'of', 'life', 'not', 'so', 'uniform', 'as,', 'and', 'somewhat', 'different', 'from,', 'those', 'to', 'which', 'the', 'parent-species', 'have', 'been', 'exposed', 'under', 'nature.', 'There', 'is', 'also,', 'I', 'think,', 'some', 'probability', 'in', 'the', 'view', 'propounded', 'by', 'Andrew', 'Knight,', 'that', 'this', 'variability', 'may', 'be', 'partly', 'connected', 'with', 'excess', 'of', 'food.', 'It', 'seems', 'pretty', 'clear', 'that', 'organic', 'beings', 'must', 'be', 'exposed', 'during', 'several', 'generations', 'to', 'the', 'new', 'conditions', 'of', 'life', 'to', 'cause', 'any', 'appreciable', 'amount', 'of', 'variation;', 'and', 'that', 'when', 'the', 'organisation', 'has', 'once', 'begun', 'to', 'vary,', 'it', 'generally', 'continues', 'to', 'vary', 'for', 'many', 'generations.', 'No', 'case', 'is', 'on', 'record', 'of', 'a', 'variable', 'being', 'ceasing', 'to', 'be', 'variable', 'under', 'cultivation.', 'Our', 'oldest', 'cultivated', 'plants,', 'such', 'as', 'wheat,', 'still', 'often', 'yield', 'new', 'varieties:', 'our', 'oldest', 'domesticated', 'animals', 'are', 'still', 'capable', 'of', 'rapid', 'improvement', 'or', 'modification.', ' #3 ', 'Darwin', '1866', 'Causes', 'of', 'Variability.', 'WHEN', 'we', 'look', 'to', 'the', 'individuals', 'of', 'the', 'same', 'variety', 'or', 'sub-variety', 'of', 'our', 'older', 'cultivated', 'plants', 'and', 'animals,', 'one', 'of', 'the', 'first', 'points', 'which', 'strikes', 'us,', 'is,', 'that', 'they', 'generally', 'differ', 'more', 'from', 'each', 'other', 'than', 'do', 'the', 'individuals', 'of', 'any', 'one', 'species', 'or', 'variety', 'in', 'a', 'state', 'of', 'nature.', 'When', 'we', 'reflect', 'on', 'the', 'vast', 'diversity', 'of', 'the', 'plants', 'and', 'animals', 'which', 'have', 'been', 'cultivated,', 'and', 'which', 'have', 'varied', 'during', 'all', 'ages', 'under', 'the', 'most', 'different', 'climates', 'and', 'treatment,', 'I', 'think', 'we', 'are', 'driven', 'to', 'conclude', 'that', 'this', 'great', 'variability', 'is', 'simply', 'due', 'to', 'our', 'domestic', 'productions', 'having', 'been', 'raised', 'under', 'conditions', 'of', 'life', 'not', 'so', 'uniform', 'as,', 'and', 'somewhat', 'different', 'from,', 'those', 'to', 'which', 'the', 'parent-species', 'have', 'been', 'exposed', 'under', 'nature.', 'There', 'is', 'also,', 'I', 'think,', 'some', 'probability', 'in', 'the', 'view', 'propounded', 'by', 'Andrew', 'Knight,', 'that', 'this', 'variability', 'may', 'be', 'partly', 'connected', 'with', 'excess', 'of', 'food.', 'It', 'seems', 'pretty', 'clear', 'that', 'organic', 'beings', 'must', 'be', 'exposed', 'during', 'several', 'generations', 'to', 'the', 'new', 'conditions', 'of', 'life', 'to', 'cause', 'any', 'appreciable', 'amount', 'of', 'variation;', 'and', 'that,', 'when', 'the', 'organisation', 'has', 'once', 'begun', 'to', 'vary,', 'it', 'generally', 'continues', 'to', 'vary', 'for', 'many', 'generations.', 'No', 'case', 'is', 'on', 'record', 'of', 'a', 'variable', 'being', 'ceasing', 'to', 'be', 'variable', 'under', 'cultivation.', 'Our', 'oldest', 'cultivated', 'plants,', 'such', 'as', 'wheat,', 'still', 'often', 'yield', 'new', 'varieties:', 'our', 'oldest', 'domesticated', 'animals', 'are', 'still', 'capable', 'of', 'rapid', 'improvement', 'or', 'modification.', ' #4 ', 'Darwin', '1869', 'Causes', 'of', 'Variability.', 'WHEN', 'we', 'compare', 'the', 'individuals', 'of', 'the', 'same', 'variety', 'or', 'sub-variety', 'of', 'our', 'older', 'cultivated', 'plants', 'and', 'animals,', 'one', 'of', 'the', 'first', 'points', 'which', 'strikes', 'us', 'is,', 'that', 'they', 'generally', 'differ', 'from', 'each', 'other', 'more', 'than', 'do', 'the', 'individuals', 'of', 'any', 'one', 'species', 'or', 'variety', 'in', 'a', 'state', 'of', 'nature.', 'And', 'if', 'we', 'reflect', 'on', 'the', 'vast', 'diversity', 'of', 'the', 'plants', 'and', 'animals', 'which', 'have', 'been', 'cultivated,', 'and', 'which', 'have', 'varied', 'during', 'all', 'ages', 'under', 'the', 'most', 'different', 'climates', 'and', 'treatment,', 'we', 'are', 'driven', 'to', 'conclude', 'that', 'this', 'great', 'variability', 'is', 'due', 'to', 'our', 'domestic', 'productions', 'having', 'been', 'raised', 'under', 'conditions', 'of', 'life', 'not', 'so', 'uniform', 'as,', 'and', 'somewhat', 'different', 'from,', 'those', 'to', 'which', 'the', 'parent-species', 'had', 'been', 'exposed', 'under', 'nature.', 'There', 'is', 'also,', 'I', 'think,', 'some', 'probability', 'in', 'the', 'view', 'propounded', 'by', 'Andrew', 'Knight,', 'that', 'this', 'variability', 'may', 'be', 'partly', 'connected', 'with', 'excess', 'of', 'food.', 'It', 'seems', 'clear', 'that', 'organic', 'beings', 'must', 'be', 'exposed', 'during', 'several', 'generations', 'to', 'new', 'conditions', 'to', 'cause', 'any', 'appreciable', 'amount', 'of', 'variation;', 'and', 'that,', 'when', 'the', 'organisation', 'has', 'once', 'begun', 'to', 'vary,', 'it', 'generally', 'continues', 'varying', 'for', 'many', 'generations.', 'No', 'case', 'is', 'on', 'record', 'of', 'a', 'variable', 'organism', 'ceasing', 'to', 'vary', 'under', 'cultivation.', 'Our', 'oldest', 'cultivated', 'plants,', 'such', 'as', 'wheat,', 'still', 'yield', 'new', 'varieties:', 'our', 'oldest', 'domesticated', 'animals', 'are', 'still', 'capable', 'of', 'rapid', 'improvement', 'or', 'modification.']\n",
      "token_membership_array=[0, 0, 0, 0, 0, 0, 0, 0, 0, 0, 0, 0, 0, 0, 0, 0, 0, 0, 0, 0, 0, 0, 0, 0, 0, 0, 0, 0, 0, 0, 0, 0, 0, 0, 0, 0, 0, 0, 0, 0, 0, 0, 0, 0, 0, 0, 0, 0, 0, 0, 0, 0, 0, 0, 0, 0, 0, 0, 0, 0, 0, 0, 0, 0, 0, 0, 0, 0, 0, 0, 0, 0, 0, 0, 0, 0, 0, 0, 0, 0, 0, 0, 0, 0, 0, 0, 0, 0, 0, 0, 0, 0, 0, 0, 0, 0, 0, 0, 0, 0, 0, 0, 0, 0, 0, 0, 0, 0, 0, 0, 0, 0, 0, 0, 0, 0, 0, 0, 0, 0, 0, 0, 0, 0, 0, 0, 0, 0, 0, 0, 0, 0, 0, 0, 0, 0, 0, 0, 0, 0, 0, 0, 0, 0, 0, 0, 0, 0, 0, 0, 0, 0, 0, 0, 0, 0, 0, 0, 0, 0, 0, 0, 0, 0, 0, 0, 0, 0, 0, 0, 0, 0, 0, 0, 0, 0, 0, 0, 0, 0, 0, 0, 0, 0, 0, 0, 0, 0, 0, 0, 0, 0, 0, 0, 0, 0, 0, 0, 0, 0, 0, 0, 0, 0, 0, 0, 0, 0, 0, 0, 0, 0, 0, 0, 0, 0, 0, 0, 0, 0, 0, 0, 0, 0, 0, 0, 0, 0, 0, 0, 0, 0, 0, 0, 0, ' #1 ', 1, 1, 1, 1, 1, 1, 1, 1, 1, 1, 1, 1, 1, 1, 1, 1, 1, 1, 1, 1, 1, 1, 1, 1, 1, 1, 1, 1, 1, 1, 1, 1, 1, 1, 1, 1, 1, 1, 1, 1, 1, 1, 1, 1, 1, 1, 1, 1, 1, 1, 1, 1, 1, 1, 1, 1, 1, 1, 1, 1, 1, 1, 1, 1, 1, 1, 1, 1, 1, 1, 1, 1, 1, 1, 1, 1, 1, 1, 1, 1, 1, 1, 1, 1, 1, 1, 1, 1, 1, 1, 1, 1, 1, 1, 1, 1, 1, 1, 1, 1, 1, 1, 1, 1, 1, 1, 1, 1, 1, 1, 1, 1, 1, 1, 1, 1, 1, 1, 1, 1, 1, 1, 1, 1, 1, 1, 1, 1, 1, 1, 1, 1, 1, 1, 1, 1, 1, 1, 1, 1, 1, 1, 1, 1, 1, 1, 1, 1, 1, 1, 1, 1, 1, 1, 1, 1, 1, 1, 1, 1, 1, 1, 1, 1, 1, 1, 1, 1, 1, 1, 1, 1, 1, 1, 1, 1, 1, 1, 1, 1, 1, 1, 1, 1, 1, 1, 1, 1, 1, 1, 1, 1, 1, 1, 1, 1, 1, 1, 1, 1, 1, 1, 1, 1, 1, 1, 1, 1, 1, 1, 1, 1, 1, 1, 1, 1, 1, 1, 1, 1, 1, 1, 1, 1, 1, 1, 1, 1, 1, 1, 1, 1, 1, 1, ' #2 ', 2, 2, 2, 2, 2, 2, 2, 2, 2, 2, 2, 2, 2, 2, 2, 2, 2, 2, 2, 2, 2, 2, 2, 2, 2, 2, 2, 2, 2, 2, 2, 2, 2, 2, 2, 2, 2, 2, 2, 2, 2, 2, 2, 2, 2, 2, 2, 2, 2, 2, 2, 2, 2, 2, 2, 2, 2, 2, 2, 2, 2, 2, 2, 2, 2, 2, 2, 2, 2, 2, 2, 2, 2, 2, 2, 2, 2, 2, 2, 2, 2, 2, 2, 2, 2, 2, 2, 2, 2, 2, 2, 2, 2, 2, 2, 2, 2, 2, 2, 2, 2, 2, 2, 2, 2, 2, 2, 2, 2, 2, 2, 2, 2, 2, 2, 2, 2, 2, 2, 2, 2, 2, 2, 2, 2, 2, 2, 2, 2, 2, 2, 2, 2, 2, 2, 2, 2, 2, 2, 2, 2, 2, 2, 2, 2, 2, 2, 2, 2, 2, 2, 2, 2, 2, 2, 2, 2, 2, 2, 2, 2, 2, 2, 2, 2, 2, 2, 2, 2, 2, 2, 2, 2, 2, 2, 2, 2, 2, 2, 2, 2, 2, 2, 2, 2, 2, 2, 2, 2, 2, 2, 2, 2, 2, 2, 2, 2, 2, 2, 2, 2, 2, 2, 2, 2, 2, 2, 2, 2, 2, 2, 2, 2, 2, 2, 2, 2, 2, 2, 2, 2, 2, 2, 2, 2, 2, 2, 2, 2, 2, 2, 2, 2, 2, ' #3 ', 3, 3, 3, 3, 3, 3, 3, 3, 3, 3, 3, 3, 3, 3, 3, 3, 3, 3, 3, 3, 3, 3, 3, 3, 3, 3, 3, 3, 3, 3, 3, 3, 3, 3, 3, 3, 3, 3, 3, 3, 3, 3, 3, 3, 3, 3, 3, 3, 3, 3, 3, 3, 3, 3, 3, 3, 3, 3, 3, 3, 3, 3, 3, 3, 3, 3, 3, 3, 3, 3, 3, 3, 3, 3, 3, 3, 3, 3, 3, 3, 3, 3, 3, 3, 3, 3, 3, 3, 3, 3, 3, 3, 3, 3, 3, 3, 3, 3, 3, 3, 3, 3, 3, 3, 3, 3, 3, 3, 3, 3, 3, 3, 3, 3, 3, 3, 3, 3, 3, 3, 3, 3, 3, 3, 3, 3, 3, 3, 3, 3, 3, 3, 3, 3, 3, 3, 3, 3, 3, 3, 3, 3, 3, 3, 3, 3, 3, 3, 3, 3, 3, 3, 3, 3, 3, 3, 3, 3, 3, 3, 3, 3, 3, 3, 3, 3, 3, 3, 3, 3, 3, 3, 3, 3, 3, 3, 3, 3, 3, 3, 3, 3, 3, 3, 3, 3, 3, 3, 3, 3, 3, 3, 3, 3, 3, 3, 3, 3, 3, 3, 3, 3, 3, 3, 3, 3, 3, 3, 3, 3, 3, 3, 3, 3, 3, 3, 3, 3, 3, 3, 3, 3, 3, 3, 3, 3, 3, 3, 3, 3, 3, 3, 3, 3, 3, 3, 3, ' #4 ', 4, 4, 4, 4, 4, 4, 4, 4, 4, 4, 4, 4, 4, 4, 4, 4, 4, 4, 4, 4, 4, 4, 4, 4, 4, 4, 4, 4, 4, 4, 4, 4, 4, 4, 4, 4, 4, 4, 4, 4, 4, 4, 4, 4, 4, 4, 4, 4, 4, 4, 4, 4, 4, 4, 4, 4, 4, 4, 4, 4, 4, 4, 4, 4, 4, 4, 4, 4, 4, 4, 4, 4, 4, 4, 4, 4, 4, 4, 4, 4, 4, 4, 4, 4, 4, 4, 4, 4, 4, 4, 4, 4, 4, 4, 4, 4, 4, 4, 4, 4, 4, 4, 4, 4, 4, 4, 4, 4, 4, 4, 4, 4, 4, 4, 4, 4, 4, 4, 4, 4, 4, 4, 4, 4, 4, 4, 4, 4, 4, 4, 4, 4, 4, 4, 4, 4, 4, 4, 4, 4, 4, 4, 4, 4, 4, 4, 4, 4, 4, 4, 4, 4, 4, 4, 4, 4, 4, 4, 4, 4, 4, 4, 4, 4, 4, 4, 4, 4, 4, 4, 4, 4, 4, 4, 4, 4, 4, 4, 4, 4, 4, 4, 4, 4, 4, 4, 4, 4, 4, 4, 4, 4, 4, 4, 4, 4, 4, 4, 4, 4, 4, 4, 4, 4, 4, 4, 4, 4, 4, 4, 4, 4, 4, 4, 4, 4, 4, 4, 4, 4, 4, 4, 4, 4, 4, 4, 4]\n",
      "token_witness_offset_array=[0, 1, 2, 3, 4, 5, 6, 7, 8, 9, 10, 11, 12, 13, 14, 15, 16, 17, 18, 19, 20, 21, 22, 23, 24, 25, 26, 27, 28, 29, 30, 31, 32, 33, 34, 35, 36, 37, 38, 39, 40, 41, 42, 43, 44, 45, 46, 47, 48, 49, 50, 51, 52, 53, 54, 55, 56, 57, 58, 59, 60, 61, 62, 63, 64, 65, 66, 67, 68, 69, 70, 71, 72, 73, 74, 75, 76, 77, 78, 79, 80, 81, 82, 83, 84, 85, 86, 87, 88, 89, 90, 91, 92, 93, 94, 95, 96, 97, 98, 99, 100, 101, 102, 103, 104, 105, 106, 107, 108, 109, 110, 111, 112, 113, 114, 115, 116, 117, 118, 119, 120, 121, 122, 123, 124, 125, 126, 127, 128, 129, 130, 131, 132, 133, 134, 135, 136, 137, 138, 139, 140, 141, 142, 143, 144, 145, 146, 147, 148, 149, 150, 151, 152, 153, 154, 155, 156, 157, 158, 159, 160, 161, 162, 163, 164, 165, 166, 167, 168, 169, 170, 171, 172, 173, 174, 175, 176, 177, 178, 179, 180, 181, 182, 183, 184, 185, 186, 187, 188, 189, 190, 191, 192, 193, 194, 195, 196, 197, 198, 199, 200, 201, 202, 203, 204, 205, 206, 207, 208, 209, 210, 211, 212, 213, 214, 215, 216, 217, 218, 219, 220, 221, 222, 223, 224, 225, 226, 227, 228, 229, 230, 231, 232, 233, 234, -1, 0, 1, 2, 3, 4, 5, 6, 7, 8, 9, 10, 11, 12, 13, 14, 15, 16, 17, 18, 19, 20, 21, 22, 23, 24, 25, 26, 27, 28, 29, 30, 31, 32, 33, 34, 35, 36, 37, 38, 39, 40, 41, 42, 43, 44, 45, 46, 47, 48, 49, 50, 51, 52, 53, 54, 55, 56, 57, 58, 59, 60, 61, 62, 63, 64, 65, 66, 67, 68, 69, 70, 71, 72, 73, 74, 75, 76, 77, 78, 79, 80, 81, 82, 83, 84, 85, 86, 87, 88, 89, 90, 91, 92, 93, 94, 95, 96, 97, 98, 99, 100, 101, 102, 103, 104, 105, 106, 107, 108, 109, 110, 111, 112, 113, 114, 115, 116, 117, 118, 119, 120, 121, 122, 123, 124, 125, 126, 127, 128, 129, 130, 131, 132, 133, 134, 135, 136, 137, 138, 139, 140, 141, 142, 143, 144, 145, 146, 147, 148, 149, 150, 151, 152, 153, 154, 155, 156, 157, 158, 159, 160, 161, 162, 163, 164, 165, 166, 167, 168, 169, 170, 171, 172, 173, 174, 175, 176, 177, 178, 179, 180, 181, 182, 183, 184, 185, 186, 187, 188, 189, 190, 191, 192, 193, 194, 195, 196, 197, 198, 199, 200, 201, 202, 203, 204, 205, 206, 207, 208, 209, 210, 211, 212, 213, 214, 215, 216, 217, 218, 219, 220, 221, 222, 223, 224, 225, 226, 227, 228, 229, 230, 231, 232, 233, -1, 0, 1, 2, 3, 4, 5, 6, 7, 8, 9, 10, 11, 12, 13, 14, 15, 16, 17, 18, 19, 20, 21, 22, 23, 24, 25, 26, 27, 28, 29, 30, 31, 32, 33, 34, 35, 36, 37, 38, 39, 40, 41, 42, 43, 44, 45, 46, 47, 48, 49, 50, 51, 52, 53, 54, 55, 56, 57, 58, 59, 60, 61, 62, 63, 64, 65, 66, 67, 68, 69, 70, 71, 72, 73, 74, 75, 76, 77, 78, 79, 80, 81, 82, 83, 84, 85, 86, 87, 88, 89, 90, 91, 92, 93, 94, 95, 96, 97, 98, 99, 100, 101, 102, 103, 104, 105, 106, 107, 108, 109, 110, 111, 112, 113, 114, 115, 116, 117, 118, 119, 120, 121, 122, 123, 124, 125, 126, 127, 128, 129, 130, 131, 132, 133, 134, 135, 136, 137, 138, 139, 140, 141, 142, 143, 144, 145, 146, 147, 148, 149, 150, 151, 152, 153, 154, 155, 156, 157, 158, 159, 160, 161, 162, 163, 164, 165, 166, 167, 168, 169, 170, 171, 172, 173, 174, 175, 176, 177, 178, 179, 180, 181, 182, 183, 184, 185, 186, 187, 188, 189, 190, 191, 192, 193, 194, 195, 196, 197, 198, 199, 200, 201, 202, 203, 204, 205, 206, 207, 208, 209, 210, 211, 212, 213, 214, 215, 216, 217, 218, 219, 220, 221, 222, 223, 224, 225, 226, 227, 228, 229, 230, 231, 232, 233, -1, 0, 1, 2, 3, 4, 5, 6, 7, 8, 9, 10, 11, 12, 13, 14, 15, 16, 17, 18, 19, 20, 21, 22, 23, 24, 25, 26, 27, 28, 29, 30, 31, 32, 33, 34, 35, 36, 37, 38, 39, 40, 41, 42, 43, 44, 45, 46, 47, 48, 49, 50, 51, 52, 53, 54, 55, 56, 57, 58, 59, 60, 61, 62, 63, 64, 65, 66, 67, 68, 69, 70, 71, 72, 73, 74, 75, 76, 77, 78, 79, 80, 81, 82, 83, 84, 85, 86, 87, 88, 89, 90, 91, 92, 93, 94, 95, 96, 97, 98, 99, 100, 101, 102, 103, 104, 105, 106, 107, 108, 109, 110, 111, 112, 113, 114, 115, 116, 117, 118, 119, 120, 121, 122, 123, 124, 125, 126, 127, 128, 129, 130, 131, 132, 133, 134, 135, 136, 137, 138, 139, 140, 141, 142, 143, 144, 145, 146, 147, 148, 149, 150, 151, 152, 153, 154, 155, 156, 157, 158, 159, 160, 161, 162, 163, 164, 165, 166, 167, 168, 169, 170, 171, 172, 173, 174, 175, 176, 177, 178, 179, 180, 181, 182, 183, 184, 185, 186, 187, 188, 189, 190, 191, 192, 193, 194, 195, 196, 197, 198, 199, 200, 201, 202, 203, 204, 205, 206, 207, 208, 209, 210, 211, 212, 213, 214, 215, 216, 217, 218, 219, 220, 221, 222, 223, 224, 225, 226, 227, 228, 229, 230, 231, 232, 233, 234, 235, 236, -1, 0, 1, 2, 3, 4, 5, 6, 7, 8, 9, 10, 11, 12, 13, 14, 15, 16, 17, 18, 19, 20, 21, 22, 23, 24, 25, 26, 27, 28, 29, 30, 31, 32, 33, 34, 35, 36, 37, 38, 39, 40, 41, 42, 43, 44, 45, 46, 47, 48, 49, 50, 51, 52, 53, 54, 55, 56, 57, 58, 59, 60, 61, 62, 63, 64, 65, 66, 67, 68, 69, 70, 71, 72, 73, 74, 75, 76, 77, 78, 79, 80, 81, 82, 83, 84, 85, 86, 87, 88, 89, 90, 91, 92, 93, 94, 95, 96, 97, 98, 99, 100, 101, 102, 103, 104, 105, 106, 107, 108, 109, 110, 111, 112, 113, 114, 115, 116, 117, 118, 119, 120, 121, 122, 123, 124, 125, 126, 127, 128, 129, 130, 131, 132, 133, 134, 135, 136, 137, 138, 139, 140, 141, 142, 143, 144, 145, 146, 147, 148, 149, 150, 151, 152, 153, 154, 155, 156, 157, 158, 159, 160, 161, 162, 163, 164, 165, 166, 167, 168, 169, 170, 171, 172, 173, 174, 175, 176, 177, 178, 179, 180, 181, 182, 183, 184, 185, 186, 187, 188, 189, 190, 191, 192, 193, 194, 195, 196, 197, 198, 199, 200, 201, 202, 203, 204, 205, 206, 207, 208, 209, 210, 211, 212, 213, 214, 215, 216, 217, 218, 219, 220, 221, 222, 223, 224, 225, 226]\n"
     ]
    }
   ],
   "source": [
    "token_array, token_membership_array, token_witness_offset_array = create_token_array(witnesses)\n",
    "print(f\"{token_array=}\")\n",
    "print(f\"{token_membership_array=}\")\n",
    "print(f\"{token_witness_offset_array=}\")"
   ]
  },
  {
   "cell_type": "code",
   "execution_count": 101,
   "metadata": {
    "collapsed": false,
    "scrolled": true,
    "pycharm": {
     "name": "#%%\n"
    }
   },
   "outputs": [],
   "source": [
    "suffix_array = SuffixArray(token_array, unit=UNIT_BYTE)\n",
    "# print(suffix_array)\n",
    "# LCP=0 means that the block has nothing in common with the next one"
   ]
  },
  {
   "cell_type": "code",
   "execution_count": 102,
   "metadata": {
    "collapsed": false,
    "pycharm": {
     "name": "#%%\n"
    }
   },
   "outputs": [
    {
     "data": {
      "text/plain": "array('i', [0, 0, 0, 0, 0])"
     },
     "execution_count": 102,
     "metadata": {},
     "output_type": "execute_result"
    }
   ],
   "source": [
    "lcp_array = suffix_array._LCP_values\n",
    "lcp_array[:5]"
   ]
  },
  {
   "cell_type": "code",
   "execution_count": 103,
   "metadata": {
    "collapsed": false,
    "pycharm": {
     "name": "#%%\n"
    }
   },
   "outputs": [],
   "source": [
    "# create Block dataclass\n",
    "from dataclasses import dataclass\n",
    "@dataclass(unsafe_hash=True)\n",
    "class Block:\n",
    "    token_count: int\n",
    "    start_position: int # offset into suffix array (not into token array!)\n",
    "    end_position: int # start and end position give number of occurrences\n",
    "    all_start_positions: [] # compute after blocks have been completed\n",
    "    witnesses: set\n",
    "    witness_count: int # number of witnesses in which pattern occurs, omitted temporarily because requires further computation\n",
    "    frequency: int # number of times pattern occurs in whole witness set (may be more than once in a witness), end_position - start_position + 1\n",
    "    # how_created: int # debug"
   ]
  },
  {
   "cell_type": "code",
   "execution_count": 104,
   "metadata": {
    "collapsed": false,
    "scrolled": true,
    "pycharm": {
     "name": "#%%\n"
    }
   },
   "outputs": [],
   "source": [
    "def create_blocks_old (_lcp_array):\n",
    "    '''Create blocks from lcp array\n",
    "\n",
    "    Skip first lcp value, which is a fake; otherwise compare lcp value to length of block at top of stack.\n",
    "    Four possibilities:\n",
    "\n",
    "        stack is empty\n",
    "            * if lcp value == 0, proceed to next lcp value (continue)\n",
    "            * if lcp value > 0, create block and push onto stack, then proceed to next lcp value (continue)\n",
    "\n",
    "        lcp value (cannot equal 0) matches block length at top of stack\n",
    "            * proceed to next lcp value (continue)\n",
    "\n",
    "        lcp value (cannot equal 0) is longer than block length at top of stack\n",
    "            * create and push new block\n",
    "\n",
    "        lcp value is shorter than block length at top of stack\n",
    "            * (recursive) if block at top of stack is longer than current lcp value, pop and append to _blocks\n",
    "            * if block at top of stack is equal to lcp value, proceed to next lcp value (continue)\n",
    "            * if block at top of stack is shorter than current lcp value ...\n",
    "            *   create and push new block starting at start position of most recently closed block, then proceed to next lcp value (continue)\n",
    "\n",
    "    In other words:\n",
    "\n",
    "        We proceed to next lcp value if:\n",
    "            * stack is empty and lcp value == 0\n",
    "            * lcp value matches block length at top of stack (can we combine this with the preceding, since an empty stack effectively has a zero-length block on top?)\n",
    "\n",
    "        We push a new value on stack and then proceed to next lcp value if:\n",
    "            * stack is empty and lcp value > 0\n",
    "            * lcp value is longer than block length at top of stack (where is the start position?)\n",
    "\n",
    "        We pop from the stack to _blocks and then check the next stack value (stick with same lcp) if:\n",
    "            * lcp value is shorter than current block value\n",
    "\n",
    "cases (occurrences are always one more than number of repetitions):\n",
    "    5 5 2     --> 1 block of 5 occurs 3 times, 1 block of 2 occures 4 times\n",
    "    2 5 5 2   --> 1 block of 2 occurs 5 times, 1 block of 5 occures 3 times\n",
    "    5 5 0 2   --> 1 block of 5 occurs 3 times, 1 block of 2 occures 2 times\n",
    "    2 5 5 2 3 --> \n",
    "\n",
    "\n",
    "Nested while structures:\n",
    "\n",
    "(Create blocks in two places because they have different start positions)\n",
    "(Nested while loops because we traverse two things: lcp array and, sometimes, stack)\n",
    "\n",
    "while next-lcp-value: # traverse lcp array\n",
    "    if something\n",
    "    elif something else\n",
    "    elif perhaps yet another something else\n",
    "    else: # possible hidden block (or possibly not)\n",
    "        while something-on-the-stack: # traverse stack for some lcp value situations\n",
    "            pop larger values\n",
    "        if hidden-block:\n",
    "            create and push\n",
    "clean-up-stack-after-last-lcp-value # or tack a 0 onto the end of the lcp to avoid extra clean-up code\n",
    "'''\n",
    "    from collections import deque # deque has faster append and pop than list\n",
    "    _blocks = []\n",
    "    open_block_stack = deque()\n",
    "    for offset, lcp in enumerate(lcp_array):\n",
    "        # three situations: next one is same value, higher that last, or lower than last\n",
    "        # if same value: same pattern\n",
    "        # if higher or lower, new pattern (may overlap with previous, unless one or the other value is 0)\n",
    "        peek = open_block_stack[-1] if open_block_stack else None\n",
    "        peek_token_count = peek.token_count if peek else 0\n",
    "        if offset == 0: # skip the first one, which is a transition from a fake start value\n",
    "            continue # resume loop with next item in lcp array\n",
    "        elif lcp == peek_token_count:\n",
    "            pass # same pattern (happens with repetition), so do nothing\n",
    "        elif lcp > peek_token_count: # new prefix is longer than previous one, so start new pattern\n",
    "            # can fill in end_position and frequency only when we encounter a shorter value in the LCP array\n",
    "            # start_position is number of patterns that are the same \n",
    "            open_block_stack.append(Block(token_count = lcp, start_position = offset - 1, end_position = -1, all_start_positions = [], witnesses = (), witness_count = -1, frequency = -1))\n",
    "        else: # new prefix is shorter than previous one, so:\n",
    "                # 1. close open blocks with higher values\n",
    "                # 2. do something else\n",
    "            while open_block_stack and open_block_stack[-1].token_count > lcp: # if an open block is longer than the current length, pop and close it\n",
    "                block_being_modified = open_block_stack.pop()\n",
    "                block_being_modified.end_position = offset - 1\n",
    "                block_being_modified.frequency = block_being_modified.end_position - block_being_modified.start_position + 1\n",
    "                _blocks.append(block_being_modified)\n",
    "            if lcp > 0 and (not open_block_stack or open_block_stack[-1].token_count < lcp):\n",
    "                open_block_stack.append(Block(token_count = lcp, start_position = _blocks[-1].start_position, end_position = -1, all_start_positions = [], witnesses = (), witness_count = -1, frequency = -1))\n",
    "\n",
    "    while open_block_stack: # pop anything left in open_block_stack\n",
    "        block_being_modified = open_block_stack.pop()\n",
    "        block_being_modified.end_position = len(lcp_array) - 1\n",
    "        block_being_modified.frequency = block_being_modified.end_position - block_being_modified.start_position + 1\n",
    "        _blocks.append(block_being_modified)\n",
    "\n",
    "    # add all_start_positions and then witness_count properties to blocks\n",
    "    for _index, _block in enumerate(_blocks):\n",
    "        # block_start_position through block_end_position gives offsets of all start positions in suffix_array\n",
    "        _block.all_start_positions = sorted([suffix_array.SA[x] for x in range(_block.start_position,_block.end_position + 1)])\n",
    "        # use all start positions to find witness count\n",
    "        _block.witnesses = set(token_membership_array[offset] for offset in _block.all_start_positions)\n",
    "        _block.witness_count = len(_block.witnesses)\n",
    "    return _blocks"
   ]
  },
  {
   "cell_type": "code",
   "execution_count": 105,
   "metadata": {
    "collapsed": false,
    "pycharm": {
     "name": "#%%\n"
    }
   },
   "outputs": [],
   "source": [
    "@dataclass\n",
    "class Lcp_interval_candidate:\n",
    "    lcp_start_offset: int\n",
    "    lcp_interval_token_count: int\n",
    "    lcp_end_offset: int = -1"
   ]
  },
  {
   "cell_type": "code",
   "execution_count": 106,
   "metadata": {
    "collapsed": false,
    "pycharm": {
     "name": "#%%\n"
    }
   },
   "outputs": [],
   "source": [
    "def expand_prefix(prefix_to_expand:Lcp_interval_candidate):\n",
    "    token_start_position = suffix_array.SA[prefix_to_expand.lcp_start_offset]\n",
    "    token_count = prefix_to_expand.lcp_interval_token_count\n",
    "    tokens = token_array[token_start_position: token_start_position + token_count]\n",
    "    return tokens"
   ]
  },
  {
   "cell_type": "code",
   "execution_count": 107,
   "metadata": {
    "collapsed": false,
    "pycharm": {
     "name": "#%%\n"
    }
   },
   "outputs": [],
   "source": [
    "def check_for_depth_and_repetition(_lcp_interval:Lcp_interval_candidate, _witness_count: int) -> bool:\n",
    "    \"\"\"Write a docstring someday\n",
    "\n",
    "    Number of prefixes >= total number of witnesses\n",
    "    Accumulate set of witness sigla for prefixes\n",
    "    if:\n",
    "        no witness occurs more than once, return True to keep this block\n",
    "    else:\n",
    "        return False\n",
    "    \"\"\"\n",
    "#     print(f\"Checking for depth and repetition for: {_lcp_interval=}\")\n",
    "#     print(f\"Occurs {_lcp_interval.lcp_end_offset - _lcp_interval.lcp_start_offset + 1} times in witness set\")\n",
    "#     print(expand_prefix(_lcp_interval))\n",
    "#     print()\n",
    "    block_instance_count = _lcp_interval.lcp_end_offset - _lcp_interval.lcp_start_offset + 1\n",
    "    if block_instance_count != _witness_count:\n",
    "        return False\n",
    "    else:\n",
    "        witnesses_found = []\n",
    "        for lcp_interval_item_offset in range(_lcp_interval.lcp_start_offset, _lcp_interval.lcp_end_offset + 1):\n",
    "            token_position = suffix_array.SA[lcp_interval_item_offset] # point from prefix to suffix array position\n",
    "            witness_siglum = token_membership_array[token_position] # point from token array position to witness identifier\n",
    "            if witness_siglum in witnesses_found:\n",
    "                return False\n",
    "            else:\n",
    "                witnesses_found.append(witness_siglum)\n",
    "        return True"
   ]
  },
  {
   "cell_type": "code",
   "execution_count": 108,
   "metadata": {
    "collapsed": false,
    "pycharm": {
     "name": "#%%\n"
    }
   },
   "outputs": [],
   "source": [
    "def create_blocks(_lcp_array: list):\n",
    "    \"\"\"Write a docstring someday\n",
    "\n",
    "    Look at changes in length of LCP array\n",
    "    Initial value is 0 or -1 because it's a comparison with previous, and first has no previous\n",
    "    Next value is number of tokens shared with previous\n",
    "    Exact length doesn't matter, but if it changes, new pattern:\n",
    "        If it stays the same, take note but do nothing yet; it means that the pattern repeats\n",
    "        No change for a while, then goes to 0:\n",
    "            Number of repetitions plus 1, e.g., 5 5 5 0 = 4 instances of 5\n",
    "            Once it changes to 0, we've seen complete pattern\n",
    "        Changer to smaller means hidden, deeper block\n",
    "        Changes to longer means ???\n",
    "    \"\"\"\n",
    "    accumulator = [] # lcp positions (not values) since most recent 0\n",
    "    frequent_sequences = [] # lcp intervals to be considered for mfs\n",
    "    #\n",
    "    # lcp value\n",
    "    # if == 0 it's a new interval, so:\n",
    "    #   1. if there is already an accumulation, commit (process) it\n",
    "    #      \"committing the buffer\" means checking for repetition and depth\n",
    "    #          if it passes check: store in mfs list\n",
    "    #          otherwise throw it away\n",
    "    #   2. clear buffer (accumulator) and begin accumulating new buffer with the new offset with 0 value\n",
    "    # otherwise it isn't zero, so there must be a buffer in place, so add to it (for now)\n",
    "    for offset, value in enumerate(_lcp_array):\n",
    "        if not accumulator and value == 0: # if accumulator is empty and new value is 0, do nothing\n",
    "            continue\n",
    "        elif not accumulator: # accumulator is empty and new value is non-zero, so begin new accumulator\n",
    "            accumulator.append(Lcp_interval_candidate(lcp_start_offset = offset - 1, lcp_interval_token_count = value))\n",
    "        elif value > accumulator[-1].lcp_interval_token_count: # new interval, so add to accumulator and continue\n",
    "            accumulator.append(Lcp_interval_candidate(lcp_start_offset = offset - 1, lcp_interval_token_count = value))\n",
    "        elif value == accumulator[-1].lcp_interval_token_count: # same block as before, so do nothing\n",
    "            continue\n",
    "        else: # new value is less than top of accumulator, so pop everything that is higher\n",
    "            # Positions in lcp array and suffix array coincide:\n",
    "            #   The lcp array value is the length of the sequence\n",
    "            #   The suffix array value is the start position of the sequence\n",
    "            # Assume accumulator values (offsets into lcp array) point to [3, 6] and new value is 4, so:\n",
    "            #   First: Pop pointer to 6 (length value in lcp array), store in frequent_sequences\n",
    "            #   Second: Push new pointer to same position in lcp array, but change value in lcp array to 4\n",
    "            while accumulator and accumulator[-1].lcp_interval_token_count > value:\n",
    "                # Create pointer to last closed block that is not filtered (like frequent_sequences)\n",
    "                newly_closed_block = accumulator.pop()\n",
    "                newly_closed_block.lcp_end_offset = offset - 1\n",
    "                if check_for_depth_and_repetition(newly_closed_block, len(witnesses)):\n",
    "                    frequent_sequences.append([newly_closed_block.lcp_start_offset, newly_closed_block.lcp_end_offset, newly_closed_block.lcp_interval_token_count])\n",
    "            # There are three options:\n",
    "            #   1. there is content in the accumulator and latest value is not 0\n",
    "            #   2. accumulator is empty and latest value is 0\n",
    "            #   3. accumulator is empty and latest value is not 0\n",
    "            # (the fourth logical combination, content in the accumulator and 0 value, cannot occur\n",
    "            #     because a 0 value will empty the accumulator)\n",
    "            if value > 0 and (not accumulator or accumulator[-1].lcp_interval_token_count != value):\n",
    "                accumulator.append(Lcp_interval_candidate(lcp_start_offset = newly_closed_block.lcp_start_offset, lcp_interval_token_count = value))\n",
    "    # End of lcp array; run through any residual accumulator values\n",
    "    while accumulator:\n",
    "        newly_closed_block = accumulator.pop()\n",
    "        newly_closed_block.lcp_end_offset = len(_lcp_array) - 1\n",
    "        if check_for_depth_and_repetition(newly_closed_block, len(witnesses)):\n",
    "            frequent_sequences.append([newly_closed_block.lcp_start_offset, len(_lcp_array)-1, newly_closed_block.lcp_interval_token_count])\n",
    "    return frequent_sequences"
   ]
  },
  {
   "cell_type": "code",
   "execution_count": 109,
   "metadata": {
    "collapsed": false,
    "scrolled": true,
    "pycharm": {
     "name": "#%%\n"
    }
   },
   "outputs": [],
   "source": [
    "# frequent_sequences is a list of lists\n",
    "# the embedded lists contain LCP indices\n",
    "#   LCP indices point into LCP array, but same index also points into suffix array\n",
    "#   value in LCP array points to prefix length (compared to previous one)\n",
    "#   value in suffix array points into token array\n",
    "frequent_sequences = create_blocks(lcp_array)\n",
    "# print(len(frequent_sequences))\n",
    "# pp.pprint(frequent_sequences[:5])"
   ]
  },
  {
   "cell_type": "code",
   "execution_count": 110,
   "metadata": {
    "collapsed": false,
    "pycharm": {
     "name": "#%%\n"
    }
   },
   "outputs": [],
   "source": [
    "# # A sequence like [40, 41, 42, 43] represents the same prefix. Each of these is a position in the LCP array that represents the length of the prefix.\n",
    "# for i in range(40, 44):\n",
    "#     print(f\"{lcp_array[i]=}\")\n",
    "#     print(f\"{token_array[suffix_array.SA[i]]=}\")\n",
    "# # Returns: 193, 30, 78, 0\n",
    "# # The length of a block is the lowest value higher than 0, so in this case 30.\n",
    "# # The suffix_array is in suffix_array.SA. Each of the four values is for a specific witness, so choose the first one arbitrarily, so 193.\n",
    "# # Examine 193rd value in suffix array:\n",
    "# print(f\"{suffix_array.SA[193]=}\")\n",
    "# # This returns 3378. The suffix array value is a pointer into the token array. So:\n",
    "# print(f\"{token_array[3378]=}\")\n",
    "# # The blocks are in alphabetical order.\n",
    "# # Look at part of token string\n",
    "# \" \".join(token_array[3368:3388])"
   ]
  },
  {
   "cell_type": "code",
   "execution_count": 111,
   "metadata": {
    "collapsed": false,
    "pycharm": {
     "name": "#%%\n"
    }
   },
   "outputs": [],
   "source": [
    "# Look at results\n",
    "# NB: This is debug output only\n",
    "# print(f\"{suffix_array._LCP_values=}\")\n",
    "# print(f\"{suffix_array.SA=}\")\n",
    "# pp.pprint(witnesses)\n",
    "#\n",
    "# print(\"Values are lcp_start_offset, lcp_end_offset, and lcp_interval_token_count\")\n",
    "# print()\n",
    "# largest_blocks = {} # key is token end position, value is (length, [witness-start-positions])\n",
    "# for frequent_sequence in frequent_sequences:\n",
    "# #     print(f\"Before filtering: examining frequent sequence {frequent_sequence}\")\n",
    "#     length = frequent_sequence[2]\n",
    "#     suffix_array_values = [suffix_array.SA[i] for i in range(frequent_sequence[0], frequent_sequence[1] + 1)]\n",
    "#     tokens = [token_array[i] for i in range(suffix_array_values[0], suffix_array_values[0] + length)]\n",
    "#     token_end_position = min(suffix_array_values) + length # token end position for first witness\n",
    "#     if token_end_position not in largest_blocks: # first block with this end position, so create new key\n",
    "#         largest_blocks[token_end_position] = (length, suffix_array_values)\n",
    "#     else: # if new block is longer, replace old one with same key\n",
    "#         if length > largest_blocks[token_end_position][0]:\n",
    "#             largest_blocks[token_end_position] = (length, suffix_array_values)\n",
    "# for b in frequent_sequences:\n",
    "#     lcp_start_value = b[0]\n",
    "#     token_start_position = suffix_array.SA[lcp_start_value]\n",
    "#     token_count = b[2]\n",
    "#     tokens = token_array[token_start_position: token_start_position + token_count]\n",
    "#     print(b, tokens)"
   ]
  },
  {
   "cell_type": "code",
   "execution_count": 112,
   "metadata": {
    "collapsed": false,
    "pycharm": {
     "name": "#%%\n"
    }
   },
   "outputs": [],
   "source": [
    "# print(suffix_array)"
   ]
  },
  {
   "cell_type": "code",
   "execution_count": 113,
   "metadata": {
    "collapsed": false,
    "scrolled": true,
    "pycharm": {
     "name": "#%%\n"
    }
   },
   "outputs": [
    {
     "name": "stdout",
     "output_type": "stream",
     "text": [
      "largest_blocks={154: (25, [129, 364, 599, 837, 1072]), 1: (1, [0, 236, 471, 706, 944]), 204: (11, [193, 428, 663, 901, 1131]), 219: (10, [209, 444, 679, 917, 1146]), 128: (5, [123, 358, 593, 831, 1066]), 4: (2, [2, 238, 473, 711, 949]), 54: (15, [39, 274, 509, 747, 984]), 84: (29, [55, 290, 525, 763, 1001]), 179: (8, [171, 406, 641, 879, 1110]), 28: (22, [6, 242, 477, 715, 952]), 122: (25, [97, 332, 567, 805, 1040]), 235: (15, [220, 455, 690, 928, 1156]), 93: (7, [86, 321, 556, 794, 1030]), 166: (11, [155, 390, 625, 863, 1097]), 191: (11, [180, 415, 650, 888, 1119]), 207: (2, [205, 440, 675, 913, 1143]), 34: (5, [29, 265, 500, 738, 975]), 38: (2, [36, 271, 506, 744, 980]), 36: (1, [35, 270, 505, 743, 983]), 169: (2, [167, 402, 637, 875, 1108]), 193: (2, [191, 426, 661, 899, 1144]), 96: (2, [94, 329, 564, 802, 1038])}\n"
     ]
    }
   ],
   "source": [
    "# To remove embedded prefixes:\n",
    "#\n",
    "# 1. Create dictionary with end position in witness 0 (arbitrarily) as key\n",
    "# 2. Set value of key to longest sequence with that end position\n",
    "# 3. Dictionary values will contain only longest frequent sequences, removing embedded ones,\n",
    "#    as tuples if (length, [token start positions for all witnesses])\n",
    "\n",
    "@dataclass\n",
    "class LongestSequence:\n",
    "    length: int\n",
    "    witness_start_and_end: List[int]\n",
    "\n",
    "def find_longest_sequences(_frequent_sequences, _suffix_array):\n",
    "    _largest_blocks = {} # key is token end position, value is (length, [witness-start-positions])\n",
    "    for frequent_sequence in _frequent_sequences:\n",
    "        length = frequent_sequence[2]\n",
    "        suffix_array_values = [_suffix_array.SA[i] for i in range(frequent_sequence[0], frequent_sequence[1] + 1)]\n",
    "        token_end_position = min(suffix_array_values) + length # token end position for first witness\n",
    "        if token_end_position not in _largest_blocks: # first block with this end position, so create new key\n",
    "            _largest_blocks[token_end_position] = (length, sorted(suffix_array_values))\n",
    "        else: # if new block is longer, replace old one with same key\n",
    "            if length > _largest_blocks[token_end_position][0]:\n",
    "                _largest_blocks[token_end_position] = (length, sorted(suffix_array_values))\n",
    "    return _largest_blocks\n",
    "\n",
    "largest_blocks = find_longest_sequences(frequent_sequences, suffix_array)\n",
    "print(f\"{largest_blocks=}\")"
   ]
  },
  {
   "cell_type": "code",
   "execution_count": 114,
   "outputs": [
    {
     "name": "stdout",
     "output_type": "stream",
     "text": [
      "[129, 128, 128, 131, 128]\n",
      "[0, 0, 0, 0, 0]\n",
      "[193, 192, 192, 195, 187]\n",
      "[209, 208, 208, 211, 202]\n",
      "[123, 122, 122, 125, 122]\n",
      "[2, 2, 2, 5, 5]\n",
      "[39, 38, 38, 41, 40]\n",
      "[55, 54, 54, 57, 57]\n",
      "[171, 170, 170, 173, 166]\n",
      "[6, 6, 6, 9, 8]\n",
      "[97, 96, 96, 99, 96]\n",
      "[220, 219, 219, 222, 212]\n",
      "[86, 85, 85, 88, 86]\n",
      "[155, 154, 154, 157, 153]\n",
      "[180, 179, 179, 182, 175]\n",
      "[205, 204, 204, 207, 199]\n",
      "[29, 29, 29, 32, 31]\n",
      "[36, 35, 35, 38, 36]\n",
      "[35, 34, 34, 37, 39]\n",
      "[167, 166, 166, 169, 164]\n",
      "[191, 190, 190, 193, 200]\n",
      "[94, 93, 93, 96, 94]\n",
      "block_offsets_by_witness=[[0, 2, 6, 29, 35, 36, 39, 55, 86, 94, 97, 123, 129, 155, 167, 171, 180, 191, 193, 205, 209, 220], [236, 238, 242, 265, 270, 271, 274, 290, 321, 329, 332, 358, 364, 390, 402, 406, 415, 426, 428, 440, 444, 455], [471, 473, 477, 500, 505, 506, 509, 525, 556, 564, 567, 593, 599, 625, 637, 641, 650, 661, 663, 675, 679, 690], [706, 711, 715, 738, 743, 744, 747, 763, 794, 802, 805, 831, 837, 863, 875, 879, 888, 899, 901, 913, 917, 928], [944, 949, 952, 975, 980, 983, 984, 1001, 1030, 1038, 1040, 1066, 1072, 1097, 1108, 1110, 1119, 1131, 1143, 1144, 1146, 1156], [0, 2, 6, 29, 35, 36, 39, 55, 86, 94, 97, 123, 129, 155, 167, 171, 180, 191, 193, 205, 209, 220], [236, 238, 242, 265, 270, 271, 274, 290, 321, 329, 332, 358, 364, 390, 402, 406, 415, 426, 428, 440, 444, 455], [471, 473, 477, 500, 505, 506, 509, 525, 556, 564, 567, 593, 599, 625, 637, 641, 650, 661, 663, 675, 679, 690], [706, 711, 715, 738, 743, 744, 747, 763, 794, 802, 805, 831, 837, 863, 875, 879, 888, 899, 901, 913, 917, 928], [944, 949, 952, 975, 980, 983, 984, 1001, 1030, 1038, 1040, 1066, 1072, 1097, 1108, 1110, 1119, 1131, 1143, 1144, 1146, 1156], [0, 2, 6, 29, 35, 36, 39, 55, 86, 94, 97, 123, 129, 155, 167, 171, 180, 191, 193, 205, 209, 220], [236, 238, 242, 265, 270, 271, 274, 290, 321, 329, 332, 358, 364, 390, 402, 406, 415, 426, 428, 440, 444, 455], [471, 473, 477, 500, 505, 506, 509, 525, 556, 564, 567, 593, 599, 625, 637, 641, 650, 661, 663, 675, 679, 690], [706, 711, 715, 738, 743, 744, 747, 763, 794, 802, 805, 831, 837, 863, 875, 879, 888, 899, 901, 913, 917, 928], [944, 949, 952, 975, 980, 983, 984, 1001, 1030, 1038, 1040, 1066, 1072, 1097, 1108, 1110, 1119, 1131, 1143, 1144, 1146, 1156], [0, 2, 6, 29, 35, 36, 39, 55, 86, 94, 97, 123, 129, 155, 167, 171, 180, 191, 193, 205, 209, 220], [236, 238, 242, 265, 270, 271, 274, 290, 321, 329, 332, 358, 364, 390, 402, 406, 415, 426, 428, 440, 444, 455], [471, 473, 477, 500, 505, 506, 509, 525, 556, 564, 567, 593, 599, 625, 637, 641, 650, 661, 663, 675, 679, 690], [706, 711, 715, 738, 743, 744, 747, 763, 794, 802, 805, 831, 837, 863, 875, 879, 888, 899, 901, 913, 917, 928], [944, 949, 952, 975, 980, 983, 984, 1001, 1030, 1038, 1040, 1066, 1072, 1097, 1108, 1110, 1119, 1131, 1143, 1144, 1146, 1156], [0, 2, 6, 29, 35, 36, 39, 55, 86, 94, 97, 123, 129, 155, 167, 171, 180, 191, 193, 205, 209, 220], [236, 238, 242, 265, 270, 271, 274, 290, 321, 329, 332, 358, 364, 390, 402, 406, 415, 426, 428, 440, 444, 455], [471, 473, 477, 500, 505, 506, 509, 525, 556, 564, 567, 593, 599, 625, 637, 641, 650, 661, 663, 675, 679, 690], [706, 711, 715, 738, 743, 744, 747, 763, 794, 802, 805, 831, 837, 863, 875, 879, 888, 899, 901, 913, 917, 928], [944, 949, 952, 975, 980, 983, 984, 1001, 1030, 1038, 1040, 1066, 1072, 1097, 1108, 1110, 1119, 1131, 1143, 1144, 1146, 1156]]\n",
      "witness_offsets_to_blocks={0: 1, 2: 4, 6: 28, 29: 34, 35: 36, 36: 38, 39: 54, 55: 84, 86: 93, 94: 96, 97: 122, 123: 128, 129: 154, 155: 166, 167: 169, 171: 179, 180: 191, 191: 193, 193: 204, 205: 207, 209: 219, 220: 235, 236: 1, 238: 4, 242: 28, 265: 34, 270: 36, 271: 38, 274: 54, 290: 84, 321: 93, 329: 96, 332: 122, 358: 128, 364: 154, 390: 166, 402: 169, 406: 179, 415: 191, 426: 193, 428: 204, 440: 207, 444: 219, 455: 235, 471: 1, 473: 4, 477: 28, 500: 34, 505: 36, 506: 38, 509: 54, 525: 84, 556: 93, 564: 96, 567: 122, 593: 128, 599: 154, 625: 166, 637: 169, 641: 179, 650: 191, 661: 193, 663: 204, 675: 207, 679: 219, 690: 235, 706: 1, 711: 4, 715: 28, 738: 34, 743: 36, 744: 38, 747: 54, 763: 84, 794: 93, 802: 96, 805: 122, 831: 128, 837: 154, 863: 166, 875: 169, 879: 179, 888: 191, 899: 193, 901: 204, 913: 207, 917: 219, 928: 235, 944: 1, 949: 4, 952: 28, 975: 34, 980: 38, 983: 36, 984: 54, 1001: 84, 1030: 93, 1038: 96, 1040: 122, 1066: 128, 1072: 154, 1097: 166, 1108: 169, 1110: 179, 1119: 191, 1131: 204, 1143: 207, 1144: 193, 1146: 219, 1156: 235}\n",
      "first_token_offset_in_block_by_witness=[0, 236, 471, 706, 944]\n",
      "first_absolute_token_by_witness=[0, 236, 471, 706, 944]\n",
      "score_by_block={154: 769, 1: 5, 204: 1014, 219: 1088, 128: 639, 4: 26, 54: 271, 84: 422, 179: 890, 28: 145, 122: 609, 235: 1167, 93: 465, 166: 828, 191: 950, 207: 1029, 34: 175, 38: 190, 36: 184, 169: 842, 193: 974, 96: 480}\n"
     ]
    }
   ],
   "source": [
    "# block_offsets_by_witness: list of lists holds sorted start offsets per witness (offsets are into global token array)\n",
    "# witness_offsets_to_blocks: dictionary points from start offsets to blocks\n",
    "# score_by_block: number of tokens placed or skipped if block is placed\n",
    "# Beam search requires us, given an offset in a witness, to find the next block. We do\n",
    "#   that by looking up the value in block_offsets_by_witness and then using that value\n",
    "#   to retrieve the block key from witness_offsets_to_blocks\n",
    "# Lookup in the list of lists is:\n",
    "#   block_offsets_by_witness[witness_number][bisect_right(block_offsets_by_witness[witness_number], most_recent_offset_in_witness)]\n",
    "# (See: https://www.geeksforgeeks.org/python-find-smallest-element-greater-than-k/)\n",
    "# FIXME: traverse largest_blocks only once and add values for all witnesses in same pass\n",
    "witness_count = len(witnesses)\n",
    "block_offsets_by_witness = []\n",
    "witness_offsets_to_blocks = {}\n",
    "first_token_offset_in_block_by_witness = [] # only tokens in blocks\n",
    "first_absolute_token_by_witness = [] # all tokens, whether in block or not\n",
    "for i in range(witness_count):\n",
    "    first_token_offset_in_block_by_witness.append(token_membership_array.index(i))\n",
    "    # Score = number of tokens either placed or skipped (we don't care which)\n",
    "    # Low score is best because it leaves the highest potential\n",
    "    # NB: The name \"score\" seems to imply that higher is better, and the\n",
    "    #   opposite is the case here. Rename the variable?\n",
    "    # NB: High potential is paramount during beam search, but should the\n",
    "    #   difference between placed and skip matter at a later stage? Or\n",
    "    #   does placing more blocks (more tiers) take care of that?\n",
    "    score_by_block = {}\n",
    "    for i in range(witness_count):\n",
    "        witness_offset_list = []\n",
    "        for key, value in largest_blocks.items():\n",
    "            witness_offset_list.append(value[1][i])\n",
    "            witness_offsets_to_blocks[value[1][i]] = key\n",
    "        witness_offset_list.sort()\n",
    "        block_offsets_by_witness.append(witness_offset_list)\n",
    "for i in range(witness_count):\n",
    "    first_absolute_token_by_witness.append(token_membership_array.index(i))\n",
    "for key, value in largest_blocks.items():\n",
    "    # to determine number of tokens that will have been placed or skipped\n",
    "    #   after placing block:\n",
    "    #       matrix-subtract first_token_offset_by_witness from value[1]\n",
    "    #       add witness_count * value[0] (to account for block length)\n",
    "    #   key by block key, value is score\n",
    "    differences = [x - y for x, y in zip(value[1], first_token_offset_in_block_by_witness)]\n",
    "    if debug:\n",
    "        print(differences)\n",
    "    score = sum(differences) + witness_count * value[0]\n",
    "    score_by_block[key] = score\n",
    "if debug:\n",
    "    print(f\"{block_offsets_by_witness=}\")\n",
    "    witness_offsets_to_blocks = { key: witness_offsets_to_blocks[key] for key in sorted(witness_offsets_to_blocks.keys())}\n",
    "    print(f\"{witness_offsets_to_blocks=}\")\n",
    "    print(f\"{first_token_offset_in_block_by_witness=}\")\n",
    "    print(f\"{first_absolute_token_by_witness=}\")\n",
    "    print(f\"{score_by_block=}\")"
   ],
   "metadata": {
    "collapsed": false,
    "pycharm": {
     "name": "#%%\n"
    }
   }
  },
  {
   "cell_type": "code",
   "execution_count": 115,
   "outputs": [],
   "source": [
    "# 2022-08-16 Next steps:\n",
    "# To perform beam search\n",
    "#   Create single start option (at Start node, which is a fiction [there is no Start block]\n",
    "#       created for the beam search)\n",
    "#   Loop: for each BeamOption on current tier\n",
    "#       Evaluate score for advancing in each witness and bringing others into alignment with it\n",
    "#       For β lowest (!) scores create new BeamOption (this advances to next tier)\n",
    "#       If exit condition, return best BeamOption, else loop"
   ],
   "metadata": {
    "collapsed": false,
    "pycharm": {
     "name": "#%%\n"
    }
   }
  },
  {
   "cell_type": "code",
   "execution_count": 116,
   "metadata": {
    "collapsed": false,
    "pycharm": {
     "name": "#%%\n"
    }
   },
   "outputs": [],
   "source": [
    "@dataclass(order=True, frozen=True, eq=True) # heapqueue is priority queue, so requires comparison\n",
    "class BeamOption:\n",
    "    score: int\n",
    "    path: tuple # path through sequence of blocks leading to current BeamOption"
   ]
  },
  {
   "cell_type": "code",
   "execution_count": 127,
   "outputs": [],
   "source": [
    "# Create initial BeamOption\n",
    "initial = [BeamOption(score=0, path=())] # tier 0, one-item list\n",
    "def perform_beam_search_step(beam_options=initial, beta=3):\n",
    "    new_options = [] # candidates for next tier\n",
    "    for beam_option in beam_options:\n",
    "        for i in range(witness_count): # advance for each witness in turn\n",
    "            if not beam_option.path: # path is empty only for initial state at tier 0\n",
    "                last_offset = -1 # NB: same for all witnesses, and not 0, which will break for witness 0\n",
    "            else:\n",
    "                last_offset = largest_blocks[beam_option.path[0]][1][i]\n",
    "            try:\n",
    "                next_offset = block_offsets_by_witness[i][bisect_right(block_offsets_by_witness[i], last_offset)]\n",
    "                next_block = witness_offsets_to_blocks[next_offset] # find that next block to get its length\n",
    "                # would any witness pointer move backwards?\n",
    "                # perform matrix subtraction; if signs differ, there are items that move in opposite directions\n",
    "                # first option cannot be transposed, so accept it automatically\n",
    "                if (not beam_option.path) or (len(set([np.sign(x - y) for x, y in zip(largest_blocks[next_block][1], largest_blocks[beam_option.path[0]][1])])) == 1):\n",
    "                    new_score = score_by_block[next_block] # accounts for all witnesses\n",
    "                    # concatenate tuples with a +;  most recent first (for priority heap)\n",
    "                    new_options.append(BeamOption(score=new_score, path=((next_block,) + beam_option.path)))\n",
    "            except IndexError: # we've gone as far as we can with this path\n",
    "                continue\n",
    "    new_options = list(set(new_options)) #deduplicate\n",
    "    heapify(new_options) # sort from low score to high (low score is best)\n",
    "    return new_options[:3]"
   ],
   "metadata": {
    "collapsed": false,
    "pycharm": {
     "name": "#%%\n"
    }
   }
  },
  {
   "cell_type": "code",
   "execution_count": 130,
   "outputs": [
    {
     "name": "stdout",
     "output_type": "stream",
     "text": [
      "[BeamOption(score=26, path=(4, 1))] 0\n",
      "[BeamOption(score=145, path=(28, 4, 1))] 1\n",
      "[BeamOption(score=175, path=(34, 28, 4, 1))] 2\n",
      "[BeamOption(score=184, path=(36, 34, 28, 4, 1)), BeamOption(score=190, path=(38, 34, 28, 4, 1))] 3\n",
      "[BeamOption(score=271, path=(54, 36, 34, 28, 4, 1)), BeamOption(score=271, path=(54, 38, 34, 28, 4, 1))] 4\n",
      "[BeamOption(score=422, path=(84, 54, 36, 34, 28, 4, 1)), BeamOption(score=422, path=(84, 54, 38, 34, 28, 4, 1))] 5\n",
      "[BeamOption(score=465, path=(93, 84, 54, 36, 34, 28, 4, 1)), BeamOption(score=465, path=(93, 84, 54, 38, 34, 28, 4, 1))] 6\n",
      "[BeamOption(score=480, path=(96, 93, 84, 54, 36, 34, 28, 4, 1)), BeamOption(score=480, path=(96, 93, 84, 54, 38, 34, 28, 4, 1))] 7\n",
      "[BeamOption(score=609, path=(122, 96, 93, 84, 54, 36, 34, 28, 4, 1)), BeamOption(score=609, path=(122, 96, 93, 84, 54, 38, 34, 28, 4, 1))] 8\n",
      "[BeamOption(score=639, path=(128, 122, 96, 93, 84, 54, 36, 34, 28, 4, 1)), BeamOption(score=639, path=(128, 122, 96, 93, 84, 54, 38, 34, 28, 4, 1))] 9\n",
      "[BeamOption(score=769, path=(154, 128, 122, 96, 93, 84, 54, 36, 34, 28, 4, 1)), BeamOption(score=769, path=(154, 128, 122, 96, 93, 84, 54, 38, 34, 28, 4, 1))] 10\n",
      "[BeamOption(score=828, path=(166, 154, 128, 122, 96, 93, 84, 54, 36, 34, 28, 4, 1)), BeamOption(score=828, path=(166, 154, 128, 122, 96, 93, 84, 54, 38, 34, 28, 4, 1))] 11\n",
      "[BeamOption(score=842, path=(169, 166, 154, 128, 122, 96, 93, 84, 54, 36, 34, 28, 4, 1)), BeamOption(score=842, path=(169, 166, 154, 128, 122, 96, 93, 84, 54, 38, 34, 28, 4, 1))] 12\n",
      "[BeamOption(score=890, path=(179, 169, 166, 154, 128, 122, 96, 93, 84, 54, 36, 34, 28, 4, 1)), BeamOption(score=890, path=(179, 169, 166, 154, 128, 122, 96, 93, 84, 54, 38, 34, 28, 4, 1))] 13\n",
      "[BeamOption(score=950, path=(191, 179, 169, 166, 154, 128, 122, 96, 93, 84, 54, 36, 34, 28, 4, 1)), BeamOption(score=950, path=(191, 179, 169, 166, 154, 128, 122, 96, 93, 84, 54, 38, 34, 28, 4, 1))] 14\n",
      "[BeamOption(score=974, path=(193, 191, 179, 169, 166, 154, 128, 122, 96, 93, 84, 54, 36, 34, 28, 4, 1)), BeamOption(score=1014, path=(204, 191, 179, 169, 166, 154, 128, 122, 96, 93, 84, 54, 36, 34, 28, 4, 1)), BeamOption(score=974, path=(193, 191, 179, 169, 166, 154, 128, 122, 96, 93, 84, 54, 38, 34, 28, 4, 1))] 15\n",
      "[BeamOption(score=1029, path=(207, 204, 191, 179, 169, 166, 154, 128, 122, 96, 93, 84, 54, 36, 34, 28, 4, 1)), BeamOption(score=1088, path=(219, 193, 191, 179, 169, 166, 154, 128, 122, 96, 93, 84, 54, 38, 34, 28, 4, 1)), BeamOption(score=1088, path=(219, 193, 191, 179, 169, 166, 154, 128, 122, 96, 93, 84, 54, 36, 34, 28, 4, 1))] 16\n",
      "[BeamOption(score=1088, path=(219, 207, 204, 191, 179, 169, 166, 154, 128, 122, 96, 93, 84, 54, 36, 34, 28, 4, 1)), BeamOption(score=1167, path=(235, 219, 193, 191, 179, 169, 166, 154, 128, 122, 96, 93, 84, 54, 36, 34, 28, 4, 1)), BeamOption(score=1167, path=(235, 219, 193, 191, 179, 169, 166, 154, 128, 122, 96, 93, 84, 54, 38, 34, 28, 4, 1))] 17\n",
      "[BeamOption(score=1167, path=(235, 219, 207, 204, 191, 179, 169, 166, 154, 128, 122, 96, 93, 84, 54, 36, 34, 28, 4, 1))] 18\n",
      "[] 19\n",
      "[] 20\n",
      "[] 21\n",
      "[] 22\n",
      "[] 23\n",
      "[] 24\n",
      "[] 25\n",
      "[] 26\n",
      "[] 27\n",
      "[] 28\n",
      "[] 29\n"
     ]
    }
   ],
   "source": [
    "options = perform_beam_search_step()\n",
    "for i in range(30):\n",
    "    options = perform_beam_search_step(options)\n",
    "    print(options, i)\n",
    "# TODO:\n",
    "#   1. Verify the scores\n",
    "#   2. Hold on to beam options when they cannot be extended (currently we throw them away). Hold results in global?\n",
    "# When new_options is empty, all options have overrun the end of the blocks, and best results will be in new global"
   ],
   "metadata": {
    "collapsed": false,
    "pycharm": {
     "name": "#%%\n"
    }
   }
  },
  {
   "cell_type": "code",
   "execution_count": 119,
   "outputs": [
    {
     "name": "stdout",
     "output_type": "stream",
     "text": [
      "(1, [35, 270, 505, 743, 983])\n",
      "(2, [36, 271, 506, 744, 980])\n",
      "['from', 'each', 'other', 'more']\n"
     ]
    }
   ],
   "source": [
    "print(largest_blocks[36])\n",
    "print(largest_blocks[38])\n",
    "print(token_array[980:984])"
   ],
   "metadata": {
    "collapsed": false,
    "pycharm": {
     "name": "#%%\n"
    }
   }
  },
  {
   "cell_type": "code",
   "execution_count": 120,
   "outputs": [
    {
     "name": "stdout",
     "output_type": "stream",
     "text": [
      "['Darwin', '1859', 'WHEN', 'we', 'look', 'to', 'the', 'individuals', 'of', 'the', 'same', 'variety', 'or', 'sub-variety', 'of', 'our', 'older', 'cultivated', 'plants', 'and', 'animals,', 'one', 'of', 'the', 'first', 'points', 'which', 'strikes', 'us,', 'is,', 'that', 'they', 'generally', 'differ', 'much', 'more', 'from', 'each', 'other,', 'than', 'do', 'the', 'individuals', 'of', 'any', 'one', 'species', 'or', 'variety', 'in', 'a', 'state', 'of', 'nature.', 'When', 'we', 'reflect', 'on', 'the', 'vast', 'diversity', 'of', 'the', 'plants', 'and', 'animals', 'which', 'have', 'been', 'cultivated,', 'and', 'which', 'have', 'varied', 'during', 'all', 'ages', 'under', 'the', 'most', 'different', 'climates', 'and', 'treatment,', 'I', 'think', 'we', 'are', 'driven', 'to', 'conclude', 'that', 'this', 'greater', 'variability', 'is', 'simply', 'due', 'to', 'our', 'domestic', 'productions', 'having', 'been', 'raised', 'under', 'conditions', 'of', 'life', 'not', 'so', 'uniform', 'as,', 'and', 'somewhat', 'different', 'from,', 'those', 'to', 'which', 'the', 'parent-species', 'have', 'been', 'exposed', 'under', 'nature.', 'There', 'is,', 'also,', 'I', 'think,', 'some', 'probability', 'in', 'the', 'view', 'propounded', 'by', 'Andrew', 'Knight,', 'that', 'this', 'variability', 'may', 'be', 'partly', 'connected', 'with', 'excess', 'of', 'food.', 'It', 'seems', 'pretty', 'clear', 'that', 'organic', 'beings', 'must', 'be', 'exposed', 'during', 'several', 'generations', 'to', 'the', 'new', 'conditions', 'of', 'life', 'to', 'cause', 'any', 'appreciable', 'amount', 'of', 'variation;', 'and', 'that', 'when', 'the', 'organisation', 'has', 'once', 'begun', 'to', 'vary,', 'it', 'generally', 'continues', 'to', 'vary', 'for', 'many', 'generations.', 'No', 'case', 'is', 'on', 'record', 'of', 'a', 'variable', 'being', 'ceasing', 'to', 'be', 'variable', 'under', 'cultivation.', 'Our', 'oldest', 'cultivated', 'plants,', 'such', 'as', 'wheat,', 'still', 'often', 'yield', 'new', 'varieties:', 'our', 'oldest', 'domesticated', 'animals', 'are', 'still', 'capable', 'of', 'rapid', 'improvement', 'or', 'modification.', ' #1 ', 'Darwin', '1860', 'WHEN', 'we', 'look', 'to', 'the', 'individuals', 'of', 'the', 'same', 'variety', 'or', 'sub-variety', 'of', 'our', 'older', 'cultivated', 'plants', 'and', 'animals,', 'one', 'of', 'the', 'first', 'points', 'which', 'strikes', 'us,', 'is,', 'that', 'they', 'generally', 'differ', 'more', 'from', 'each', 'other', 'than', 'do', 'the', 'individuals', 'of', 'any', 'one', 'species', 'or', 'variety', 'in', 'a', 'state', 'of', 'nature.', 'When', 'we', 'reflect', 'on', 'the', 'vast', 'diversity', 'of', 'the', 'plants', 'and', 'animals', 'which', 'have', 'been', 'cultivated,', 'and', 'which', 'have', 'varied', 'during', 'all', 'ages', 'under', 'the', 'most', 'different', 'climates', 'and', 'treatment,', 'I', 'think', 'we', 'are', 'driven', 'to', 'conclude', 'that', 'this', 'great', 'variability', 'is', 'simply', 'due', 'to', 'our', 'domestic', 'productions', 'having', 'been', 'raised', 'under', 'conditions', 'of', 'life', 'not', 'so', 'uniform', 'as,', 'and', 'somewhat', 'different', 'from,', 'those', 'to', 'which', 'the', 'parent-species', 'have', 'been', 'exposed', 'under', 'nature.', 'There', 'is', 'also,', 'I', 'think,', 'some', 'probability', 'in', 'the', 'view', 'propounded', 'by', 'Andrew', 'Knight,', 'that', 'this', 'variability', 'may', 'be', 'partly', 'connected', 'with', 'excess', 'of', 'food.', 'It', 'seems', 'pretty', 'clear', 'that', 'organic', 'beings', 'must', 'be', 'exposed', 'during', 'several', 'generations', 'to', 'the', 'new', 'conditions', 'of', 'life', 'to', 'cause', 'any', 'appreciable', 'amount', 'of', 'variation;', 'and', 'that', 'when', 'the', 'organisation', 'has', 'once', 'begun', 'to', 'vary,', 'it', 'generally', 'continues', 'to', 'vary', 'for', 'many', 'generations.', 'No', 'case', 'is', 'on', 'record', 'of', 'a', 'variable', 'being', 'ceasing', 'to', 'be', 'variable', 'under', 'cultivation.', 'Our', 'oldest', 'cultivated', 'plants,', 'such', 'as', 'wheat,', 'still', 'often', 'yield', 'new', 'varieties:', 'our', 'oldest', 'domesticated', 'animals', 'are', 'still', 'capable', 'of', 'rapid', 'improvement', 'or', 'modification.', ' #2 ', 'Darwin', '1861', 'WHEN', 'we', 'look', 'to', 'the', 'individuals', 'of', 'the', 'same', 'variety', 'or', 'sub-variety', 'of', 'our', 'older', 'cultivated', 'plants', 'and', 'animals,', 'one', 'of', 'the', 'first', 'points', 'which', 'strikes', 'us,', 'is,', 'that', 'they', 'generally', 'differ', 'more', 'from', 'each', 'other', 'than', 'do', 'the', 'individuals', 'of', 'any', 'one', 'species', 'or', 'variety', 'in', 'a', 'state', 'of', 'nature.', 'When', 'we', 'reflect', 'on', 'the', 'vast', 'diversity', 'of', 'the', 'plants', 'and', 'animals', 'which', 'have', 'been', 'cultivated,', 'and', 'which', 'have', 'varied', 'during', 'all', 'ages', 'under', 'the', 'most', 'different', 'climates', 'and', 'treatment,', 'I', 'think', 'we', 'are', 'driven', 'to', 'conclude', 'that', 'this', 'great', 'variability', 'is', 'simply', 'due', 'to', 'our', 'domestic', 'productions', 'having', 'been', 'raised', 'under', 'conditions', 'of', 'life', 'not', 'so', 'uniform', 'as,', 'and', 'somewhat', 'different', 'from,', 'those', 'to', 'which', 'the', 'parent-species', 'have', 'been', 'exposed', 'under', 'nature.', 'There', 'is', 'also,', 'I', 'think,', 'some', 'probability', 'in', 'the', 'view', 'propounded', 'by', 'Andrew', 'Knight,', 'that', 'this', 'variability', 'may', 'be', 'partly', 'connected', 'with', 'excess', 'of', 'food.', 'It', 'seems', 'pretty', 'clear', 'that', 'organic', 'beings', 'must', 'be', 'exposed', 'during', 'several', 'generations', 'to', 'the', 'new', 'conditions', 'of', 'life', 'to', 'cause', 'any', 'appreciable', 'amount', 'of', 'variation;', 'and', 'that', 'when', 'the', 'organisation', 'has', 'once', 'begun', 'to', 'vary,', 'it', 'generally', 'continues', 'to', 'vary', 'for', 'many', 'generations.', 'No', 'case', 'is', 'on', 'record', 'of', 'a', 'variable', 'being', 'ceasing', 'to', 'be', 'variable', 'under', 'cultivation.', 'Our', 'oldest', 'cultivated', 'plants,', 'such', 'as', 'wheat,', 'still', 'often', 'yield', 'new', 'varieties:', 'our', 'oldest', 'domesticated', 'animals', 'are', 'still', 'capable', 'of', 'rapid', 'improvement', 'or', 'modification.', ' #3 ', 'Darwin', '1866', 'Causes', 'of', 'Variability.', 'WHEN', 'we', 'look', 'to', 'the', 'individuals', 'of', 'the', 'same', 'variety', 'or', 'sub-variety', 'of', 'our', 'older', 'cultivated', 'plants', 'and', 'animals,', 'one', 'of', 'the', 'first', 'points', 'which', 'strikes', 'us,', 'is,', 'that', 'they', 'generally', 'differ', 'more', 'from', 'each', 'other', 'than', 'do', 'the', 'individuals', 'of', 'any', 'one', 'species', 'or', 'variety', 'in', 'a', 'state', 'of', 'nature.', 'When', 'we', 'reflect', 'on', 'the', 'vast', 'diversity', 'of', 'the', 'plants', 'and', 'animals', 'which', 'have', 'been', 'cultivated,', 'and', 'which', 'have', 'varied', 'during', 'all', 'ages', 'under', 'the', 'most', 'different', 'climates', 'and', 'treatment,', 'I', 'think', 'we', 'are', 'driven', 'to', 'conclude', 'that', 'this', 'great', 'variability', 'is', 'simply', 'due', 'to', 'our', 'domestic', 'productions', 'having', 'been', 'raised', 'under', 'conditions', 'of', 'life', 'not', 'so', 'uniform', 'as,', 'and', 'somewhat', 'different', 'from,', 'those', 'to', 'which', 'the', 'parent-species', 'have', 'been', 'exposed', 'under', 'nature.', 'There', 'is', 'also,', 'I', 'think,', 'some', 'probability', 'in', 'the', 'view', 'propounded', 'by', 'Andrew', 'Knight,', 'that', 'this', 'variability', 'may', 'be', 'partly', 'connected', 'with', 'excess', 'of', 'food.', 'It', 'seems', 'pretty', 'clear', 'that', 'organic', 'beings', 'must', 'be', 'exposed', 'during', 'several', 'generations', 'to', 'the', 'new', 'conditions', 'of', 'life', 'to', 'cause', 'any', 'appreciable', 'amount', 'of', 'variation;', 'and', 'that,', 'when', 'the', 'organisation', 'has', 'once', 'begun', 'to', 'vary,', 'it', 'generally', 'continues', 'to', 'vary', 'for', 'many', 'generations.', 'No', 'case', 'is', 'on', 'record', 'of', 'a', 'variable', 'being', 'ceasing', 'to', 'be', 'variable', 'under', 'cultivation.', 'Our', 'oldest', 'cultivated', 'plants,', 'such', 'as', 'wheat,', 'still', 'often', 'yield', 'new', 'varieties:', 'our', 'oldest', 'domesticated', 'animals', 'are', 'still', 'capable', 'of', 'rapid', 'improvement', 'or', 'modification.', ' #4 ', 'Darwin', '1869', 'Causes', 'of', 'Variability.', 'WHEN', 'we', 'compare', 'the', 'individuals', 'of', 'the', 'same', 'variety', 'or', 'sub-variety', 'of', 'our', 'older', 'cultivated', 'plants', 'and', 'animals,', 'one', 'of', 'the', 'first', 'points', 'which', 'strikes', 'us', 'is,', 'that', 'they', 'generally', 'differ', 'from', 'each', 'other', 'more', 'than', 'do', 'the', 'individuals', 'of', 'any', 'one', 'species', 'or', 'variety', 'in', 'a', 'state', 'of', 'nature.', 'And', 'if', 'we', 'reflect', 'on', 'the', 'vast', 'diversity', 'of', 'the', 'plants', 'and', 'animals', 'which', 'have', 'been', 'cultivated,', 'and', 'which', 'have', 'varied', 'during', 'all', 'ages', 'under', 'the', 'most', 'different', 'climates', 'and', 'treatment,', 'we', 'are', 'driven', 'to', 'conclude', 'that', 'this', 'great', 'variability', 'is', 'due', 'to', 'our', 'domestic', 'productions', 'having', 'been', 'raised', 'under', 'conditions', 'of', 'life', 'not', 'so', 'uniform', 'as,', 'and', 'somewhat', 'different', 'from,', 'those', 'to', 'which', 'the', 'parent-species', 'had', 'been', 'exposed', 'under', 'nature.', 'There', 'is', 'also,', 'I', 'think,', 'some', 'probability', 'in', 'the', 'view', 'propounded', 'by', 'Andrew', 'Knight,', 'that', 'this', 'variability', 'may', 'be', 'partly', 'connected', 'with', 'excess', 'of', 'food.', 'It', 'seems', 'clear', 'that', 'organic', 'beings', 'must', 'be', 'exposed', 'during', 'several', 'generations', 'to', 'new', 'conditions', 'to', 'cause', 'any', 'appreciable', 'amount', 'of', 'variation;', 'and', 'that,', 'when', 'the', 'organisation', 'has', 'once', 'begun', 'to', 'vary,', 'it', 'generally', 'continues', 'varying', 'for', 'many', 'generations.', 'No', 'case', 'is', 'on', 'record', 'of', 'a', 'variable', 'organism', 'ceasing', 'to', 'vary', 'under', 'cultivation.', 'Our', 'oldest', 'cultivated', 'plants,', 'such', 'as', 'wheat,', 'still', 'yield', 'new', 'varieties:', 'our', 'oldest', 'domesticated', 'animals', 'are', 'still', 'capable', 'of', 'rapid', 'improvement', 'or', 'modification.']\n"
     ]
    }
   ],
   "source": [
    "print(token_array)"
   ],
   "metadata": {
    "collapsed": false,
    "pycharm": {
     "name": "#%%\n"
    }
   }
  },
  {
   "cell_type": "markdown",
   "source": [
    "# 2022-06-28 pre-NEH plan for rebuilding beam search\n",
    "\n",
    "## `perform_beam_search_step()`\n",
    "\n",
    "State is current position of pointers for all witnesses for item on current beam = block identifier\n",
    "(NB: Previously we stored state as tuple of token offsets for all witnesses, but since they have to correspond at block level, it's simpler to store a block identifier)\n",
    "(NB: We use the token offsets for scoring, since scoring is based on token [not block] count)\n",
    "We also need pointers from each block to next in witness order (separate list for each witness)\n",
    "\n",
    "Example:\n",
    "\n",
    "state: block A (100, 200, 300)\n",
    "\n",
    "block B (150, 220, z1)\n",
    "block C (120, 240, z2)\n",
    "\n",
    "Next block after A for witness 0 is C; next block after A for witness 1 is B\n",
    "\n",
    "To find next blocks, order block IDs separately for each witness, e.g.:\n",
    "\n",
    "w0 pointers: {A: C, C: B}\n",
    "w1 pointers: {A: B, B: C}\n",
    "\n",
    "List of dictionaries, where db_pointers[0] is for witness 0, etc.\n",
    "db_pointers = [ {A: C, C: B}, {A: B, B: C} ]\n",
    "\n",
    "NB: This may be what we meant by our `db_pointers` variable in our earlier implementation\n",
    "\n",
    "## `evaluate_option()`\n",
    "\n",
    "Starting from current state (block), find next block for a single witness and score\n",
    "Score for option: sum of token position + block length for each witness\n",
    "Score is tokens placed; smaller is better because it leaves higher potential\n",
    "\n",
    "We also need:\n",
    "Start position for each witness (for scoring purposes)\n",
    "Accumulate all blocks en route on beam option to avoid having to reconstruct path at the end\n",
    "\n",
    "## Exit conditions\n",
    "\n",
    "Exit condition for beam option is when there is no next block:\n",
    "Might still be good final value, but cannot be traversed further, so store and include in final ranking\n",
    "\n",
    "Exit condition for entire beam search is when the beam is empty\n"
   ],
   "metadata": {
    "collapsed": false,
    "pycharm": {
     "name": "#%% md\n"
    }
   }
  },
  {
   "cell_type": "code",
   "execution_count": 121,
   "metadata": {
    "collapsed": false,
    "pycharm": {
     "name": "#%%\n"
    }
   },
   "outputs": [],
   "source": [
    "def evaluate_option(data, state, witness_id):\n",
    "    \"\"\"Evaluate individual option for next move\n",
    "\n",
    "    Called from perform_beam_search_step()\n",
    "\n",
    "    Parameters:\n",
    "        data: list of lists, does not mutate\n",
    "        state: offsets of all pointers in all witnesses\n",
    "        witness_id: witness for which we are advancing by 1 position\n",
    "            and then moving all others to corresponding token value\n",
    "            TODO: Some of these will be duplicates; simplify\n",
    "\n",
    "    Returns:\n",
    "        new_state: adjusted pointers for all witnesses\n",
    "        score: number of tokens placed or skipped\n",
    "            low score is better, since it means more remaining potential\n",
    "            since state is list of offsets, sum(state) is the score\n",
    "        NB: If option would move out of range, return (None, None)\n",
    "    \"\"\"\n",
    "    if debug:\n",
    "        print(f\"Inside evaluate_option(); {state=}\")\n",
    "    next_witness_value = data[witness_id][state[witness_id] + 1]\n",
    "    new_state = []\n",
    "    for witness_tokens in data: # each witness as list of tokensf\n",
    "        new_state.append(witness_tokens.index(next_witness_value))\n",
    "    return tuple(new_state), sum(new_state)"
   ]
  },
  {
   "cell_type": "code",
   "execution_count": 122,
   "metadata": {
    "collapsed": false,
    "pycharm": {
     "name": "#%%\n"
    }
   },
   "outputs": [],
   "source": [
    "def perform_beam_search_step(data, state):\n",
    "    \"\"\"Evaluate and return all options for next move\n",
    "\n",
    "    Called from perform_beam_search()\n",
    "\n",
    "    Flow:\n",
    "        Find all unique token values if we advance each pointer by 1 position\n",
    "            May all be equal, different, or mixed\n",
    "            NB: If option would move pointer out of range, remove that option\n",
    "                from consideration\n",
    "        Call evaluate_option() with each unique next token value\n",
    "            evaluate_option() returns score for each unique option\n",
    "        Keep β highest score positions\n",
    "        Recur (move to evaluate when all pointers are at END)\n",
    "        Choose best of β options when recursion ends\n",
    "\n",
    "    Parameters:\n",
    "        data: list of lists, does not mutate\n",
    "        state: offsets of all pointers in all witnesses\n",
    "\n",
    "    Variables:\n",
    "        options : next token value to use for position\n",
    "        β best states at end of step\n",
    "\n",
    "    Returns:\n",
    "        all results (will be prioritized and filtered later)\n",
    "    \"\"\"\n",
    "    if debug:\n",
    "        print(f\"Inside perform_beam_search_step(); {state=}\")\n",
    "    all_scored_options = [] # items are lists of witness_id, state, score\n",
    "    for witness_id, witness_offset in enumerate(state[0]):\n",
    "        new_state_step, score = evaluate_option(data, state[0], witness_id)\n",
    "        # prepend new state to history of all states (tuple of tuples)\n",
    "        all_scored_options.append(BeamOption(score, (new_state_step,) + state))\n",
    "    if debug:\n",
    "        print(f\"Return from perform_beam_search_step() with {all_scored_options=}\")\n",
    "    return all_scored_options"
   ]
  },
  {
   "cell_type": "code",
   "execution_count": 123,
   "metadata": {
    "collapsed": false,
    "pycharm": {
     "name": "#%%\n"
    }
   },
   "outputs": [],
   "source": [
    "def deduplicate_beam(_beam, beam_size):\n",
    "    \"\"\"Return new beam without duplicates\n",
    "\n",
    "    Remove duplicate beam candidates that have same score and same most recent state.\n",
    "    Duplicates may have different histories before most recent state, but cannot have\n",
    "    different histories going forward. This means that we eliminate candidates as good\n",
    "    as the ones we keep, that is, look for *a* solution but not *all* solutions.\n",
    "\n",
    "    Parameters:\n",
    "        beam : list of BeamOption instances\n",
    "\n",
    "    Returns:\n",
    "        reduced beam with β or fewer best results after deduplication\n",
    "\n",
    "    TODO: We can deduplicate a priority queue by walking the list and building a new\n",
    "        list that contains only values that are not equal to their immediate preceding\n",
    "        neighbor in the input. This may be faster than converting to a set.\n",
    "    \"\"\"\n",
    "    heapify(list(set(_beam)))\n",
    "    return _beam[:beam_size]"
   ]
  },
  {
   "cell_type": "code",
   "execution_count": 124,
   "metadata": {
    "collapsed": false,
    "pycharm": {
     "name": "#%%\n"
    }
   },
   "outputs": [],
   "source": [
    "# Beam search (see 2022-04-26_beam-search-description.txt)\n",
    "# See also: https://blog.finxter.com/python-beam-search-algorithm/\n",
    "# At each stage, keep β best results\n",
    "# As long as all witnesses continue to agree, no branching;\n",
    "#   Begin to branch at first difference\n",
    "# For each best result, options are advance one in each witness (some may be the same) or skip in all\n",
    "# Weight is number of tokens no longer available (skipped or selected); keep lowest values\n",
    "# All branches end at END node\n",
    "# Best solution has largest number of placed tokens\n",
    "# Complexity = β * tier-count\n",
    "#\n",
    "# The full data set is the largest blocks, which is a dictionary, where:\n",
    "#   key: end position of witness 0\n",
    "#   value: tuple of two values\n",
    "#     t[0]: length of block (same for all witnesses)\n",
    "#     t[1]: list of start positions of block for all witnesses (in witness order)\n",
    "#\n",
    "# TODO: Should the token start positions for the block form a numpy matrix?\n",
    "# largest_blocks={154: (25, [129, 364, 599, 837, 1072]), 1: (1, [0, 236, 471, 706, 944]), 204: (11, [193, 428, 663, 901, 1131]), 219: (10, [209, 444, 679, 917, 1146]), 128: (5, [123, 358, 593, 831, 1066]), 4: (2, [2, 238, 473, 711, 949]), 54: (15, [39, 274, 509, 747, 984]), 84: (29, [55, 290, 525, 763, 1001]), 179: (8, [171, 406, 641, 879, 1110]), 28: (22, [6, 242, 477, 715, 952]), 122: (25, [97, 332, 567, 805, 1040]), 235: (15, [220, 455, 690, 928, 1156]), 93: (7, [86, 321, 556, 794, 1030]), 166: (11, [155, 390, 625, 863, 1097]), 191: (11, [180, 415, 650, 888, 1119]), 207: (2, [205, 440, 675, 913, 1143]), 34: (5, [29, 265, 500, 738, 975]), 38: (2, [36, 271, 506, 744, 980]), 36: (1, [35, 270, 505, 743, 983]), 169: (2, [167, 402, 637, 875, 1108]), 193: (2, [191, 426, 661, 899, 1144]), 96: (2, [94, 329, 564, 802, 1038])}\n",
    "#\n",
    "# 2022-06-25 status report:\n",
    "#\n",
    "# Exit condition to conclude the beam search:\n",
    "#\n",
    "# For each option on the beam we need to be able to advance every witness, that is, no witness can be at the end.\n",
    "# We read an exit condition for the beam search when there is no option on the beam for which every witness is not yet at the end.\n",
    "# Our earlier code is faulty because it checked only whether witness 0 was at the end, and there may be other options on the beam\n",
    "#   that we should also check.\n",
    "# We expect that if one option has a witness that reaches the end and another option doesn't, the former will have a poor score.\n",
    "# If the best option has nowhere to do, we are done.\n",
    "\n",
    "def perform_beam_search(data, beam_size):\n",
    "    \"\"\"Perform beam search, return β best results\n",
    "\n",
    "    Uses the preceding perform_beam_search_step() and evaluate_option() functions\"\"\"\n",
    "# This assumes that witness 0 is in order; what we should do is find the majority order\n",
    "#     last_token_pos = len(data[0]) - 1\n",
    "    last_token_pos = data[max(data.keys())][1][0]\n",
    "    beam = [BeamOption(0, ((tuple([-1] * len(witnesses)),)))] # (0, (-1, -1, -1, -1, -1))\n",
    "    if debug:\n",
    "        debug_counter = 0\n",
    "    while beam: # exit when beam is empty\n",
    "    # In a loop on each of β states\n",
    "    #     Call perform_beam_search_step() for each of β options\n",
    "    #     Keep all results\n",
    "    #     After last state, reset beam to new best states and break out of inner loop\n",
    "        if debug:\n",
    "            print()\n",
    "            print(f\"In perform_beam_search() at iteration {debug_counter=}; {beam=}\")\n",
    "            debug_counter += 1\n",
    "        h = [] # priority heap to accumulate step results, which will be new beam\n",
    "        for option in beam: # stop when no more tokens to advance\n",
    "            if debug:\n",
    "                print(f\"{option=}\")\n",
    "            for result_item in (perform_beam_search_step(data, option.state)):\n",
    "                if debug:\n",
    "                    print(f\"{result_item=}\")\n",
    "                if result_item not in h: # don't add more than once\n",
    "                    # FIXME: this is embarrassingly inefficient\n",
    "                    heappush(h, result_item)\n",
    "        if debug:\n",
    "            print(f\"Entire queue: {h=}\")\n",
    "            print(f\"About to continue with {beam=}\")\n",
    "        beam = deduplicate_beam(h, beam_size)\n",
    "    return beam"
   ]
  },
  {
   "cell_type": "code",
   "execution_count": 125,
   "metadata": {
    "collapsed": false,
    "scrolled": true,
    "pycharm": {
     "name": "#%%\n"
    }
   },
   "outputs": [
    {
     "name": "stdout",
     "output_type": "stream",
     "text": [
      "\n",
      "In perform_beam_search() at iteration debug_counter=0; beam=[BeamOption(score=0, path=((-1, -1, -1, -1, -1),))]\n",
      "option=BeamOption(score=0, path=((-1, -1, -1, -1, -1),))\n"
     ]
    },
    {
     "ename": "AttributeError",
     "evalue": "'BeamOption' object has no attribute 'state'",
     "output_type": "error",
     "traceback": [
      "\u001B[0;31m---------------------------------------------------------------------------\u001B[0m",
      "\u001B[0;31mAttributeError\u001B[0m                            Traceback (most recent call last)",
      "Input \u001B[0;32mIn [125]\u001B[0m, in \u001B[0;36m<cell line: 3>\u001B[0;34m()\u001B[0m\n\u001B[1;32m      1\u001B[0m \u001B[38;5;66;03m# debug = True\u001B[39;00m\n\u001B[1;32m      2\u001B[0m \u001B[38;5;66;03m# print(db_positions)\u001B[39;00m\n\u001B[0;32m----> 3\u001B[0m beam_result \u001B[38;5;241m=\u001B[39m \u001B[43mperform_beam_search\u001B[49m\u001B[43m(\u001B[49m\u001B[43mlargest_blocks\u001B[49m\u001B[43m,\u001B[49m\u001B[43m \u001B[49m\u001B[38;5;241;43m3\u001B[39;49m\u001B[43m)\u001B[49m\n",
      "Input \u001B[0;32mIn [124]\u001B[0m, in \u001B[0;36mperform_beam_search\u001B[0;34m(data, beam_size)\u001B[0m\n\u001B[1;32m     53\u001B[0m \u001B[38;5;28;01mif\u001B[39;00m debug:\n\u001B[1;32m     54\u001B[0m     \u001B[38;5;28mprint\u001B[39m(\u001B[38;5;124mf\u001B[39m\u001B[38;5;124m\"\u001B[39m\u001B[38;5;132;01m{\u001B[39;00moption\u001B[38;5;132;01m=}\u001B[39;00m\u001B[38;5;124m\"\u001B[39m)\n\u001B[0;32m---> 55\u001B[0m \u001B[38;5;28;01mfor\u001B[39;00m result_item \u001B[38;5;129;01min\u001B[39;00m (perform_beam_search_step(data, \u001B[43moption\u001B[49m\u001B[38;5;241;43m.\u001B[39;49m\u001B[43mstate\u001B[49m)):\n\u001B[1;32m     56\u001B[0m     \u001B[38;5;28;01mif\u001B[39;00m debug:\n\u001B[1;32m     57\u001B[0m         \u001B[38;5;28mprint\u001B[39m(\u001B[38;5;124mf\u001B[39m\u001B[38;5;124m\"\u001B[39m\u001B[38;5;132;01m{\u001B[39;00mresult_item\u001B[38;5;132;01m=}\u001B[39;00m\u001B[38;5;124m\"\u001B[39m)\n",
      "\u001B[0;31mAttributeError\u001B[0m: 'BeamOption' object has no attribute 'state'"
     ]
    }
   ],
   "source": [
    "# debug = True\n",
    "# print(db_positions)\n",
    "beam_result = perform_beam_search(largest_blocks, 3) # returns β best results, choice is domain-specific\n",
    "# print(beam_result)"
   ]
  },
  {
   "cell_type": "code",
   "execution_count": null,
   "metadata": {
    "collapsed": false,
    "pycharm": {
     "name": "#%%\n"
    }
   },
   "outputs": [],
   "source": [
    "# Visualization code currently works from dictionary of longest blocks\n",
    "# We need only the values: the first item is the length and the second is the start position in all witnesses\n",
    "# largest_blocks={7: (7, [16, 0]), 15: (7, [24, 8])}"
   ]
  },
  {
   "cell_type": "markdown",
   "metadata": {
    "collapsed": false,
    "pycharm": {
     "name": "#%% md\n"
    }
   },
   "source": [
    "# To visualize as vertical alignment table\n",
    "\n",
    "1. Last step of beam search returns full history of all final options. \n",
    "1. Each final option has a `score` and a `state`. \n",
    "1. Keep the option with the highest score (or one arbitrary option with the highest score in case of ties).\n",
    "1. Use state history to construct alignment table.\n",
    "1. The alignment is an alternation of aligned and non-aligned segments.\n",
    "\n",
    "For each state retrieve the witness offsets as described below. We need that for only one witness for the aligned segments, but we need to look at all of them in order to get the non-aligned segments.\n",
    "\n",
    "## What the history tells us:\n",
    "\n",
    "1. The numbers in the history are offsets into the witness lists in `db`, which is a list of lists.\n",
    "1. Each of those values is an offset into the token array.that points to the end (!) of an aligned sequence.\n",
    "1. The beginning of that sequence is available from `longest_prefixes`, which is a list of tuples that consist of the end position for witness 0 and an `MfsComponentCandidate` object. For example, `( 1363,\n",
    "    MfsComponentCandidate(first_lcp_interval=1918, last_lcp_interval=1921, length=84, witness_start_and_end=[(1280, 1363), (3909, 3992), (6652, 6735), (9408, 9491)]))` tells us (first item) that it contains\n",
    "    information for the block in which witness 0 ends at 1363, and its `witness_start_and_end` property is a list of tuples that give the start and end positions for all witness.\n",
    "1. … do stuff …\n",
    "1. The unaligned segments are the token sequences between the aligned segments"
   ]
  },
  {
   "cell_type": "code",
   "execution_count": null,
   "metadata": {
    "collapsed": false,
    "pycharm": {
     "name": "#%%\n"
    }
   },
   "outputs": [],
   "source": [
    "# largest_blocks={7: (7, [16, 0]), 15: (7, [24, 8])}\n",
    "from IPython.core.display import HTML\n",
    "table_top = \"\"\"\n",
    "    <html>\n",
    "        <head>\n",
    "            <style type=\"text/css\">\n",
    "                table, tr, th, td {border: 1px solid black; border-collapse: collapse;}\n",
    "                th, td {padding: 3px;}\n",
    "                td:first-child {text-align: right;}\n",
    "                .aligned { background-color: beige;}\n",
    "                .nonaligned { background-color: lightgray;}\n",
    "            </style></head><body><table><tr><th>Row</th>\n",
    "    \"\"\" + '\\n'.join(['<th>w' + str(i) + '</th>' for i in range(len(witnesses))]) + '</tr>'\n",
    "table_bottom = '</table></body></html>'\n",
    "table_contents = ''\n",
    "rows = []\n",
    "sorted_keys = sorted(largest_blocks.keys())\n",
    "#\n",
    "# Check for leading nonaligned tokens\n",
    "#\n",
    "first_block_offsets = [token_witness_offset_array[i] for i in sorted(largest_blocks[sorted_keys[0]][1])]\n",
    "leading_nonaligned_block = []\n",
    "leading_nonaligned_witness_count = 0\n",
    "leading_tokens = ''\n",
    "for witness_number in range(len(first_block_offsets)):\n",
    "    if first_block_offsets[witness_number] == 0:\n",
    "        content = '[None]'\n",
    "    else:\n",
    "        content = \" \".join(witnesses[witness_number][0:first_block_offsets[witness_number]])\n",
    "        leading_nonaligned_witness_count += 1\n",
    "    leading_nonaligned_block.append('<td>' + content + '</td>')\n",
    "if leading_nonaligned_witness_count:\n",
    "    leading_tokens = '<tr class=\"nonaligned\"><td>Nonaligned</td>' + \"\".join(leading_nonaligned_block) + '</tr>'\n",
    "#\n",
    "# Creates aligned rows (preceded by any non-aligned tokens)\n",
    "#\n",
    "row_number = -1\n",
    "for key_position, sorted_key in enumerate(sorted_keys):\n",
    "    block_data = largest_blocks[sorted_key]\n",
    "    block_length = block_data[0]\n",
    "    token_start_positions = sorted(block_data[1])\n",
    "    #\n",
    "    # Check for preceding non-aligned row\n",
    "    #\n",
    "    preceding_nonaligned_block = ''\n",
    "    if key_position != 0:\n",
    "        end_positions_of_previous_block = []\n",
    "        for start_position in largest_blocks[sorted_keys[key_position - 1]][1]:\n",
    "            end_positions_of_previous_block.append(start_position + largest_blocks[sorted_keys[key_position - 1]][0])\n",
    "        end_positions_of_previous_block.sort()\n",
    "        content = ['<tr class=\"nonaligned\"><td>Nonaligned</td>']\n",
    "        for nonaligned_segment_group in zip(end_positions_of_previous_block, token_start_positions):\n",
    "            content.append('<td>' + \" \".join(token_array[nonaligned_segment_group[0]:nonaligned_segment_group[1]]) + '</td>')\n",
    "        content.append('</td>')\n",
    "        preceding_nonaligned_block = \"\".join(content)\n",
    "    #\n",
    "    # Create aligned row\n",
    "    #\n",
    "    row = []\n",
    "    row_number += 1\n",
    "    row_start = '<tr class=\"aligned\"><td>' + str(row_number) + '</td>'\n",
    "    row_end = '</tr>'\n",
    "    row.append(row_start)\n",
    "    contents = token_array[token_start_positions[0]:token_start_positions[0] + block_length]\n",
    "    row.append('<td colspan=\"' + str(len(token_start_positions)) + '\">' + ' '.join(contents) + '</td>')\n",
    "    row.append(row_end)\n",
    "    rows.append(preceding_nonaligned_block)\n",
    "    rows.append(''.join(row))\n",
    "table_contents = '\\n'.join(rows)\n",
    "#\n",
    "# Check for trailing nonaligned tokens, create row if needed\n",
    "#\n",
    "last_aligned_block = largest_blocks[sorted_keys[-1]]\n",
    "last_aligned_block_length = last_aligned_block[0]\n",
    "last_aligned_block_end_positions = [start_position + last_aligned_block_length - 1 for start_position in sorted(last_aligned_block[1])]\n",
    "witness_lengths = [len(witness) for witness in witnesses]\n",
    "last_aligned_token_pos = [token_witness_offset_array[i] for i in last_aligned_block_end_positions]\n",
    "trailing_unaligned_token_counts = [witness_lengths[i] - last_aligned_token_pos[i] - 1 for i in range(len(witnesses))]\n",
    "\n",
    "trailing_nonaligned_block = []\n",
    "trailing_nonaligned_witness_count = 0\n",
    "trailing_tokens = ''\n",
    "for witness_number, token_count in enumerate(trailing_unaligned_token_counts):\n",
    "    if token_count == 0:\n",
    "        content = \"[None]\"\n",
    "    else:\n",
    "        content = \" \".join(witnesses[witness_number][-token_count])\n",
    "        trailing_nonaligned_witness_count += 1\n",
    "    trailing_nonaligned_block.append('<td>' + content + '</td>')\n",
    "if trailing_nonaligned_witness_count:\n",
    "    trailing_tokens = '<tr class=\"nonaligned\"><td>Nonaligned</td>' + \"\".join(trailing_nonaligned_block) + '</tr>'\n",
    "#\n",
    "# Create and render table\n",
    "#\n",
    "# print(witnesses)\n",
    "HTML(table_top + leading_tokens + table_contents + trailing_tokens + table_bottom)\n",
    "\n",
    "# 2022-06-14\n",
    "#\n",
    "# Where we are today\n",
    "#\n",
    "# We are not checking for transpositions (using the beam search);\n",
    "#   instead we assume no transpositions (correct for our current test data)\n",
    "# We number and output aligned blocks correctly\n",
    "# We output nonaligned blocks correctly\n",
    "#\n",
    "# TODO\n",
    "# Reimplement beam search to check for transpositions"
   ]
  },
  {
   "cell_type": "markdown",
   "metadata": {
    "collapsed": false,
    "pycharm": {
     "name": "#%% md\n"
    }
   },
   "source": [
    "# RESUME HERE\n",
    "\n",
    "1. We are not yet looking at a skip option, and we should.\n",
    "1. We have duplicate states and we shouldn't. If moving more than one witness takes us to the same state, we should keep only one (arbitrarily).\n",
    "1. We are not yet keeping track of our paths, so we can't reconstruct the best search result from start to finish\n",
    "\n",
    "Ad 2: With our red and black cat example, moving from the initial \"the\" to red and to black produces the same score but different states, so keep both. With our current non-diverging Darwin example, all successors have not only the same score, but also the same state, so we should simplify (in this case, our beam would contain only one item)."
   ]
  },
  {
   "cell_type": "code",
   "execution_count": null,
   "metadata": {
    "collapsed": false,
    "scrolled": true,
    "pycharm": {
     "name": "#%%\n"
    }
   },
   "outputs": [],
   "source": [
    "# Dependency graph, with lots of simplifying assumptions\n",
    "#\n",
    "# Relations are from larger to smaller\n",
    "# Each value in LCP array corresponds to position in suffix array,\n",
    "#     which corresponds to position in token array,\n",
    "#     which corresponds to position in witness arrays\n",
    "# If there is already a path (chain) from A to B, do not create a direct edge\n",
    "# Requires that the length of the next block be shorter than the current one\n",
    "#   and that the start position in the next block be one less than that in the current block\n",
    "# The witnesses for a dependent block must be a subset (possibly equivalent) of the source of the dependency\n",
    "# dependencies = {}\n",
    "# for block_position in range(len(sorted_blocks) - 1):\n",
    "#     current_block = sorted_blocks[block_position]\n",
    "#     next_block = sorted_blocks[block_position + 1]\n",
    "#     if current_block.token_count > next_block.token_count \\\n",
    "#     and current_block.all_start_positions[0] == next_block.all_start_positions[0] - 1 \\\n",
    "#     and current_block.witnesses.issuperset(next_block.witnesses):\n",
    "#         dependencies[block_position] = block_position + 1\n",
    "# # print(dependencies)"
   ]
  },
  {
   "cell_type": "markdown",
   "metadata": {
    "collapsed": false,
    "pycharm": {
     "name": "#%% md\n"
    }
   },
   "source": [
    "# What to do next (in order)\n",
    "\n",
    "- [x] Create dataclass for beam option \\(initially score, witness, state\\)\n",
    "- [x] Remove witness identifier from beam option object; keep only score and state\n",
    "- [x] Save state as tuple instead of list\n",
    "- [x] Save history as tuple of tuples \\(stack\\), where most recent value is the current state\n",
    "- [x] Deduplicate options where score plus most recent state are the same. Earlier history may be different, but subsequent history can't be different if the most recent state is the same. We keep **a** \\(potential\\) best path, but not **all** potential best paths of the same score.\n",
    "- [x] Create visualization (vertical alignment table)\n",
    "- [ ] Process skip-one options for each witness\n",
    "- [ ] Deduplicate skip-one options before processing\n",
    "- [ ] Make beam size variable, depending on nature and extent of options (currently keep β best results, choosing arbitrarily in case of ties; perhaps keep β best scores, which may have more than β options)\n",
    "\n"
   ]
  },
  {
   "cell_type": "code",
   "execution_count": null,
   "metadata": {
    "collapsed": false,
    "pycharm": {
     "name": "#%%\n"
    }
   },
   "outputs": [],
   "source": [
    "suffix_array._LCP_values"
   ]
  },
  {
   "cell_type": "code",
   "execution_count": null,
   "metadata": {
    "collapsed": false,
    "scrolled": true,
    "pycharm": {
     "name": "#%%\n"
    }
   },
   "outputs": [],
   "source": [
    "# 1072\t'also,Ithin'\tLCP=0 \n",
    "# 129\t'also,Ithin'\tLCP=25 \n",
    "# 364\t'also,Ithin'\tLCP=106 \n",
    "# 599\t'also,Ithin'\tLCP=106 \n",
    "# 837\t'also,Ithin'\tLCP=50 \n",
    "\n",
    "print(\"Values are:\\n  offset into suffix array,\\n  value in suffix array (pointer to first token in token_array),\\n  value in LCP array (length of prefix),\\n  tokens (if any)\")\n",
    "print()\n",
    "for offset, sa_item in enumerate(suffix_array.SA):\n",
    "    lcp_value = suffix_array._LCP_values[offset]\n",
    "    tokens = token_array[sa_item: sa_item + lcp_value]\n",
    "    if offset in range(87, 93):\n",
    "        print(offset, sa_item, lcp_value, \" \".join(tokens))\n",
    "        print()\n",
    "\n",
    "# 2022-06-17 RESUME HERE\n",
    "# For each step in this interval check accumulator and frequent sequences"
   ]
  },
  {
   "cell_type": "code",
   "execution_count": null,
   "metadata": {
    "collapsed": false,
    "pycharm": {
     "name": "#%%\n"
    }
   },
   "outputs": [],
   "source": [
    "# def priority(block: Block) -> float:\n",
    "#     '''Priority ranges from 0 to ∞\n",
    "\n",
    "#     depth (number of witnesses) / (frequency * length)\n",
    "#         modified (by trial and error) to weight the components\n",
    "#     scale: # TODO: how can we set these in a generally meaningful way?\n",
    "#         high depth (more witnesses) is most important\n",
    "#         low frequency (less repetition) is next most important\n",
    "#         high length (token count) is least important\n",
    "#     higher numbers are better\n",
    "#         distance between neighboring values is irrelevant; all that matters is order\n",
    "#     '''\n",
    "#     # score = pow(block.witness_count,4) / (pow(block.frequency,3) * block.token_count)\n",
    "#     score = pow(block.witness_count,6)  * block.token_count / pow(block.frequency,3)\n",
    "#     return score"
   ]
  },
  {
   "cell_type": "code",
   "execution_count": null,
   "metadata": {
    "collapsed": false,
    "pycharm": {
     "name": "#%%\n"
    }
   },
   "outputs": [],
   "source": [
    "# def sort_blocks_by_priority (_blocks: List[Block]) -> List[tuple]:\n",
    "#     blocks_to_tuples = [(_block, index) for index, _block in enumerate(_blocks)]\n",
    "#     return sorted(blocks_to_tuples, key=lambda x: priority(x[0]), reverse=True)"
   ]
  },
  {
   "cell_type": "code",
   "execution_count": null,
   "metadata": {
    "collapsed": false,
    "pycharm": {
     "name": "#%%\n"
    }
   },
   "outputs": [],
   "source": [
    "# prioritized_blocks = sort_blocks_by_priority(sorted_blocks) # sorted_blocks has been sorted for dependencies"
   ]
  },
  {
   "cell_type": "code",
   "execution_count": null,
   "metadata": {
    "collapsed": false,
    "pycharm": {
     "name": "#%%\n"
    }
   },
   "outputs": [],
   "source": [
    "# witness_sigla"
   ]
  },
  {
   "cell_type": "code",
   "execution_count": null,
   "metadata": {
    "collapsed": false,
    "pycharm": {
     "name": "#%%\n"
    }
   },
   "outputs": [],
   "source": [
    "# prioritized_blocks[:5]"
   ]
  }
 ],
 "metadata": {
  "kernelspec": {
   "display_name": "Python 3 (system-wide)",
   "language": "python",
   "metadata": {
    "cocalc": {
     "description": "Python 3 programming language",
     "priority": 100,
     "url": "https://www.python.org/"
    }
   },
   "name": "python3",
   "resource_dir": "/ext/jupyter/kernels/python3"
  },
  "language_info": {
   "codemirror_mode": {
    "name": "ipython",
    "version": 3
   },
   "file_extension": ".py",
   "mimetype": "text/x-python",
   "name": "python",
   "nbconvert_exporter": "python",
   "pygments_lexer": "ipython3",
   "version": "3.8.10"
  }
 },
 "nbformat": 4,
 "nbformat_minor": 4
}