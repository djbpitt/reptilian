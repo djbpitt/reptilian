{
 "cells": [
  {
   "cell_type": "markdown",
   "metadata": {
    "collapsed": false,
    "pycharm": {
     "name": "#%% md\n"
    }
   },
   "source": [
    "# Traverse LCP, then MFS\n",
    "\n",
    "* Replace earlier masked-array strategy with regular arrays, using 0 to represent a null.\n",
    "* Real data (offset of token within witness) is one-based.\n",
    "\n"
   ]
  },
  {
   "cell_type": "code",
   "execution_count": 536,
   "metadata": {
    "collapsed": false,
    "pycharm": {
     "name": "#%%\n"
    }
   },
   "outputs": [
    {
     "name": "stderr",
     "output_type": "stream",
     "text": [
      "/var/folders/qv/pfzwp1hd7sv9jqxqw7tytff40000gn/T/ipykernel_12024/2884538406.py:10: DeprecationWarning: Importing display from IPython.core.display is deprecated since IPython 7.14, please import from IPython display\n",
      "  from IPython.core.display import display, HTML\n"
     ]
    }
   ],
   "source": [
    "from typing import List\n",
    "from linsuffarr import SuffixArray\n",
    "from linsuffarr import UNIT_BYTE\n",
    "import pprint\n",
    "import numpy as np\n",
    "from dataclasses import dataclass\n",
    "from heapq import * # priority heap, https://docs.python.org/3/library/heapq.html\n",
    "pp = pprint.PrettyPrinter(indent=2)\n",
    "from bisect import bisect_right\n",
    "from IPython.core.display import display, HTML\n",
    "debug = True"
   ]
  },
  {
   "cell_type": "code",
   "execution_count": 537,
   "metadata": {
    "collapsed": false,
    "pycharm": {
     "name": "#%%\n"
    }
   },
   "outputs": [],
   "source": [
    "# sigla = ['w0', 'w1', 'w2', 'w3', 'w4', 'w5']\n",
    "# filenames = ['darwin1859.txt', 'darwin1860.txt', 'darwin1861.txt', 'darwin1866.txt', 'darwin1869.txt', 'darwin1872.txt']\n",
    "# sigla = ['w0', 'w1', 'w2', 'w3']\n",
    "# filenames = ['darwin1859.txt', 'darwin1860.txt', 'darwin1861.txt', 'darwin1866.txt']\n",
    "# sigla = ['w0', 'w1']\n",
    "# filenames = ['darwin1859.txt', 'darwin1860.txt']\n",
    "sigla = ['w0', 'w1', 'w2', 'w3', 'w4']\n",
    "filenames = ['abc/abcd.txt', 'abc/abcda.txt', 'abc/abcdb.txt', 'abc/abcdc.txt', 'abc/abcdd.txt']\n",
    "first_paragraph = 0\n",
    "last_paragraph = 10\n",
    "how_many_paragraphs = last_paragraph - first_paragraph\n",
    "raw_data_dict = {}\n",
    "for siglum, filename in zip(sigla, filenames):\n",
    "    with open(filename) as f:\n",
    "        lines = f.readlines()\n",
    "        lines = [line for line in lines if line != '\\n']\n",
    "        raw_data_dict[siglum] = \" \".join(lines[first_paragraph : last_paragraph])"
   ]
  },
  {
   "cell_type": "code",
   "execution_count": 538,
   "metadata": {
    "collapsed": false,
    "pycharm": {
     "name": "#%%\n"
    }
   },
   "outputs": [],
   "source": [
    "def tokenize_witnesses(witness_strings: List[str]): # one string per witness\n",
    "    '''Return list of witnesses, each represented by a list of tokens'''\n",
    "    # TODO: handle punctuation, upper- vs lowercase\n",
    "    witnesses = []\n",
    "    for witness_string in witness_strings:\n",
    "        witness_tokens = witness_string.split()\n",
    "        witnesses.append(witness_tokens)\n",
    "    return witnesses"
   ]
  },
  {
   "cell_type": "code",
   "execution_count": 539,
   "metadata": {
    "collapsed": false,
    "pycharm": {
     "name": "#%%\n"
    }
   },
   "outputs": [],
   "source": [
    "def create_token_array(witness_token_lists): # list of token lists per witness\n",
    "    '''Create token array (single list, with separator \" # \" between witnesses'''\n",
    "    token_array = [] # strings\n",
    "    token_membership_array = [] # witness identifiers, same offsets as in token_array\n",
    "    token_witness_offset_array = [] # one-based offset of token in witness\n",
    "    last_witness_offset = len(witness_token_lists) - 1\n",
    "    for index, witness_token_list in enumerate(witness_token_lists):\n",
    "        token_array.extend(witness_token_list)\n",
    "        for token_offset, token in enumerate(witness_token_list): # don't need enumerate, just len()\n",
    "            token_witness_offset_array.append(token_offset)\n",
    "        token_membership_array.extend([index for token in witness_token_list])\n",
    "        if index < last_witness_offset:\n",
    "            separator = \" #\" + str(index + 1) + \" \"\n",
    "            token_array.append(separator)\n",
    "            token_membership_array.append(separator)\n",
    "            token_witness_offset_array.append(-1)\n",
    "    return token_array, token_membership_array, token_witness_offset_array"
   ]
  },
  {
   "cell_type": "code",
   "execution_count": 540,
   "metadata": {
    "collapsed": false,
    "pycharm": {
     "name": "#%%\n"
    }
   },
   "outputs": [],
   "source": [
    "witness_sigla = [key for key in raw_data_dict.keys()]\n",
    "witnesses = tokenize_witnesses([value for value in raw_data_dict.values()]) # strings\n",
    "# token_list"
   ]
  },
  {
   "cell_type": "code",
   "execution_count": 541,
   "metadata": {
    "collapsed": false,
    "pycharm": {
     "name": "#%%\n"
    }
   },
   "outputs": [
    {
     "name": "stdout",
     "output_type": "stream",
     "text": [
      "token_array=['Darwin', '1859', 'WHEN', 'we', 'look', 'to', 'the', 'individuals', 'of', 'the', 'same', 'variety', 'or', 'sub-variety', 'of', 'our', 'older', 'cultivated', 'plants', 'and', 'animals,', 'one', 'of', 'the', 'first', 'points', 'which', 'strikes', 'us,', 'is,', 'that', 'they', 'generally', 'differ', 'much', 'more', 'from', 'each', 'other,', 'than', 'do', 'the', 'individuals', 'of', 'any', 'one', 'species', 'or', 'variety', 'in', 'a', 'state', 'of', 'nature.', 'When', 'we', 'reflect', 'on', 'the', 'vast', 'diversity', 'of', 'the', 'plants', 'and', 'animals', 'which', 'have', 'been', 'cultivated,', 'and', 'which', 'have', 'varied', 'during', 'all', 'ages', 'under', 'the', 'most', 'different', 'climates', 'and', 'treatment,', 'I', 'think', 'we', 'are', 'driven', 'to', 'conclude', 'that', 'this', 'greater', 'variability', 'is', 'simply', 'due', 'to', 'our', 'domestic', 'productions', 'having', 'been', 'raised', 'under', 'conditions', 'of', 'life', 'not', 'so', 'uniform', 'as,', 'and', 'somewhat', 'different', 'from,', 'those', 'to', 'which', 'the', 'parent-species', 'have', 'been', 'exposed', 'under', 'nature.', 'There', 'is,', 'also,', 'I', 'think,', 'some', 'probability', 'in', 'the', 'view', 'propounded', 'by', 'Andrew', 'Knight,', 'that', 'this', 'variability', 'may', 'be', 'partly', 'connected', 'with', 'excess', 'of', 'food.', 'It', 'seems', 'pretty', 'clear', 'that', 'organic', 'beings', 'must', 'be', 'exposed', 'during', 'several', 'generations', 'to', 'the', 'new', 'conditions', 'of', 'life', 'to', 'cause', 'any', 'appreciable', 'amount', 'of', 'variation;', 'and', 'that', 'when', 'the', 'organisation', 'has', 'once', 'begun', 'to', 'vary,', 'it', 'generally', 'continues', 'to', 'vary', 'for', 'many', 'generations.', 'No', 'case', 'is', 'on', 'record', 'of', 'a', 'variable', 'being', 'ceasing', 'to', 'be', 'variable', 'under', 'cultivation.', 'Our', 'oldest', 'cultivated', 'plants,', 'such', 'as', 'wheat,', 'still', 'often', 'yield', 'new', 'varieties:', 'our', 'oldest', 'domesticated', 'animals', 'are', 'still', 'capable', 'of', 'rapid', 'improvement', 'or', 'modification.', ' #1 ', 'Darwin', '1860', 'WHEN', 'we', 'look', 'to', 'the', 'individuals', 'of', 'the', 'same', 'variety', 'or', 'sub-variety', 'of', 'our', 'older', 'cultivated', 'plants', 'and', 'animals,', 'one', 'of', 'the', 'first', 'points', 'which', 'strikes', 'us,', 'is,', 'that', 'they', 'generally', 'differ', 'more', 'from', 'each', 'other', 'than', 'do', 'the', 'individuals', 'of', 'any', 'one', 'species', 'or', 'variety', 'in', 'a', 'state', 'of', 'nature.', 'When', 'we', 'reflect', 'on', 'the', 'vast', 'diversity', 'of', 'the', 'plants', 'and', 'animals', 'which', 'have', 'been', 'cultivated,', 'and', 'which', 'have', 'varied', 'during', 'all', 'ages', 'under', 'the', 'most', 'different', 'climates', 'and', 'treatment,', 'I', 'think', 'we', 'are', 'driven', 'to', 'conclude', 'that', 'this', 'great', 'variability', 'is', 'simply', 'due', 'to', 'our', 'domestic', 'productions', 'having', 'been', 'raised', 'under', 'conditions', 'of', 'life', 'not', 'so', 'uniform', 'as,', 'and', 'somewhat', 'different', 'from,', 'those', 'to', 'which', 'the', 'parent-species', 'have', 'been', 'exposed', 'under', 'nature.', 'There', 'is', 'also,', 'I', 'think,', 'some', 'probability', 'in', 'the', 'view', 'propounded', 'by', 'Andrew', 'Knight,', 'that', 'this', 'variability', 'may', 'be', 'partly', 'connected', 'with', 'excess', 'of', 'food.', 'It', 'seems', 'pretty', 'clear', 'that', 'organic', 'beings', 'must', 'be', 'exposed', 'during', 'several', 'generations', 'to', 'the', 'new', 'conditions', 'of', 'life', 'to', 'cause', 'any', 'appreciable', 'amount', 'of', 'variation;', 'and', 'that', 'when', 'the', 'organisation', 'has', 'once', 'begun', 'to', 'vary,', 'it', 'generally', 'continues', 'to', 'vary', 'for', 'many', 'generations.', 'No', 'case', 'is', 'on', 'record', 'of', 'a', 'variable', 'being', 'ceasing', 'to', 'be', 'variable', 'under', 'cultivation.', 'Our', 'oldest', 'cultivated', 'plants,', 'such', 'as', 'wheat,', 'still', 'often', 'yield', 'new', 'varieties:', 'our', 'oldest', 'domesticated', 'animals', 'are', 'still', 'capable', 'of', 'rapid', 'improvement', 'or', 'modification.', ' #2 ', 'Darwin', '1861', 'WHEN', 'we', 'look', 'to', 'the', 'individuals', 'of', 'the', 'same', 'variety', 'or', 'sub-variety', 'of', 'our', 'older', 'cultivated', 'plants', 'and', 'animals,', 'one', 'of', 'the', 'first', 'points', 'which', 'strikes', 'us,', 'is,', 'that', 'they', 'generally', 'differ', 'more', 'from', 'each', 'other', 'than', 'do', 'the', 'individuals', 'of', 'any', 'one', 'species', 'or', 'variety', 'in', 'a', 'state', 'of', 'nature.', 'When', 'we', 'reflect', 'on', 'the', 'vast', 'diversity', 'of', 'the', 'plants', 'and', 'animals', 'which', 'have', 'been', 'cultivated,', 'and', 'which', 'have', 'varied', 'during', 'all', 'ages', 'under', 'the', 'most', 'different', 'climates', 'and', 'treatment,', 'I', 'think', 'we', 'are', 'driven', 'to', 'conclude', 'that', 'this', 'great', 'variability', 'is', 'simply', 'due', 'to', 'our', 'domestic', 'productions', 'having', 'been', 'raised', 'under', 'conditions', 'of', 'life', 'not', 'so', 'uniform', 'as,', 'and', 'somewhat', 'different', 'from,', 'those', 'to', 'which', 'the', 'parent-species', 'have', 'been', 'exposed', 'under', 'nature.', 'There', 'is', 'also,', 'I', 'think,', 'some', 'probability', 'in', 'the', 'view', 'propounded', 'by', 'Andrew', 'Knight,', 'that', 'this', 'variability', 'may', 'be', 'partly', 'connected', 'with', 'excess', 'of', 'food.', 'It', 'seems', 'pretty', 'clear', 'that', 'organic', 'beings', 'must', 'be', 'exposed', 'during', 'several', 'generations', 'to', 'the', 'new', 'conditions', 'of', 'life', 'to', 'cause', 'any', 'appreciable', 'amount', 'of', 'variation;', 'and', 'that', 'when', 'the', 'organisation', 'has', 'once', 'begun', 'to', 'vary,', 'it', 'generally', 'continues', 'to', 'vary', 'for', 'many', 'generations.', 'No', 'case', 'is', 'on', 'record', 'of', 'a', 'variable', 'being', 'ceasing', 'to', 'be', 'variable', 'under', 'cultivation.', 'Our', 'oldest', 'cultivated', 'plants,', 'such', 'as', 'wheat,', 'still', 'often', 'yield', 'new', 'varieties:', 'our', 'oldest', 'domesticated', 'animals', 'are', 'still', 'capable', 'of', 'rapid', 'improvement', 'or', 'modification.', ' #3 ', 'Darwin', '1866', 'Causes', 'of', 'Variability.', 'WHEN', 'we', 'look', 'to', 'the', 'individuals', 'of', 'the', 'same', 'variety', 'or', 'sub-variety', 'of', 'our', 'older', 'cultivated', 'plants', 'and', 'animals,', 'one', 'of', 'the', 'first', 'points', 'which', 'strikes', 'us,', 'is,', 'that', 'they', 'generally', 'differ', 'more', 'from', 'each', 'other', 'than', 'do', 'the', 'individuals', 'of', 'any', 'one', 'species', 'or', 'variety', 'in', 'a', 'state', 'of', 'nature.', 'When', 'we', 'reflect', 'on', 'the', 'vast', 'diversity', 'of', 'the', 'plants', 'and', 'animals', 'which', 'have', 'been', 'cultivated,', 'and', 'which', 'have', 'varied', 'during', 'all', 'ages', 'under', 'the', 'most', 'different', 'climates', 'and', 'treatment,', 'I', 'think', 'we', 'are', 'driven', 'to', 'conclude', 'that', 'this', 'great', 'variability', 'is', 'simply', 'due', 'to', 'our', 'domestic', 'productions', 'having', 'been', 'raised', 'under', 'conditions', 'of', 'life', 'not', 'so', 'uniform', 'as,', 'and', 'somewhat', 'different', 'from,', 'those', 'to', 'which', 'the', 'parent-species', 'have', 'been', 'exposed', 'under', 'nature.', 'There', 'is', 'also,', 'I', 'think,', 'some', 'probability', 'in', 'the', 'view', 'propounded', 'by', 'Andrew', 'Knight,', 'that', 'this', 'variability', 'may', 'be', 'partly', 'connected', 'with', 'excess', 'of', 'food.', 'It', 'seems', 'pretty', 'clear', 'that', 'organic', 'beings', 'must', 'be', 'exposed', 'during', 'several', 'generations', 'to', 'the', 'new', 'conditions', 'of', 'life', 'to', 'cause', 'any', 'appreciable', 'amount', 'of', 'variation;', 'and', 'that,', 'when', 'the', 'organisation', 'has', 'once', 'begun', 'to', 'vary,', 'it', 'generally', 'continues', 'to', 'vary', 'for', 'many', 'generations.', 'No', 'case', 'is', 'on', 'record', 'of', 'a', 'variable', 'being', 'ceasing', 'to', 'be', 'variable', 'under', 'cultivation.', 'Our', 'oldest', 'cultivated', 'plants,', 'such', 'as', 'wheat,', 'still', 'often', 'yield', 'new', 'varieties:', 'our', 'oldest', 'domesticated', 'animals', 'are', 'still', 'capable', 'of', 'rapid', 'improvement', 'or', 'modification.', ' #4 ', 'Darwin', '1869', 'Causes', 'of', 'Variability.', 'WHEN', 'we', 'compare', 'the', 'individuals', 'of', 'the', 'same', 'variety', 'or', 'sub-variety', 'of', 'our', 'older', 'cultivated', 'plants', 'and', 'animals,', 'one', 'of', 'the', 'first', 'points', 'which', 'strikes', 'us', 'is,', 'that', 'they', 'generally', 'differ', 'from', 'each', 'other', 'more', 'than', 'do', 'the', 'individuals', 'of', 'any', 'one', 'species', 'or', 'variety', 'in', 'a', 'state', 'of', 'nature.', 'And', 'if', 'we', 'reflect', 'on', 'the', 'vast', 'diversity', 'of', 'the', 'plants', 'and', 'animals', 'which', 'have', 'been', 'cultivated,', 'and', 'which', 'have', 'varied', 'during', 'all', 'ages', 'under', 'the', 'most', 'different', 'climates', 'and', 'treatment,', 'we', 'are', 'driven', 'to', 'conclude', 'that', 'this', 'great', 'variability', 'is', 'due', 'to', 'our', 'domestic', 'productions', 'having', 'been', 'raised', 'under', 'conditions', 'of', 'life', 'not', 'so', 'uniform', 'as,', 'and', 'somewhat', 'different', 'from,', 'those', 'to', 'which', 'the', 'parent-species', 'had', 'been', 'exposed', 'under', 'nature.', 'There', 'is', 'also,', 'I', 'think,', 'some', 'probability', 'in', 'the', 'view', 'propounded', 'by', 'Andrew', 'Knight,', 'that', 'this', 'variability', 'may', 'be', 'partly', 'connected', 'with', 'excess', 'of', 'food.', 'It', 'seems', 'clear', 'that', 'organic', 'beings', 'must', 'be', 'exposed', 'during', 'several', 'generations', 'to', 'new', 'conditions', 'to', 'cause', 'any', 'appreciable', 'amount', 'of', 'variation;', 'and', 'that,', 'when', 'the', 'organisation', 'has', 'once', 'begun', 'to', 'vary,', 'it', 'generally', 'continues', 'varying', 'for', 'many', 'generations.', 'No', 'case', 'is', 'on', 'record', 'of', 'a', 'variable', 'organism', 'ceasing', 'to', 'vary', 'under', 'cultivation.', 'Our', 'oldest', 'cultivated', 'plants,', 'such', 'as', 'wheat,', 'still', 'yield', 'new', 'varieties:', 'our', 'oldest', 'domesticated', 'animals', 'are', 'still', 'capable', 'of', 'rapid', 'improvement', 'or', 'modification.']\n",
      "token_membership_array=[0, 0, 0, 0, 0, 0, 0, 0, 0, 0, 0, 0, 0, 0, 0, 0, 0, 0, 0, 0, 0, 0, 0, 0, 0, 0, 0, 0, 0, 0, 0, 0, 0, 0, 0, 0, 0, 0, 0, 0, 0, 0, 0, 0, 0, 0, 0, 0, 0, 0, 0, 0, 0, 0, 0, 0, 0, 0, 0, 0, 0, 0, 0, 0, 0, 0, 0, 0, 0, 0, 0, 0, 0, 0, 0, 0, 0, 0, 0, 0, 0, 0, 0, 0, 0, 0, 0, 0, 0, 0, 0, 0, 0, 0, 0, 0, 0, 0, 0, 0, 0, 0, 0, 0, 0, 0, 0, 0, 0, 0, 0, 0, 0, 0, 0, 0, 0, 0, 0, 0, 0, 0, 0, 0, 0, 0, 0, 0, 0, 0, 0, 0, 0, 0, 0, 0, 0, 0, 0, 0, 0, 0, 0, 0, 0, 0, 0, 0, 0, 0, 0, 0, 0, 0, 0, 0, 0, 0, 0, 0, 0, 0, 0, 0, 0, 0, 0, 0, 0, 0, 0, 0, 0, 0, 0, 0, 0, 0, 0, 0, 0, 0, 0, 0, 0, 0, 0, 0, 0, 0, 0, 0, 0, 0, 0, 0, 0, 0, 0, 0, 0, 0, 0, 0, 0, 0, 0, 0, 0, 0, 0, 0, 0, 0, 0, 0, 0, 0, 0, 0, 0, 0, 0, 0, 0, 0, 0, 0, 0, 0, 0, 0, 0, 0, 0, ' #1 ', 1, 1, 1, 1, 1, 1, 1, 1, 1, 1, 1, 1, 1, 1, 1, 1, 1, 1, 1, 1, 1, 1, 1, 1, 1, 1, 1, 1, 1, 1, 1, 1, 1, 1, 1, 1, 1, 1, 1, 1, 1, 1, 1, 1, 1, 1, 1, 1, 1, 1, 1, 1, 1, 1, 1, 1, 1, 1, 1, 1, 1, 1, 1, 1, 1, 1, 1, 1, 1, 1, 1, 1, 1, 1, 1, 1, 1, 1, 1, 1, 1, 1, 1, 1, 1, 1, 1, 1, 1, 1, 1, 1, 1, 1, 1, 1, 1, 1, 1, 1, 1, 1, 1, 1, 1, 1, 1, 1, 1, 1, 1, 1, 1, 1, 1, 1, 1, 1, 1, 1, 1, 1, 1, 1, 1, 1, 1, 1, 1, 1, 1, 1, 1, 1, 1, 1, 1, 1, 1, 1, 1, 1, 1, 1, 1, 1, 1, 1, 1, 1, 1, 1, 1, 1, 1, 1, 1, 1, 1, 1, 1, 1, 1, 1, 1, 1, 1, 1, 1, 1, 1, 1, 1, 1, 1, 1, 1, 1, 1, 1, 1, 1, 1, 1, 1, 1, 1, 1, 1, 1, 1, 1, 1, 1, 1, 1, 1, 1, 1, 1, 1, 1, 1, 1, 1, 1, 1, 1, 1, 1, 1, 1, 1, 1, 1, 1, 1, 1, 1, 1, 1, 1, 1, 1, 1, 1, 1, 1, 1, 1, 1, 1, 1, 1, ' #2 ', 2, 2, 2, 2, 2, 2, 2, 2, 2, 2, 2, 2, 2, 2, 2, 2, 2, 2, 2, 2, 2, 2, 2, 2, 2, 2, 2, 2, 2, 2, 2, 2, 2, 2, 2, 2, 2, 2, 2, 2, 2, 2, 2, 2, 2, 2, 2, 2, 2, 2, 2, 2, 2, 2, 2, 2, 2, 2, 2, 2, 2, 2, 2, 2, 2, 2, 2, 2, 2, 2, 2, 2, 2, 2, 2, 2, 2, 2, 2, 2, 2, 2, 2, 2, 2, 2, 2, 2, 2, 2, 2, 2, 2, 2, 2, 2, 2, 2, 2, 2, 2, 2, 2, 2, 2, 2, 2, 2, 2, 2, 2, 2, 2, 2, 2, 2, 2, 2, 2, 2, 2, 2, 2, 2, 2, 2, 2, 2, 2, 2, 2, 2, 2, 2, 2, 2, 2, 2, 2, 2, 2, 2, 2, 2, 2, 2, 2, 2, 2, 2, 2, 2, 2, 2, 2, 2, 2, 2, 2, 2, 2, 2, 2, 2, 2, 2, 2, 2, 2, 2, 2, 2, 2, 2, 2, 2, 2, 2, 2, 2, 2, 2, 2, 2, 2, 2, 2, 2, 2, 2, 2, 2, 2, 2, 2, 2, 2, 2, 2, 2, 2, 2, 2, 2, 2, 2, 2, 2, 2, 2, 2, 2, 2, 2, 2, 2, 2, 2, 2, 2, 2, 2, 2, 2, 2, 2, 2, 2, 2, 2, 2, 2, 2, 2, ' #3 ', 3, 3, 3, 3, 3, 3, 3, 3, 3, 3, 3, 3, 3, 3, 3, 3, 3, 3, 3, 3, 3, 3, 3, 3, 3, 3, 3, 3, 3, 3, 3, 3, 3, 3, 3, 3, 3, 3, 3, 3, 3, 3, 3, 3, 3, 3, 3, 3, 3, 3, 3, 3, 3, 3, 3, 3, 3, 3, 3, 3, 3, 3, 3, 3, 3, 3, 3, 3, 3, 3, 3, 3, 3, 3, 3, 3, 3, 3, 3, 3, 3, 3, 3, 3, 3, 3, 3, 3, 3, 3, 3, 3, 3, 3, 3, 3, 3, 3, 3, 3, 3, 3, 3, 3, 3, 3, 3, 3, 3, 3, 3, 3, 3, 3, 3, 3, 3, 3, 3, 3, 3, 3, 3, 3, 3, 3, 3, 3, 3, 3, 3, 3, 3, 3, 3, 3, 3, 3, 3, 3, 3, 3, 3, 3, 3, 3, 3, 3, 3, 3, 3, 3, 3, 3, 3, 3, 3, 3, 3, 3, 3, 3, 3, 3, 3, 3, 3, 3, 3, 3, 3, 3, 3, 3, 3, 3, 3, 3, 3, 3, 3, 3, 3, 3, 3, 3, 3, 3, 3, 3, 3, 3, 3, 3, 3, 3, 3, 3, 3, 3, 3, 3, 3, 3, 3, 3, 3, 3, 3, 3, 3, 3, 3, 3, 3, 3, 3, 3, 3, 3, 3, 3, 3, 3, 3, 3, 3, 3, 3, 3, 3, 3, 3, 3, 3, 3, 3, ' #4 ', 4, 4, 4, 4, 4, 4, 4, 4, 4, 4, 4, 4, 4, 4, 4, 4, 4, 4, 4, 4, 4, 4, 4, 4, 4, 4, 4, 4, 4, 4, 4, 4, 4, 4, 4, 4, 4, 4, 4, 4, 4, 4, 4, 4, 4, 4, 4, 4, 4, 4, 4, 4, 4, 4, 4, 4, 4, 4, 4, 4, 4, 4, 4, 4, 4, 4, 4, 4, 4, 4, 4, 4, 4, 4, 4, 4, 4, 4, 4, 4, 4, 4, 4, 4, 4, 4, 4, 4, 4, 4, 4, 4, 4, 4, 4, 4, 4, 4, 4, 4, 4, 4, 4, 4, 4, 4, 4, 4, 4, 4, 4, 4, 4, 4, 4, 4, 4, 4, 4, 4, 4, 4, 4, 4, 4, 4, 4, 4, 4, 4, 4, 4, 4, 4, 4, 4, 4, 4, 4, 4, 4, 4, 4, 4, 4, 4, 4, 4, 4, 4, 4, 4, 4, 4, 4, 4, 4, 4, 4, 4, 4, 4, 4, 4, 4, 4, 4, 4, 4, 4, 4, 4, 4, 4, 4, 4, 4, 4, 4, 4, 4, 4, 4, 4, 4, 4, 4, 4, 4, 4, 4, 4, 4, 4, 4, 4, 4, 4, 4, 4, 4, 4, 4, 4, 4, 4, 4, 4, 4, 4, 4, 4, 4, 4, 4, 4, 4, 4, 4, 4, 4, 4, 4, 4, 4, 4, 4]\n",
      "token_witness_offset_array=[0, 1, 2, 3, 4, 5, 6, 7, 8, 9, 10, 11, 12, 13, 14, 15, 16, 17, 18, 19, 20, 21, 22, 23, 24, 25, 26, 27, 28, 29, 30, 31, 32, 33, 34, 35, 36, 37, 38, 39, 40, 41, 42, 43, 44, 45, 46, 47, 48, 49, 50, 51, 52, 53, 54, 55, 56, 57, 58, 59, 60, 61, 62, 63, 64, 65, 66, 67, 68, 69, 70, 71, 72, 73, 74, 75, 76, 77, 78, 79, 80, 81, 82, 83, 84, 85, 86, 87, 88, 89, 90, 91, 92, 93, 94, 95, 96, 97, 98, 99, 100, 101, 102, 103, 104, 105, 106, 107, 108, 109, 110, 111, 112, 113, 114, 115, 116, 117, 118, 119, 120, 121, 122, 123, 124, 125, 126, 127, 128, 129, 130, 131, 132, 133, 134, 135, 136, 137, 138, 139, 140, 141, 142, 143, 144, 145, 146, 147, 148, 149, 150, 151, 152, 153, 154, 155, 156, 157, 158, 159, 160, 161, 162, 163, 164, 165, 166, 167, 168, 169, 170, 171, 172, 173, 174, 175, 176, 177, 178, 179, 180, 181, 182, 183, 184, 185, 186, 187, 188, 189, 190, 191, 192, 193, 194, 195, 196, 197, 198, 199, 200, 201, 202, 203, 204, 205, 206, 207, 208, 209, 210, 211, 212, 213, 214, 215, 216, 217, 218, 219, 220, 221, 222, 223, 224, 225, 226, 227, 228, 229, 230, 231, 232, 233, 234, -1, 0, 1, 2, 3, 4, 5, 6, 7, 8, 9, 10, 11, 12, 13, 14, 15, 16, 17, 18, 19, 20, 21, 22, 23, 24, 25, 26, 27, 28, 29, 30, 31, 32, 33, 34, 35, 36, 37, 38, 39, 40, 41, 42, 43, 44, 45, 46, 47, 48, 49, 50, 51, 52, 53, 54, 55, 56, 57, 58, 59, 60, 61, 62, 63, 64, 65, 66, 67, 68, 69, 70, 71, 72, 73, 74, 75, 76, 77, 78, 79, 80, 81, 82, 83, 84, 85, 86, 87, 88, 89, 90, 91, 92, 93, 94, 95, 96, 97, 98, 99, 100, 101, 102, 103, 104, 105, 106, 107, 108, 109, 110, 111, 112, 113, 114, 115, 116, 117, 118, 119, 120, 121, 122, 123, 124, 125, 126, 127, 128, 129, 130, 131, 132, 133, 134, 135, 136, 137, 138, 139, 140, 141, 142, 143, 144, 145, 146, 147, 148, 149, 150, 151, 152, 153, 154, 155, 156, 157, 158, 159, 160, 161, 162, 163, 164, 165, 166, 167, 168, 169, 170, 171, 172, 173, 174, 175, 176, 177, 178, 179, 180, 181, 182, 183, 184, 185, 186, 187, 188, 189, 190, 191, 192, 193, 194, 195, 196, 197, 198, 199, 200, 201, 202, 203, 204, 205, 206, 207, 208, 209, 210, 211, 212, 213, 214, 215, 216, 217, 218, 219, 220, 221, 222, 223, 224, 225, 226, 227, 228, 229, 230, 231, 232, 233, -1, 0, 1, 2, 3, 4, 5, 6, 7, 8, 9, 10, 11, 12, 13, 14, 15, 16, 17, 18, 19, 20, 21, 22, 23, 24, 25, 26, 27, 28, 29, 30, 31, 32, 33, 34, 35, 36, 37, 38, 39, 40, 41, 42, 43, 44, 45, 46, 47, 48, 49, 50, 51, 52, 53, 54, 55, 56, 57, 58, 59, 60, 61, 62, 63, 64, 65, 66, 67, 68, 69, 70, 71, 72, 73, 74, 75, 76, 77, 78, 79, 80, 81, 82, 83, 84, 85, 86, 87, 88, 89, 90, 91, 92, 93, 94, 95, 96, 97, 98, 99, 100, 101, 102, 103, 104, 105, 106, 107, 108, 109, 110, 111, 112, 113, 114, 115, 116, 117, 118, 119, 120, 121, 122, 123, 124, 125, 126, 127, 128, 129, 130, 131, 132, 133, 134, 135, 136, 137, 138, 139, 140, 141, 142, 143, 144, 145, 146, 147, 148, 149, 150, 151, 152, 153, 154, 155, 156, 157, 158, 159, 160, 161, 162, 163, 164, 165, 166, 167, 168, 169, 170, 171, 172, 173, 174, 175, 176, 177, 178, 179, 180, 181, 182, 183, 184, 185, 186, 187, 188, 189, 190, 191, 192, 193, 194, 195, 196, 197, 198, 199, 200, 201, 202, 203, 204, 205, 206, 207, 208, 209, 210, 211, 212, 213, 214, 215, 216, 217, 218, 219, 220, 221, 222, 223, 224, 225, 226, 227, 228, 229, 230, 231, 232, 233, -1, 0, 1, 2, 3, 4, 5, 6, 7, 8, 9, 10, 11, 12, 13, 14, 15, 16, 17, 18, 19, 20, 21, 22, 23, 24, 25, 26, 27, 28, 29, 30, 31, 32, 33, 34, 35, 36, 37, 38, 39, 40, 41, 42, 43, 44, 45, 46, 47, 48, 49, 50, 51, 52, 53, 54, 55, 56, 57, 58, 59, 60, 61, 62, 63, 64, 65, 66, 67, 68, 69, 70, 71, 72, 73, 74, 75, 76, 77, 78, 79, 80, 81, 82, 83, 84, 85, 86, 87, 88, 89, 90, 91, 92, 93, 94, 95, 96, 97, 98, 99, 100, 101, 102, 103, 104, 105, 106, 107, 108, 109, 110, 111, 112, 113, 114, 115, 116, 117, 118, 119, 120, 121, 122, 123, 124, 125, 126, 127, 128, 129, 130, 131, 132, 133, 134, 135, 136, 137, 138, 139, 140, 141, 142, 143, 144, 145, 146, 147, 148, 149, 150, 151, 152, 153, 154, 155, 156, 157, 158, 159, 160, 161, 162, 163, 164, 165, 166, 167, 168, 169, 170, 171, 172, 173, 174, 175, 176, 177, 178, 179, 180, 181, 182, 183, 184, 185, 186, 187, 188, 189, 190, 191, 192, 193, 194, 195, 196, 197, 198, 199, 200, 201, 202, 203, 204, 205, 206, 207, 208, 209, 210, 211, 212, 213, 214, 215, 216, 217, 218, 219, 220, 221, 222, 223, 224, 225, 226, 227, 228, 229, 230, 231, 232, 233, 234, 235, 236, -1, 0, 1, 2, 3, 4, 5, 6, 7, 8, 9, 10, 11, 12, 13, 14, 15, 16, 17, 18, 19, 20, 21, 22, 23, 24, 25, 26, 27, 28, 29, 30, 31, 32, 33, 34, 35, 36, 37, 38, 39, 40, 41, 42, 43, 44, 45, 46, 47, 48, 49, 50, 51, 52, 53, 54, 55, 56, 57, 58, 59, 60, 61, 62, 63, 64, 65, 66, 67, 68, 69, 70, 71, 72, 73, 74, 75, 76, 77, 78, 79, 80, 81, 82, 83, 84, 85, 86, 87, 88, 89, 90, 91, 92, 93, 94, 95, 96, 97, 98, 99, 100, 101, 102, 103, 104, 105, 106, 107, 108, 109, 110, 111, 112, 113, 114, 115, 116, 117, 118, 119, 120, 121, 122, 123, 124, 125, 126, 127, 128, 129, 130, 131, 132, 133, 134, 135, 136, 137, 138, 139, 140, 141, 142, 143, 144, 145, 146, 147, 148, 149, 150, 151, 152, 153, 154, 155, 156, 157, 158, 159, 160, 161, 162, 163, 164, 165, 166, 167, 168, 169, 170, 171, 172, 173, 174, 175, 176, 177, 178, 179, 180, 181, 182, 183, 184, 185, 186, 187, 188, 189, 190, 191, 192, 193, 194, 195, 196, 197, 198, 199, 200, 201, 202, 203, 204, 205, 206, 207, 208, 209, 210, 211, 212, 213, 214, 215, 216, 217, 218, 219, 220, 221, 222, 223, 224, 225, 226]\n"
     ]
    }
   ],
   "source": [
    "token_array, token_membership_array, token_witness_offset_array = create_token_array(witnesses)\n",
    "print(f\"{token_array=}\")\n",
    "print(f\"{token_membership_array=}\")\n",
    "print(f\"{token_witness_offset_array=}\")"
   ]
  },
  {
   "cell_type": "code",
   "execution_count": 542,
   "metadata": {
    "collapsed": false,
    "scrolled": true,
    "pycharm": {
     "name": "#%%\n"
    }
   },
   "outputs": [],
   "source": [
    "suffix_array = SuffixArray(token_array, unit=UNIT_BYTE)\n",
    "# print(suffix_array)\n",
    "# LCP=0 means that the block has nothing in common with the next one"
   ]
  },
  {
   "cell_type": "code",
   "execution_count": 543,
   "metadata": {
    "collapsed": false,
    "pycharm": {
     "name": "#%%\n"
    }
   },
   "outputs": [
    {
     "data": {
      "text/plain": "array('i', [0, 0, 0, 0, 0])"
     },
     "execution_count": 543,
     "metadata": {},
     "output_type": "execute_result"
    }
   ],
   "source": [
    "lcp_array = suffix_array._LCP_values\n",
    "lcp_array[:5]"
   ]
  },
  {
   "cell_type": "code",
   "execution_count": 544,
   "metadata": {
    "collapsed": false,
    "pycharm": {
     "name": "#%%\n"
    }
   },
   "outputs": [],
   "source": [
    "# create Block dataclass\n",
    "from dataclasses import dataclass\n",
    "@dataclass(unsafe_hash=True)\n",
    "class Block:\n",
    "    token_count: int\n",
    "    start_position: int # offset into suffix array (not into token array!)\n",
    "    end_position: int # start and end position give number of occurrences\n",
    "    all_start_positions: [] # compute after blocks have been completed\n",
    "    witnesses: set\n",
    "    witness_count: int # number of witnesses in which pattern occurs, omitted temporarily because requires further computation\n",
    "    frequency: int # number of times pattern occurs in whole witness set (may be more than once in a witness), end_position - start_position + 1\n",
    "    # how_created: int # debug"
   ]
  },
  {
   "cell_type": "code",
   "execution_count": 545,
   "metadata": {
    "collapsed": false,
    "scrolled": true,
    "pycharm": {
     "name": "#%%\n"
    }
   },
   "outputs": [],
   "source": [
    "def create_blocks_old (_lcp_array):\n",
    "    '''Create blocks from lcp array\n",
    "\n",
    "    Skip first lcp value, which is a fake; otherwise compare lcp value to length of block at top of stack.\n",
    "    Four possibilities:\n",
    "\n",
    "        stack is empty\n",
    "            * if lcp value == 0, proceed to next lcp value (continue)\n",
    "            * if lcp value > 0, create block and push onto stack, then proceed to next lcp value (continue)\n",
    "\n",
    "        lcp value (cannot equal 0) matches block length at top of stack\n",
    "            * proceed to next lcp value (continue)\n",
    "\n",
    "        lcp value (cannot equal 0) is longer than block length at top of stack\n",
    "            * create and push new block\n",
    "\n",
    "        lcp value is shorter than block length at top of stack\n",
    "            * (recursive) if block at top of stack is longer than current lcp value, pop and append to _blocks\n",
    "            * if block at top of stack is equal to lcp value, proceed to next lcp value (continue)\n",
    "            * if block at top of stack is shorter than current lcp value ...\n",
    "            *   create and push new block starting at start position of most recently closed block, then proceed to next lcp value (continue)\n",
    "\n",
    "    In other words:\n",
    "\n",
    "        We proceed to next lcp value if:\n",
    "            * stack is empty and lcp value == 0\n",
    "            * lcp value matches block length at top of stack (can we combine this with the preceding, since an empty stack effectively has a zero-length block on top?)\n",
    "\n",
    "        We push a new value on stack and then proceed to next lcp value if:\n",
    "            * stack is empty and lcp value > 0\n",
    "            * lcp value is longer than block length at top of stack (where is the start position?)\n",
    "\n",
    "        We pop from the stack to _blocks and then check the next stack value (stick with same lcp) if:\n",
    "            * lcp value is shorter than current block value\n",
    "\n",
    "cases (occurrences are always one more than number of repetitions):\n",
    "    5 5 2     --> 1 block of 5 occurs 3 times, 1 block of 2 occures 4 times\n",
    "    2 5 5 2   --> 1 block of 2 occurs 5 times, 1 block of 5 occures 3 times\n",
    "    5 5 0 2   --> 1 block of 5 occurs 3 times, 1 block of 2 occures 2 times\n",
    "    2 5 5 2 3 --> \n",
    "\n",
    "\n",
    "Nested while structures:\n",
    "\n",
    "(Create blocks in two places because they have different start positions)\n",
    "(Nested while loops because we traverse two things: lcp array and, sometimes, stack)\n",
    "\n",
    "while next-lcp-value: # traverse lcp array\n",
    "    if something\n",
    "    elif something else\n",
    "    elif perhaps yet another something else\n",
    "    else: # possible hidden block (or possibly not)\n",
    "        while something-on-the-stack: # traverse stack for some lcp value situations\n",
    "            pop larger values\n",
    "        if hidden-block:\n",
    "            create and push\n",
    "clean-up-stack-after-last-lcp-value # or tack a 0 onto the end of the lcp to avoid extra clean-up code\n",
    "'''\n",
    "    from collections import deque # deque has faster append and pop than list\n",
    "    _blocks = []\n",
    "    open_block_stack = deque()\n",
    "    for offset, lcp in enumerate(lcp_array):\n",
    "        # three situations: next one is same value, higher that last, or lower than last\n",
    "        # if same value: same pattern\n",
    "        # if higher or lower, new pattern (may overlap with previous, unless one or the other value is 0)\n",
    "        peek = open_block_stack[-1] if open_block_stack else None\n",
    "        peek_token_count = peek.token_count if peek else 0\n",
    "        if offset == 0: # skip the first one, which is a transition from a fake start value\n",
    "            continue # resume loop with next item in lcp array\n",
    "        elif lcp == peek_token_count:\n",
    "            pass # same pattern (happens with repetition), so do nothing\n",
    "        elif lcp > peek_token_count: # new prefix is longer than previous one, so start new pattern\n",
    "            # can fill in end_position and frequency only when we encounter a shorter value in the LCP array\n",
    "            # start_position is number of patterns that are the same \n",
    "            open_block_stack.append(Block(token_count = lcp, start_position = offset - 1, end_position = -1, all_start_positions = [], witnesses = (), witness_count = -1, frequency = -1))\n",
    "        else: # new prefix is shorter than previous one, so:\n",
    "                # 1. close open blocks with higher values\n",
    "                # 2. do something else\n",
    "            while open_block_stack and open_block_stack[-1].token_count > lcp: # if an open block is longer than the current length, pop and close it\n",
    "                block_being_modified = open_block_stack.pop()\n",
    "                block_being_modified.end_position = offset - 1\n",
    "                block_being_modified.frequency = block_being_modified.end_position - block_being_modified.start_position + 1\n",
    "                _blocks.append(block_being_modified)\n",
    "            if lcp > 0 and (not open_block_stack or open_block_stack[-1].token_count < lcp):\n",
    "                open_block_stack.append(Block(token_count = lcp, start_position = _blocks[-1].start_position, end_position = -1, all_start_positions = [], witnesses = (), witness_count = -1, frequency = -1))\n",
    "\n",
    "    while open_block_stack: # pop anything left in open_block_stack\n",
    "        block_being_modified = open_block_stack.pop()\n",
    "        block_being_modified.end_position = len(lcp_array) - 1\n",
    "        block_being_modified.frequency = block_being_modified.end_position - block_being_modified.start_position + 1\n",
    "        _blocks.append(block_being_modified)\n",
    "\n",
    "    # add all_start_positions and then witness_count properties to blocks\n",
    "    for _index, _block in enumerate(_blocks):\n",
    "        # block_start_position through block_end_position gives offsets of all start positions in suffix_array\n",
    "        _block.all_start_positions = sorted([suffix_array.SA[x] for x in range(_block.start_position,_block.end_position + 1)])\n",
    "        # use all start positions to find witness count\n",
    "        _block.witnesses = set(token_membership_array[offset] for offset in _block.all_start_positions)\n",
    "        _block.witness_count = len(_block.witnesses)\n",
    "    return _blocks"
   ]
  },
  {
   "cell_type": "code",
   "execution_count": 546,
   "metadata": {
    "collapsed": false,
    "pycharm": {
     "name": "#%%\n"
    }
   },
   "outputs": [],
   "source": [
    "@dataclass\n",
    "class Lcp_interval_candidate:\n",
    "    lcp_start_offset: int\n",
    "    lcp_interval_token_count: int\n",
    "    lcp_end_offset: int = -1"
   ]
  },
  {
   "cell_type": "code",
   "execution_count": 547,
   "metadata": {
    "collapsed": false,
    "pycharm": {
     "name": "#%%\n"
    }
   },
   "outputs": [],
   "source": [
    "def expand_prefix(prefix_to_expand:Lcp_interval_candidate):\n",
    "    token_start_position = suffix_array.SA[prefix_to_expand.lcp_start_offset]\n",
    "    token_count = prefix_to_expand.lcp_interval_token_count\n",
    "    tokens = token_array[token_start_position: token_start_position + token_count]\n",
    "    return tokens"
   ]
  },
  {
   "cell_type": "code",
   "execution_count": 548,
   "metadata": {
    "collapsed": false,
    "pycharm": {
     "name": "#%%\n"
    }
   },
   "outputs": [],
   "source": [
    "def check_for_depth_and_repetition(_lcp_interval:Lcp_interval_candidate, _witness_count: int) -> bool:\n",
    "    \"\"\"Write a docstring someday\n",
    "\n",
    "    Number of prefixes >= total number of witnesses\n",
    "    Accumulate set of witness sigla for prefixes\n",
    "    if:\n",
    "        no witness occurs more than once, return True to keep this block\n",
    "    else:\n",
    "        return False\n",
    "    \"\"\"\n",
    "#     print(f\"Checking for depth and repetition for: {_lcp_interval=}\")\n",
    "#     print(f\"Occurs {_lcp_interval.lcp_end_offset - _lcp_interval.lcp_start_offset + 1} times in witness set\")\n",
    "#     print(expand_prefix(_lcp_interval))\n",
    "#     print()\n",
    "    block_instance_count = _lcp_interval.lcp_end_offset - _lcp_interval.lcp_start_offset + 1\n",
    "    if block_instance_count != _witness_count:\n",
    "        return False\n",
    "    else:\n",
    "        witnesses_found = []\n",
    "        for lcp_interval_item_offset in range(_lcp_interval.lcp_start_offset, _lcp_interval.lcp_end_offset + 1):\n",
    "            token_position = suffix_array.SA[lcp_interval_item_offset] # point from prefix to suffix array position\n",
    "            witness_siglum = token_membership_array[token_position] # point from token array position to witness identifier\n",
    "            if witness_siglum in witnesses_found:\n",
    "                return False\n",
    "            else:\n",
    "                witnesses_found.append(witness_siglum)\n",
    "        return True"
   ]
  },
  {
   "cell_type": "code",
   "execution_count": 549,
   "metadata": {
    "collapsed": false,
    "pycharm": {
     "name": "#%%\n"
    }
   },
   "outputs": [],
   "source": [
    "def create_blocks(_lcp_array: list):\n",
    "    \"\"\"Write a docstring someday\n",
    "\n",
    "    Look at changes in length of LCP array\n",
    "    Initial value is 0 or -1 because it's a comparison with previous, and first has no previous\n",
    "    Next value is number of tokens shared with previous\n",
    "    Exact length doesn't matter, but if it changes, new pattern:\n",
    "        If it stays the same, take note but do nothing yet; it means that the pattern repeats\n",
    "        No change for a while, then goes to 0:\n",
    "            Number of repetitions plus 1, e.g., 5 5 5 0 = 4 instances of 5\n",
    "            Once it changes to 0, we've seen complete pattern\n",
    "        Changer to smaller means hidden, deeper block\n",
    "        Changes to longer means ???\n",
    "    \"\"\"\n",
    "    accumulator = [] # lcp positions (not values) since most recent 0\n",
    "    frequent_sequences = [] # lcp intervals to be considered for mfs\n",
    "    #\n",
    "    # lcp value\n",
    "    # if == 0 it's a new interval, so:\n",
    "    #   1. if there is already an accumulation, commit (process) it\n",
    "    #      \"committing the buffer\" means checking for repetition and depth\n",
    "    #          if it passes check: store in mfs list\n",
    "    #          otherwise throw it away\n",
    "    #   2. clear buffer (accumulator) and begin accumulating new buffer with the new offset with 0 value\n",
    "    # otherwise it isn't zero, so there must be a buffer in place, so add to it (for now)\n",
    "    for offset, value in enumerate(_lcp_array):\n",
    "        if not accumulator and value == 0: # if accumulator is empty and new value is 0, do nothing\n",
    "            continue\n",
    "        elif not accumulator: # accumulator is empty and new value is non-zero, so begin new accumulator\n",
    "            accumulator.append(Lcp_interval_candidate(lcp_start_offset = offset - 1, lcp_interval_token_count = value))\n",
    "        elif value > accumulator[-1].lcp_interval_token_count: # new interval, so add to accumulator and continue\n",
    "            accumulator.append(Lcp_interval_candidate(lcp_start_offset = offset - 1, lcp_interval_token_count = value))\n",
    "        elif value == accumulator[-1].lcp_interval_token_count: # same block as before, so do nothing\n",
    "            continue\n",
    "        else: # new value is less than top of accumulator, so pop everything that is higher\n",
    "            # Positions in lcp array and suffix array coincide:\n",
    "            #   The lcp array value is the length of the sequence\n",
    "            #   The suffix array value is the start position of the sequence\n",
    "            # Assume accumulator values (offsets into lcp array) point to [3, 6] and new value is 4, so:\n",
    "            #   First: Pop pointer to 6 (length value in lcp array), store in frequent_sequences\n",
    "            #   Second: Push new pointer to same position in lcp array, but change value in lcp array to 4\n",
    "            while accumulator and accumulator[-1].lcp_interval_token_count > value:\n",
    "                # Create pointer to last closed block that is not filtered (like frequent_sequences)\n",
    "                newly_closed_block = accumulator.pop()\n",
    "                newly_closed_block.lcp_end_offset = offset - 1\n",
    "                if check_for_depth_and_repetition(newly_closed_block, len(witnesses)):\n",
    "                    frequent_sequences.append([newly_closed_block.lcp_start_offset, newly_closed_block.lcp_end_offset, newly_closed_block.lcp_interval_token_count])\n",
    "            # There are three options:\n",
    "            #   1. there is content in the accumulator and latest value is not 0\n",
    "            #   2. accumulator is empty and latest value is 0\n",
    "            #   3. accumulator is empty and latest value is not 0\n",
    "            # (the fourth logical combination, content in the accumulator and 0 value, cannot occur\n",
    "            #     because a 0 value will empty the accumulator)\n",
    "            if value > 0 and (not accumulator or accumulator[-1].lcp_interval_token_count != value):\n",
    "                accumulator.append(Lcp_interval_candidate(lcp_start_offset = newly_closed_block.lcp_start_offset, lcp_interval_token_count = value))\n",
    "    # End of lcp array; run through any residual accumulator values\n",
    "    while accumulator:\n",
    "        newly_closed_block = accumulator.pop()\n",
    "        newly_closed_block.lcp_end_offset = len(_lcp_array) - 1\n",
    "        if check_for_depth_and_repetition(newly_closed_block, len(witnesses)):\n",
    "            frequent_sequences.append([newly_closed_block.lcp_start_offset, len(_lcp_array)-1, newly_closed_block.lcp_interval_token_count])\n",
    "    return frequent_sequences"
   ]
  },
  {
   "cell_type": "code",
   "execution_count": 550,
   "metadata": {
    "collapsed": false,
    "scrolled": true,
    "pycharm": {
     "name": "#%%\n"
    }
   },
   "outputs": [],
   "source": [
    "# frequent_sequences is a list of lists\n",
    "# the embedded lists contain LCP indices\n",
    "#   LCP indices point into LCP array, but same index also points into suffix array\n",
    "#   value in LCP array points to prefix length (compared to previous one)\n",
    "#   value in suffix array points into token array\n",
    "frequent_sequences = create_blocks(lcp_array)\n",
    "# print(len(frequent_sequences))\n",
    "# pp.pprint(frequent_sequences[:5])"
   ]
  },
  {
   "cell_type": "code",
   "execution_count": 551,
   "metadata": {
    "collapsed": false,
    "pycharm": {
     "name": "#%%\n"
    }
   },
   "outputs": [],
   "source": [
    "# # A sequence like [40, 41, 42, 43] represents the same prefix. Each of these is a position in the LCP array that represents the length of the prefix.\n",
    "# for i in range(40, 44):\n",
    "#     print(f\"{lcp_array[i]=}\")\n",
    "#     print(f\"{token_array[suffix_array.SA[i]]=}\")\n",
    "# # Returns: 193, 30, 78, 0\n",
    "# # The length of a block is the lowest value higher than 0, so in this case 30.\n",
    "# # The suffix_array is in suffix_array.SA. Each of the four values is for a specific witness, so choose the first one arbitrarily, so 193.\n",
    "# # Examine 193rd value in suffix array:\n",
    "# print(f\"{suffix_array.SA[193]=}\")\n",
    "# # This returns 3378. The suffix array value is a pointer into the token array. So:\n",
    "# print(f\"{token_array[3378]=}\")\n",
    "# # The blocks are in alphabetical order.\n",
    "# # Look at part of token string\n",
    "# \" \".join(token_array[3368:3388])"
   ]
  },
  {
   "cell_type": "code",
   "execution_count": 552,
   "metadata": {
    "collapsed": false,
    "pycharm": {
     "name": "#%%\n"
    }
   },
   "outputs": [],
   "source": [
    "# Look at results\n",
    "# NB: This is debug output only\n",
    "# print(f\"{suffix_array._LCP_values=}\")\n",
    "# print(f\"{suffix_array.SA=}\")\n",
    "# pp.pprint(witnesses)\n",
    "#\n",
    "# print(\"Values are lcp_start_offset, lcp_end_offset, and lcp_interval_token_count\")\n",
    "# print()\n",
    "# largest_blocks = {} # key is token end position, value is (length, [witness-start-positions])\n",
    "# for frequent_sequence in frequent_sequences:\n",
    "# #     print(f\"Before filtering: examining frequent sequence {frequent_sequence}\")\n",
    "#     length = frequent_sequence[2]\n",
    "#     suffix_array_values = [suffix_array.SA[i] for i in range(frequent_sequence[0], frequent_sequence[1] + 1)]\n",
    "#     tokens = [token_array[i] for i in range(suffix_array_values[0], suffix_array_values[0] + length)]\n",
    "#     token_end_position = min(suffix_array_values) + length # token end position for first witness\n",
    "#     if token_end_position not in largest_blocks: # first block with this end position, so create new key\n",
    "#         largest_blocks[token_end_position] = (length, suffix_array_values)\n",
    "#     else: # if new block is longer, replace old one with same key\n",
    "#         if length > largest_blocks[token_end_position][0]:\n",
    "#             largest_blocks[token_end_position] = (length, suffix_array_values)\n",
    "# for b in frequent_sequences:\n",
    "#     lcp_start_value = b[0]\n",
    "#     token_start_position = suffix_array.SA[lcp_start_value]\n",
    "#     token_count = b[2]\n",
    "#     tokens = token_array[token_start_position: token_start_position + token_count]\n",
    "#     print(b, tokens)"
   ]
  },
  {
   "cell_type": "code",
   "execution_count": 553,
   "metadata": {
    "collapsed": false,
    "pycharm": {
     "name": "#%%\n"
    }
   },
   "outputs": [],
   "source": [
    "# print(suffix_array)"
   ]
  },
  {
   "cell_type": "code",
   "execution_count": 554,
   "metadata": {
    "collapsed": false,
    "scrolled": true,
    "pycharm": {
     "name": "#%%\n"
    }
   },
   "outputs": [
    {
     "name": "stdout",
     "output_type": "stream",
     "text": [
      "largest_blocks={154: (25, [129, 364, 599, 837, 1072]), 1: (1, [0, 236, 471, 706, 944]), 204: (11, [193, 428, 663, 901, 1131]), 219: (10, [209, 444, 679, 917, 1146]), 128: (5, [123, 358, 593, 831, 1066]), 4: (2, [2, 238, 473, 711, 949]), 54: (15, [39, 274, 509, 747, 984]), 84: (29, [55, 290, 525, 763, 1001]), 179: (8, [171, 406, 641, 879, 1110]), 28: (22, [6, 242, 477, 715, 952]), 122: (25, [97, 332, 567, 805, 1040]), 235: (15, [220, 455, 690, 928, 1156]), 93: (7, [86, 321, 556, 794, 1030]), 166: (11, [155, 390, 625, 863, 1097]), 191: (11, [180, 415, 650, 888, 1119]), 207: (2, [205, 440, 675, 913, 1143]), 34: (5, [29, 265, 500, 738, 975]), 38: (2, [36, 271, 506, 744, 980]), 36: (1, [35, 270, 505, 743, 983]), 169: (2, [167, 402, 637, 875, 1108]), 193: (2, [191, 426, 661, 899, 1144]), 96: (2, [94, 329, 564, 802, 1038])}\n"
     ]
    }
   ],
   "source": [
    "# To remove embedded prefixes:\n",
    "#\n",
    "# 1. Create dictionary with end position in witness 0 (arbitrarily) as key\n",
    "# 2. Set value of key to longest sequence with that end position\n",
    "# 3. Dictionary values will contain only longest frequent sequences, removing embedded ones,\n",
    "#    as tuples if (length, [token start positions for all witnesses])\n",
    "\n",
    "@dataclass\n",
    "class LongestSequence:\n",
    "    length: int\n",
    "    witness_start_and_end: List[int]\n",
    "\n",
    "def find_longest_sequences(_frequent_sequences, _suffix_array):\n",
    "    _largest_blocks = {} # key is token end position, value is (length, [witness-start-positions])\n",
    "    for frequent_sequence in _frequent_sequences:\n",
    "        length = frequent_sequence[2]\n",
    "        suffix_array_values = [_suffix_array.SA[i] for i in range(frequent_sequence[0], frequent_sequence[1] + 1)]\n",
    "        token_end_position = min(suffix_array_values) + length # token end position for first witness\n",
    "        if token_end_position not in _largest_blocks: # first block with this end position, so create new key\n",
    "            _largest_blocks[token_end_position] = (length, sorted(suffix_array_values))\n",
    "        else: # if new block is longer, replace old one with same key\n",
    "            if length > _largest_blocks[token_end_position][0]:\n",
    "                _largest_blocks[token_end_position] = (length, sorted(suffix_array_values))\n",
    "    return _largest_blocks\n",
    "\n",
    "largest_blocks = find_longest_sequences(frequent_sequences, suffix_array)\n",
    "print(f\"{largest_blocks=}\")"
   ]
  },
  {
   "cell_type": "code",
   "execution_count": 555,
   "outputs": [
    {
     "name": "stdout",
     "output_type": "stream",
     "text": [
      "[129, 128, 128, 131, 128]\n",
      "[0, 0, 0, 0, 0]\n",
      "[193, 192, 192, 195, 187]\n",
      "[209, 208, 208, 211, 202]\n",
      "[123, 122, 122, 125, 122]\n",
      "[2, 2, 2, 5, 5]\n",
      "[39, 38, 38, 41, 40]\n",
      "[55, 54, 54, 57, 57]\n",
      "[171, 170, 170, 173, 166]\n",
      "[6, 6, 6, 9, 8]\n",
      "[97, 96, 96, 99, 96]\n",
      "[220, 219, 219, 222, 212]\n",
      "[86, 85, 85, 88, 86]\n",
      "[155, 154, 154, 157, 153]\n",
      "[180, 179, 179, 182, 175]\n",
      "[205, 204, 204, 207, 199]\n",
      "[29, 29, 29, 32, 31]\n",
      "[36, 35, 35, 38, 36]\n",
      "[35, 34, 34, 37, 39]\n",
      "[167, 166, 166, 169, 164]\n",
      "[191, 190, 190, 193, 200]\n",
      "[94, 93, 93, 96, 94]\n",
      "block_offsets_by_witness=[[0, 2, 6, 29, 35, 36, 39, 55, 86, 94, 97, 123, 129, 155, 167, 171, 180, 191, 193, 205, 209, 220], [236, 238, 242, 265, 270, 271, 274, 290, 321, 329, 332, 358, 364, 390, 402, 406, 415, 426, 428, 440, 444, 455], [471, 473, 477, 500, 505, 506, 509, 525, 556, 564, 567, 593, 599, 625, 637, 641, 650, 661, 663, 675, 679, 690], [706, 711, 715, 738, 743, 744, 747, 763, 794, 802, 805, 831, 837, 863, 875, 879, 888, 899, 901, 913, 917, 928], [944, 949, 952, 975, 980, 983, 984, 1001, 1030, 1038, 1040, 1066, 1072, 1097, 1108, 1110, 1119, 1131, 1143, 1144, 1146, 1156], [0, 2, 6, 29, 35, 36, 39, 55, 86, 94, 97, 123, 129, 155, 167, 171, 180, 191, 193, 205, 209, 220], [236, 238, 242, 265, 270, 271, 274, 290, 321, 329, 332, 358, 364, 390, 402, 406, 415, 426, 428, 440, 444, 455], [471, 473, 477, 500, 505, 506, 509, 525, 556, 564, 567, 593, 599, 625, 637, 641, 650, 661, 663, 675, 679, 690], [706, 711, 715, 738, 743, 744, 747, 763, 794, 802, 805, 831, 837, 863, 875, 879, 888, 899, 901, 913, 917, 928], [944, 949, 952, 975, 980, 983, 984, 1001, 1030, 1038, 1040, 1066, 1072, 1097, 1108, 1110, 1119, 1131, 1143, 1144, 1146, 1156], [0, 2, 6, 29, 35, 36, 39, 55, 86, 94, 97, 123, 129, 155, 167, 171, 180, 191, 193, 205, 209, 220], [236, 238, 242, 265, 270, 271, 274, 290, 321, 329, 332, 358, 364, 390, 402, 406, 415, 426, 428, 440, 444, 455], [471, 473, 477, 500, 505, 506, 509, 525, 556, 564, 567, 593, 599, 625, 637, 641, 650, 661, 663, 675, 679, 690], [706, 711, 715, 738, 743, 744, 747, 763, 794, 802, 805, 831, 837, 863, 875, 879, 888, 899, 901, 913, 917, 928], [944, 949, 952, 975, 980, 983, 984, 1001, 1030, 1038, 1040, 1066, 1072, 1097, 1108, 1110, 1119, 1131, 1143, 1144, 1146, 1156], [0, 2, 6, 29, 35, 36, 39, 55, 86, 94, 97, 123, 129, 155, 167, 171, 180, 191, 193, 205, 209, 220], [236, 238, 242, 265, 270, 271, 274, 290, 321, 329, 332, 358, 364, 390, 402, 406, 415, 426, 428, 440, 444, 455], [471, 473, 477, 500, 505, 506, 509, 525, 556, 564, 567, 593, 599, 625, 637, 641, 650, 661, 663, 675, 679, 690], [706, 711, 715, 738, 743, 744, 747, 763, 794, 802, 805, 831, 837, 863, 875, 879, 888, 899, 901, 913, 917, 928], [944, 949, 952, 975, 980, 983, 984, 1001, 1030, 1038, 1040, 1066, 1072, 1097, 1108, 1110, 1119, 1131, 1143, 1144, 1146, 1156], [0, 2, 6, 29, 35, 36, 39, 55, 86, 94, 97, 123, 129, 155, 167, 171, 180, 191, 193, 205, 209, 220], [236, 238, 242, 265, 270, 271, 274, 290, 321, 329, 332, 358, 364, 390, 402, 406, 415, 426, 428, 440, 444, 455], [471, 473, 477, 500, 505, 506, 509, 525, 556, 564, 567, 593, 599, 625, 637, 641, 650, 661, 663, 675, 679, 690], [706, 711, 715, 738, 743, 744, 747, 763, 794, 802, 805, 831, 837, 863, 875, 879, 888, 899, 901, 913, 917, 928], [944, 949, 952, 975, 980, 983, 984, 1001, 1030, 1038, 1040, 1066, 1072, 1097, 1108, 1110, 1119, 1131, 1143, 1144, 1146, 1156]]\n",
      "witness_offsets_to_blocks={0: 1, 2: 4, 6: 28, 29: 34, 35: 36, 36: 38, 39: 54, 55: 84, 86: 93, 94: 96, 97: 122, 123: 128, 129: 154, 155: 166, 167: 169, 171: 179, 180: 191, 191: 193, 193: 204, 205: 207, 209: 219, 220: 235, 236: 1, 238: 4, 242: 28, 265: 34, 270: 36, 271: 38, 274: 54, 290: 84, 321: 93, 329: 96, 332: 122, 358: 128, 364: 154, 390: 166, 402: 169, 406: 179, 415: 191, 426: 193, 428: 204, 440: 207, 444: 219, 455: 235, 471: 1, 473: 4, 477: 28, 500: 34, 505: 36, 506: 38, 509: 54, 525: 84, 556: 93, 564: 96, 567: 122, 593: 128, 599: 154, 625: 166, 637: 169, 641: 179, 650: 191, 661: 193, 663: 204, 675: 207, 679: 219, 690: 235, 706: 1, 711: 4, 715: 28, 738: 34, 743: 36, 744: 38, 747: 54, 763: 84, 794: 93, 802: 96, 805: 122, 831: 128, 837: 154, 863: 166, 875: 169, 879: 179, 888: 191, 899: 193, 901: 204, 913: 207, 917: 219, 928: 235, 944: 1, 949: 4, 952: 28, 975: 34, 980: 38, 983: 36, 984: 54, 1001: 84, 1030: 93, 1038: 96, 1040: 122, 1066: 128, 1072: 154, 1097: 166, 1108: 169, 1110: 179, 1119: 191, 1131: 204, 1143: 207, 1144: 193, 1146: 219, 1156: 235}\n",
      "first_token_offset_in_block_by_witness=[0, 236, 471, 706, 944]\n",
      "first_absolute_token_by_witness=[0, 236, 471, 706, 944]\n",
      "score_by_block={154: 769, 1: 5, 204: 1014, 219: 1088, 128: 639, 4: 26, 54: 271, 84: 422, 179: 890, 28: 145, 122: 609, 235: 1167, 93: 465, 166: 828, 191: 950, 207: 1029, 34: 175, 38: 190, 36: 184, 169: 842, 193: 974, 96: 480}\n"
     ]
    }
   ],
   "source": [
    "# block_offsets_by_witness: list of lists holds sorted start offsets per witness (offsets are into global token array)\n",
    "# witness_offsets_to_blocks: dictionary points from start offsets to blocks\n",
    "# score_by_block: number of tokens placed or skipped if block is placed\n",
    "# Beam search requires us, given an offset in a witness, to find the next block. We do\n",
    "#   that by looking up the value in block_offsets_by_witness and then using that value\n",
    "#   to retrieve the block key from witness_offsets_to_blocks\n",
    "# Lookup in the list of lists is:\n",
    "#   block_offsets_by_witness[witness_number][bisect_right(block_offsets_by_witness[witness_number], most_recent_offset_in_witness)]\n",
    "# (See: https://www.geeksforgeeks.org/python-find-smallest-element-greater-than-k/)\n",
    "# FIXME: traverse largest_blocks only once and add values for all witnesses in same pass\n",
    "witness_count = len(witnesses)\n",
    "block_offsets_by_witness = []\n",
    "witness_offsets_to_blocks = {}\n",
    "first_token_offset_in_block_by_witness = [] # only tokens in blocks\n",
    "first_absolute_token_by_witness = [] # all tokens, whether in block or not\n",
    "for i in range(witness_count):\n",
    "    first_token_offset_in_block_by_witness.append(token_membership_array.index(i))\n",
    "    # Score = number of tokens either placed or skipped (we don't care which)\n",
    "    # Low score is best because it leaves the highest potential\n",
    "    # NB: The name \"score\" seems to imply that higher is better, and the\n",
    "    #   opposite is the case here. Rename the variable?\n",
    "    # NB: High potential is paramount during beam search, but should the\n",
    "    #   difference between placed and skip matter at a later stage? Or\n",
    "    #   does placing more blocks (more tiers) take care of that?\n",
    "    score_by_block = {}\n",
    "    for i in range(witness_count):\n",
    "        witness_offset_list = []\n",
    "        for key, value in largest_blocks.items():\n",
    "            witness_offset_list.append(value[1][i])\n",
    "            witness_offsets_to_blocks[value[1][i]] = key\n",
    "        witness_offset_list.sort()\n",
    "        block_offsets_by_witness.append(witness_offset_list)\n",
    "for i in range(witness_count):\n",
    "    first_absolute_token_by_witness.append(token_membership_array.index(i))\n",
    "for key, value in largest_blocks.items():\n",
    "    # to determine number of tokens that will have been placed or skipped\n",
    "    #   after placing block:\n",
    "    #       matrix-subtract first_token_offset_by_witness from value[1]\n",
    "    #       add witness_count * value[0] (to account for block length)\n",
    "    #   key by block key, value is score\n",
    "    differences = [x - y for x, y in zip(value[1], first_token_offset_in_block_by_witness)]\n",
    "    if debug:\n",
    "        print(differences)\n",
    "    score = sum(differences) + witness_count * value[0]\n",
    "    score_by_block[key] = score\n",
    "if debug:\n",
    "    print(f\"{block_offsets_by_witness=}\")\n",
    "    witness_offsets_to_blocks = { key: witness_offsets_to_blocks[key] for key in sorted(witness_offsets_to_blocks.keys())}\n",
    "    print(f\"{witness_offsets_to_blocks=}\")\n",
    "    print(f\"{first_token_offset_in_block_by_witness=}\")\n",
    "    print(f\"{first_absolute_token_by_witness=}\")\n",
    "    print(f\"{score_by_block=}\")"
   ],
   "metadata": {
    "collapsed": false,
    "pycharm": {
     "name": "#%%\n"
    }
   }
  },
  {
   "cell_type": "code",
   "execution_count": 556,
   "outputs": [],
   "source": [
    "# To perform beam search\n",
    "#   Create single start option (at Start node, which is a fiction [there is no Start block]\n",
    "#       created for the beam search)\n",
    "#   Loop: for each BeamOption on current tier\n",
    "#       Evaluate score for advancing in each witness and bringing others into alignment with it\n",
    "#       For β lowest (!) scores create new BeamOption (this advances to next tier)\n",
    "#           Score is count of tokens placed or skipped (!)\n",
    "#           Favor lowest score because that has the greatest potential"
   ],
   "metadata": {
    "collapsed": false,
    "pycharm": {
     "name": "#%%\n"
    }
   }
  },
  {
   "cell_type": "code",
   "execution_count": 557,
   "metadata": {
    "collapsed": false,
    "pycharm": {
     "name": "#%%\n"
    }
   },
   "outputs": [],
   "source": [
    "@dataclass(order=True, frozen=True, eq=True) # heapqueue is priority queue, so requires comparison\n",
    "class BeamOption:\n",
    "    score: int\n",
    "    path: tuple # path through sequence of blocks leading to current BeamOption"
   ]
  },
  {
   "cell_type": "code",
   "execution_count": 558,
   "outputs": [],
   "source": [
    "# Create initial BeamOption\n",
    "initial = [BeamOption(score=0, path=())] # tier 0, one-item list\n",
    "def perform_beam_search_step(beam_options=initial, beta=3):\n",
    "    new_options = [] # candidates for next tier\n",
    "    finished_options = []\n",
    "    for beam_option in beam_options:\n",
    "        for i in range(witness_count): # advance for each witness in turn\n",
    "            if not beam_option.path: # path is empty only for initial state at tier 0\n",
    "                last_offset = -1 # NB: same for all witnesses, and not 0, which will break for witness 0\n",
    "            else:\n",
    "                last_offset = largest_blocks[beam_option.path[0]][1][i]\n",
    "            try:\n",
    "                next_offset = block_offsets_by_witness[i][bisect_right(block_offsets_by_witness[i], last_offset)]\n",
    "                next_block = witness_offsets_to_blocks[next_offset] # find that next block to get its length\n",
    "                # would any witness pointer move backwards?\n",
    "                # perform matrix subtraction; if signs differ, there are items that move in opposite directions\n",
    "                # first option cannot be transposed, so accept it automatically\n",
    "                if (not beam_option.path) or (len(set([np.sign(x - y) for x, y in zip(largest_blocks[next_block][1], largest_blocks[beam_option.path[0]][1])])) == 1):\n",
    "                    new_score = score_by_block[next_block] # accounts for all witnesses\n",
    "                    # concatenate tuples with a +;  most recent first (for priority heap)\n",
    "                    new_options.append(BeamOption(score=new_score, path=((next_block,) + beam_option.path)))\n",
    "            except IndexError: # we've gone as far as we can with this path\n",
    "                finished_options.append(beam_option)\n",
    "                continue\n",
    "    new_options = list(set(new_options)) #deduplicate\n",
    "    heapify(new_options) # sort from low score to high (low score is best)\n",
    "    return new_options[:3], finished_options"
   ],
   "metadata": {
    "collapsed": false,
    "pycharm": {
     "name": "#%%\n"
    }
   }
  },
  {
   "cell_type": "code",
   "execution_count": 559,
   "outputs": [
    {
     "name": "stdout",
     "output_type": "stream",
     "text": [
      "[BeamOption(score=26, path=(4, 1))] [] 0\n",
      "[BeamOption(score=145, path=(28, 4, 1))] [] 1\n",
      "[BeamOption(score=175, path=(34, 28, 4, 1))] [] 2\n",
      "[BeamOption(score=184, path=(36, 34, 28, 4, 1)), BeamOption(score=190, path=(38, 34, 28, 4, 1))] [] 3\n",
      "[BeamOption(score=271, path=(54, 36, 34, 28, 4, 1)), BeamOption(score=271, path=(54, 38, 34, 28, 4, 1))] [] 4\n",
      "[BeamOption(score=422, path=(84, 54, 36, 34, 28, 4, 1)), BeamOption(score=422, path=(84, 54, 38, 34, 28, 4, 1))] [] 5\n",
      "[BeamOption(score=465, path=(93, 84, 54, 36, 34, 28, 4, 1)), BeamOption(score=465, path=(93, 84, 54, 38, 34, 28, 4, 1))] [] 6\n",
      "[BeamOption(score=480, path=(96, 93, 84, 54, 36, 34, 28, 4, 1)), BeamOption(score=480, path=(96, 93, 84, 54, 38, 34, 28, 4, 1))] [] 7\n",
      "[BeamOption(score=609, path=(122, 96, 93, 84, 54, 36, 34, 28, 4, 1)), BeamOption(score=609, path=(122, 96, 93, 84, 54, 38, 34, 28, 4, 1))] [] 8\n",
      "[BeamOption(score=639, path=(128, 122, 96, 93, 84, 54, 36, 34, 28, 4, 1)), BeamOption(score=639, path=(128, 122, 96, 93, 84, 54, 38, 34, 28, 4, 1))] [] 9\n",
      "[BeamOption(score=769, path=(154, 128, 122, 96, 93, 84, 54, 36, 34, 28, 4, 1)), BeamOption(score=769, path=(154, 128, 122, 96, 93, 84, 54, 38, 34, 28, 4, 1))] [] 10\n",
      "[BeamOption(score=828, path=(166, 154, 128, 122, 96, 93, 84, 54, 36, 34, 28, 4, 1)), BeamOption(score=828, path=(166, 154, 128, 122, 96, 93, 84, 54, 38, 34, 28, 4, 1))] [] 11\n",
      "[BeamOption(score=842, path=(169, 166, 154, 128, 122, 96, 93, 84, 54, 36, 34, 28, 4, 1)), BeamOption(score=842, path=(169, 166, 154, 128, 122, 96, 93, 84, 54, 38, 34, 28, 4, 1))] [] 12\n",
      "[BeamOption(score=890, path=(179, 169, 166, 154, 128, 122, 96, 93, 84, 54, 36, 34, 28, 4, 1)), BeamOption(score=890, path=(179, 169, 166, 154, 128, 122, 96, 93, 84, 54, 38, 34, 28, 4, 1))] [] 13\n",
      "[BeamOption(score=950, path=(191, 179, 169, 166, 154, 128, 122, 96, 93, 84, 54, 36, 34, 28, 4, 1)), BeamOption(score=950, path=(191, 179, 169, 166, 154, 128, 122, 96, 93, 84, 54, 38, 34, 28, 4, 1))] [] 14\n",
      "[BeamOption(score=974, path=(193, 191, 179, 169, 166, 154, 128, 122, 96, 93, 84, 54, 36, 34, 28, 4, 1)), BeamOption(score=1014, path=(204, 191, 179, 169, 166, 154, 128, 122, 96, 93, 84, 54, 36, 34, 28, 4, 1)), BeamOption(score=974, path=(193, 191, 179, 169, 166, 154, 128, 122, 96, 93, 84, 54, 38, 34, 28, 4, 1))] [] 15\n",
      "[BeamOption(score=1029, path=(207, 204, 191, 179, 169, 166, 154, 128, 122, 96, 93, 84, 54, 36, 34, 28, 4, 1)), BeamOption(score=1088, path=(219, 193, 191, 179, 169, 166, 154, 128, 122, 96, 93, 84, 54, 38, 34, 28, 4, 1)), BeamOption(score=1088, path=(219, 193, 191, 179, 169, 166, 154, 128, 122, 96, 93, 84, 54, 36, 34, 28, 4, 1))] [] 16\n",
      "[BeamOption(score=1088, path=(219, 207, 204, 191, 179, 169, 166, 154, 128, 122, 96, 93, 84, 54, 36, 34, 28, 4, 1)), BeamOption(score=1167, path=(235, 219, 193, 191, 179, 169, 166, 154, 128, 122, 96, 93, 84, 54, 36, 34, 28, 4, 1)), BeamOption(score=1167, path=(235, 219, 193, 191, 179, 169, 166, 154, 128, 122, 96, 93, 84, 54, 38, 34, 28, 4, 1))] [] 17\n",
      "[BeamOption(score=1167, path=(235, 219, 207, 204, 191, 179, 169, 166, 154, 128, 122, 96, 93, 84, 54, 36, 34, 28, 4, 1))] [BeamOption(score=1167, path=(235, 219, 193, 191, 179, 169, 166, 154, 128, 122, 96, 93, 84, 54, 36, 34, 28, 4, 1)), BeamOption(score=1167, path=(235, 219, 193, 191, 179, 169, 166, 154, 128, 122, 96, 93, 84, 54, 36, 34, 28, 4, 1)), BeamOption(score=1167, path=(235, 219, 193, 191, 179, 169, 166, 154, 128, 122, 96, 93, 84, 54, 36, 34, 28, 4, 1)), BeamOption(score=1167, path=(235, 219, 193, 191, 179, 169, 166, 154, 128, 122, 96, 93, 84, 54, 36, 34, 28, 4, 1)), BeamOption(score=1167, path=(235, 219, 193, 191, 179, 169, 166, 154, 128, 122, 96, 93, 84, 54, 36, 34, 28, 4, 1)), BeamOption(score=1167, path=(235, 219, 193, 191, 179, 169, 166, 154, 128, 122, 96, 93, 84, 54, 38, 34, 28, 4, 1)), BeamOption(score=1167, path=(235, 219, 193, 191, 179, 169, 166, 154, 128, 122, 96, 93, 84, 54, 38, 34, 28, 4, 1)), BeamOption(score=1167, path=(235, 219, 193, 191, 179, 169, 166, 154, 128, 122, 96, 93, 84, 54, 38, 34, 28, 4, 1)), BeamOption(score=1167, path=(235, 219, 193, 191, 179, 169, 166, 154, 128, 122, 96, 93, 84, 54, 38, 34, 28, 4, 1)), BeamOption(score=1167, path=(235, 219, 193, 191, 179, 169, 166, 154, 128, 122, 96, 93, 84, 54, 38, 34, 28, 4, 1))] 18\n",
      "[] [BeamOption(score=1167, path=(235, 219, 193, 191, 179, 169, 166, 154, 128, 122, 96, 93, 84, 54, 36, 34, 28, 4, 1)), BeamOption(score=1167, path=(235, 219, 193, 191, 179, 169, 166, 154, 128, 122, 96, 93, 84, 54, 36, 34, 28, 4, 1)), BeamOption(score=1167, path=(235, 219, 193, 191, 179, 169, 166, 154, 128, 122, 96, 93, 84, 54, 36, 34, 28, 4, 1)), BeamOption(score=1167, path=(235, 219, 193, 191, 179, 169, 166, 154, 128, 122, 96, 93, 84, 54, 36, 34, 28, 4, 1)), BeamOption(score=1167, path=(235, 219, 193, 191, 179, 169, 166, 154, 128, 122, 96, 93, 84, 54, 36, 34, 28, 4, 1)), BeamOption(score=1167, path=(235, 219, 193, 191, 179, 169, 166, 154, 128, 122, 96, 93, 84, 54, 38, 34, 28, 4, 1)), BeamOption(score=1167, path=(235, 219, 193, 191, 179, 169, 166, 154, 128, 122, 96, 93, 84, 54, 38, 34, 28, 4, 1)), BeamOption(score=1167, path=(235, 219, 193, 191, 179, 169, 166, 154, 128, 122, 96, 93, 84, 54, 38, 34, 28, 4, 1)), BeamOption(score=1167, path=(235, 219, 193, 191, 179, 169, 166, 154, 128, 122, 96, 93, 84, 54, 38, 34, 28, 4, 1)), BeamOption(score=1167, path=(235, 219, 193, 191, 179, 169, 166, 154, 128, 122, 96, 93, 84, 54, 38, 34, 28, 4, 1)), BeamOption(score=1167, path=(235, 219, 207, 204, 191, 179, 169, 166, 154, 128, 122, 96, 93, 84, 54, 36, 34, 28, 4, 1)), BeamOption(score=1167, path=(235, 219, 207, 204, 191, 179, 169, 166, 154, 128, 122, 96, 93, 84, 54, 36, 34, 28, 4, 1)), BeamOption(score=1167, path=(235, 219, 207, 204, 191, 179, 169, 166, 154, 128, 122, 96, 93, 84, 54, 36, 34, 28, 4, 1)), BeamOption(score=1167, path=(235, 219, 207, 204, 191, 179, 169, 166, 154, 128, 122, 96, 93, 84, 54, 36, 34, 28, 4, 1)), BeamOption(score=1167, path=(235, 219, 207, 204, 191, 179, 169, 166, 154, 128, 122, 96, 93, 84, 54, 36, 34, 28, 4, 1))] 19\n",
      "[] [BeamOption(score=1167, path=(235, 219, 193, 191, 179, 169, 166, 154, 128, 122, 96, 93, 84, 54, 36, 34, 28, 4, 1)), BeamOption(score=1167, path=(235, 219, 193, 191, 179, 169, 166, 154, 128, 122, 96, 93, 84, 54, 36, 34, 28, 4, 1)), BeamOption(score=1167, path=(235, 219, 193, 191, 179, 169, 166, 154, 128, 122, 96, 93, 84, 54, 36, 34, 28, 4, 1)), BeamOption(score=1167, path=(235, 219, 193, 191, 179, 169, 166, 154, 128, 122, 96, 93, 84, 54, 36, 34, 28, 4, 1)), BeamOption(score=1167, path=(235, 219, 193, 191, 179, 169, 166, 154, 128, 122, 96, 93, 84, 54, 36, 34, 28, 4, 1)), BeamOption(score=1167, path=(235, 219, 193, 191, 179, 169, 166, 154, 128, 122, 96, 93, 84, 54, 38, 34, 28, 4, 1)), BeamOption(score=1167, path=(235, 219, 193, 191, 179, 169, 166, 154, 128, 122, 96, 93, 84, 54, 38, 34, 28, 4, 1)), BeamOption(score=1167, path=(235, 219, 193, 191, 179, 169, 166, 154, 128, 122, 96, 93, 84, 54, 38, 34, 28, 4, 1)), BeamOption(score=1167, path=(235, 219, 193, 191, 179, 169, 166, 154, 128, 122, 96, 93, 84, 54, 38, 34, 28, 4, 1)), BeamOption(score=1167, path=(235, 219, 193, 191, 179, 169, 166, 154, 128, 122, 96, 93, 84, 54, 38, 34, 28, 4, 1)), BeamOption(score=1167, path=(235, 219, 207, 204, 191, 179, 169, 166, 154, 128, 122, 96, 93, 84, 54, 36, 34, 28, 4, 1)), BeamOption(score=1167, path=(235, 219, 207, 204, 191, 179, 169, 166, 154, 128, 122, 96, 93, 84, 54, 36, 34, 28, 4, 1)), BeamOption(score=1167, path=(235, 219, 207, 204, 191, 179, 169, 166, 154, 128, 122, 96, 93, 84, 54, 36, 34, 28, 4, 1)), BeamOption(score=1167, path=(235, 219, 207, 204, 191, 179, 169, 166, 154, 128, 122, 96, 93, 84, 54, 36, 34, 28, 4, 1)), BeamOption(score=1167, path=(235, 219, 207, 204, 191, 179, 169, 166, 154, 128, 122, 96, 93, 84, 54, 36, 34, 28, 4, 1))] 20\n",
      "[] [BeamOption(score=1167, path=(235, 219, 193, 191, 179, 169, 166, 154, 128, 122, 96, 93, 84, 54, 36, 34, 28, 4, 1)), BeamOption(score=1167, path=(235, 219, 193, 191, 179, 169, 166, 154, 128, 122, 96, 93, 84, 54, 36, 34, 28, 4, 1)), BeamOption(score=1167, path=(235, 219, 193, 191, 179, 169, 166, 154, 128, 122, 96, 93, 84, 54, 36, 34, 28, 4, 1)), BeamOption(score=1167, path=(235, 219, 193, 191, 179, 169, 166, 154, 128, 122, 96, 93, 84, 54, 36, 34, 28, 4, 1)), BeamOption(score=1167, path=(235, 219, 193, 191, 179, 169, 166, 154, 128, 122, 96, 93, 84, 54, 36, 34, 28, 4, 1)), BeamOption(score=1167, path=(235, 219, 193, 191, 179, 169, 166, 154, 128, 122, 96, 93, 84, 54, 38, 34, 28, 4, 1)), BeamOption(score=1167, path=(235, 219, 193, 191, 179, 169, 166, 154, 128, 122, 96, 93, 84, 54, 38, 34, 28, 4, 1)), BeamOption(score=1167, path=(235, 219, 193, 191, 179, 169, 166, 154, 128, 122, 96, 93, 84, 54, 38, 34, 28, 4, 1)), BeamOption(score=1167, path=(235, 219, 193, 191, 179, 169, 166, 154, 128, 122, 96, 93, 84, 54, 38, 34, 28, 4, 1)), BeamOption(score=1167, path=(235, 219, 193, 191, 179, 169, 166, 154, 128, 122, 96, 93, 84, 54, 38, 34, 28, 4, 1)), BeamOption(score=1167, path=(235, 219, 207, 204, 191, 179, 169, 166, 154, 128, 122, 96, 93, 84, 54, 36, 34, 28, 4, 1)), BeamOption(score=1167, path=(235, 219, 207, 204, 191, 179, 169, 166, 154, 128, 122, 96, 93, 84, 54, 36, 34, 28, 4, 1)), BeamOption(score=1167, path=(235, 219, 207, 204, 191, 179, 169, 166, 154, 128, 122, 96, 93, 84, 54, 36, 34, 28, 4, 1)), BeamOption(score=1167, path=(235, 219, 207, 204, 191, 179, 169, 166, 154, 128, 122, 96, 93, 84, 54, 36, 34, 28, 4, 1)), BeamOption(score=1167, path=(235, 219, 207, 204, 191, 179, 169, 166, 154, 128, 122, 96, 93, 84, 54, 36, 34, 28, 4, 1))] 21\n",
      "[] [BeamOption(score=1167, path=(235, 219, 193, 191, 179, 169, 166, 154, 128, 122, 96, 93, 84, 54, 36, 34, 28, 4, 1)), BeamOption(score=1167, path=(235, 219, 193, 191, 179, 169, 166, 154, 128, 122, 96, 93, 84, 54, 36, 34, 28, 4, 1)), BeamOption(score=1167, path=(235, 219, 193, 191, 179, 169, 166, 154, 128, 122, 96, 93, 84, 54, 36, 34, 28, 4, 1)), BeamOption(score=1167, path=(235, 219, 193, 191, 179, 169, 166, 154, 128, 122, 96, 93, 84, 54, 36, 34, 28, 4, 1)), BeamOption(score=1167, path=(235, 219, 193, 191, 179, 169, 166, 154, 128, 122, 96, 93, 84, 54, 36, 34, 28, 4, 1)), BeamOption(score=1167, path=(235, 219, 193, 191, 179, 169, 166, 154, 128, 122, 96, 93, 84, 54, 38, 34, 28, 4, 1)), BeamOption(score=1167, path=(235, 219, 193, 191, 179, 169, 166, 154, 128, 122, 96, 93, 84, 54, 38, 34, 28, 4, 1)), BeamOption(score=1167, path=(235, 219, 193, 191, 179, 169, 166, 154, 128, 122, 96, 93, 84, 54, 38, 34, 28, 4, 1)), BeamOption(score=1167, path=(235, 219, 193, 191, 179, 169, 166, 154, 128, 122, 96, 93, 84, 54, 38, 34, 28, 4, 1)), BeamOption(score=1167, path=(235, 219, 193, 191, 179, 169, 166, 154, 128, 122, 96, 93, 84, 54, 38, 34, 28, 4, 1)), BeamOption(score=1167, path=(235, 219, 207, 204, 191, 179, 169, 166, 154, 128, 122, 96, 93, 84, 54, 36, 34, 28, 4, 1)), BeamOption(score=1167, path=(235, 219, 207, 204, 191, 179, 169, 166, 154, 128, 122, 96, 93, 84, 54, 36, 34, 28, 4, 1)), BeamOption(score=1167, path=(235, 219, 207, 204, 191, 179, 169, 166, 154, 128, 122, 96, 93, 84, 54, 36, 34, 28, 4, 1)), BeamOption(score=1167, path=(235, 219, 207, 204, 191, 179, 169, 166, 154, 128, 122, 96, 93, 84, 54, 36, 34, 28, 4, 1)), BeamOption(score=1167, path=(235, 219, 207, 204, 191, 179, 169, 166, 154, 128, 122, 96, 93, 84, 54, 36, 34, 28, 4, 1))] 22\n",
      "[] [BeamOption(score=1167, path=(235, 219, 193, 191, 179, 169, 166, 154, 128, 122, 96, 93, 84, 54, 36, 34, 28, 4, 1)), BeamOption(score=1167, path=(235, 219, 193, 191, 179, 169, 166, 154, 128, 122, 96, 93, 84, 54, 36, 34, 28, 4, 1)), BeamOption(score=1167, path=(235, 219, 193, 191, 179, 169, 166, 154, 128, 122, 96, 93, 84, 54, 36, 34, 28, 4, 1)), BeamOption(score=1167, path=(235, 219, 193, 191, 179, 169, 166, 154, 128, 122, 96, 93, 84, 54, 36, 34, 28, 4, 1)), BeamOption(score=1167, path=(235, 219, 193, 191, 179, 169, 166, 154, 128, 122, 96, 93, 84, 54, 36, 34, 28, 4, 1)), BeamOption(score=1167, path=(235, 219, 193, 191, 179, 169, 166, 154, 128, 122, 96, 93, 84, 54, 38, 34, 28, 4, 1)), BeamOption(score=1167, path=(235, 219, 193, 191, 179, 169, 166, 154, 128, 122, 96, 93, 84, 54, 38, 34, 28, 4, 1)), BeamOption(score=1167, path=(235, 219, 193, 191, 179, 169, 166, 154, 128, 122, 96, 93, 84, 54, 38, 34, 28, 4, 1)), BeamOption(score=1167, path=(235, 219, 193, 191, 179, 169, 166, 154, 128, 122, 96, 93, 84, 54, 38, 34, 28, 4, 1)), BeamOption(score=1167, path=(235, 219, 193, 191, 179, 169, 166, 154, 128, 122, 96, 93, 84, 54, 38, 34, 28, 4, 1)), BeamOption(score=1167, path=(235, 219, 207, 204, 191, 179, 169, 166, 154, 128, 122, 96, 93, 84, 54, 36, 34, 28, 4, 1)), BeamOption(score=1167, path=(235, 219, 207, 204, 191, 179, 169, 166, 154, 128, 122, 96, 93, 84, 54, 36, 34, 28, 4, 1)), BeamOption(score=1167, path=(235, 219, 207, 204, 191, 179, 169, 166, 154, 128, 122, 96, 93, 84, 54, 36, 34, 28, 4, 1)), BeamOption(score=1167, path=(235, 219, 207, 204, 191, 179, 169, 166, 154, 128, 122, 96, 93, 84, 54, 36, 34, 28, 4, 1)), BeamOption(score=1167, path=(235, 219, 207, 204, 191, 179, 169, 166, 154, 128, 122, 96, 93, 84, 54, 36, 34, 28, 4, 1))] 23\n",
      "[] [BeamOption(score=1167, path=(235, 219, 193, 191, 179, 169, 166, 154, 128, 122, 96, 93, 84, 54, 36, 34, 28, 4, 1)), BeamOption(score=1167, path=(235, 219, 193, 191, 179, 169, 166, 154, 128, 122, 96, 93, 84, 54, 36, 34, 28, 4, 1)), BeamOption(score=1167, path=(235, 219, 193, 191, 179, 169, 166, 154, 128, 122, 96, 93, 84, 54, 36, 34, 28, 4, 1)), BeamOption(score=1167, path=(235, 219, 193, 191, 179, 169, 166, 154, 128, 122, 96, 93, 84, 54, 36, 34, 28, 4, 1)), BeamOption(score=1167, path=(235, 219, 193, 191, 179, 169, 166, 154, 128, 122, 96, 93, 84, 54, 36, 34, 28, 4, 1)), BeamOption(score=1167, path=(235, 219, 193, 191, 179, 169, 166, 154, 128, 122, 96, 93, 84, 54, 38, 34, 28, 4, 1)), BeamOption(score=1167, path=(235, 219, 193, 191, 179, 169, 166, 154, 128, 122, 96, 93, 84, 54, 38, 34, 28, 4, 1)), BeamOption(score=1167, path=(235, 219, 193, 191, 179, 169, 166, 154, 128, 122, 96, 93, 84, 54, 38, 34, 28, 4, 1)), BeamOption(score=1167, path=(235, 219, 193, 191, 179, 169, 166, 154, 128, 122, 96, 93, 84, 54, 38, 34, 28, 4, 1)), BeamOption(score=1167, path=(235, 219, 193, 191, 179, 169, 166, 154, 128, 122, 96, 93, 84, 54, 38, 34, 28, 4, 1)), BeamOption(score=1167, path=(235, 219, 207, 204, 191, 179, 169, 166, 154, 128, 122, 96, 93, 84, 54, 36, 34, 28, 4, 1)), BeamOption(score=1167, path=(235, 219, 207, 204, 191, 179, 169, 166, 154, 128, 122, 96, 93, 84, 54, 36, 34, 28, 4, 1)), BeamOption(score=1167, path=(235, 219, 207, 204, 191, 179, 169, 166, 154, 128, 122, 96, 93, 84, 54, 36, 34, 28, 4, 1)), BeamOption(score=1167, path=(235, 219, 207, 204, 191, 179, 169, 166, 154, 128, 122, 96, 93, 84, 54, 36, 34, 28, 4, 1)), BeamOption(score=1167, path=(235, 219, 207, 204, 191, 179, 169, 166, 154, 128, 122, 96, 93, 84, 54, 36, 34, 28, 4, 1))] 24\n",
      "[] [BeamOption(score=1167, path=(235, 219, 193, 191, 179, 169, 166, 154, 128, 122, 96, 93, 84, 54, 36, 34, 28, 4, 1)), BeamOption(score=1167, path=(235, 219, 193, 191, 179, 169, 166, 154, 128, 122, 96, 93, 84, 54, 36, 34, 28, 4, 1)), BeamOption(score=1167, path=(235, 219, 193, 191, 179, 169, 166, 154, 128, 122, 96, 93, 84, 54, 36, 34, 28, 4, 1)), BeamOption(score=1167, path=(235, 219, 193, 191, 179, 169, 166, 154, 128, 122, 96, 93, 84, 54, 36, 34, 28, 4, 1)), BeamOption(score=1167, path=(235, 219, 193, 191, 179, 169, 166, 154, 128, 122, 96, 93, 84, 54, 36, 34, 28, 4, 1)), BeamOption(score=1167, path=(235, 219, 193, 191, 179, 169, 166, 154, 128, 122, 96, 93, 84, 54, 38, 34, 28, 4, 1)), BeamOption(score=1167, path=(235, 219, 193, 191, 179, 169, 166, 154, 128, 122, 96, 93, 84, 54, 38, 34, 28, 4, 1)), BeamOption(score=1167, path=(235, 219, 193, 191, 179, 169, 166, 154, 128, 122, 96, 93, 84, 54, 38, 34, 28, 4, 1)), BeamOption(score=1167, path=(235, 219, 193, 191, 179, 169, 166, 154, 128, 122, 96, 93, 84, 54, 38, 34, 28, 4, 1)), BeamOption(score=1167, path=(235, 219, 193, 191, 179, 169, 166, 154, 128, 122, 96, 93, 84, 54, 38, 34, 28, 4, 1)), BeamOption(score=1167, path=(235, 219, 207, 204, 191, 179, 169, 166, 154, 128, 122, 96, 93, 84, 54, 36, 34, 28, 4, 1)), BeamOption(score=1167, path=(235, 219, 207, 204, 191, 179, 169, 166, 154, 128, 122, 96, 93, 84, 54, 36, 34, 28, 4, 1)), BeamOption(score=1167, path=(235, 219, 207, 204, 191, 179, 169, 166, 154, 128, 122, 96, 93, 84, 54, 36, 34, 28, 4, 1)), BeamOption(score=1167, path=(235, 219, 207, 204, 191, 179, 169, 166, 154, 128, 122, 96, 93, 84, 54, 36, 34, 28, 4, 1)), BeamOption(score=1167, path=(235, 219, 207, 204, 191, 179, 169, 166, 154, 128, 122, 96, 93, 84, 54, 36, 34, 28, 4, 1))] 25\n",
      "[] [BeamOption(score=1167, path=(235, 219, 193, 191, 179, 169, 166, 154, 128, 122, 96, 93, 84, 54, 36, 34, 28, 4, 1)), BeamOption(score=1167, path=(235, 219, 193, 191, 179, 169, 166, 154, 128, 122, 96, 93, 84, 54, 36, 34, 28, 4, 1)), BeamOption(score=1167, path=(235, 219, 193, 191, 179, 169, 166, 154, 128, 122, 96, 93, 84, 54, 36, 34, 28, 4, 1)), BeamOption(score=1167, path=(235, 219, 193, 191, 179, 169, 166, 154, 128, 122, 96, 93, 84, 54, 36, 34, 28, 4, 1)), BeamOption(score=1167, path=(235, 219, 193, 191, 179, 169, 166, 154, 128, 122, 96, 93, 84, 54, 36, 34, 28, 4, 1)), BeamOption(score=1167, path=(235, 219, 193, 191, 179, 169, 166, 154, 128, 122, 96, 93, 84, 54, 38, 34, 28, 4, 1)), BeamOption(score=1167, path=(235, 219, 193, 191, 179, 169, 166, 154, 128, 122, 96, 93, 84, 54, 38, 34, 28, 4, 1)), BeamOption(score=1167, path=(235, 219, 193, 191, 179, 169, 166, 154, 128, 122, 96, 93, 84, 54, 38, 34, 28, 4, 1)), BeamOption(score=1167, path=(235, 219, 193, 191, 179, 169, 166, 154, 128, 122, 96, 93, 84, 54, 38, 34, 28, 4, 1)), BeamOption(score=1167, path=(235, 219, 193, 191, 179, 169, 166, 154, 128, 122, 96, 93, 84, 54, 38, 34, 28, 4, 1)), BeamOption(score=1167, path=(235, 219, 207, 204, 191, 179, 169, 166, 154, 128, 122, 96, 93, 84, 54, 36, 34, 28, 4, 1)), BeamOption(score=1167, path=(235, 219, 207, 204, 191, 179, 169, 166, 154, 128, 122, 96, 93, 84, 54, 36, 34, 28, 4, 1)), BeamOption(score=1167, path=(235, 219, 207, 204, 191, 179, 169, 166, 154, 128, 122, 96, 93, 84, 54, 36, 34, 28, 4, 1)), BeamOption(score=1167, path=(235, 219, 207, 204, 191, 179, 169, 166, 154, 128, 122, 96, 93, 84, 54, 36, 34, 28, 4, 1)), BeamOption(score=1167, path=(235, 219, 207, 204, 191, 179, 169, 166, 154, 128, 122, 96, 93, 84, 54, 36, 34, 28, 4, 1))] 26\n",
      "[] [BeamOption(score=1167, path=(235, 219, 193, 191, 179, 169, 166, 154, 128, 122, 96, 93, 84, 54, 36, 34, 28, 4, 1)), BeamOption(score=1167, path=(235, 219, 193, 191, 179, 169, 166, 154, 128, 122, 96, 93, 84, 54, 36, 34, 28, 4, 1)), BeamOption(score=1167, path=(235, 219, 193, 191, 179, 169, 166, 154, 128, 122, 96, 93, 84, 54, 36, 34, 28, 4, 1)), BeamOption(score=1167, path=(235, 219, 193, 191, 179, 169, 166, 154, 128, 122, 96, 93, 84, 54, 36, 34, 28, 4, 1)), BeamOption(score=1167, path=(235, 219, 193, 191, 179, 169, 166, 154, 128, 122, 96, 93, 84, 54, 36, 34, 28, 4, 1)), BeamOption(score=1167, path=(235, 219, 193, 191, 179, 169, 166, 154, 128, 122, 96, 93, 84, 54, 38, 34, 28, 4, 1)), BeamOption(score=1167, path=(235, 219, 193, 191, 179, 169, 166, 154, 128, 122, 96, 93, 84, 54, 38, 34, 28, 4, 1)), BeamOption(score=1167, path=(235, 219, 193, 191, 179, 169, 166, 154, 128, 122, 96, 93, 84, 54, 38, 34, 28, 4, 1)), BeamOption(score=1167, path=(235, 219, 193, 191, 179, 169, 166, 154, 128, 122, 96, 93, 84, 54, 38, 34, 28, 4, 1)), BeamOption(score=1167, path=(235, 219, 193, 191, 179, 169, 166, 154, 128, 122, 96, 93, 84, 54, 38, 34, 28, 4, 1)), BeamOption(score=1167, path=(235, 219, 207, 204, 191, 179, 169, 166, 154, 128, 122, 96, 93, 84, 54, 36, 34, 28, 4, 1)), BeamOption(score=1167, path=(235, 219, 207, 204, 191, 179, 169, 166, 154, 128, 122, 96, 93, 84, 54, 36, 34, 28, 4, 1)), BeamOption(score=1167, path=(235, 219, 207, 204, 191, 179, 169, 166, 154, 128, 122, 96, 93, 84, 54, 36, 34, 28, 4, 1)), BeamOption(score=1167, path=(235, 219, 207, 204, 191, 179, 169, 166, 154, 128, 122, 96, 93, 84, 54, 36, 34, 28, 4, 1)), BeamOption(score=1167, path=(235, 219, 207, 204, 191, 179, 169, 166, 154, 128, 122, 96, 93, 84, 54, 36, 34, 28, 4, 1))] 27\n",
      "[] [BeamOption(score=1167, path=(235, 219, 193, 191, 179, 169, 166, 154, 128, 122, 96, 93, 84, 54, 36, 34, 28, 4, 1)), BeamOption(score=1167, path=(235, 219, 193, 191, 179, 169, 166, 154, 128, 122, 96, 93, 84, 54, 36, 34, 28, 4, 1)), BeamOption(score=1167, path=(235, 219, 193, 191, 179, 169, 166, 154, 128, 122, 96, 93, 84, 54, 36, 34, 28, 4, 1)), BeamOption(score=1167, path=(235, 219, 193, 191, 179, 169, 166, 154, 128, 122, 96, 93, 84, 54, 36, 34, 28, 4, 1)), BeamOption(score=1167, path=(235, 219, 193, 191, 179, 169, 166, 154, 128, 122, 96, 93, 84, 54, 36, 34, 28, 4, 1)), BeamOption(score=1167, path=(235, 219, 193, 191, 179, 169, 166, 154, 128, 122, 96, 93, 84, 54, 38, 34, 28, 4, 1)), BeamOption(score=1167, path=(235, 219, 193, 191, 179, 169, 166, 154, 128, 122, 96, 93, 84, 54, 38, 34, 28, 4, 1)), BeamOption(score=1167, path=(235, 219, 193, 191, 179, 169, 166, 154, 128, 122, 96, 93, 84, 54, 38, 34, 28, 4, 1)), BeamOption(score=1167, path=(235, 219, 193, 191, 179, 169, 166, 154, 128, 122, 96, 93, 84, 54, 38, 34, 28, 4, 1)), BeamOption(score=1167, path=(235, 219, 193, 191, 179, 169, 166, 154, 128, 122, 96, 93, 84, 54, 38, 34, 28, 4, 1)), BeamOption(score=1167, path=(235, 219, 207, 204, 191, 179, 169, 166, 154, 128, 122, 96, 93, 84, 54, 36, 34, 28, 4, 1)), BeamOption(score=1167, path=(235, 219, 207, 204, 191, 179, 169, 166, 154, 128, 122, 96, 93, 84, 54, 36, 34, 28, 4, 1)), BeamOption(score=1167, path=(235, 219, 207, 204, 191, 179, 169, 166, 154, 128, 122, 96, 93, 84, 54, 36, 34, 28, 4, 1)), BeamOption(score=1167, path=(235, 219, 207, 204, 191, 179, 169, 166, 154, 128, 122, 96, 93, 84, 54, 36, 34, 28, 4, 1)), BeamOption(score=1167, path=(235, 219, 207, 204, 191, 179, 169, 166, 154, 128, 122, 96, 93, 84, 54, 36, 34, 28, 4, 1))] 28\n",
      "[] [BeamOption(score=1167, path=(235, 219, 193, 191, 179, 169, 166, 154, 128, 122, 96, 93, 84, 54, 36, 34, 28, 4, 1)), BeamOption(score=1167, path=(235, 219, 193, 191, 179, 169, 166, 154, 128, 122, 96, 93, 84, 54, 36, 34, 28, 4, 1)), BeamOption(score=1167, path=(235, 219, 193, 191, 179, 169, 166, 154, 128, 122, 96, 93, 84, 54, 36, 34, 28, 4, 1)), BeamOption(score=1167, path=(235, 219, 193, 191, 179, 169, 166, 154, 128, 122, 96, 93, 84, 54, 36, 34, 28, 4, 1)), BeamOption(score=1167, path=(235, 219, 193, 191, 179, 169, 166, 154, 128, 122, 96, 93, 84, 54, 36, 34, 28, 4, 1)), BeamOption(score=1167, path=(235, 219, 193, 191, 179, 169, 166, 154, 128, 122, 96, 93, 84, 54, 38, 34, 28, 4, 1)), BeamOption(score=1167, path=(235, 219, 193, 191, 179, 169, 166, 154, 128, 122, 96, 93, 84, 54, 38, 34, 28, 4, 1)), BeamOption(score=1167, path=(235, 219, 193, 191, 179, 169, 166, 154, 128, 122, 96, 93, 84, 54, 38, 34, 28, 4, 1)), BeamOption(score=1167, path=(235, 219, 193, 191, 179, 169, 166, 154, 128, 122, 96, 93, 84, 54, 38, 34, 28, 4, 1)), BeamOption(score=1167, path=(235, 219, 193, 191, 179, 169, 166, 154, 128, 122, 96, 93, 84, 54, 38, 34, 28, 4, 1)), BeamOption(score=1167, path=(235, 219, 207, 204, 191, 179, 169, 166, 154, 128, 122, 96, 93, 84, 54, 36, 34, 28, 4, 1)), BeamOption(score=1167, path=(235, 219, 207, 204, 191, 179, 169, 166, 154, 128, 122, 96, 93, 84, 54, 36, 34, 28, 4, 1)), BeamOption(score=1167, path=(235, 219, 207, 204, 191, 179, 169, 166, 154, 128, 122, 96, 93, 84, 54, 36, 34, 28, 4, 1)), BeamOption(score=1167, path=(235, 219, 207, 204, 191, 179, 169, 166, 154, 128, 122, 96, 93, 84, 54, 36, 34, 28, 4, 1)), BeamOption(score=1167, path=(235, 219, 207, 204, 191, 179, 169, 166, 154, 128, 122, 96, 93, 84, 54, 36, 34, 28, 4, 1))] 29\n"
     ]
    }
   ],
   "source": [
    "options, _ = perform_beam_search_step()\n",
    "finished = [] # options that cannot go further\n",
    "for i in range(30):\n",
    "    options, end_of_life = perform_beam_search_step(options)\n",
    "    finished.extend(end_of_life) # add any options that cannot go further\n",
    "    print(options, finished, i)\n",
    "finished = list(set(finished))\n",
    "# TODO:\n",
    "#   1. Verify the scores\n",
    "#   2. Hold on to beam options when they cannot be extended (currently we throw them away). Hold results in global?\n",
    "# When new_options is empty, all options have overrun the end of the blocks, and best results will be in new global"
   ],
   "metadata": {
    "collapsed": false,
    "pycharm": {
     "name": "#%%\n"
    }
   }
  },
  {
   "cell_type": "code",
   "execution_count": 560,
   "outputs": [
    {
     "name": "stdout",
     "output_type": "stream",
     "text": [
      "20 209\n",
      "19 199\n",
      "19 198\n",
      "BeamOption(score=1167, path=(235, 219, 207, 204, 191, 179, 169, 166, 154, 128, 122, 96, 93, 84, 54, 36, 34, 28, 4, 1))\n"
     ]
    }
   ],
   "source": [
    "# finished holds beam options that cannot go further, with duplicates removed\n",
    "# BeamOption.score counts tokens placed or skipped, which is correct for traversing, but\n",
    "#   for evaluation we count only most tokens placed and sub-sort by fewest blocks\n",
    "# Blocks know their length, so we sum the lengths of the finalists and keep only the highest\n",
    "# NB: There could be more than one\n",
    "finished.sort(reverse = True, key = lambda f: (sum([largest_blocks[b][0] for b in f.path]), -len(f.path)))\n",
    "for f in finished: #diagnostic\n",
    "    print(len(f.path), sum([largest_blocks[b][0] for b in f.path]))\n",
    "print(finished[0])"
   ],
   "metadata": {
    "collapsed": false,
    "pycharm": {
     "name": "#%%\n"
    }
   }
  },
  {
   "cell_type": "code",
   "execution_count": 590,
   "outputs": [
    {
     "data": {
      "text/plain": "<IPython.core.display.HTML object>",
      "text/html": "\n    <html>\n        <head>\n            <style type=\"text/css\">\n                table, tr, th, td {border: 1px solid black; border-collapse: collapse;}\n                th, td {padding: 3px;}\n                td:first-child {text-align: right;}\n            </style></head><body><table><tr style=\"background-color: pink;\"><th>Row</th>\n    <th style=\"border: 1px black solid; border-collapse: collapse; text-align: center;\">w0</th>\n<th style=\"border: 1px black solid; border-collapse: collapse; text-align: center;\">w1</th>\n<th style=\"border: 1px black solid; border-collapse: collapse; text-align: center;\">w2</th>\n<th style=\"border: 1px black solid; border-collapse: collapse; text-align: center;\">w3</th>\n<th style=\"border: 1px black solid; border-collapse: collapse; text-align: center;\">w4</th></tr><tr style=\"background-color: beige; border: 1px black solid; border-collapse: collapse;\"><td style=\"background-color: pink; border: 1px black solid; border-collapse: collapse;\">0</td><td  style=\"border: 1px black solid; border-collapse: collapse;\" colspan=\"5\">Darwin</td></tr><tr style=\"background-color: lightgray; border: 1px black solid; border-collapse: collapse;\"><td style=\"background-color: pink;\">unaligned</td><td style=\"border: 1px black solid; border-collapse: collapse;\">1859</td><td style=\"border: 1px black solid; border-collapse: collapse;\">1860</td><td style=\"border: 1px black solid; border-collapse: collapse;\">1861</td><td style=\"border: 1px black solid; border-collapse: collapse;\">1866 Causes of Variability.</td><td style=\"border: 1px black solid; border-collapse: collapse;\">1869 Causes of Variability.</td></tr><tr style=\"background-color: beige; border: 1px black solid; border-collapse: collapse;\"><td style=\"background-color: pink; border: 1px black solid; border-collapse: collapse;\">1</td><td  style=\"border: 1px black solid; border-collapse: collapse;\" colspan=\"5\">WHEN we</td></tr><tr style=\"background-color: lightgray; border: 1px black solid; border-collapse: collapse;\"><td style=\"background-color: pink;\">unaligned</td><td style=\"border: 1px black solid; border-collapse: collapse;\">look to</td><td style=\"border: 1px black solid; border-collapse: collapse;\">look to</td><td style=\"border: 1px black solid; border-collapse: collapse;\">look to</td><td style=\"border: 1px black solid; border-collapse: collapse;\">look to</td><td style=\"border: 1px black solid; border-collapse: collapse;\">compare</td></tr><tr style=\"background-color: beige; border: 1px black solid; border-collapse: collapse;\"><td style=\"background-color: pink; border: 1px black solid; border-collapse: collapse;\">2</td><td  style=\"border: 1px black solid; border-collapse: collapse;\" colspan=\"5\">the individuals of the same variety or sub-variety of our older cultivated plants and animals, one of the first points which strikes</td></tr><tr style=\"background-color: lightgray; border: 1px black solid; border-collapse: collapse;\"><td style=\"background-color: pink;\">unaligned</td><td style=\"border: 1px black solid; border-collapse: collapse;\">us,</td><td style=\"border: 1px black solid; border-collapse: collapse;\">us,</td><td style=\"border: 1px black solid; border-collapse: collapse;\">us,</td><td style=\"border: 1px black solid; border-collapse: collapse;\">us,</td><td style=\"border: 1px black solid; border-collapse: collapse;\">us</td></tr><tr style=\"background-color: beige; border: 1px black solid; border-collapse: collapse;\"><td style=\"background-color: pink; border: 1px black solid; border-collapse: collapse;\">3</td><td  style=\"border: 1px black solid; border-collapse: collapse;\" colspan=\"5\">is, that they generally differ</td></tr><tr style=\"background-color: lightgray; border: 1px black solid; border-collapse: collapse;\"><td style=\"background-color: pink;\">unaligned</td><td style=\"border: 1px black solid; border-collapse: collapse;\">much</td><td style=\"border: 1px black solid; border-collapse: collapse;\"></td><td style=\"border: 1px black solid; border-collapse: collapse;\"></td><td style=\"border: 1px black solid; border-collapse: collapse;\"></td><td style=\"border: 1px black solid; border-collapse: collapse;\">from each other</td></tr><tr style=\"background-color: beige; border: 1px black solid; border-collapse: collapse;\"><td style=\"background-color: pink; border: 1px black solid; border-collapse: collapse;\">4</td><td  style=\"border: 1px black solid; border-collapse: collapse;\" colspan=\"5\">more</td></tr><tr style=\"background-color: lightgray; border: 1px black solid; border-collapse: collapse;\"><td style=\"background-color: pink;\">unaligned</td><td style=\"border: 1px black solid; border-collapse: collapse;\">from each other,</td><td style=\"border: 1px black solid; border-collapse: collapse;\">from each other</td><td style=\"border: 1px black solid; border-collapse: collapse;\">from each other</td><td style=\"border: 1px black solid; border-collapse: collapse;\">from each other</td><td style=\"border: 1px black solid; border-collapse: collapse;\"></td></tr><tr style=\"background-color: beige; border: 1px black solid; border-collapse: collapse;\"><td style=\"background-color: pink; border: 1px black solid; border-collapse: collapse;\">5</td><td  style=\"border: 1px black solid; border-collapse: collapse;\" colspan=\"5\">than do the individuals of any one species or variety in a state of nature.</td></tr><tr style=\"background-color: lightgray; border: 1px black solid; border-collapse: collapse;\"><td style=\"background-color: pink;\">unaligned</td><td style=\"border: 1px black solid; border-collapse: collapse;\">When</td><td style=\"border: 1px black solid; border-collapse: collapse;\">When</td><td style=\"border: 1px black solid; border-collapse: collapse;\">When</td><td style=\"border: 1px black solid; border-collapse: collapse;\">When</td><td style=\"border: 1px black solid; border-collapse: collapse;\">And if</td></tr><tr style=\"background-color: beige; border: 1px black solid; border-collapse: collapse;\"><td style=\"background-color: pink; border: 1px black solid; border-collapse: collapse;\">6</td><td  style=\"border: 1px black solid; border-collapse: collapse;\" colspan=\"5\">we reflect on the vast diversity of the plants and animals which have been cultivated, and which have varied during all ages under the most different climates and treatment,</td></tr><tr style=\"background-color: lightgray; border: 1px black solid; border-collapse: collapse;\"><td style=\"background-color: pink;\">unaligned</td><td style=\"border: 1px black solid; border-collapse: collapse;\">I think</td><td style=\"border: 1px black solid; border-collapse: collapse;\">I think</td><td style=\"border: 1px black solid; border-collapse: collapse;\">I think</td><td style=\"border: 1px black solid; border-collapse: collapse;\">I think</td><td style=\"border: 1px black solid; border-collapse: collapse;\"></td></tr><tr style=\"background-color: beige; border: 1px black solid; border-collapse: collapse;\"><td style=\"background-color: pink; border: 1px black solid; border-collapse: collapse;\">7</td><td  style=\"border: 1px black solid; border-collapse: collapse;\" colspan=\"5\">we are driven to conclude that this</td></tr><tr style=\"background-color: lightgray; border: 1px black solid; border-collapse: collapse;\"><td style=\"background-color: pink;\">unaligned</td><td style=\"border: 1px black solid; border-collapse: collapse;\">greater</td><td style=\"border: 1px black solid; border-collapse: collapse;\">great</td><td style=\"border: 1px black solid; border-collapse: collapse;\">great</td><td style=\"border: 1px black solid; border-collapse: collapse;\">great</td><td style=\"border: 1px black solid; border-collapse: collapse;\">great</td></tr><tr style=\"background-color: beige; border: 1px black solid; border-collapse: collapse;\"><td style=\"background-color: pink; border: 1px black solid; border-collapse: collapse;\">8</td><td  style=\"border: 1px black solid; border-collapse: collapse;\" colspan=\"5\">variability is</td></tr><tr style=\"background-color: lightgray; border: 1px black solid; border-collapse: collapse;\"><td style=\"background-color: pink;\">unaligned</td><td style=\"border: 1px black solid; border-collapse: collapse;\">simply</td><td style=\"border: 1px black solid; border-collapse: collapse;\">simply</td><td style=\"border: 1px black solid; border-collapse: collapse;\">simply</td><td style=\"border: 1px black solid; border-collapse: collapse;\">simply</td><td style=\"border: 1px black solid; border-collapse: collapse;\"></td></tr><tr style=\"background-color: beige; border: 1px black solid; border-collapse: collapse;\"><td style=\"background-color: pink; border: 1px black solid; border-collapse: collapse;\">9</td><td  style=\"border: 1px black solid; border-collapse: collapse;\" colspan=\"5\">due to our domestic productions having been raised under conditions of life not so uniform as, and somewhat different from, those to which the parent-species</td></tr><tr style=\"background-color: lightgray; border: 1px black solid; border-collapse: collapse;\"><td style=\"background-color: pink;\">unaligned</td><td style=\"border: 1px black solid; border-collapse: collapse;\">have</td><td style=\"border: 1px black solid; border-collapse: collapse;\">have</td><td style=\"border: 1px black solid; border-collapse: collapse;\">have</td><td style=\"border: 1px black solid; border-collapse: collapse;\">have</td><td style=\"border: 1px black solid; border-collapse: collapse;\">had</td></tr><tr style=\"background-color: beige; border: 1px black solid; border-collapse: collapse;\"><td style=\"background-color: pink; border: 1px black solid; border-collapse: collapse;\">10</td><td  style=\"border: 1px black solid; border-collapse: collapse;\" colspan=\"5\">been exposed under nature. There</td></tr><tr style=\"background-color: lightgray; border: 1px black solid; border-collapse: collapse;\"><td style=\"background-color: pink;\">unaligned</td><td style=\"border: 1px black solid; border-collapse: collapse;\">is,</td><td style=\"border: 1px black solid; border-collapse: collapse;\">is</td><td style=\"border: 1px black solid; border-collapse: collapse;\">is</td><td style=\"border: 1px black solid; border-collapse: collapse;\">is</td><td style=\"border: 1px black solid; border-collapse: collapse;\">is</td></tr><tr style=\"background-color: beige; border: 1px black solid; border-collapse: collapse;\"><td style=\"background-color: pink; border: 1px black solid; border-collapse: collapse;\">11</td><td  style=\"border: 1px black solid; border-collapse: collapse;\" colspan=\"5\">also, I think, some probability in the view propounded by Andrew Knight, that this variability may be partly connected with excess of food. It seems</td></tr><tr style=\"background-color: lightgray; border: 1px black solid; border-collapse: collapse;\"><td style=\"background-color: pink;\">unaligned</td><td style=\"border: 1px black solid; border-collapse: collapse;\">pretty</td><td style=\"border: 1px black solid; border-collapse: collapse;\">pretty</td><td style=\"border: 1px black solid; border-collapse: collapse;\">pretty</td><td style=\"border: 1px black solid; border-collapse: collapse;\">pretty</td><td style=\"border: 1px black solid; border-collapse: collapse;\"></td></tr><tr style=\"background-color: beige; border: 1px black solid; border-collapse: collapse;\"><td style=\"background-color: pink; border: 1px black solid; border-collapse: collapse;\">12</td><td  style=\"border: 1px black solid; border-collapse: collapse;\" colspan=\"5\">clear that organic beings must be exposed during several generations to</td></tr><tr style=\"background-color: lightgray; border: 1px black solid; border-collapse: collapse;\"><td style=\"background-color: pink;\">unaligned</td><td style=\"border: 1px black solid; border-collapse: collapse;\">the</td><td style=\"border: 1px black solid; border-collapse: collapse;\">the</td><td style=\"border: 1px black solid; border-collapse: collapse;\">the</td><td style=\"border: 1px black solid; border-collapse: collapse;\">the</td><td style=\"border: 1px black solid; border-collapse: collapse;\"></td></tr><tr style=\"background-color: beige; border: 1px black solid; border-collapse: collapse;\"><td style=\"background-color: pink; border: 1px black solid; border-collapse: collapse;\">13</td><td  style=\"border: 1px black solid; border-collapse: collapse;\" colspan=\"5\">new conditions</td></tr><tr style=\"background-color: lightgray; border: 1px black solid; border-collapse: collapse;\"><td style=\"background-color: pink;\">unaligned</td><td style=\"border: 1px black solid; border-collapse: collapse;\">of life</td><td style=\"border: 1px black solid; border-collapse: collapse;\">of life</td><td style=\"border: 1px black solid; border-collapse: collapse;\">of life</td><td style=\"border: 1px black solid; border-collapse: collapse;\">of life</td><td style=\"border: 1px black solid; border-collapse: collapse;\"></td></tr><tr style=\"background-color: beige; border: 1px black solid; border-collapse: collapse;\"><td style=\"background-color: pink; border: 1px black solid; border-collapse: collapse;\">14</td><td  style=\"border: 1px black solid; border-collapse: collapse;\" colspan=\"5\">to cause any appreciable amount of variation; and</td></tr><tr style=\"background-color: lightgray; border: 1px black solid; border-collapse: collapse;\"><td style=\"background-color: pink;\">unaligned</td><td style=\"border: 1px black solid; border-collapse: collapse;\">that</td><td style=\"border: 1px black solid; border-collapse: collapse;\">that</td><td style=\"border: 1px black solid; border-collapse: collapse;\">that</td><td style=\"border: 1px black solid; border-collapse: collapse;\">that,</td><td style=\"border: 1px black solid; border-collapse: collapse;\">that,</td></tr><tr style=\"background-color: beige; border: 1px black solid; border-collapse: collapse;\"><td style=\"background-color: pink; border: 1px black solid; border-collapse: collapse;\">15</td><td  style=\"border: 1px black solid; border-collapse: collapse;\" colspan=\"5\">when the organisation has once begun to vary, it generally continues</td></tr><tr style=\"background-color: lightgray; border: 1px black solid; border-collapse: collapse;\"><td style=\"background-color: pink;\">unaligned</td><td style=\"border: 1px black solid; border-collapse: collapse;\">to vary</td><td style=\"border: 1px black solid; border-collapse: collapse;\">to vary</td><td style=\"border: 1px black solid; border-collapse: collapse;\">to vary</td><td style=\"border: 1px black solid; border-collapse: collapse;\">to vary</td><td style=\"border: 1px black solid; border-collapse: collapse;\">varying</td></tr><tr style=\"background-color: beige; border: 1px black solid; border-collapse: collapse;\"><td style=\"background-color: pink; border: 1px black solid; border-collapse: collapse;\">16</td><td  style=\"border: 1px black solid; border-collapse: collapse;\" colspan=\"5\">for many generations. No case is on record of a variable</td></tr><tr style=\"background-color: lightgray; border: 1px black solid; border-collapse: collapse;\"><td style=\"background-color: pink;\">unaligned</td><td style=\"border: 1px black solid; border-collapse: collapse;\">being</td><td style=\"border: 1px black solid; border-collapse: collapse;\">being</td><td style=\"border: 1px black solid; border-collapse: collapse;\">being</td><td style=\"border: 1px black solid; border-collapse: collapse;\">being</td><td style=\"border: 1px black solid; border-collapse: collapse;\">organism</td></tr><tr style=\"background-color: beige; border: 1px black solid; border-collapse: collapse;\"><td style=\"background-color: pink; border: 1px black solid; border-collapse: collapse;\">17</td><td  style=\"border: 1px black solid; border-collapse: collapse;\" colspan=\"5\">ceasing to</td></tr><tr style=\"background-color: lightgray; border: 1px black solid; border-collapse: collapse;\"><td style=\"background-color: pink;\">unaligned</td><td style=\"border: 1px black solid; border-collapse: collapse;\">be variable</td><td style=\"border: 1px black solid; border-collapse: collapse;\">be variable</td><td style=\"border: 1px black solid; border-collapse: collapse;\">be variable</td><td style=\"border: 1px black solid; border-collapse: collapse;\">be variable</td><td style=\"border: 1px black solid; border-collapse: collapse;\">vary</td></tr><tr style=\"background-color: beige; border: 1px black solid; border-collapse: collapse;\"><td style=\"background-color: pink; border: 1px black solid; border-collapse: collapse;\">18</td><td  style=\"border: 1px black solid; border-collapse: collapse;\" colspan=\"5\">under cultivation. Our oldest cultivated plants, such as wheat, still</td></tr><tr style=\"background-color: lightgray; border: 1px black solid; border-collapse: collapse;\"><td style=\"background-color: pink;\">unaligned</td><td style=\"border: 1px black solid; border-collapse: collapse;\">often</td><td style=\"border: 1px black solid; border-collapse: collapse;\">often</td><td style=\"border: 1px black solid; border-collapse: collapse;\">often</td><td style=\"border: 1px black solid; border-collapse: collapse;\">often</td><td style=\"border: 1px black solid; border-collapse: collapse;\"></td></tr><tr style=\"background-color: beige; border: 1px black solid; border-collapse: collapse;\"><td style=\"background-color: pink; border: 1px black solid; border-collapse: collapse;\">19</td><td  style=\"border: 1px black solid; border-collapse: collapse;\" colspan=\"5\">yield new varieties: our oldest domesticated animals are still capable of rapid improvement or modification.</td></tr></table></body></html>"
     },
     "metadata": {},
     "output_type": "display_data"
    }
   ],
   "source": [
    "table_top = \"\"\"\n",
    "    <html>\n",
    "        <head>\n",
    "            <style type=\"text/css\">\n",
    "                table, tr, th, td {border: 1px solid black; border-collapse: collapse;}\n",
    "                th, td {padding: 3px;}\n",
    "                td:first-child {text-align: right;}\n",
    "            </style></head><body><table><tr style=\"background-color: pink;\"><th>Row</th>\n",
    "    \"\"\" + '\\n'.join(['<th style=\"border: 1px black solid; border-collapse: collapse; text-align: center;\">w' + str(i) + '</th>' for i in range(len(witnesses))]) + '</tr>'\n",
    "table_bottom = '</table></body></html>'\n",
    "rows = []\n",
    "# Rows with aligned tokens are the same in all witness by definition\n",
    "# The path contains largest_blocks keys, which represent the last token of\n",
    "#   a block in witness 0\n",
    "# The value of a block is a tuple, the first member of which is the length\n",
    "# We can retrieve the aligned tokens by slicing them from the token_array\n",
    "for index, end_token_offset in enumerate(finished[0].path[::-1]): # path is ordered from last to first\n",
    "    # ###\n",
    "    # Information for aligned block\n",
    "    # This is the same for all witnesses, taken from witness 0\n",
    "    # ###\n",
    "    block_length = largest_blocks[end_token_offset][0]\n",
    "    start_token_offset = end_token_offset - block_length\n",
    "    tokens = token_array[start_token_offset: end_token_offset]\n",
    "    # ###\n",
    "    # Information for preceding non-aligned block\n",
    "    # This is different for each witness\n",
    "    #\n",
    "    # Loop over witnesses using range(len(witnesses))\n",
    "    # Get start token offset for aligned block for current witness\n",
    "    # Get end token offset for preceding aligned block for current witness\n",
    "    # Get tokens by slicing token array\n",
    "    # ###\n",
    "    if index > 0:\n",
    "        current_block = largest_blocks[end_token_offset]\n",
    "        preceding_block = largest_blocks[finished[0].path[::-1][index - 1]]\n",
    "        unaligned_row = []\n",
    "        unaligned_row.append('<tr style=\"background-color: lightgray; border: 1px black solid; border-collapse: collapse;\"><td style=\"background-color: pink;\">unaligned</td>')\n",
    "        for i in range(len(witnesses)):\n",
    "            unaligned_start_token_offset = preceding_block[1][i] + preceding_block[0]\n",
    "            unaligned_end_token_offset = current_block[1][i] - 1\n",
    "            unaligned_tokens = token_array[unaligned_start_token_offset: unaligned_end_token_offset + 1]\n",
    "            unaligned_row.append('<td style=\"border: 1px black solid; border-collapse: collapse;\">' + \" \".join(unaligned_tokens) + '</td>')\n",
    "        unaligned_row.append('</tr>')\n",
    "        rows.append(\"\".join(unaligned_row))\n",
    "    # ###\n",
    "    # Create aligned block\n",
    "    # ###\n",
    "    rows.append('<tr style=\"background-color: beige; border: 1px black solid; border-collapse: collapse;\"><td style=\"background-color: pink; border: 1px black solid; border-collapse: collapse;\">' + str(index) + '</td><td  style=\"border: 1px black solid; border-collapse: collapse;\" colspan=\"' + str(len(witnesses)) + '\">' + \" \".join(tokens) + '</td></tr>')\n",
    "display(HTML(table_top + \"\".join(rows) + table_bottom))\n",
    "# print(\"\".join(rows))"
   ],
   "metadata": {
    "collapsed": false,
    "pycharm": {
     "name": "#%%\n"
    }
   }
  },
  {
   "cell_type": "code",
   "execution_count": 562,
   "metadata": {
    "collapsed": false,
    "pycharm": {
     "name": "#%%\n"
    }
   },
   "outputs": [],
   "source": [
    "# from IPython.core.display import HTML\n",
    "# table_top = \"\"\"\n",
    "#     <html>\n",
    "#         <head>\n",
    "#             <style type=\"text/css\">\n",
    "#                 table, tr, th, td {border: 1px solid black; border-collapse: collapse;}\n",
    "#                 th, td {padding: 3px;}\n",
    "#                 td:first-child {text-align: right;}\n",
    "#                 .aligned { background-color: beige;}\n",
    "#                 .nonaligned { background-color: lightgray;}\n",
    "#             </style></head><body><table><tr><th>Row</th>\n",
    "#     \"\"\" + '\\n'.join(['<th>w' + str(i) + '</th>' for i in range(len(witnesses))]) + '</tr>'\n",
    "# table_bottom = '</table></body></html>'\n",
    "# table_contents = ''\n",
    "# rows = []\n",
    "# sorted_keys = sorted(largest_blocks.keys())\n",
    "# #\n",
    "# # Check for leading nonaligned tokens\n",
    "# #\n",
    "# first_block_offsets = [token_witness_offset_array[i] for i in sorted(largest_blocks[sorted_keys[0]][1])]\n",
    "# leading_nonaligned_block = []\n",
    "# leading_nonaligned_witness_count = 0\n",
    "# leading_tokens = ''\n",
    "# for witness_number in range(len(first_block_offsets)):\n",
    "#     if first_block_offsets[witness_number] == 0:\n",
    "#         content = '[None]'\n",
    "#     else:\n",
    "#         content = \" \".join(witnesses[witness_number][0:first_block_offsets[witness_number]])\n",
    "#         leading_nonaligned_witness_count += 1\n",
    "#     leading_nonaligned_block.append('<td>' + content + '</td>')\n",
    "# if leading_nonaligned_witness_count:\n",
    "#     leading_tokens = '<tr class=\"nonaligned\"><td>Nonaligned</td>' + \"\".join(leading_nonaligned_block) + '</tr>'\n",
    "# #\n",
    "# # Creates aligned rows (preceded by any non-aligned tokens)\n",
    "# #\n",
    "# row_number = -1\n",
    "# for key_position, sorted_key in enumerate(sorted_keys):\n",
    "#     block_data = largest_blocks[sorted_key]\n",
    "#     block_length = block_data[0]\n",
    "#     token_start_positions = sorted(block_data[1])\n",
    "#     #\n",
    "#     # Check for preceding non-aligned row\n",
    "#     #\n",
    "#     preceding_nonaligned_block = ''\n",
    "#     if key_position != 0:\n",
    "#         end_positions_of_previous_block = []\n",
    "#         for start_position in largest_blocks[sorted_keys[key_position - 1]][1]:\n",
    "#             end_positions_of_previous_block.append(start_position + largest_blocks[sorted_keys[key_position - 1]][0])\n",
    "#         end_positions_of_previous_block.sort()\n",
    "#         content = ['<tr class=\"nonaligned\"><td>Nonaligned</td>']\n",
    "#         for nonaligned_segment_group in zip(end_positions_of_previous_block, token_start_positions):\n",
    "#             content.append('<td>' + \" \".join(token_array[nonaligned_segment_group[0]:nonaligned_segment_group[1]]) + '</td>')\n",
    "#         content.append('</td>')\n",
    "#         preceding_nonaligned_block = \"\".join(content)\n",
    "#     #\n",
    "#     # Create aligned row\n",
    "#     #\n",
    "#     row = []\n",
    "#     row_number += 1\n",
    "#     row_start = '<tr class=\"aligned\"><td>' + str(row_number) + '</td>'\n",
    "#     row_end = '</tr>'\n",
    "#     row.append(row_start)\n",
    "#     contents = token_array[token_start_positions[0]:token_start_positions[0] + block_length]\n",
    "#     row.append('<td colspan=\"' + str(len(token_start_positions)) + '\">' + ' '.join(contents) + '</td>')\n",
    "#     row.append(row_end)\n",
    "#     rows.append(preceding_nonaligned_block)\n",
    "#     rows.append(''.join(row))\n",
    "# table_contents = '\\n'.join(rows)\n",
    "# #\n",
    "# # Check for trailing nonaligned tokens, create row if needed\n",
    "# #\n",
    "# last_aligned_block = largest_blocks[sorted_keys[-1]]\n",
    "# last_aligned_block_length = last_aligned_block[0]\n",
    "# last_aligned_block_end_positions = [start_position + last_aligned_block_length - 1 for start_position in sorted(last_aligned_block[1])]\n",
    "# witness_lengths = [len(witness) for witness in witnesses]\n",
    "# last_aligned_token_pos = [token_witness_offset_array[i] for i in last_aligned_block_end_positions]\n",
    "# trailing_unaligned_token_counts = [witness_lengths[i] - last_aligned_token_pos[i] - 1 for i in range(len(witnesses))]\n",
    "#\n",
    "# trailing_nonaligned_block = []\n",
    "# trailing_nonaligned_witness_count = 0\n",
    "# trailing_tokens = ''\n",
    "# for witness_number, token_count in enumerate(trailing_unaligned_token_counts):\n",
    "#     if token_count == 0:\n",
    "#         content = \"[None]\"\n",
    "#     else:\n",
    "#         content = \" \".join(witnesses[witness_number][-token_count])\n",
    "#         trailing_nonaligned_witness_count += 1\n",
    "#     trailing_nonaligned_block.append('<td>' + content + '</td>')\n",
    "# if trailing_nonaligned_witness_count:\n",
    "#     trailing_tokens = '<tr class=\"nonaligned\"><td>Nonaligned</td>' + \"\".join(trailing_nonaligned_block) + '</tr>'\n",
    "# #\n",
    "# # Create and render table\n",
    "# #\n",
    "# # print(witnesses)\n",
    "# HTML(table_top + leading_tokens + table_contents + trailing_tokens + table_bottom)\n",
    "#\n",
    "# # 2022-06-14\n",
    "# #\n",
    "# # Where we are today\n",
    "# #\n",
    "# # We are not checking for transpositions (using the beam search);\n",
    "# #   instead we assume no transpositions (correct for our current test data)\n",
    "# # We number and output aligned blocks correctly\n",
    "# # We output nonaligned blocks correctly\n",
    "# #\n",
    "# # TODO\n",
    "# # Reimplement beam search to check for transpositions"
   ]
  },
  {
   "cell_type": "markdown",
   "metadata": {
    "collapsed": false,
    "pycharm": {
     "name": "#%% md\n"
    }
   },
   "source": [
    "# RESUME HERE\n",
    "\n",
    "1. We are not yet looking at a skip option, and we should.\n",
    "1. We have duplicate states and we shouldn't. If moving more than one witness takes us to the same state, we should keep only one (arbitrarily).\n",
    "1. We are not yet keeping track of our paths, so we can't reconstruct the best search result from start to finish\n",
    "\n",
    "Ad 2: With our red and black cat example, moving from the initial \"the\" to red and to black produces the same score but different states, so keep both. With our current non-diverging Darwin example, all successors have not only the same score, but also the same state, so we should simplify (in this case, our beam would contain only one item)."
   ]
  },
  {
   "cell_type": "code",
   "execution_count": 563,
   "metadata": {
    "collapsed": false,
    "scrolled": true,
    "pycharm": {
     "name": "#%%\n"
    }
   },
   "outputs": [],
   "source": [
    "# Dependency graph, with lots of simplifying assumptions\n",
    "#\n",
    "# Relations are from larger to smaller\n",
    "# Each value in LCP array corresponds to position in suffix array,\n",
    "#     which corresponds to position in token array,\n",
    "#     which corresponds to position in witness arrays\n",
    "# If there is already a path (chain) from A to B, do not create a direct edge\n",
    "# Requires that the length of the next block be shorter than the current one\n",
    "#   and that the start position in the next block be one less than that in the current block\n",
    "# The witnesses for a dependent block must be a subset (possibly equivalent) of the source of the dependency\n",
    "# dependencies = {}\n",
    "# for block_position in range(len(sorted_blocks) - 1):\n",
    "#     current_block = sorted_blocks[block_position]\n",
    "#     next_block = sorted_blocks[block_position + 1]\n",
    "#     if current_block.token_count > next_block.token_count \\\n",
    "#     and current_block.all_start_positions[0] == next_block.all_start_positions[0] - 1 \\\n",
    "#     and current_block.witnesses.issuperset(next_block.witnesses):\n",
    "#         dependencies[block_position] = block_position + 1\n",
    "# # print(dependencies)"
   ]
  },
  {
   "cell_type": "markdown",
   "metadata": {
    "collapsed": false,
    "pycharm": {
     "name": "#%% md\n"
    }
   },
   "source": [
    "# What to do next (in order)\n",
    "\n",
    "- [x] Create dataclass for beam option \\(initially score, witness, state\\)\n",
    "- [x] Remove witness identifier from beam option object; keep only score and state\n",
    "- [x] Save state as tuple instead of list\n",
    "- [x] Save history as tuple of tuples \\(stack\\), where most recent value is the current state\n",
    "- [x] Deduplicate options where score plus most recent state are the same. Earlier history may be different, but subsequent history can't be different if the most recent state is the same. We keep **a** \\(potential\\) best path, but not **all** potential best paths of the same score.\n",
    "- [x] Create visualization (vertical alignment table)\n",
    "- [ ] Process skip-one options for each witness\n",
    "- [ ] Deduplicate skip-one options before processing\n",
    "- [ ] Make beam size variable, depending on nature and extent of options (currently keep β best results, choosing arbitrarily in case of ties; perhaps keep β best scores, which may have more than β options)\n",
    "\n"
   ]
  },
  {
   "cell_type": "code",
   "execution_count": 564,
   "metadata": {
    "collapsed": false,
    "pycharm": {
     "name": "#%%\n"
    }
   },
   "outputs": [
    {
     "data": {
      "text/plain": "array('i', [0, 0, 0, 0, 0, 0, 0, 0, 0, 0, 0, 15, 96, 96, 40, 0, 5, 0, 1, 1, 1, 1, 0, 151, 95, 9, 1, 24, 105, 105, 49, 0, 2, 83, 83, 27, 0, 14, 95, 95, 39, 0, 39, 39, 39, 8, 0, 24, 24, 24, 8, 0, 27, 108, 52, 1, 0, 3, 0, 2, 232, 176, 32, 0, 181, 125, 39, 0, 4, 185, 129, 43, 1, 33, 33, 33, 2, 0, 159, 103, 17, 8, 0, 160, 104, 18, 9, 0, 25, 106, 106, 50, 0, 60, 60, 4, 16, 0, 171, 115, 29, 20, 1, 9, 215, 159, 15, 1, 9, 122, 66, 15, 1, 57, 57, 1, 13, 1, 153, 97, 11, 2, 1, 165, 109, 23, 14, 0, 9, 9, 9, 9, 1, 170, 114, 28, 19, 0, 8, 214, 158, 14, 0, 62, 62, 6, 18, 1, 10, 191, 135, 49, 0, 61, 61, 5, 17, 0, 9, 148, 92, 6, 1, 8, 8, 8, 8, 0, 19, 19, 19, 3, 0, 10, 123, 67, 16, 0, 6, 75, 75, 19, 1, 9, 90, 90, 34, 1, 28, 28, 28, 0, 167, 111, 25, 16, 1, 31, 112, 56, 5, 1, 19, 132, 76, 25, 0, 50, 50, 50, 6, 0, 31, 31, 31, 0, 8, 77, 77, 21, 0, 16, 97, 97, 41, 0, 6, 6, 6, 6, 0, 38, 38, 38, 7, 0, 63, 63, 7, 19, 0, 30, 30, 30, 2, 0, 11, 80, 80, 24, 0, 154, 98, 12, 3, 0, 0, 6, 145, 89, 3, 0, 16, 129, 73, 22, 3, 67, 67, 11, 1, 0, 7, 88, 88, 32, 0, 45, 45, 45, 1, 0, 11, 217, 161, 17, 1, 22, 22, 22, 6, 0, 166, 110, 24, 15, 0, 25, 25, 25, 9, 0, 1, 201, 145, 1, 0, 155, 99, 13, 4, 1, 7, 120, 64, 13, 0, 175, 119, 33, 24, 0, 14, 195, 139, 53, 0, 22, 135, 79, 28, 0, 10, 10, 10, 10, 0, 8, 147, 91, 5, 0, 25, 138, 82, 31, 0, 161, 105, 19, 10, 1, 4, 73, 73, 17, 0, 2, 198, 142, 1, 0, 5, 86, 86, 30, 0, 5, 74, 74, 18, 1, 30, 111, 55, 4, 0, 4, 210, 154, 10, 0, 3, 84, 84, 28, 0, 42, 42, 42, 11, 0, 3, 199, 143, 2, 0, 6, 119, 63, 12, 0, 46, 46, 46, 2, 1, 2, 202, 146, 2, 0, 2, 71, 71, 15, 0, 40, 40, 40, 9, 0, 3, 142, 86, 0, 0, 0, 52, 52, 52, 8, 0, 168, 112, 26, 17, 2, 113, 57, 6, 1, 163, 107, 21, 12, 0, 20, 133, 77, 26, 0, 0, 3, 3, 3, 3, 0, 5, 186, 130, 44, 1, 20, 101, 101, 45, 0, 12, 193, 137, 51, 2, 21, 227, 171, 27, 0, 26, 107, 51, 1, 1, 37, 37, 37, 6, 1, 140, 84, 33, 0, 1, 5, 205, 149, 5, 0, 47, 47, 47, 3, 0, 14, 127, 71, 20, 1, 65, 65, 9, 0, 230, 174, 30, 0, 41, 41, 41, 10, 0, 10, 91, 91, 35, 0, 1, 1, 1, 1, 0, 200, 144, 3, 1, 0, 156, 100, 14, 5, 0, 0, 7, 76, 76, 20, 0, 1, 28, 109, 53, 2, 1, 182, 126, 40, 0, 68, 68, 12, 2, 1, 14, 14, 14, 14, 0, 13, 126, 70, 19, 0, 4, 1, 34, 34, 34, 3, 1, 11, 192, 136, 50, 1, 4, 85, 85, 29, 1, 15, 128, 72, 21, 2, 66, 66, 10, 1, 2, 183, 127, 41, 1, 14, 220, 164, 20, 1, 5, 5, 5, 5, 1, 6, 212, 156, 12, 2, 174, 118, 32, 23, 2, 20, 226, 170, 26, 1, 59, 59, 3, 15, 0, 16, 16, 16, 0, 12, 218, 162, 18, 0, 23, 23, 23, 7, 1, 11, 11, 11, 11, 0, 36, 36, 36, 5, 1, 178, 122, 36, 27, 0, 51, 51, 51, 7, 0, 7, 213, 157, 13, 1, 9, 190, 134, 48, 0, 2, 2, 2, 2, 1, 16, 222, 166, 22, 1, 7, 188, 132, 46, 0, 9, 78, 78, 22, 0, 53, 53, 53, 9, 0, 0, 1, 197, 141, 0, 0, 23, 136, 80, 29, 1, 13, 219, 163, 19, 1, 12, 12, 12, 12, 0, 1, 114, 58, 7, 0, 8, 89, 89, 33, 0, 172, 116, 30, 21, 2, 10, 216, 160, 16, 0, 21, 21, 21, 5, 0, 3, 209, 153, 9, 0, 81, 81, 25, 0, 21, 102, 102, 46, 0, 21, 134, 78, 27, 0, 17, 98, 98, 42, 0, 18, 131, 75, 24, 0, 4, 4, 4, 4, 0, 35, 35, 35, 4, 0, 179, 123, 37, 28, 0, 18, 224, 168, 24, 0, 1, 82, 82, 26, 0, 3, 72, 72, 16, 0, 139, 83, 32, 0, 12, 125, 69, 18, 0, 22, 103, 103, 47, 0, 8, 121, 65, 14, 0, 8, 189, 133, 47, 0, 3, 184, 128, 42, 0, 7, 7, 7, 7, 1, 17, 17, 17, 1, 0, 1, 207, 151, 7, 0, 15, 221, 165, 21, 0, 20, 20, 20, 4, 0, 15, 196, 140, 54, 0, 10, 79, 79, 23, 1, 4, 204, 148, 4, 1, 5, 144, 88, 2, 2, 13, 94, 94, 38, 1, 56, 56, 0, 12, 0, 5, 211, 155, 11, 1, 13, 194, 138, 52, 3, 22, 228, 172, 28, 1, 157, 101, 15, 6, 1, 69, 69, 13, 1, 54, 54, 54, 10, 1, 2, 115, 59, 8, 1, 173, 117, 31, 22, 1, 19, 225, 169, 25, 1, 177, 121, 35, 26, 1, 19, 100, 100, 44, 0, 3, 203, 147, 3, 0, 150, 94, 8, 0, 23, 104, 104, 48, 0, 4, 143, 87, 1, 1, 12, 93, 93, 37, 0, 5, 118, 62, 11, 0, 29, 29, 29, 1, 64, 64, 8, 20, 1, 7, 146, 90, 4, 1, 1, 24, 137, 81, 30, 1, 229, 173, 29, 2, 70, 70, 14, 1, 44, 44, 44, 2, 1, 49, 49, 49, 5, 1, 4, 117, 61, 10, 0, 152, 96, 10, 1, 0, 17, 130, 74, 23, 1, 26, 26, 26, 10, 1, 29, 110, 54, 3, 1, 158, 102, 16, 7, 0, 11, 124, 68, 17, 0, 0, 206, 150, 6, 0, 2, 141, 85, 34, 1, 11, 92, 92, 36, 0, 32, 32, 32, 1, 1, 27, 27, 27, 0, 58, 58, 2, 14, 0, 162, 106, 20, 11, 0, 13, 13, 13, 13, 0, 6, 187, 131, 45, 1, 17, 223, 167, 23, 0, 43, 43, 43, 1, 0, 48, 48, 48, 4, 0, 0, 176, 120, 34, 25, 0, 18, 99, 99, 43, 0, 10, 149, 93, 7, 1, 1, 231, 175, 31, 1, 180, 124, 38, 29, 0, 18, 18, 18, 2, 0, 55, 55, 55, 11, 0, 169, 113, 27, 18, 2, 164, 108, 22, 13, 1, 2, 208, 152, 8, 1, 3, 116, 60, 9, 0, 6, 87, 87, 31, 0, 15, 15, 15, 15])"
     },
     "execution_count": 564,
     "metadata": {},
     "output_type": "execute_result"
    }
   ],
   "source": [
    "suffix_array._LCP_values"
   ]
  },
  {
   "cell_type": "code",
   "execution_count": 565,
   "metadata": {
    "collapsed": false,
    "scrolled": true,
    "pycharm": {
     "name": "#%%\n"
    }
   },
   "outputs": [
    {
     "name": "stdout",
     "output_type": "stream",
     "text": [
      "Values are:\n",
      "  offset into suffix array,\n",
      "  value in suffix array (pointer to first token in token_array),\n",
      "  value in LCP array (length of prefix),\n",
      "  tokens (if any)\n",
      "\n",
      "87 1072 0 \n",
      "\n",
      "88 129 25 also, I think, some probability in the view propounded by Andrew Knight, that this variability may be partly connected with excess of food. It seems\n",
      "\n",
      "89 364 106 also, I think, some probability in the view propounded by Andrew Knight, that this variability may be partly connected with excess of food. It seems pretty clear that organic beings must be exposed during several generations to the new conditions of life to cause any appreciable amount of variation; and that when the organisation has once begun to vary, it generally continues to vary for many generations. No case is on record of a variable being ceasing to be variable under cultivation. Our oldest cultivated plants, such as wheat, still often yield new varieties: our oldest domesticated animals are still capable of rapid improvement or modification.\n",
      "\n",
      "90 599 106 also, I think, some probability in the view propounded by Andrew Knight, that this variability may be partly connected with excess of food. It seems pretty clear that organic beings must be exposed during several generations to the new conditions of life to cause any appreciable amount of variation; and that when the organisation has once begun to vary, it generally continues to vary for many generations. No case is on record of a variable being ceasing to be variable under cultivation. Our oldest cultivated plants, such as wheat, still often yield new varieties: our oldest domesticated animals are still capable of rapid improvement or modification.\n",
      "\n",
      "91 837 50 also, I think, some probability in the view propounded by Andrew Knight, that this variability may be partly connected with excess of food. It seems pretty clear that organic beings must be exposed during several generations to the new conditions of life to cause any appreciable amount of variation; and\n",
      "\n",
      "92 175 0 \n",
      "\n"
     ]
    }
   ],
   "source": [
    "# 1072\t'also,Ithin'\tLCP=0 \n",
    "# 129\t'also,Ithin'\tLCP=25 \n",
    "# 364\t'also,Ithin'\tLCP=106 \n",
    "# 599\t'also,Ithin'\tLCP=106 \n",
    "# 837\t'also,Ithin'\tLCP=50 \n",
    "\n",
    "print(\"Values are:\\n  offset into suffix array,\\n  value in suffix array (pointer to first token in token_array),\\n  value in LCP array (length of prefix),\\n  tokens (if any)\")\n",
    "print()\n",
    "for offset, sa_item in enumerate(suffix_array.SA):\n",
    "    lcp_value = suffix_array._LCP_values[offset]\n",
    "    tokens = token_array[sa_item: sa_item + lcp_value]\n",
    "    if offset in range(87, 93):\n",
    "        print(offset, sa_item, lcp_value, \" \".join(tokens))\n",
    "        print()\n",
    "\n",
    "# 2022-06-17 RESUME HERE\n",
    "# For each step in this interval check accumulator and frequent sequences"
   ]
  },
  {
   "cell_type": "code",
   "execution_count": 566,
   "metadata": {
    "collapsed": false,
    "pycharm": {
     "name": "#%%\n"
    }
   },
   "outputs": [],
   "source": [
    "# def priority(block: Block) -> float:\n",
    "#     '''Priority ranges from 0 to ∞\n",
    "\n",
    "#     depth (number of witnesses) / (frequency * length)\n",
    "#         modified (by trial and error) to weight the components\n",
    "#     scale: # TODO: how can we set these in a generally meaningful way?\n",
    "#         high depth (more witnesses) is most important\n",
    "#         low frequency (less repetition) is next most important\n",
    "#         high length (token count) is least important\n",
    "#     higher numbers are better\n",
    "#         distance between neighboring values is irrelevant; all that matters is order\n",
    "#     '''\n",
    "#     # score = pow(block.witness_count,4) / (pow(block.frequency,3) * block.token_count)\n",
    "#     score = pow(block.witness_count,6)  * block.token_count / pow(block.frequency,3)\n",
    "#     return score"
   ]
  },
  {
   "cell_type": "code",
   "execution_count": 567,
   "metadata": {
    "collapsed": false,
    "pycharm": {
     "name": "#%%\n"
    }
   },
   "outputs": [],
   "source": [
    "# def sort_blocks_by_priority (_blocks: List[Block]) -> List[tuple]:\n",
    "#     blocks_to_tuples = [(_block, index) for index, _block in enumerate(_blocks)]\n",
    "#     return sorted(blocks_to_tuples, key=lambda x: priority(x[0]), reverse=True)"
   ]
  },
  {
   "cell_type": "code",
   "execution_count": 568,
   "metadata": {
    "collapsed": false,
    "pycharm": {
     "name": "#%%\n"
    }
   },
   "outputs": [],
   "source": [
    "# prioritized_blocks = sort_blocks_by_priority(sorted_blocks) # sorted_blocks has been sorted for dependencies"
   ]
  },
  {
   "cell_type": "code",
   "execution_count": 569,
   "metadata": {
    "collapsed": false,
    "pycharm": {
     "name": "#%%\n"
    }
   },
   "outputs": [],
   "source": [
    "# witness_sigla"
   ]
  },
  {
   "cell_type": "code",
   "execution_count": 570,
   "metadata": {
    "collapsed": false,
    "pycharm": {
     "name": "#%%\n"
    }
   },
   "outputs": [],
   "source": [
    "# prioritized_blocks[:5]"
   ]
  }
 ],
 "metadata": {
  "kernelspec": {
   "display_name": "Python 3 (system-wide)",
   "language": "python",
   "metadata": {
    "cocalc": {
     "description": "Python 3 programming language",
     "priority": 100,
     "url": "https://www.python.org/"
    }
   },
   "name": "python3",
   "resource_dir": "/ext/jupyter/kernels/python3"
  },
  "language_info": {
   "codemirror_mode": {
    "name": "ipython",
    "version": 3
   },
   "file_extension": ".py",
   "mimetype": "text/x-python",
   "name": "python",
   "nbconvert_exporter": "python",
   "pygments_lexer": "ipython3",
   "version": "3.8.10"
  }
 },
 "nbformat": 4,
 "nbformat_minor": 4
}