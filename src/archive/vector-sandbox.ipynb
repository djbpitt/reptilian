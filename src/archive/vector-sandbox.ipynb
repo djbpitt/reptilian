{
 "cells": [
  {
   "cell_type": "markdown",
   "metadata": {
    "collapsed": false
   },
   "source": [
    "# Experiments with vector arithmetic to test for transposition"
   ]
  },
  {
   "cell_type": "markdown",
   "metadata": {
    "collapsed": false
   },
   "source": [
    "## Regular (non-masked array)"
   ]
  },
  {
   "cell_type": "code",
   "execution_count": 1,
   "metadata": {
    "collapsed": false
   },
   "outputs": [
   ],
   "source": [
    "# Setup\n",
    "\n",
    "import numpy as np"
   ]
  },
  {
   "cell_type": "code",
   "execution_count": 2,
   "metadata": {
    "collapsed": false
   },
   "outputs": [
    {
     "name": "stdout",
     "output_type": "stream",
     "text": [
      "Expect True:  True\n",
      "Expect False:  False\n",
      "Expect False:  False\n"
     ]
    }
   ],
   "source": [
    "# Data\n",
    "#\n",
    "# w0: The red and the black cat\n",
    "# w1: The red and the black cat\n",
    "# w2: The black and the red cat\n",
    "# w3: The black and the red cat\n",
    "\n",
    "# Hyperedges we pretend we've placed (The -- -- the -- cat)\n",
    "# TODO:\n",
    "#   Should be masked arrays, since some values will be missing for some witnesses\n",
    "\n",
    "hyperedges = np.array([\n",
    "        [1, 1, 1, 1],\n",
    "        [4, 4, 4, 4],\n",
    "        [6, 6, 6, 6]\n",
    "    ])\n",
    "\n",
    "def check_whether_okay_to_place(current_hyperedges, potential_hyperedge) -> bool:\n",
    "    \"\"\"Return True iff we can add row without creating crossing hyperedge\n",
    "\n",
    "    If subtracting a potential hyperedge from any existing hyperedge would\n",
    "    return values that diverge in sign, the potential would cross that existing\"\"\"\n",
    "    subtractionResult = current_hyperedges - potential_hyperedge\n",
    "    # print(f\"{subtractionResult=}\")\n",
    "    signs = np.sign(subtractionResult)\n",
    "    # print(f\"{signs=}\")\n",
    "    # TODO: Can the comparison be made more efficient?\n",
    "    okayToPlace = (signs.min(axis=1) == signs.max(axis=1)).all()\n",
    "    # print(f\"{okayToPlace=}\")\n",
    "    return okayToPlace\n",
    "\n",
    "# TODO: We are assuming complete (not masked) arrays\n",
    "\n",
    "# We should be able to place this one\n",
    "andToken = np.array([3, 3, 3, 3])\n",
    "print(\"Expect True: \", check_whether_okay_to_place(hyperedges, andToken))\n",
    "\n",
    "# We shouldn't be able to place either of these\n",
    "#   because they would cross \"(and) the\"\n",
    "redToken = np.array([2, 2, 5, 5])\n",
    "print(\"Expect False: \", check_whether_okay_to_place(hyperedges, redToken))\n",
    "\n",
    "blackToken = np.array([5, 5, 2, 2])\n",
    "print(\"Expect False: \", check_whether_okay_to_place(hyperedges, blackToken))"
   ]
  },
  {
   "cell_type": "markdown",
   "metadata": {
    "collapsed": false
   },
   "source": [
    "## Masked array"
   ]
  },
  {
   "cell_type": "code",
   "execution_count": 3,
   "metadata": {
    "collapsed": false
   },
   "outputs": [
    {
     "name": "stdout",
     "output_type": "stream",
     "text": [
      "Expect True: True\n",
      "Expect True:  True\n",
      "Expect False:  False\n",
      "Expect False:  False\n"
     ]
    }
   ],
   "source": [
    "import numpy.ma as ma\n",
    "\n",
    "# Data\n",
    "#\n",
    "# w0: The red and the black cat\n",
    "# w1: The red and the black cat\n",
    "# w2: The black -- the -- cat\n",
    "# w3: The black and the red cat\n",
    "\n",
    "# Hyperedges we pretend we've placed (The -- -- the -- cat)\n",
    "# TODO:\n",
    "#   Should be masked arrays, since some values will be missing for some witnesses\n",
    "\n",
    "ma_hyperedges = np.array([\n",
    "        ma.array([1, 1, 1, 1]),\n",
    "        ma.array([6, 6, 6, 6])\n",
    "    ])\n",
    "\n",
    "def ma_check_whether_okay_to_place(current_hyperedges, potential_hyperedge) -> bool:\n",
    "    \"\"\"Return True iff we can add row without creating crossing hyperedge\n",
    "\n",
    "    If subtracting a potential hyperedge from any existing hyperedge would\n",
    "    return values that diverge in sign, the potential would cross that existing\"\"\"\n",
    "    subtractionResult = (current_hyperedges - potential_hyperedge)\n",
    "    signs = np.sign(subtractionResult)\n",
    "    # print(f\"{signs.shape=}\")\n",
    "    # rows, columns = signs.shape\n",
    "    # TODO: Can the comparison be made more efficient?\n",
    "    okayToPlace = (signs.min(axis=1) == signs.max(axis=1)).all()\n",
    "    # print(f\"{okayToPlace=}\")\n",
    "    return okayToPlace\n",
    "\n",
    "# We should be able to place this one\n",
    "# NB: This works; remarked to reduce clutter while debugging below\n",
    "ma_theToken = ma.array([4, 4, 4, 4])\n",
    "print(\"Expect True:\", ma_check_whether_okay_to_place(ma_hyperedges, ma_theToken))\n",
    "\n",
    "# Should be able to place; token is in only 0, 2, and 3\n",
    "# NB: masked_invalid() will recognize np.nan as invalid, but not None\n",
    "ma_andToken = ma.masked_invalid([3, np.nan, 3, 3])\n",
    "print(\"Expect True: \", ma_check_whether_okay_to_place(ma_hyperedges, ma_andToken))\n",
    "\n",
    "# We shouldn't be able to place either of these\n",
    "#   because they would cross \"(and) the\"\n",
    "redToken = np.array([2, 2, 5, 5])\n",
    "print(\"Expect False: \", check_whether_okay_to_place(hyperedges, redToken))\n",
    "\n",
    "blackToken = np.array([5, 5, 2, 2])\n",
    "print(\"Expect False: \", check_whether_okay_to_place(hyperedges, blackToken))"
   ]
  },
  {
   "cell_type": "markdown",
   "metadata": {
    "collapsed": false
   },
   "source": [
    "## Masked array when the candidates have no overlap or intersection"
   ]
  },
  {
   "cell_type": "code",
   "execution_count": 4,
   "metadata": {
    "collapsed": false
   },
   "outputs": [
    {
     "name": "stdout",
     "output_type": "stream",
     "text": [
      "Expect True:  True\n"
     ]
    }
   ],
   "source": [
    "# Data\n",
    "#\n",
    "# w0: The red and the black cat\n",
    "# w1: The red and the black cat\n",
    "# w2: The black -- the -- cat\n",
    "# w3: The black and the red cat\n",
    "\n",
    "# Both dimensions have to be masked arrays\n",
    "# This includes initial \"The\", final \"cat\", and \"black\" only from w0 and w1\n",
    "ma_hyperedges = ma.MaskedArray([\n",
    "        ma.MaskedArray([1, 1, 1, 1]),\n",
    "        ma.MaskedArray([5, 5, 10, 10], mask=[False, False, True, True]),\n",
    "        ma.MaskedArray([6, 6, 6, 6])\n",
    "    ])\n",
    "# print(f\"{ma_hyperedges=}\")\n",
    "\n",
    "# We now try to add \"black\" only from w2 and w3\n",
    "aligned_black_w2_w3 = ma.MaskedArray([100, 100, 2, 2], mask=[True, True, False, False])\n",
    "# print(f\"{aligned_black_w2_w3=}\")\n",
    "\n",
    "# print(\"Difference: \", ma_hyperedges - aligned_black_w2_w3)\n",
    "test_signs = np.sign(ma_hyperedges - aligned_black_w2_w3)\n",
    "# print(f\"{test_signs=}\")\n",
    "mins = test_signs.min(axis=1)\n",
    "# print(f\"{mins=}\")\n",
    "maxes = test_signs.max(axis=1)\n",
    "# print(f\"{maxes=}\")\n",
    "test_ok = (mins == maxes).all()\n",
    "# print(f\"{test_ok=}\")\n",
    "\n",
    "print(\"Expect True: \", ma_check_whether_okay_to_place(ma_hyperedges, aligned_black_w2_w3))"
   ]
  },
  {
   "cell_type": "markdown",
   "metadata": {
    "collapsed": false
   },
   "source": [
    "# Preallocate large matrix and update individual rows\n",
    "\n",
    "This simulates what we hope will be an efficient approach to maintaining the vector space for our alignment implementation. Instead of maintaining just the alignment hypergraph and transforming that into a vector-space representation each time we add a hyperedge, we maintain the alignment hypergraph and its vector-space equivalent (as a numpy masked array of numpy masked arrays) simultaneously. We preallocate enough space in the outer masked array to accommodate all hyperedges we might need, we track which rows in the outer array are in use vs available, and we update that array as needed, either removing or adding rows."
   ]
  },
  {
   "cell_type": "code",
   "execution_count": 68,
   "metadata": {
    "collapsed": false
   },
   "outputs": [
    {
     "name": "stdout",
     "output_type": "stream",
     "text": [
      "type(a[1])=<class 'numpy.ma.core.MaskedArray'>\n",
      "a[0:5]=masked_array(\n",
      "  data=[[0.0, 0.0, 0.0, 0.0],\n",
      "        [7.0, 8.0, --, 10.0],\n",
      "        [0.0, 0.0, 0.0, 0.0],\n",
      "        [0.0, 0.0, 0.0, 0.0],\n",
      "        [0.0, 0.0, 0.0, 0.0]],\n",
      "  mask=[[False, False, False, False],\n",
      "        [False, False,  True, False],\n",
      "        [False, False, False, False],\n",
      "        [False, False, False, False],\n",
      "        [False, False, False, False]],\n",
      "  fill_value=1e+20)\n",
      "0\n",
      "1\n"
     ]
    }
   ],
   "source": [
    "# one-dimensional masked array\n",
    "# preallocate and then update\n",
    "# TODO: find efficient way to initialize\n",
    "\n",
    "import numpy as np\n",
    "import numpy.ma as ma\n",
    "import bitarray as ba\n",
    "length = 10000 # number of rows (representing hyperedges)\n",
    "a = ma.MaskedArray([ma.zeros(4) for i in range(length)]) # initialize\n",
    "tracking = ba.bitarray(length) # we think we need to keep track of which rows are in use\n",
    "tracking.setall(0) # initialize tracking bitarray to all zeroes\n",
    "# print(f\"{tracking=}\")\n",
    "# print(f\"{a=}\")\n",
    "# print(f\"{a.shape=}\")\n",
    "a[1] = ma.MaskedArray([7, 8, 9, 10], mask=[False, False, True, False]) # change row 2\n",
    "print(f\"{type(a[1])=}\")\n",
    "print(f\"{a[0:5]=}\")\n",
    "print(tracking.index(0))\n",
    "tracking[0] = 1\n",
    "print(tracking.index(0))"
   ]
  },
  {
   "cell_type": "markdown",
   "metadata": {
    "collapsed": false
   },
   "source": [
    "# Start here: Rethinking the alignment hypergraph\n",
    "\n",
    "## Assumptions\n",
    "\n",
    "1. We need to be able to visualize both the alignment hypergraph and the variant graph.\n",
    "1. If we get the structures and visualizations we need with fewer data structures (e.g., by not maintaining, and perhaps not even using at all, a separate alignment hypergraph), so much the better.\n",
    "\n",
    "## Possible new model\n",
    "\n",
    "1. Replace alignment hypergraph (as list of hyperedges) with vector space. Decisions about whether to place a new hyperedge are made according to the vector space.\n",
    "1. Create alignment hypergraph visualization directly from vector space if possible; otherwise recreate alignment hypergraph as interim step.\n",
    "1. Create variant graph directly from vector space if possible; otherwise recreate alignment hypergraph as interim step.\n",
    "\n",
    "## How to proceed\n",
    "\n",
    "1. Ideally: write code to convert from vector space directly to alignment graph visualization.\n",
    "1. If the preceding doesn't work, write code to convert from vector space to alignment hypergraph as a throw-away intermediate step and visualize that.\n",
    "1. If neither of the preceding works, panic.\n",
    "\n",
    "## Unanswered question\n",
    "\n",
    "1. If we can go from vector space directly to variant graph, we may not need the alignment hypergraph at all.\n",
    "1. If we cannot go from vector space directly to variant graph, we may need to create alignment hypergraph as a throw-away intermediate step.\n",
    "\n",
    "## Possible pitfalls\n",
    "\n",
    "1. We need to ensure that the initial outer array is large enough for all eventual hyperedges"
   ]
  },
  {
   "cell_type": "code",
   "execution_count": 0,
   "metadata": {
    "collapsed": false
   },
   "outputs": [
   ],
   "source": [
   ]
  }
 ],
 "metadata": {
  "kernelspec": {
   "display_name": "Python 3 (system-wide)",
   "language": "python",
   "metadata": {
    "cocalc": {
     "description": "Python 3 programming language",
     "priority": 100,
     "url": "https://www.python.org/"
    }
   },
   "name": "python3",
   "resource_dir": "/ext/jupyter/kernels/python3"
  },
  "language_info": {
   "codemirror_mode": {
    "name": "ipython",
    "version": 3
   },
   "file_extension": ".py",
   "mimetype": "text/x-python",
   "name": "python",
   "nbconvert_exporter": "python",
   "pygments_lexer": "ipython3",
   "version": "3.8.10"
  }
 },
 "nbformat": 4,
 "nbformat_minor": 4
}