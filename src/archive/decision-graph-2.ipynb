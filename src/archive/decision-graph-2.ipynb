{
 "cells": [
  {
   "cell_type": "markdown",
   "metadata": {
    "collapsed": false
   },
   "source": [
    "# Collation with decision graph\n",
    "\n",
    "Revision based on consultation on 2021-01-01\n",
    "\n",
    "w1 patterns are on top, w2 on left\n",
    "\n",
    "Order the patterns (shared ngrams of any length) on:\n",
    "\n",
    "1. Coordinate witness A ascending, then\n",
    "1. Coordinate witness B ascending, then\n",
    "1. Length of the pattern from large to small (descending).\n",
    "\n",
    "Patterns have the shape (A:int, B:int, ngram:str)\n",
    "\n",
    "The first part of this notebook, through the identification of shared ngrams, is copied from our earlier efforts."
   ]
  },
  {
   "cell_type": "markdown",
   "metadata": {
    "collapsed": false
   },
   "source": [
    "## Data"
   ]
  },
  {
   "cell_type": "code",
   "execution_count": 1,
   "metadata": {
    "collapsed": false
   },
   "outputs": [
   ],
   "source": [
    "# two witnesses, with repetition and transposition\n",
    "\n",
    "w1 = \"\"\"the red and the black cat\"\"\"\n",
    "w2 = \"\"\"the black and the red cat\"\"\""
   ]
  },
  {
   "cell_type": "markdown",
   "metadata": {
    "collapsed": false
   },
   "source": [
    "## Construct list of ngrams shared by witnesses\n",
    "\n",
    "Find ngrams and positions in witnesses"
   ]
  },
  {
   "cell_type": "markdown",
   "metadata": {
    "collapsed": false
   },
   "source": [
    "### Tokenize witnesses"
   ]
  },
  {
   "cell_type": "code",
   "execution_count": 2,
   "metadata": {
    "collapsed": false
   },
   "outputs": [
   ],
   "source": [
    "def tokenize_witnesses(w1_string, w2_string):\n",
    "    '''Return list of witnesses, each represented by a list of tokens'''\n",
    "    # TODO: handle punctuation, upper- ~ lowercase\n",
    "    w1_tokens = w1.split()\n",
    "    w2_tokens = w2.split()\n",
    "    witnesses = [w1_tokens, w2_tokens]\n",
    "    return witnesses"
   ]
  },
  {
   "cell_type": "code",
   "execution_count": 3,
   "metadata": {
    "collapsed": false
   },
   "outputs": [
    {
     "name": "stdout",
     "output_type": "stream",
     "text": [
      "[['the', 'red', 'and', 'the', 'black', 'cat'], ['the', 'black', 'and', 'the', 'red', 'cat']]\n"
     ]
    }
   ],
   "source": [
    "witnesses = tokenize_witnesses(w1, w2)\n",
    "print(witnesses) # take a look"
   ]
  },
  {
   "cell_type": "markdown",
   "metadata": {
    "collapsed": false
   },
   "source": [
    "### Find ngrams shared by the witnesses"
   ]
  },
  {
   "cell_type": "code",
   "execution_count": 4,
   "metadata": {
    "collapsed": false
   },
   "outputs": [
   ],
   "source": [
    "from collections import defaultdict\n",
    "\n",
    "def compute_ngrams_all(witness):\n",
    "    '''Create n-grams and returns offsets and lengths\n",
    "\n",
    "    Argument:\n",
    "    witness:list -- list of tokens in witness\n",
    "\n",
    "    Returns:\n",
    "    ngrams:dict --       key is ngram\n",
    "                         value is list of start positions in witness for ngram\n",
    "    token_counts:dict -- key is ngram\n",
    "                         value is token count of ngram\n",
    "    '''\n",
    "    ngram_offsets = defaultdict(list)\n",
    "    token_counts = {}\n",
    "    for n in range(1, len(witness) + 1):\n",
    "        for i in range(len(witness)-n+1):\n",
    "            g = ' '.join(witness[i:i+n]) # store each ngram as g temporarily\n",
    "            ngram_offsets[g].append(i)\n",
    "            token_counts[g] = n\n",
    "    return ngram_offsets, token_counts"
   ]
  },
  {
   "cell_type": "code",
   "execution_count": 5,
   "metadata": {
    "collapsed": false
   },
   "outputs": [
   ],
   "source": [
    "ngram_offsets_by_witness_dict = {} # keyed by witness\n",
    "ngram_lengths = {}\n",
    "for index, witness in enumerate(witnesses):\n",
    "    map1, map2 = compute_ngrams_all(witness)\n",
    "    ngram_offsets_by_witness_dict['w' + str(index + 1)] = map1\n",
    "    ngram_lengths.update(map2)"
   ]
  },
  {
   "cell_type": "code",
   "execution_count": 6,
   "metadata": {
    "collapsed": false
   },
   "outputs": [
    {
     "name": "stdout",
     "output_type": "stream",
     "text": [
      "Witness w1\n",
      "defaultdict(<class 'list'>, {'the': [0, 3], 'red': [1], 'and': [2], 'black': [4], 'cat': [5], 'the red': [0], 'red and': [1], 'and the': [2], 'the black': [3], 'black cat': [4], 'the red and': [0], 'red and the': [1], 'and the black': [2], 'the black cat': [3], 'the red and the': [0], 'red and the black': [1], 'and the black cat': [2], 'the red and the black': [0], 'red and the black cat': [1], 'the red and the black cat': [0]})\n",
      "\n",
      "Witness w2\n",
      "defaultdict(<class 'list'>, {'the': [0, 3], 'black': [1], 'and': [2], 'red': [4], 'cat': [5], 'the black': [0], 'black and': [1], 'and the': [2], 'the red': [3], 'red cat': [4], 'the black and': [0], 'black and the': [1], 'and the red': [2], 'the red cat': [3], 'the black and the': [0], 'black and the red': [1], 'and the red cat': [2], 'the black and the red': [0], 'black and the red cat': [1], 'the black and the red cat': [0]})\n",
      "\n"
     ]
    }
   ],
   "source": [
    "# Look at ngram lists for each witness\n",
    "# Keys of inner dictionary are ngrams, values are lists of start positions in witness\n",
    "for key in ngram_offsets_by_witness_dict.keys():\n",
    "    print('Witness ' + key)\n",
    "    print(ngram_offsets_by_witness_dict[key])\n",
    "    print()"
   ]
  },
  {
   "cell_type": "code",
   "execution_count": 7,
   "metadata": {
    "collapsed": false
   },
   "outputs": [
    {
     "name": "stdout",
     "output_type": "stream",
     "text": [
      "{'the': 1, 'red': 1, 'and': 1, 'black': 1, 'cat': 1, 'the red': 2, 'red and': 2, 'and the': 2, 'the black': 2, 'black cat': 2, 'the red and': 3, 'red and the': 3, 'and the black': 3, 'the black cat': 3, 'the red and the': 4, 'red and the black': 4, 'and the black cat': 4, 'the red and the black': 5, 'red and the black cat': 5, 'the red and the black cat': 6, 'black and': 2, 'red cat': 2, 'the black and': 3, 'black and the': 3, 'and the red': 3, 'the red cat': 3, 'the black and the': 4, 'black and the red': 4, 'and the red cat': 4, 'the black and the red': 5, 'black and the red cat': 5, 'the black and the red cat': 6}\n"
     ]
    }
   ],
   "source": [
    "# Look at ngram lengths (combined)\n",
    "print(ngram_lengths)"
   ]
  },
  {
   "cell_type": "code",
   "execution_count": 8,
   "metadata": {
    "collapsed": false
   },
   "outputs": [
    {
     "data": {
      "text/plain": [
       "{'and', 'and the', 'black', 'cat', 'red', 'the', 'the black', 'the red'}"
      ]
     },
     "execution_count": 8,
     "metadata": {
     },
     "output_type": "execute_result"
    }
   ],
   "source": [
    "# find keys shared by *all* witnesses\n",
    "shared_ngrams = set(ngram_offsets_by_witness_dict[\"w1\"].keys())\n",
    "for value in ngram_offsets_by_witness_dict.values():\n",
    "    shared_ngrams = shared_ngrams.intersection(value.keys())\n",
    "\n",
    "shared_ngrams # take a look"
   ]
  },
  {
   "cell_type": "markdown",
   "metadata": {
    "collapsed": false
   },
   "source": [
    "### Use shared ngrams to find potential alignments"
   ]
  },
  {
   "cell_type": "code",
   "execution_count": 9,
   "metadata": {
    "collapsed": false,
    "scrolled": true
   },
   "outputs": [
    {
     "name": "stdout",
     "output_type": "stream",
     "text": [
      "defaultdict(<class 'list'>, {'the black': [(3, 0)], 'black': [(4, 1)], 'and the': [(2, 2)], 'red': [(1, 4)], 'and': [(2, 2)], 'the': [(0, 0), (0, 3), (3, 0), (3, 3)], 'cat': [(5, 5)], 'the red': [(0, 3)]})\n"
     ]
    }
   ],
   "source": [
    "# output format: {ngram : [(0,1), (2,3)]}, where\n",
    "#   the two entries in each tuple are for witnesses A and B\n",
    "potential_alignments = defaultdict(list)\n",
    "for ngram in shared_ngrams:\n",
    "    for w1_offset in ngram_offsets_by_witness_dict['w1'][ngram]:\n",
    "        for w2_offset in ngram_offsets_by_witness_dict['w2'][ngram]:\n",
    "            potential_alignments[ngram].append((w1_offset, w2_offset))\n",
    "\n",
    "print(potential_alignments)"
   ]
  },
  {
   "cell_type": "markdown",
   "metadata": {
    "collapsed": false
   },
   "source": [
    "### Invert keys and values for potential alignments\n",
    "\n",
    "* Keys are now individual tuples of (A, B) start positions\n",
    "* Values are now lists of ngrams of different lengths at those positions"
   ]
  },
  {
   "cell_type": "code",
   "execution_count": 10,
   "metadata": {
    "collapsed": false,
    "scrolled": true
   },
   "outputs": [
    {
     "name": "stdout",
     "output_type": "stream",
     "text": [
      "defaultdict(<class 'list'>, {(3, 0): ['the black', 'the'], (4, 1): ['black'], (2, 2): ['and the', 'and'], (1, 4): ['red'], (0, 0): ['the'], (0, 3): ['the', 'the red'], (3, 3): ['the'], (5, 5): ['cat']})\n"
     ]
    }
   ],
   "source": [
    "alignments = defaultdict(list)\n",
    "for key,value in potential_alignments.items():\n",
    "    for t in value:\n",
    "        alignments[t].append(key)\n",
    "\n",
    "print(alignments)"
   ]
  },
  {
   "cell_type": "markdown",
   "metadata": {
    "collapsed": false
   },
   "source": [
    "## New content begins here: Create df"
   ]
  },
  {
   "cell_type": "code",
   "execution_count": 11,
   "metadata": {
    "collapsed": false
   },
   "outputs": [
    {
     "data": {
      "text/plain": [
       "[(-1, -1, None),\n",
       " (0, 0, 'the'),\n",
       " (0, 3, 'the red'),\n",
       " (0, 3, 'the'),\n",
       " (1, 4, 'red'),\n",
       " (2, 2, 'and the'),\n",
       " (2, 2, 'and'),\n",
       " (3, 0, 'the black'),\n",
       " (3, 0, 'the'),\n",
       " (3, 3, 'the'),\n",
       " (4, 1, 'black'),\n",
       " (5, 5, 'cat')]"
      ]
     },
     "execution_count": 11,
     "metadata": {
     },
     "output_type": "execute_result"
    }
   ],
   "source": [
    "# column labels, ordered by w1 pos, then w2 pos, then ngram length (long to short)\n",
    "labels_A = [] # will need to be sorted after all values have been added\n",
    "for k, v in alignments.items():\n",
    "    for ngram in v: # add tuple for each ngram at A,B positions\n",
    "        labels_A.append((k[0], k[1], ngram))\n",
    "labels_A = sorted(labels_A, key=lambda x: (x[0], x[1], -ngram_lengths[x[2]]))\n",
    "labels_A.insert(0, (-1, -1, None))\n",
    "labels_A # take a look"
   ]
  },
  {
   "cell_type": "code",
   "execution_count": 12,
   "metadata": {
    "collapsed": false
   },
   "outputs": [
    {
     "data": {
      "text/plain": [
       "[(-1, -1, None),\n",
       " (0, 0, 'the'),\n",
       " (3, 0, 'the black'),\n",
       " (3, 0, 'the'),\n",
       " (4, 1, 'black'),\n",
       " (2, 2, 'and the'),\n",
       " (2, 2, 'and'),\n",
       " (0, 3, 'the red'),\n",
       " (0, 3, 'the'),\n",
       " (3, 3, 'the'),\n",
       " (1, 4, 'red'),\n",
       " (5, 5, 'cat')]"
      ]
     },
     "execution_count": 12,
     "metadata": {
     },
     "output_type": "execute_result"
    }
   ],
   "source": [
    "labels_B = sorted(labels_A[1:], key=lambda x: (x[1], x[0], -ngram_lengths[x[2]]))\n",
    "labels_B.insert(0, (-1, -1, None))\n",
    "labels_B # take a look"
   ]
  },
  {
   "cell_type": "markdown",
   "metadata": {
    "collapsed": false
   },
   "source": [
    "## Create df for patterns\n",
    "\n",
    "Cell value is 1 if the ngrams in A and B are equal, otherwise 0"
   ]
  },
  {
   "cell_type": "code",
   "execution_count": 13,
   "metadata": {
    "collapsed": false
   },
   "outputs": [
    {
     "data": {
      "text/html": [
       "<div>\n",
       "<style scoped>\n",
       "    .dataframe tbody tr th:only-of-type {\n",
       "        vertical-align: middle;\n",
       "    }\n",
       "\n",
       "    .dataframe tbody tr th {\n",
       "        vertical-align: top;\n",
       "    }\n",
       "\n",
       "    .dataframe thead th {\n",
       "        text-align: right;\n",
       "    }\n",
       "</style>\n",
       "<table border=\"1\" class=\"dataframe\">\n",
       "  <thead>\n",
       "    <tr style=\"text-align: right;\">\n",
       "      <th></th>\n",
       "      <th></th>\n",
       "      <th></th>\n",
       "      <th>-1</th>\n",
       "      <th>0</th>\n",
       "      <th>0</th>\n",
       "      <th>1</th>\n",
       "      <th>2</th>\n",
       "      <th>2</th>\n",
       "      <th>3</th>\n",
       "      <th>3</th>\n",
       "      <th>4</th>\n",
       "      <th>5</th>\n",
       "    </tr>\n",
       "    <tr>\n",
       "      <th>B</th>\n",
       "      <th>ngram</th>\n",
       "      <th>ngram_length</th>\n",
       "      <th></th>\n",
       "      <th></th>\n",
       "      <th></th>\n",
       "      <th></th>\n",
       "      <th></th>\n",
       "      <th></th>\n",
       "      <th></th>\n",
       "      <th></th>\n",
       "      <th></th>\n",
       "      <th></th>\n",
       "    </tr>\n",
       "  </thead>\n",
       "  <tbody>\n",
       "    <tr>\n",
       "      <th>-1</th>\n",
       "      <th>NaN</th>\n",
       "      <th>0</th>\n",
       "      <td>1</td>\n",
       "      <td>0</td>\n",
       "      <td>0</td>\n",
       "      <td>0</td>\n",
       "      <td>0</td>\n",
       "      <td>0</td>\n",
       "      <td>0</td>\n",
       "      <td>0</td>\n",
       "      <td>0</td>\n",
       "      <td>0</td>\n",
       "    </tr>\n",
       "    <tr>\n",
       "      <th rowspan=\"2\" valign=\"top\">0</th>\n",
       "      <th>the black</th>\n",
       "      <th>2</th>\n",
       "      <td>0</td>\n",
       "      <td>0</td>\n",
       "      <td>0</td>\n",
       "      <td>0</td>\n",
       "      <td>0</td>\n",
       "      <td>0</td>\n",
       "      <td>1</td>\n",
       "      <td>0</td>\n",
       "      <td>0</td>\n",
       "      <td>0</td>\n",
       "    </tr>\n",
       "    <tr>\n",
       "      <th>the</th>\n",
       "      <th>1</th>\n",
       "      <td>0</td>\n",
       "      <td>0</td>\n",
       "      <td>1</td>\n",
       "      <td>0</td>\n",
       "      <td>0</td>\n",
       "      <td>0</td>\n",
       "      <td>0</td>\n",
       "      <td>1</td>\n",
       "      <td>0</td>\n",
       "      <td>0</td>\n",
       "    </tr>\n",
       "    <tr>\n",
       "      <th>1</th>\n",
       "      <th>black</th>\n",
       "      <th>1</th>\n",
       "      <td>0</td>\n",
       "      <td>0</td>\n",
       "      <td>0</td>\n",
       "      <td>0</td>\n",
       "      <td>0</td>\n",
       "      <td>0</td>\n",
       "      <td>0</td>\n",
       "      <td>0</td>\n",
       "      <td>1</td>\n",
       "      <td>0</td>\n",
       "    </tr>\n",
       "    <tr>\n",
       "      <th rowspan=\"2\" valign=\"top\">2</th>\n",
       "      <th>and the</th>\n",
       "      <th>2</th>\n",
       "      <td>0</td>\n",
       "      <td>0</td>\n",
       "      <td>0</td>\n",
       "      <td>0</td>\n",
       "      <td>1</td>\n",
       "      <td>0</td>\n",
       "      <td>0</td>\n",
       "      <td>0</td>\n",
       "      <td>0</td>\n",
       "      <td>0</td>\n",
       "    </tr>\n",
       "    <tr>\n",
       "      <th>and</th>\n",
       "      <th>1</th>\n",
       "      <td>0</td>\n",
       "      <td>0</td>\n",
       "      <td>0</td>\n",
       "      <td>0</td>\n",
       "      <td>0</td>\n",
       "      <td>1</td>\n",
       "      <td>0</td>\n",
       "      <td>0</td>\n",
       "      <td>0</td>\n",
       "      <td>0</td>\n",
       "    </tr>\n",
       "    <tr>\n",
       "      <th rowspan=\"2\" valign=\"top\">3</th>\n",
       "      <th>the red</th>\n",
       "      <th>2</th>\n",
       "      <td>0</td>\n",
       "      <td>1</td>\n",
       "      <td>0</td>\n",
       "      <td>0</td>\n",
       "      <td>0</td>\n",
       "      <td>0</td>\n",
       "      <td>0</td>\n",
       "      <td>0</td>\n",
       "      <td>0</td>\n",
       "      <td>0</td>\n",
       "    </tr>\n",
       "    <tr>\n",
       "      <th>the</th>\n",
       "      <th>1</th>\n",
       "      <td>0</td>\n",
       "      <td>0</td>\n",
       "      <td>1</td>\n",
       "      <td>0</td>\n",
       "      <td>0</td>\n",
       "      <td>0</td>\n",
       "      <td>0</td>\n",
       "      <td>1</td>\n",
       "      <td>0</td>\n",
       "      <td>0</td>\n",
       "    </tr>\n",
       "    <tr>\n",
       "      <th>4</th>\n",
       "      <th>red</th>\n",
       "      <th>1</th>\n",
       "      <td>0</td>\n",
       "      <td>0</td>\n",
       "      <td>0</td>\n",
       "      <td>1</td>\n",
       "      <td>0</td>\n",
       "      <td>0</td>\n",
       "      <td>0</td>\n",
       "      <td>0</td>\n",
       "      <td>0</td>\n",
       "      <td>0</td>\n",
       "    </tr>\n",
       "    <tr>\n",
       "      <th>5</th>\n",
       "      <th>cat</th>\n",
       "      <th>1</th>\n",
       "      <td>0</td>\n",
       "      <td>0</td>\n",
       "      <td>0</td>\n",
       "      <td>0</td>\n",
       "      <td>0</td>\n",
       "      <td>0</td>\n",
       "      <td>0</td>\n",
       "      <td>0</td>\n",
       "      <td>0</td>\n",
       "      <td>1</td>\n",
       "    </tr>\n",
       "  </tbody>\n",
       "</table>\n",
       "</div>"
      ],
      "text/plain": [
       "                           -1   0   0   1   2   2   3   3   4   5\n",
       "B  ngram     ngram_length                                        \n",
       "-1 NaN       0              1   0   0   0   0   0   0   0   0   0\n",
       " 0 the black 2              0   0   0   0   0   0   1   0   0   0\n",
       "   the       1              0   0   1   0   0   0   0   1   0   0\n",
       " 1 black     1              0   0   0   0   0   0   0   0   1   0\n",
       " 2 and the   2              0   0   0   0   1   0   0   0   0   0\n",
       "   and       1              0   0   0   0   0   1   0   0   0   0\n",
       " 3 the red   2              0   1   0   0   0   0   0   0   0   0\n",
       "   the       1              0   0   1   0   0   0   0   1   0   0\n",
       " 4 red       1              0   0   0   1   0   0   0   0   0   0\n",
       " 5 cat       1              0   0   0   0   0   0   0   0   0   1"
      ]
     },
     "execution_count": 13,
     "metadata": {
     },
     "output_type": "execute_result"
    }
   ],
   "source": [
    "# create sparse matrix\n",
    "import pandas as pd\n",
    "import numpy as np\n",
    "columns = sorted(list(set((A, ngram) for (A, B, ngram) in labels_A)), key=lambda x: (x[0], -ngram_lengths[x[1]] if x[1] in ngram_lengths.keys() else 0))\n",
    "rows = []\n",
    "new_row_labels = sorted(list(set((item[1], item[2], ngram_lengths[item[2]] if item[2] in ngram_lengths.keys() else 0) for item in labels_B)), key=lambda x: (x[0], -ngram_lengths[x[1]] if x[1] in ngram_lengths.keys() else 0))\n",
    "for row_label in new_row_labels:\n",
    "    row_cells = []\n",
    "    for column_label in columns:\n",
    "        row_cells.append(1 if row_label[1] == column_label[1] else 0)\n",
    "    rows.append(row_cells)\n",
    "index = pd.MultiIndex.from_tuples(new_row_labels, names=('B', 'ngram', 'ngram_length'))\n",
    "df = pd.DataFrame(rows, index=index, columns=[A for A,B in columns])\n",
    "df # take a look"
   ]
  },
  {
   "cell_type": "code",
   "execution_count": 14,
   "metadata": {
    "collapsed": false
   },
   "outputs": [
    {
     "data": {
      "text/plain": [
       "(array([0, 1, 2, 2, 3, 4, 5, 6, 7, 7, 8, 9], dtype=int32),\n",
       " array([0, 6, 2, 7, 8, 4, 5, 1, 2, 7, 3, 9], dtype=int32),\n",
       " array([1, 1, 1, 1, 1, 1, 1, 1, 1, 1, 1, 1]))"
      ]
     },
     "execution_count": 14,
     "metadata": {
     },
     "output_type": "execute_result"
    }
   ],
   "source": [
    "# returns tuple of arrays of rows, then columns, then nonzero values (all 1 in our case); https://docs.scipy.org/doc/scipy/reference/generated/scipy.sparse.find.html\n",
    "from scipy.sparse import find\n",
    "nodes = find(df)\n",
    "nodes"
   ]
  },
  {
   "cell_type": "code",
   "execution_count": 15,
   "metadata": {
    "collapsed": false
   },
   "outputs": [
    {
     "data": {
      "text/plain": [
       "MultiIndex([(-1,         nan, 0),\n",
       "            ( 0, 'the black', 2),\n",
       "            ( 0,       'the', 1),\n",
       "            ( 1,     'black', 1),\n",
       "            ( 2,   'and the', 2),\n",
       "            ( 2,       'and', 1),\n",
       "            ( 3,   'the red', 2),\n",
       "            ( 3,       'the', 1),\n",
       "            ( 4,       'red', 1),\n",
       "            ( 5,       'cat', 1)],\n",
       "           names=['B', 'ngram', 'ngram_length'])"
      ]
     },
     "execution_count": 15,
     "metadata": {
     },
     "output_type": "execute_result"
    }
   ],
   "source": [
    "current_node = 0\n",
    "row = nodes[0][current_node]\n",
    "column = nodes[1][current_node]\n",
    "df.index"
   ]
  },
  {
   "cell_type": "code",
   "execution_count": 16,
   "metadata": {
    "collapsed": false
   },
   "outputs": [
    {
     "data": {
      "text/html": [
       "<div>\n",
       "<style scoped>\n",
       "    .dataframe tbody tr th:only-of-type {\n",
       "        vertical-align: middle;\n",
       "    }\n",
       "\n",
       "    .dataframe tbody tr th {\n",
       "        vertical-align: top;\n",
       "    }\n",
       "\n",
       "    .dataframe thead th {\n",
       "        text-align: right;\n",
       "    }\n",
       "</style>\n",
       "<table border=\"1\" class=\"dataframe\">\n",
       "  <thead>\n",
       "    <tr style=\"text-align: right;\">\n",
       "      <th></th>\n",
       "      <th>ngram</th>\n",
       "      <th>Other column</th>\n",
       "      <th>Other row</th>\n",
       "      <th>Neighbor A</th>\n",
       "      <th>Neighbor B</th>\n",
       "      <th>End n-A</th>\n",
       "      <th>End n-B</th>\n",
       "    </tr>\n",
       "  </thead>\n",
       "  <tbody>\n",
       "    <tr>\n",
       "      <th>-1</th>\n",
       "      <td></td>\n",
       "      <td>0</td>\n",
       "      <td>0</td>\n",
       "      <td>-1</td>\n",
       "      <td>-1</td>\n",
       "      <td>-1</td>\n",
       "      <td>-1</td>\n",
       "    </tr>\n",
       "  </tbody>\n",
       "</table>\n",
       "</div>"
      ],
      "text/plain": [
       "   ngram Other column Other row Neighbor A Neighbor B End n-A End n-B\n",
       "-1                  0         0         -1         -1      -1      -1"
      ]
     },
     "execution_count": 16,
     "metadata": {
     },
     "output_type": "execute_result"
    }
   ],
   "source": [
    "# create df row for root node at -1, -1\n",
    "column_labels = ['ngram', 'Other column', 'Other row', 'Neighbor A', 'Neighbor B', 'End n-A', 'End n-B']\n",
    "root = pd.DataFrame(pd.Series([' ',0 , 0, -1, -1, -1, -1], index=column_labels)).transpose()\n",
    "as_list = root.index.tolist()\n",
    "idx = as_list.index(0)\n",
    "as_list[idx] = -1\n",
    "root.index = as_list\n",
    "root # take a look"
   ]
  },
  {
   "cell_type": "code",
   "execution_count": 17,
   "metadata": {
    "collapsed": false
   },
   "outputs": [
    {
     "data": {
      "text/html": [
       "<div>\n",
       "<style scoped>\n",
       "    .dataframe tbody tr th:only-of-type {\n",
       "        vertical-align: middle;\n",
       "    }\n",
       "\n",
       "    .dataframe tbody tr th {\n",
       "        vertical-align: top;\n",
       "    }\n",
       "\n",
       "    .dataframe thead th {\n",
       "        text-align: right;\n",
       "    }\n",
       "</style>\n",
       "<table border=\"1\" class=\"dataframe\">\n",
       "  <thead>\n",
       "    <tr style=\"text-align: right;\">\n",
       "      <th></th>\n",
       "      <th>ngram</th>\n",
       "      <th>Other column</th>\n",
       "      <th>Other row</th>\n",
       "      <th>Neighbor A</th>\n",
       "      <th>Neighbor B</th>\n",
       "      <th>End n-A</th>\n",
       "      <th>End n-B</th>\n",
       "    </tr>\n",
       "  </thead>\n",
       "  <tbody>\n",
       "    <tr>\n",
       "      <th>0</th>\n",
       "      <td>the black</td>\n",
       "      <td>6</td>\n",
       "      <td>1</td>\n",
       "      <td>3</td>\n",
       "      <td>0</td>\n",
       "      <td>4</td>\n",
       "      <td>1</td>\n",
       "    </tr>\n",
       "    <tr>\n",
       "      <th>1</th>\n",
       "      <td>the</td>\n",
       "      <td>2</td>\n",
       "      <td>2</td>\n",
       "      <td>0</td>\n",
       "      <td>0</td>\n",
       "      <td>0</td>\n",
       "      <td>0</td>\n",
       "    </tr>\n",
       "    <tr>\n",
       "      <th>2</th>\n",
       "      <td>the</td>\n",
       "      <td>7</td>\n",
       "      <td>2</td>\n",
       "      <td>3</td>\n",
       "      <td>0</td>\n",
       "      <td>3</td>\n",
       "      <td>0</td>\n",
       "    </tr>\n",
       "    <tr>\n",
       "      <th>3</th>\n",
       "      <td>black</td>\n",
       "      <td>8</td>\n",
       "      <td>3</td>\n",
       "      <td>4</td>\n",
       "      <td>1</td>\n",
       "      <td>4</td>\n",
       "      <td>1</td>\n",
       "    </tr>\n",
       "    <tr>\n",
       "      <th>4</th>\n",
       "      <td>and the</td>\n",
       "      <td>4</td>\n",
       "      <td>4</td>\n",
       "      <td>2</td>\n",
       "      <td>2</td>\n",
       "      <td>3</td>\n",
       "      <td>3</td>\n",
       "    </tr>\n",
       "    <tr>\n",
       "      <th>5</th>\n",
       "      <td>and</td>\n",
       "      <td>5</td>\n",
       "      <td>5</td>\n",
       "      <td>2</td>\n",
       "      <td>2</td>\n",
       "      <td>2</td>\n",
       "      <td>2</td>\n",
       "    </tr>\n",
       "    <tr>\n",
       "      <th>6</th>\n",
       "      <td>the red</td>\n",
       "      <td>1</td>\n",
       "      <td>6</td>\n",
       "      <td>0</td>\n",
       "      <td>3</td>\n",
       "      <td>1</td>\n",
       "      <td>4</td>\n",
       "    </tr>\n",
       "    <tr>\n",
       "      <th>7</th>\n",
       "      <td>the</td>\n",
       "      <td>2</td>\n",
       "      <td>7</td>\n",
       "      <td>0</td>\n",
       "      <td>3</td>\n",
       "      <td>0</td>\n",
       "      <td>3</td>\n",
       "    </tr>\n",
       "    <tr>\n",
       "      <th>8</th>\n",
       "      <td>the</td>\n",
       "      <td>7</td>\n",
       "      <td>7</td>\n",
       "      <td>3</td>\n",
       "      <td>3</td>\n",
       "      <td>3</td>\n",
       "      <td>3</td>\n",
       "    </tr>\n",
       "    <tr>\n",
       "      <th>9</th>\n",
       "      <td>red</td>\n",
       "      <td>3</td>\n",
       "      <td>8</td>\n",
       "      <td>1</td>\n",
       "      <td>4</td>\n",
       "      <td>1</td>\n",
       "      <td>4</td>\n",
       "    </tr>\n",
       "    <tr>\n",
       "      <th>10</th>\n",
       "      <td>cat</td>\n",
       "      <td>9</td>\n",
       "      <td>9</td>\n",
       "      <td>5</td>\n",
       "      <td>5</td>\n",
       "      <td>5</td>\n",
       "      <td>5</td>\n",
       "    </tr>\n",
       "  </tbody>\n",
       "</table>\n",
       "</div>"
      ],
      "text/plain": [
       "        ngram  Other column  Other row  Neighbor A  Neighbor B  End n-A  \\\n",
       "0   the black             6          1           3           0        4   \n",
       "1         the             2          2           0           0        0   \n",
       "2         the             7          2           3           0        3   \n",
       "3       black             8          3           4           1        4   \n",
       "4     and the             4          4           2           2        3   \n",
       "5         and             5          5           2           2        2   \n",
       "6     the red             1          6           0           3        1   \n",
       "7         the             2          7           0           3        0   \n",
       "8         the             7          7           3           3        3   \n",
       "9         red             3          8           1           4        1   \n",
       "10        cat             9          9           5           5        5   \n",
       "\n",
       "    End n-B  \n",
       "0         1  \n",
       "1         0  \n",
       "2         0  \n",
       "3         1  \n",
       "4         3  \n",
       "5         2  \n",
       "6         4  \n",
       "7         3  \n",
       "8         3  \n",
       "9         4  \n",
       "10        5  "
      ]
     },
     "execution_count": 17,
     "metadata": {
     },
     "output_type": "execute_result"
    }
   ],
   "source": [
    "# iterate over the tuple of arrays. Given a start index (for example 0) traverse the remaining the nodes on check whether\n",
    "# there is overlap in the token coordinate world.\n",
    "# then called the difference between the start token and the current token\n",
    "import math\n",
    "\n",
    "def node_data(node: int):\n",
    "    # assumes that nodes is a global\n",
    "    candidates = [] # to output interim results as df\n",
    "    # column_labels = ['ngram', 'Other column', 'Other row', 'Neighbor A', 'Neighbor B', 'End n-A', 'End n-B', 'Distance A', 'Distance B']\n",
    "    column_labels = ['ngram', 'Other column', 'Other row', 'Neighbor A', 'Neighbor B', 'End n-A', 'End n-B']\n",
    "    global nodes # tuple of arrays, from find()\n",
    "    row = nodes[0][node] # row position (not label or value) in df\n",
    "    column = nodes[1][node] # column position (not label) in df\n",
    "    # current node has a non-zero length, except in the case of root\n",
    "    current_node_token_witness_A = df.columns[column] # token offset in A\n",
    "    current_node_token_witness_B = df.index[row][0] # token offset into B\n",
    "    length = df.index[row][2] # ngram token count\n",
    "    if current_node_token_witness_A == -1:\n",
    "        current_node_token_witness_A_end = current_node_token_witness_A # root start and end are the same\n",
    "        current_node_token_witness_B_end = current_node_token_witness_B\n",
    "    else:\n",
    "        current_node_token_witness_A_end = df.columns[column] + length - 1\n",
    "        current_node_token_witness_B_end = df.index[row][0] + length - 1\n",
    "\n",
    "    # print(\"current node: \", row, column, current_node_token_witness_A, current_node_token_witness_B, current_node_token_witness_A_end, current_node_token_witness_B_end)\n",
    "\n",
    "    for i in range(node + 1, len(nodes[0])): # search following neighbors\n",
    "        other_row = nodes[0][i]\n",
    "        other_column = nodes[1][i]\n",
    "        neighbour_token_witness_A = df.columns[other_column]\n",
    "        neighbour_token_witness_B = df.index[other_row][0]\n",
    "        length = df.index[other_row][2]\n",
    "        neighbour_token_witness_A_end = df.columns[other_column] + length - 1\n",
    "        neighbour_token_witness_B_end = df.index[other_row][0] + length - 1\n",
    "\n",
    "        # do we need the distances?\n",
    "        # distance_witness_A = neighbour_token_witness_A - current_node_token_witness_A_end\n",
    "        # distance_witness_B = neighbour_token_witness_B - current_node_token_witness_B_end\n",
    "        # candidates.append([df.index[other_row][1], other_column, other_row, neighbour_token_witness_A, neighbour_token_witness_B, neighbour_token_witness_A_end, neighbour_token_witness_B_end, distance_witness_A, distance_witness_B])\n",
    "\n",
    "        candidates.append([df.index[other_row][1], other_column, other_row, neighbour_token_witness_A, neighbour_token_witness_B, neighbour_token_witness_A_end, neighbour_token_witness_B_end])\n",
    "    return pd.DataFrame(candidates, columns=column_labels)\n",
    "\n",
    "from IPython.core.interactiveshell import InteractiveShell # tell Jupyter to show more than one value without using print()\n",
    "InteractiveShell.ast_node_interactivity = \"all\"\n",
    "result = node_data(0)\n",
    "result"
   ]
  },
  {
   "cell_type": "code",
   "execution_count": 18,
   "metadata": {
    "collapsed": false
   },
   "outputs": [
    {
     "data": {
      "text/html": [
       "<div>\n",
       "<style scoped>\n",
       "    .dataframe tbody tr th:only-of-type {\n",
       "        vertical-align: middle;\n",
       "    }\n",
       "\n",
       "    .dataframe tbody tr th {\n",
       "        vertical-align: top;\n",
       "    }\n",
       "\n",
       "    .dataframe thead th {\n",
       "        text-align: right;\n",
       "    }\n",
       "</style>\n",
       "<table border=\"1\" class=\"dataframe\">\n",
       "  <thead>\n",
       "    <tr style=\"text-align: right;\">\n",
       "      <th></th>\n",
       "      <th>ngram</th>\n",
       "      <th>Other column</th>\n",
       "      <th>Other row</th>\n",
       "      <th>Neighbor A</th>\n",
       "      <th>Neighbor B</th>\n",
       "      <th>End n-A</th>\n",
       "      <th>End n-B</th>\n",
       "    </tr>\n",
       "  </thead>\n",
       "  <tbody>\n",
       "    <tr>\n",
       "      <th>-1</th>\n",
       "      <td></td>\n",
       "      <td>0</td>\n",
       "      <td>0</td>\n",
       "      <td>-1</td>\n",
       "      <td>-1</td>\n",
       "      <td>-1</td>\n",
       "      <td>-1</td>\n",
       "    </tr>\n",
       "    <tr>\n",
       "      <th>0</th>\n",
       "      <td>the black</td>\n",
       "      <td>6</td>\n",
       "      <td>1</td>\n",
       "      <td>3</td>\n",
       "      <td>0</td>\n",
       "      <td>4</td>\n",
       "      <td>1</td>\n",
       "    </tr>\n",
       "    <tr>\n",
       "      <th>1</th>\n",
       "      <td>the</td>\n",
       "      <td>2</td>\n",
       "      <td>2</td>\n",
       "      <td>0</td>\n",
       "      <td>0</td>\n",
       "      <td>0</td>\n",
       "      <td>0</td>\n",
       "    </tr>\n",
       "    <tr>\n",
       "      <th>2</th>\n",
       "      <td>the</td>\n",
       "      <td>7</td>\n",
       "      <td>2</td>\n",
       "      <td>3</td>\n",
       "      <td>0</td>\n",
       "      <td>3</td>\n",
       "      <td>0</td>\n",
       "    </tr>\n",
       "    <tr>\n",
       "      <th>3</th>\n",
       "      <td>black</td>\n",
       "      <td>8</td>\n",
       "      <td>3</td>\n",
       "      <td>4</td>\n",
       "      <td>1</td>\n",
       "      <td>4</td>\n",
       "      <td>1</td>\n",
       "    </tr>\n",
       "    <tr>\n",
       "      <th>4</th>\n",
       "      <td>and the</td>\n",
       "      <td>4</td>\n",
       "      <td>4</td>\n",
       "      <td>2</td>\n",
       "      <td>2</td>\n",
       "      <td>3</td>\n",
       "      <td>3</td>\n",
       "    </tr>\n",
       "    <tr>\n",
       "      <th>5</th>\n",
       "      <td>and</td>\n",
       "      <td>5</td>\n",
       "      <td>5</td>\n",
       "      <td>2</td>\n",
       "      <td>2</td>\n",
       "      <td>2</td>\n",
       "      <td>2</td>\n",
       "    </tr>\n",
       "    <tr>\n",
       "      <th>6</th>\n",
       "      <td>the red</td>\n",
       "      <td>1</td>\n",
       "      <td>6</td>\n",
       "      <td>0</td>\n",
       "      <td>3</td>\n",
       "      <td>1</td>\n",
       "      <td>4</td>\n",
       "    </tr>\n",
       "    <tr>\n",
       "      <th>7</th>\n",
       "      <td>the</td>\n",
       "      <td>2</td>\n",
       "      <td>7</td>\n",
       "      <td>0</td>\n",
       "      <td>3</td>\n",
       "      <td>0</td>\n",
       "      <td>3</td>\n",
       "    </tr>\n",
       "    <tr>\n",
       "      <th>8</th>\n",
       "      <td>the</td>\n",
       "      <td>7</td>\n",
       "      <td>7</td>\n",
       "      <td>3</td>\n",
       "      <td>3</td>\n",
       "      <td>3</td>\n",
       "      <td>3</td>\n",
       "    </tr>\n",
       "    <tr>\n",
       "      <th>9</th>\n",
       "      <td>red</td>\n",
       "      <td>3</td>\n",
       "      <td>8</td>\n",
       "      <td>1</td>\n",
       "      <td>4</td>\n",
       "      <td>1</td>\n",
       "      <td>4</td>\n",
       "    </tr>\n",
       "    <tr>\n",
       "      <th>10</th>\n",
       "      <td>cat</td>\n",
       "      <td>9</td>\n",
       "      <td>9</td>\n",
       "      <td>5</td>\n",
       "      <td>5</td>\n",
       "      <td>5</td>\n",
       "      <td>5</td>\n",
       "    </tr>\n",
       "  </tbody>\n",
       "</table>\n",
       "</div>"
      ],
      "text/plain": [
       "         ngram Other column Other row Neighbor A Neighbor B End n-A End n-B\n",
       "-1                        0         0         -1         -1      -1      -1\n",
       " 0   the black            6         1          3          0       4       1\n",
       " 1         the            2         2          0          0       0       0\n",
       " 2         the            7         2          3          0       3       0\n",
       " 3       black            8         3          4          1       4       1\n",
       " 4     and the            4         4          2          2       3       3\n",
       " 5         and            5         5          2          2       2       2\n",
       " 6     the red            1         6          0          3       1       4\n",
       " 7         the            2         7          0          3       0       3\n",
       " 8         the            7         7          3          3       3       3\n",
       " 9         red            3         8          1          4       1       4\n",
       " 10        cat            9         9          5          5       5       5"
      ]
     },
     "execution_count": 18,
     "metadata": {
     },
     "output_type": "execute_result"
    }
   ],
   "source": [
    "# prepend df row for root node at -1, -1\n",
    "result = pd.concat([root, result]).drop_duplicates()\n",
    "result"
   ]
  },
  {
   "cell_type": "code",
   "execution_count": 19,
   "metadata": {
    "collapsed": false
   },
   "outputs": [
    {
     "data": {
      "text/plain": [
       "ngram             \n",
       "Other column     0\n",
       "Other row        0\n",
       "Neighbor A      -1\n",
       "Neighbor B      -1\n",
       "End n-A         -1\n",
       "End n-B         -1\n",
       "Name: -1, dtype: object"
      ]
     },
     "execution_count": 19,
     "metadata": {
     },
     "output_type": "execute_result"
    }
   ],
   "source": [
    "result.loc[-1]"
   ]
  },
  {
   "cell_type": "code",
   "execution_count": 20,
   "metadata": {
    "collapsed": false
   },
   "outputs": [
   ],
   "source": [
    "def find_neighbors(current_row:int, current_column:int, current_ngram_length:int): # input is token coordinates\n",
    "    '''Report closest in B and closest in A\n",
    "\n",
    "    Does not report closest diag (see find_diag_neighbor() function)\n",
    "\n",
    "    Note: Input is in token (not table) coordinates (unlike find_diag_neighbor())\n",
    "\n",
    "    Arguments:\n",
    "      current_row:int -- start position in B in token coordinates\n",
    "      current_column:int -- start position in A in token coordinates\n",
    "      ngram_length:int -- length of current ngram\n",
    "\n",
    "    Returns:\n",
    "      View of results df with only closest neighbors in B and A (if any)\n",
    "    '''\n",
    "    # compute token position of end of current pattern from start plus ngram length\n",
    "    global result # df with offsets into find() result arrays as index and columns; index also stores ngram and ngram length\n",
    "    current_row_end = current_row + current_ngram_length - 1 # token position\n",
    "    current_column_end = current_column + current_ngram_length - 1 # token position\n",
    "\n",
    "    tmp = result[(result['Neighbor A'] > current_column_end) & (result['Neighbor B'] > current_row_end)] # keep only patterns to the right in both witnesses\n",
    "    return tmp[(tmp['Neighbor A'] == tmp['Neighbor A'].min()) | (tmp['Neighbor B'] == tmp['Neighbor B'].min())] # closest in A, B, or both"
   ]
  },
  {
   "cell_type": "code",
   "execution_count": 21,
   "metadata": {
    "collapsed": false
   },
   "outputs": [
    {
     "data": {
      "text/html": [
       "<div>\n",
       "<style scoped>\n",
       "    .dataframe tbody tr th:only-of-type {\n",
       "        vertical-align: middle;\n",
       "    }\n",
       "\n",
       "    .dataframe tbody tr th {\n",
       "        vertical-align: top;\n",
       "    }\n",
       "\n",
       "    .dataframe thead th {\n",
       "        text-align: right;\n",
       "    }\n",
       "</style>\n",
       "<table border=\"1\" class=\"dataframe\">\n",
       "  <thead>\n",
       "    <tr style=\"text-align: right;\">\n",
       "      <th></th>\n",
       "      <th>ngram</th>\n",
       "      <th>Other column</th>\n",
       "      <th>Other row</th>\n",
       "      <th>Neighbor A</th>\n",
       "      <th>Neighbor B</th>\n",
       "      <th>End n-A</th>\n",
       "      <th>End n-B</th>\n",
       "    </tr>\n",
       "  </thead>\n",
       "  <tbody>\n",
       "    <tr>\n",
       "      <th>10</th>\n",
       "      <td>cat</td>\n",
       "      <td>9</td>\n",
       "      <td>9</td>\n",
       "      <td>5</td>\n",
       "      <td>5</td>\n",
       "      <td>5</td>\n",
       "      <td>5</td>\n",
       "    </tr>\n",
       "  </tbody>\n",
       "</table>\n",
       "</div>"
      ],
      "text/plain": [
       "   ngram Other column Other row Neighbor A Neighbor B End n-A End n-B\n",
       "10   cat            9         9          5          5       5       5"
      ]
     },
     "execution_count": 21,
     "metadata": {
     },
     "output_type": "execute_result"
    },
    {
     "data": {
      "text/html": [
       "<div>\n",
       "<style scoped>\n",
       "    .dataframe tbody tr th:only-of-type {\n",
       "        vertical-align: middle;\n",
       "    }\n",
       "\n",
       "    .dataframe tbody tr th {\n",
       "        vertical-align: top;\n",
       "    }\n",
       "\n",
       "    .dataframe thead th {\n",
       "        text-align: right;\n",
       "    }\n",
       "</style>\n",
       "<table border=\"1\" class=\"dataframe\">\n",
       "  <thead>\n",
       "    <tr style=\"text-align: right;\">\n",
       "      <th></th>\n",
       "      <th>ngram</th>\n",
       "      <th>Other column</th>\n",
       "      <th>Other row</th>\n",
       "      <th>Neighbor A</th>\n",
       "      <th>Neighbor B</th>\n",
       "      <th>End n-A</th>\n",
       "      <th>End n-B</th>\n",
       "    </tr>\n",
       "  </thead>\n",
       "  <tbody>\n",
       "    <tr>\n",
       "      <th>3</th>\n",
       "      <td>black</td>\n",
       "      <td>8</td>\n",
       "      <td>3</td>\n",
       "      <td>4</td>\n",
       "      <td>1</td>\n",
       "      <td>4</td>\n",
       "      <td>1</td>\n",
       "    </tr>\n",
       "    <tr>\n",
       "      <th>9</th>\n",
       "      <td>red</td>\n",
       "      <td>3</td>\n",
       "      <td>8</td>\n",
       "      <td>1</td>\n",
       "      <td>4</td>\n",
       "      <td>1</td>\n",
       "      <td>4</td>\n",
       "    </tr>\n",
       "  </tbody>\n",
       "</table>\n",
       "</div>"
      ],
      "text/plain": [
       "   ngram Other column Other row Neighbor A Neighbor B End n-A End n-B\n",
       "3  black            8         3          4          1       4       1\n",
       "9    red            3         8          1          4       1       4"
      ]
     },
     "execution_count": 21,
     "metadata": {
     },
     "output_type": "execute_result"
    },
    {
     "data": {
      "text/html": [
       "<div>\n",
       "<style scoped>\n",
       "    .dataframe tbody tr th:only-of-type {\n",
       "        vertical-align: middle;\n",
       "    }\n",
       "\n",
       "    .dataframe tbody tr th {\n",
       "        vertical-align: top;\n",
       "    }\n",
       "\n",
       "    .dataframe thead th {\n",
       "        text-align: right;\n",
       "    }\n",
       "</style>\n",
       "<table border=\"1\" class=\"dataframe\">\n",
       "  <thead>\n",
       "    <tr style=\"text-align: right;\">\n",
       "      <th></th>\n",
       "      <th>ngram</th>\n",
       "      <th>Other column</th>\n",
       "      <th>Other row</th>\n",
       "      <th>Neighbor A</th>\n",
       "      <th>Neighbor B</th>\n",
       "      <th>End n-A</th>\n",
       "      <th>End n-B</th>\n",
       "    </tr>\n",
       "  </thead>\n",
       "  <tbody>\n",
       "    <tr>\n",
       "      <th>10</th>\n",
       "      <td>cat</td>\n",
       "      <td>9</td>\n",
       "      <td>9</td>\n",
       "      <td>5</td>\n",
       "      <td>5</td>\n",
       "      <td>5</td>\n",
       "      <td>5</td>\n",
       "    </tr>\n",
       "  </tbody>\n",
       "</table>\n",
       "</div>"
      ],
      "text/plain": [
       "   ngram Other column Other row Neighbor A Neighbor B End n-A End n-B\n",
       "10   cat            9         9          5          5       5       5"
      ]
     },
     "execution_count": 21,
     "metadata": {
     },
     "output_type": "execute_result"
    },
    {
     "data": {
      "text/html": [
       "<div>\n",
       "<style scoped>\n",
       "    .dataframe tbody tr th:only-of-type {\n",
       "        vertical-align: middle;\n",
       "    }\n",
       "\n",
       "    .dataframe tbody tr th {\n",
       "        vertical-align: top;\n",
       "    }\n",
       "\n",
       "    .dataframe thead th {\n",
       "        text-align: right;\n",
       "    }\n",
       "</style>\n",
       "<table border=\"1\" class=\"dataframe\">\n",
       "  <thead>\n",
       "    <tr style=\"text-align: right;\">\n",
       "      <th></th>\n",
       "      <th>ngram</th>\n",
       "      <th>Other column</th>\n",
       "      <th>Other row</th>\n",
       "      <th>Neighbor A</th>\n",
       "      <th>Neighbor B</th>\n",
       "      <th>End n-A</th>\n",
       "      <th>End n-B</th>\n",
       "    </tr>\n",
       "  </thead>\n",
       "  <tbody>\n",
       "    <tr>\n",
       "      <th>-1</th>\n",
       "      <td></td>\n",
       "      <td>0</td>\n",
       "      <td>0</td>\n",
       "      <td>-1</td>\n",
       "      <td>-1</td>\n",
       "      <td>-1</td>\n",
       "      <td>-1</td>\n",
       "    </tr>\n",
       "  </tbody>\n",
       "</table>\n",
       "</div>"
      ],
      "text/plain": [
       "   ngram Other column Other row Neighbor A Neighbor B End n-A End n-B\n",
       "-1                  0         0         -1         -1      -1      -1"
      ]
     },
     "execution_count": 21,
     "metadata": {
     },
     "output_type": "execute_result"
    }
   ],
   "source": [
    "# test data, input is token coordinates\n",
    "find_neighbors(3, 0, 2) # B (row) = 3 ('the (0) black (1) and (2) the (3)'), A (column) = 0\n",
    "find_neighbors(0, 0, 1) # B (row) = 0 ('the') and A (column) = 0 ('the')\n",
    "find_neighbors(2, 2, 2) # 'and the'\n",
    "find_neighbors(-1, -1, 0)"
   ]
  },
  {
   "cell_type": "code",
   "execution_count": 91,
   "metadata": {
    "collapsed": false
   },
   "outputs": [
   ],
   "source": [
    "def find_diag_neighbor(current_table_row:int, current_table_column:int, current_ngram_length:int): # input in table (not token) coordinates\n",
    "    '''Find closest diagonal neighbor from current position (longest ngram in case of tie)\n",
    "\n",
    "    Note: Input is in table (not token) coordinates (unlike find_neighbors())\n",
    "\n",
    "    Arguments:\n",
    "      current_table_row:int\n",
    "      current_table_column:int\n",
    "      current_ngram_length:int\n",
    "\n",
    "    Returns:\n",
    "      View of results df with only closest diagonal\n",
    "    '''\n",
    "    global result\n",
    "    diags = result[result['Other column'] == result['Other row']]\n",
    "\n",
    "    input_row = result[(result['Other row'] == current_table_row) & (result['Other column'] == current_table_column)]\n",
    "    row_in_token = input_row[['Neighbor B']]\n",
    "    column_in_token = input_row[['Neighbor A']]\n",
    "    print(row_in_token)\n",
    "    print(diags[(diags[['Neighbor B']] > row_in_token)\n",
    "    # return pd.DataFrame(diags[(diags[['Neighbor B']] > row_in_token.values + current_ngram_length - 1)].iloc[0]).transpose()\n",
    "    # return pd.DataFrame(diags[(diags['Neighbor B'] > row_in_token + current_ngram_length - 1) & (diags['Neighbor A'] > column_in_token + current_ngram_length - 1)].iloc[0]).transpose()"
   ]
  },
  {
   "cell_type": "code",
   "execution_count": 92,
   "metadata": {
    "collapsed": false
   },
   "outputs": [
    {
     "name": "stdout",
     "output_type": "stream",
     "text": [
      "  Neighbor B\n",
      "6          3\n",
      "   Neighbor B\n",
      "-1         -1\n",
      "  Neighbor B\n",
      "1          0\n",
      "  Neighbor B\n",
      "4          2\n",
      "  Neighbor B\n",
      "0          0\n"
     ]
    }
   ],
   "source": [
    "# test data, input is table coordinates\n",
    "find_diag_neighbor(6, 1, 2) # 'the red' : should find cat\n",
    "find_diag_neighbor(0, 0, 2) # root ; should find 'the'\n",
    "find_diag_neighbor(2, 2, 1) # 'the'; should find 'and the' (at 2, 2)\n",
    "find_diag_neighbor(4, 4, 2) # 'and the' (at 2,2), should skip 'the' (at 3,3) and find cat (at 5,5)\n",
    "find_diag_neighbor(1, 6, 2) # 'the black' should return only 'cat'"
   ]
  },
  {
   "cell_type": "code",
   "execution_count": 24,
   "metadata": {
    "collapsed": false
   },
   "outputs": [
   ],
   "source": [
    "def find_all_neighbors(current_row, current_column, current_ngram_length): # input is table coordinates\n",
    "    '''Combine closest in A, B, and diag\n",
    "\n",
    "    Arguments:\n",
    "      current_row:int -- table coordinate for B\n",
    "      current_column:int -- table coordinate for A\n",
    "      current_ngram_length:int\n",
    "\n",
    "    Returns:\n",
    "      View of result dataframe combining all closest neighbors\n",
    "    '''\n",
    "    token_witness_A = df.columns[current_column] # token offset in A\n",
    "    token_witness_B = df.index[current_row][0] # token offset into B\n",
    "    ngram = df.index[row][1]\n",
    "    # print(current_row, current_column, token_witness_B, token_witness_A, ngram, current_ngram_length)\n",
    "    diag_result = find_diag_neighbor(current_row, current_column, current_ngram_length)\n",
    "    horiz_vert_result = find_neighbors(token_witness_B, token_witness_A, current_ngram_length)\n",
    "    return horiz_vert_result, diag_result"
   ]
  },
  {
   "cell_type": "code",
   "execution_count": 25,
   "metadata": {
    "collapsed": false
   },
   "outputs": [
    {
     "name": "stdout",
     "output_type": "stream",
     "text": [
      "     ngram Other column Other row Neighbor A Neighbor B End n-A End n-B\n",
      "4  and the            4         4          2          2       3       3\n"
     ]
    },
    {
     "data": {
      "text/plain": [
       "(   ngram Other column Other row Neighbor A Neighbor B End n-A End n-B\n",
       " 10   cat            9         9          5          5       5       5,\n",
       " None)"
      ]
     },
     "execution_count": 25,
     "metadata": {
     },
     "output_type": "execute_result"
    }
   ],
   "source": [
    "find_all_neighbors(4, 4, 2) # 3, 3, 'and the'"
   ]
  },
  {
   "cell_type": "code",
   "execution_count": 26,
   "metadata": {
    "collapsed": false
   },
   "outputs": [
   ],
   "source": [
    "pd.set_option(\"display.max_columns\", None)"
   ]
  },
  {
   "cell_type": "code",
   "execution_count": 27,
   "metadata": {
    "collapsed": false
   },
   "outputs": [
   ],
   "source": [
    "decision_graph = {}\n",
    "decision_graph['nodes'] = defaultdict(dict) # key is node id, value is dictionary of node properties\n",
    "decision_graph['edges'] = {}\n",
    "decision_graph['edges']['incoming'] = defaultdict(list) # key is node id, value is list of parents\n",
    "decision_graph['edges']['outgoing'] = defaultdict(list) # key is node id, value is list of children"
   ]
  },
  {
   "cell_type": "code",
   "execution_count": 28,
   "metadata": {
    "collapsed": false
   },
   "outputs": [
    {
     "data": {
      "text/plain": [
       "defaultdict(dict,\n",
       "            {-1: {'ngram': ' ',\n",
       "              'Other column': 0,\n",
       "              'Other row': 0,\n",
       "              'Neighbor A': -1,\n",
       "              'Neighbor B': -1,\n",
       "              'End n-A': -1,\n",
       "              'End n-B': -1},\n",
       "             0: {'ngram': 'the black',\n",
       "              'Other column': 6,\n",
       "              'Other row': 1,\n",
       "              'Neighbor A': 3,\n",
       "              'Neighbor B': 0,\n",
       "              'End n-A': 4,\n",
       "              'End n-B': 1},\n",
       "             1: {'ngram': 'the',\n",
       "              'Other column': 2,\n",
       "              'Other row': 2,\n",
       "              'Neighbor A': 0,\n",
       "              'Neighbor B': 0,\n",
       "              'End n-A': 0,\n",
       "              'End n-B': 0},\n",
       "             2: {'ngram': 'the',\n",
       "              'Other column': 7,\n",
       "              'Other row': 2,\n",
       "              'Neighbor A': 3,\n",
       "              'Neighbor B': 0,\n",
       "              'End n-A': 3,\n",
       "              'End n-B': 0},\n",
       "             3: {'ngram': 'black',\n",
       "              'Other column': 8,\n",
       "              'Other row': 3,\n",
       "              'Neighbor A': 4,\n",
       "              'Neighbor B': 1,\n",
       "              'End n-A': 4,\n",
       "              'End n-B': 1},\n",
       "             4: {'ngram': 'and the',\n",
       "              'Other column': 4,\n",
       "              'Other row': 4,\n",
       "              'Neighbor A': 2,\n",
       "              'Neighbor B': 2,\n",
       "              'End n-A': 3,\n",
       "              'End n-B': 3},\n",
       "             5: {'ngram': 'and',\n",
       "              'Other column': 5,\n",
       "              'Other row': 5,\n",
       "              'Neighbor A': 2,\n",
       "              'Neighbor B': 2,\n",
       "              'End n-A': 2,\n",
       "              'End n-B': 2},\n",
       "             6: {'ngram': 'the red',\n",
       "              'Other column': 1,\n",
       "              'Other row': 6,\n",
       "              'Neighbor A': 0,\n",
       "              'Neighbor B': 3,\n",
       "              'End n-A': 1,\n",
       "              'End n-B': 4},\n",
       "             7: {'ngram': 'the',\n",
       "              'Other column': 2,\n",
       "              'Other row': 7,\n",
       "              'Neighbor A': 0,\n",
       "              'Neighbor B': 3,\n",
       "              'End n-A': 0,\n",
       "              'End n-B': 3},\n",
       "             8: {'ngram': 'the',\n",
       "              'Other column': 7,\n",
       "              'Other row': 7,\n",
       "              'Neighbor A': 3,\n",
       "              'Neighbor B': 3,\n",
       "              'End n-A': 3,\n",
       "              'End n-B': 3},\n",
       "             9: {'ngram': 'red',\n",
       "              'Other column': 3,\n",
       "              'Other row': 8,\n",
       "              'Neighbor A': 1,\n",
       "              'Neighbor B': 4,\n",
       "              'End n-A': 1,\n",
       "              'End n-B': 4},\n",
       "             10: {'ngram': 'cat',\n",
       "              'Other column': 9,\n",
       "              'Other row': 9,\n",
       "              'Neighbor A': 5,\n",
       "              'Neighbor B': 5,\n",
       "              'End n-A': 5,\n",
       "              'End n-B': 5}})"
      ]
     },
     "execution_count": 28,
     "metadata": {
     },
     "output_type": "execute_result"
    }
   ],
   "source": [
    "# node ids are row numbers in result (df)\n",
    "# TODO: we create nodes for all rows in table, even though will not be nodes in decision graph\n",
    "for row_number in range(-1, len(nodes[0]) -1):\n",
    "    decision_graph['nodes'][row_number] = result.loc[row_number].to_dict()\n",
    "decision_graph['nodes'] # take a look"
   ]
  },
  {
   "cell_type": "code",
   "execution_count": 29,
   "metadata": {
    "collapsed": false
   },
   "outputs": [
    {
     "data": {
      "text/plain": [
       "[-1, 0, 1, 2, 3, 4, 5, 6, 7, 8, 9, 10]"
      ]
     },
     "execution_count": 29,
     "metadata": {
     },
     "output_type": "execute_result"
    }
   ],
   "source": [
    "list(result.index)"
   ]
  },
  {
   "cell_type": "code",
   "execution_count": 30,
   "metadata": {
    "collapsed": false
   },
   "outputs": [
    {
     "name": "stdout",
     "output_type": "stream",
     "text": [
      "0 0 nan 0\n",
      "   ngram Other column Other row Neighbor A Neighbor B End n-A End n-B\n",
      "-1                  0         0         -1         -1      -1      -1\n",
      "1 6 the black 2\n",
      "       ngram Other column Other row Neighbor A Neighbor B End n-A End n-B\n",
      "0  the black            6         1          3          0       4       1\n",
      "2 2 the 1\n",
      "  ngram Other column Other row Neighbor A Neighbor B End n-A End n-B\n",
      "1   the            2         2          0          0       0       0\n",
      "2 7 the 1\n",
      "  ngram Other column Other row Neighbor A Neighbor B End n-A End n-B\n",
      "2   the            7         2          3          0       3       0\n",
      "3 8 black 1\n",
      "   ngram Other column Other row Neighbor A Neighbor B End n-A End n-B\n",
      "3  black            8         3          4          1       4       1\n",
      "4 4 and the 2\n",
      "     ngram Other column Other row Neighbor A Neighbor B End n-A End n-B\n",
      "4  and the            4         4          2          2       3       3\n",
      "5 5 and 1\n",
      "  ngram Other column Other row Neighbor A Neighbor B End n-A End n-B\n",
      "5   and            5         5          2          2       2       2\n",
      "6 1 the red 2\n",
      "     ngram Other column Other row Neighbor A Neighbor B End n-A End n-B\n",
      "6  the red            1         6          0          3       1       4\n",
      "7 2 the 1\n",
      "  ngram Other column Other row Neighbor A Neighbor B End n-A End n-B\n",
      "7   the            2         7          0          3       0       3\n",
      "7 7 the 1\n",
      "  ngram Other column Other row Neighbor A Neighbor B End n-A End n-B\n",
      "8   the            7         7          3          3       3       3\n",
      "8 3 red 1\n",
      "  ngram Other column Other row Neighbor A Neighbor B End n-A End n-B\n",
      "9   red            3         8          1          4       1       4\n"
     ]
    },
    {
     "data": {
      "text/plain": [
       "{'nodes': defaultdict(dict,\n",
       "             {-1: {'ngram': ' ',\n",
       "               'Other column': 0,\n",
       "               'Other row': 0,\n",
       "               'Neighbor A': -1,\n",
       "               'Neighbor B': -1,\n",
       "               'End n-A': -1,\n",
       "               'End n-B': -1},\n",
       "              0: {'ngram': 'the black',\n",
       "               'Other column': 6,\n",
       "               'Other row': 1,\n",
       "               'Neighbor A': 3,\n",
       "               'Neighbor B': 0,\n",
       "               'End n-A': 4,\n",
       "               'End n-B': 1},\n",
       "              1: {'ngram': 'the',\n",
       "               'Other column': 2,\n",
       "               'Other row': 2,\n",
       "               'Neighbor A': 0,\n",
       "               'Neighbor B': 0,\n",
       "               'End n-A': 0,\n",
       "               'End n-B': 0},\n",
       "              2: {'ngram': 'the',\n",
       "               'Other column': 7,\n",
       "               'Other row': 2,\n",
       "               'Neighbor A': 3,\n",
       "               'Neighbor B': 0,\n",
       "               'End n-A': 3,\n",
       "               'End n-B': 0},\n",
       "              3: {'ngram': 'black',\n",
       "               'Other column': 8,\n",
       "               'Other row': 3,\n",
       "               'Neighbor A': 4,\n",
       "               'Neighbor B': 1,\n",
       "               'End n-A': 4,\n",
       "               'End n-B': 1},\n",
       "              4: {'ngram': 'and the',\n",
       "               'Other column': 4,\n",
       "               'Other row': 4,\n",
       "               'Neighbor A': 2,\n",
       "               'Neighbor B': 2,\n",
       "               'End n-A': 3,\n",
       "               'End n-B': 3},\n",
       "              5: {'ngram': 'and',\n",
       "               'Other column': 5,\n",
       "               'Other row': 5,\n",
       "               'Neighbor A': 2,\n",
       "               'Neighbor B': 2,\n",
       "               'End n-A': 2,\n",
       "               'End n-B': 2},\n",
       "              6: {'ngram': 'the red',\n",
       "               'Other column': 1,\n",
       "               'Other row': 6,\n",
       "               'Neighbor A': 0,\n",
       "               'Neighbor B': 3,\n",
       "               'End n-A': 1,\n",
       "               'End n-B': 4},\n",
       "              7: {'ngram': 'the',\n",
       "               'Other column': 2,\n",
       "               'Other row': 7,\n",
       "               'Neighbor A': 0,\n",
       "               'Neighbor B': 3,\n",
       "               'End n-A': 0,\n",
       "               'End n-B': 3},\n",
       "              8: {'ngram': 'the',\n",
       "               'Other column': 7,\n",
       "               'Other row': 7,\n",
       "               'Neighbor A': 3,\n",
       "               'Neighbor B': 3,\n",
       "               'End n-A': 3,\n",
       "               'End n-B': 3},\n",
       "              9: {'ngram': 'red',\n",
       "               'Other column': 3,\n",
       "               'Other row': 8,\n",
       "               'Neighbor A': 1,\n",
       "               'Neighbor B': 4,\n",
       "               'End n-A': 1,\n",
       "               'End n-B': 4},\n",
       "              10: {'ngram': 'cat',\n",
       "               'Other column': 9,\n",
       "               'Other row': 9,\n",
       "               'Neighbor A': 5,\n",
       "               'Neighbor B': 5,\n",
       "               'End n-A': 5,\n",
       "               'End n-B': 5}}),\n",
       " 'edges': {'incoming': defaultdict(list,\n",
       "              {-1: [-1],\n",
       "               10: [0, 3, 4, 6, 8, 9],\n",
       "               3: [1, 2],\n",
       "               9: [1, 7],\n",
       "               8: [5]}),\n",
       "  'outgoing': defaultdict(list,\n",
       "              {-1: [-1],\n",
       "               0: [10],\n",
       "               1: [3, 9],\n",
       "               2: [3],\n",
       "               3: [10],\n",
       "               4: [10],\n",
       "               5: [8],\n",
       "               6: [10],\n",
       "               7: [9],\n",
       "               8: [10],\n",
       "               9: [10]})}}"
      ]
     },
     "execution_count": 30,
     "metadata": {
     },
     "output_type": "execute_result"
    }
   ],
   "source": [
    "# Create edges by iterating over the potential nodes to find their children\n",
    "# start at the root (left edge)\n",
    "# print(nodes)\n",
    "for i in result.index[0:-1]:\n",
    "    # nodes is tuple of three arrays: table row, column, and constant 1\n",
    "    row = result.loc[i, 'Other row']\n",
    "    column = result.loc[i, 'Other column']\n",
    "    current_node_id = i\n",
    "    ngram = df.index[row][1]\n",
    "    ngram_length = df.index[row][2]\n",
    "    print(row, column, ngram, ngram_length)\n",
    "    neighbors1, neighbors2 = find_all_neighbors(row, column, ngram_length)\n",
    "#    pd.concat([neighbors1, neighbors2]).drop_duplicates() # all neighbors, without duplicate rows\n",
    "    # child_ids = list(filter(lambda x: x != -1, list(pd.concat([neighbors1, neighbors2]).drop_duplicates().index))) # nothing can point to the root\n",
    "    child_ids = list(pd.concat([neighbors1, neighbors2], ignore_index=False).drop_duplicates().index)\n",
    "    decision_graph['edges']['outgoing'][current_node_id] = child_ids\n",
    "    for child_id in child_ids:\n",
    "        decision_graph['edges']['incoming'][child_id].append(current_node_id)\n",
    "decision_graph # take a look"
   ]
  },
  {
   "cell_type": "markdown",
   "metadata": {
    "collapsed": false
   },
   "source": [
    "### Now visualize the graph"
   ]
  },
  {
   "cell_type": "code",
   "execution_count": 31,
   "metadata": {
    "collapsed": false
   },
   "outputs": [
    {
     "data": {
      "image/svg+xml": "<svg xmlns=\"http://www.w3.org/2000/svg\" xmlns:xlink=\"http://www.w3.org/1999/xlink\" width=\"667pt\" height=\"188pt\" viewBox=\"0.00 0.00 667.14 188.00\">\n<g id=\"graph0\" class=\"graph\" transform=\"scale(1 1) rotate(0) translate(4 184)\">\n<title>%3</title>\n<polygon fill=\"white\" stroke=\"transparent\" points=\"-4,4 -4,-184 663.14,-184 663.14,4 -4,4\"/>\n<!-- &#45;1 -->\n<g id=\"node1\" class=\"node\">\n<title>-1</title>\n<ellipse fill=\"none\" stroke=\"black\" cx=\"50.74\" cy=\"-162\" rx=\"27\" ry=\"18\"/>\n<text text-anchor=\"middle\" x=\"50.74\" y=\"-158.3\" font-family=\"Times,serif\" font-size=\"14.00\">-1: </text>\n</g>\n<!-- &#45;1&#45;&gt;&#45;1 -->\n<g id=\"edge1\" class=\"edge\">\n<title>-1-&gt;-1</title>\n<path fill=\"none\" stroke=\"black\" d=\"M70.64,-174.43C83.43,-177.68 95.74,-173.53 95.74,-162 95.74,-153.62 89.25,-149.14 80.78,-148.56\"/>\n<polygon fill=\"black\" stroke=\"black\" points=\"80.25,-145.1 70.64,-149.57 80.94,-152.07 80.25,-145.1\"/>\n</g>\n<!-- 0 -->\n<g id=\"node2\" class=\"node\">\n<title>0</title>\n<ellipse fill=\"none\" stroke=\"black\" cx=\"61.74\" cy=\"-90\" rx=\"61.99\" ry=\"18\"/>\n<text text-anchor=\"middle\" x=\"61.74\" y=\"-86.3\" font-family=\"Times,serif\" font-size=\"14.00\">0:the black</text>\n</g>\n<!-- 10 -->\n<g id=\"node12\" class=\"node\">\n<title>10</title>\n<ellipse fill=\"none\" stroke=\"black\" cx=\"336.74\" cy=\"-18\" rx=\"39.79\" ry=\"18\"/>\n<text text-anchor=\"middle\" x=\"336.74\" y=\"-14.3\" font-family=\"Times,serif\" font-size=\"14.00\">10:cat</text>\n</g>\n<!-- 0&#45;&gt;10 -->\n<g id=\"edge2\" class=\"edge\">\n<title>0-&gt;10</title>\n<path fill=\"none\" stroke=\"black\" d=\"M106.54,-77.6C158.05,-64.49 242.05,-43.1 293.08,-30.12\"/>\n<polygon fill=\"black\" stroke=\"black\" points=\"294,-33.49 302.82,-27.63 292.27,-26.71 294,-33.49\"/>\n</g>\n<!-- 1 -->\n<g id=\"node3\" class=\"node\">\n<title>1</title>\n<ellipse fill=\"none\" stroke=\"black\" cx=\"234.74\" cy=\"-162\" rx=\"34.39\" ry=\"18\"/>\n<text text-anchor=\"middle\" x=\"234.74\" y=\"-158.3\" font-family=\"Times,serif\" font-size=\"14.00\">1:the</text>\n</g>\n<!-- 3 -->\n<g id=\"node5\" class=\"node\">\n<title>3</title>\n<ellipse fill=\"none\" stroke=\"black\" cx=\"185.74\" cy=\"-90\" rx=\"44.39\" ry=\"18\"/>\n<text text-anchor=\"middle\" x=\"185.74\" y=\"-86.3\" font-family=\"Times,serif\" font-size=\"14.00\">3:black</text>\n</g>\n<!-- 1&#45;&gt;3 -->\n<g id=\"edge3\" class=\"edge\">\n<title>1-&gt;3</title>\n<path fill=\"none\" stroke=\"black\" d=\"M223.38,-144.76C217.41,-136.23 209.95,-125.58 203.26,-116.02\"/>\n<polygon fill=\"black\" stroke=\"black\" points=\"205.99,-113.82 197.39,-107.63 200.26,-117.83 205.99,-113.82\"/>\n</g>\n<!-- 9 -->\n<g id=\"node11\" class=\"node\">\n<title>9</title>\n<ellipse fill=\"none\" stroke=\"black\" cx=\"282.74\" cy=\"-90\" rx=\"35.19\" ry=\"18\"/>\n<text text-anchor=\"middle\" x=\"282.74\" y=\"-86.3\" font-family=\"Times,serif\" font-size=\"14.00\">9:red</text>\n</g>\n<!-- 1&#45;&gt;9 -->\n<g id=\"edge4\" class=\"edge\">\n<title>1-&gt;9</title>\n<path fill=\"none\" stroke=\"black\" d=\"M245.88,-144.76C251.81,-136.11 259.24,-125.27 265.87,-115.6\"/>\n<polygon fill=\"black\" stroke=\"black\" points=\"268.9,-117.37 271.67,-107.15 263.13,-113.42 268.9,-117.37\"/>\n</g>\n<!-- 2 -->\n<g id=\"node4\" class=\"node\">\n<title>2</title>\n<ellipse fill=\"none\" stroke=\"black\" cx=\"147.74\" cy=\"-162\" rx=\"34.39\" ry=\"18\"/>\n<text text-anchor=\"middle\" x=\"147.74\" y=\"-158.3\" font-family=\"Times,serif\" font-size=\"14.00\">2:the</text>\n</g>\n<!-- 2&#45;&gt;3 -->\n<g id=\"edge5\" class=\"edge\">\n<title>2-&gt;3</title>\n<path fill=\"none\" stroke=\"black\" d=\"M156.75,-144.41C161.23,-136.16 166.74,-126.01 171.75,-116.78\"/>\n<polygon fill=\"black\" stroke=\"black\" points=\"174.84,-118.41 176.54,-107.96 168.69,-115.07 174.84,-118.41\"/>\n</g>\n<!-- 3&#45;&gt;10 -->\n<g id=\"edge6\" class=\"edge\">\n<title>3-&gt;10</title>\n<path fill=\"none\" stroke=\"black\" d=\"M213.79,-76C238.33,-64.62 274.11,-48.04 300.75,-35.69\"/>\n<polygon fill=\"black\" stroke=\"black\" points=\"302.51,-38.73 310.11,-31.35 299.57,-32.38 302.51,-38.73\"/>\n</g>\n<!-- 4 -->\n<g id=\"node6\" class=\"node\">\n<title>4</title>\n<ellipse fill=\"none\" stroke=\"black\" cx=\"390.74\" cy=\"-90\" rx=\"54.69\" ry=\"18\"/>\n<text text-anchor=\"middle\" x=\"390.74\" y=\"-86.3\" font-family=\"Times,serif\" font-size=\"14.00\">4:and the</text>\n</g>\n<!-- 4&#45;&gt;10 -->\n<g id=\"edge7\" class=\"edge\">\n<title>4-&gt;10</title>\n<path fill=\"none\" stroke=\"black\" d=\"M377.95,-72.41C371.29,-63.78 363.02,-53.06 355.64,-43.5\"/>\n<polygon fill=\"black\" stroke=\"black\" points=\"358.33,-41.25 349.45,-35.47 352.79,-45.53 358.33,-41.25\"/>\n</g>\n<!-- 5 -->\n<g id=\"node7\" class=\"node\">\n<title>5</title>\n<ellipse fill=\"none\" stroke=\"black\" cx=\"622.74\" cy=\"-162\" rx=\"36.29\" ry=\"18\"/>\n<text text-anchor=\"middle\" x=\"622.74\" y=\"-158.3\" font-family=\"Times,serif\" font-size=\"14.00\">5:and</text>\n</g>\n<!-- 8 -->\n<g id=\"node10\" class=\"node\">\n<title>8</title>\n<ellipse fill=\"none\" stroke=\"black\" cx=\"622.74\" cy=\"-90\" rx=\"34.39\" ry=\"18\"/>\n<text text-anchor=\"middle\" x=\"622.74\" y=\"-86.3\" font-family=\"Times,serif\" font-size=\"14.00\">8:the</text>\n</g>\n<!-- 5&#45;&gt;8 -->\n<g id=\"edge8\" class=\"edge\">\n<title>5-&gt;8</title>\n<path fill=\"none\" stroke=\"black\" d=\"M622.74,-143.7C622.74,-135.98 622.74,-126.71 622.74,-118.11\"/>\n<polygon fill=\"black\" stroke=\"black\" points=\"626.24,-118.1 622.74,-108.1 619.24,-118.1 626.24,-118.1\"/>\n</g>\n<!-- 6 -->\n<g id=\"node8\" class=\"node\">\n<title>6</title>\n<ellipse fill=\"none\" stroke=\"black\" cx=\"516.74\" cy=\"-90\" rx=\"53.09\" ry=\"18\"/>\n<text text-anchor=\"middle\" x=\"516.74\" y=\"-86.3\" font-family=\"Times,serif\" font-size=\"14.00\">6:the red</text>\n</g>\n<!-- 6&#45;&gt;10 -->\n<g id=\"edge9\" class=\"edge\">\n<title>6-&gt;10</title>\n<path fill=\"none\" stroke=\"black\" d=\"M482.89,-75.83C452.34,-63.95 407.42,-46.49 375.46,-34.06\"/>\n<polygon fill=\"black\" stroke=\"black\" points=\"376.57,-30.73 365.99,-30.37 374.04,-37.26 376.57,-30.73\"/>\n</g>\n<!-- 7 -->\n<g id=\"node9\" class=\"node\">\n<title>7</title>\n<ellipse fill=\"none\" stroke=\"black\" cx=\"321.74\" cy=\"-162\" rx=\"34.39\" ry=\"18\"/>\n<text text-anchor=\"middle\" x=\"321.74\" y=\"-158.3\" font-family=\"Times,serif\" font-size=\"14.00\">7:the</text>\n</g>\n<!-- 7&#45;&gt;9 -->\n<g id=\"edge10\" class=\"edge\">\n<title>7-&gt;9</title>\n<path fill=\"none\" stroke=\"black\" d=\"M312.5,-144.41C307.84,-136.04 302.08,-125.71 296.88,-116.37\"/>\n<polygon fill=\"black\" stroke=\"black\" points=\"299.85,-114.5 291.92,-107.47 293.73,-117.91 299.85,-114.5\"/>\n</g>\n<!-- 8&#45;&gt;10 -->\n<g id=\"edge11\" class=\"edge\">\n<title>8-&gt;10</title>\n<path fill=\"none\" stroke=\"black\" d=\"M596.45,-78.09C590.67,-75.9 584.55,-73.75 578.74,-72 511.84,-51.88 432.4,-35.95 383.27,-27\"/>\n<polygon fill=\"black\" stroke=\"black\" points=\"383.73,-23.52 373.27,-25.2 382.49,-30.41 383.73,-23.52\"/>\n</g>\n<!-- 9&#45;&gt;10 -->\n<g id=\"edge12\" class=\"edge\">\n<title>9-&gt;10</title>\n<path fill=\"none\" stroke=\"black\" d=\"M295,-73.12C301.8,-64.29 310.42,-53.13 318.05,-43.24\"/>\n<polygon fill=\"black\" stroke=\"black\" points=\"320.83,-45.36 324.16,-35.31 315.29,-41.09 320.83,-45.36\"/>\n</g>\n</g>\n</svg>",
      "text/plain": [
       "<IPython.core.display.SVG object>"
      ]
     },
     "execution_count": 31,
     "metadata": {
     },
     "output_type": "execute_result"
    }
   ],
   "source": [
    "# get ready to visualize the decision tree in SVG\n",
    "import graphviz\n",
    "from IPython.display import SVG\n",
    "\n",
    "# Source: https://github.com/interedition/collatex/blob/master/collatex-pythonport/collatex/display_module.py\n",
    "# node id values must be strings for graphviz\n",
    "a = graphviz.Digraph(format=\"svg\")\n",
    "for key,value in decision_graph['nodes'].items():\n",
    "    a.node(str(key), label=str(key) + ':' + value['ngram'])\n",
    "for key,values in decision_graph['edges']['outgoing'].items(): # values is list of integers\n",
    "    for value in values:\n",
    "        a.edge(str(key), str(value))\n",
    "SVG(a.view())"
   ]
  },
  {
   "cell_type": "markdown",
   "metadata": {
    "collapsed": false
   },
   "source": [
    "# old stuff below"
   ]
  }
 ],
 "metadata": {
  "kernelspec": {
   "display_name": "Python 3 (system-wide)",
   "language": "python",
   "metadata": {
    "cocalc": {
     "description": "Python 3 programming language",
     "priority": 100,
     "url": "https://www.python.org/"
    }
   },
   "name": "python3",
   "resource_dir": "/ext/jupyter/kernels/python3"
  },
  "language_info": {
   "codemirror_mode": {
    "name": "ipython",
    "version": 3
   },
   "file_extension": ".py",
   "mimetype": "text/x-python",
   "name": "python",
   "nbconvert_exporter": "python",
   "pygments_lexer": "ipython3",
   "version": "3.8.5"
  }
 },
 "nbformat": 4,
 "nbformat_minor": 4
}