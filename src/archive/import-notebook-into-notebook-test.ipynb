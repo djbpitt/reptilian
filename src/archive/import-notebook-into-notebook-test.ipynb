{
 "cells": [
  {
   "cell_type": "code",
   "execution_count": 5,
   "metadata": {
    "collapsed": false
   },
   "outputs": [
   ],
   "source": [
    "%run create-blocks.ipynb"
   ]
  },
  {
   "cell_type": "code",
   "execution_count": 6,
   "metadata": {
    "collapsed": false
   },
   "outputs": [
    {
     "data": {
      "text/plain": [
       "[Block(token_count=2, start_position=4, end_position=6, all_start_positions=[2, 9, 18], witnesses={0, 1, 2}, witness_count=3, frequency=3),\n",
       " Block(token_count=2, start_position=18, end_position=20, all_start_positions=[3, 7, 14], witnesses={0, 1, 2}, witness_count=3, frequency=3),\n",
       " Block(token_count=1, start_position=7, end_position=9, all_start_positions=[4, 8, 15], witnesses={0, 1, 2}, witness_count=3, frequency=3),\n",
       " Block(token_count=1, start_position=11, end_position=13, all_start_positions=[5, 12, 23], witnesses={0, 1, 2}, witness_count=3, frequency=3),\n",
       " Block(token_count=1, start_position=15, end_position=17, all_start_positions=[1, 11, 17], witnesses={0, 1, 2}, witness_count=3, frequency=3),\n",
       " Block(token_count=3, start_position=15, end_position=16, all_start_positions=[1, 17], witnesses={0, 2}, witness_count=2, frequency=2),\n",
       " Block(token_count=3, start_position=18, end_position=19, all_start_positions=[7, 14], witnesses={1, 2}, witness_count=2, frequency=2),\n",
       " Block(token_count=2, start_position=7, end_position=8, all_start_positions=[8, 15], witnesses={1, 2}, witness_count=2, frequency=2),\n",
       " Block(token_count=2, start_position=22, end_position=23, all_start_positions=[0, 10], witnesses={0, 1}, witness_count=2, frequency=2),\n",
       " Block(token_count=1, start_position=2, end_position=6, all_start_positions=[2, 9, 16, 18, 21], witnesses={0, 1, 2}, witness_count=3, frequency=5),\n",
       " Block(token_count=1, start_position=18, end_position=23, all_start_positions=[0, 3, 7, 10, 14, 19], witnesses={0, 1, 2}, witness_count=3, frequency=6)]"
      ]
     },
     "execution_count": 6,
     "metadata": {
     },
     "output_type": "execute_result"
    }
   ],
   "source": [
    "prioritized_blocks"
   ]
  },
  {
   "cell_type": "code",
   "execution_count": 0,
   "metadata": {
    "collapsed": false
   },
   "outputs": [
   ],
   "source": [
   ]
  }
 ],
 "metadata": {
  "kernelspec": {
   "display_name": "Python 3 (system-wide)",
   "language": "python",
   "metadata": {
    "cocalc": {
     "description": "Python 3 programming language",
     "priority": 100,
     "url": "https://www.python.org/"
    }
   },
   "name": "python3",
   "resource_dir": "/ext/jupyter/kernels/python3"
  },
  "language_info": {
   "codemirror_mode": {
    "name": "ipython",
    "version": 3
   },
   "file_extension": ".py",
   "mimetype": "text/x-python",
   "name": "python",
   "nbconvert_exporter": "python",
   "pygments_lexer": "ipython3",
   "version": "3.8.5"
  }
 },
 "nbformat": 4,
 "nbformat_minor": 4
}