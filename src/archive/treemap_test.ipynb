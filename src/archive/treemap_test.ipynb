{
 "cells": [
  {
   "cell_type": "code",
   "execution_count": 58,
   "metadata": {
    "collapsed": false
   },
   "outputs": [
    {
     "name": "stdout",
     "output_type": "stream",
     "text": [
      "3\n",
      "7\n",
      "3\n",
      "3\n",
      "[1, 3, 7]\n"
     ]
    }
   ],
   "source": [
    "#-------------------------------------------------------------------------------\n",
    "# treeset.py\n",
    "#\n",
    "#\n",
    "# Copyright (C) 2016, Ryosuke Fukatani\n",
    "# License: Apache 2.0\n",
    "#-------------------------------------------------------------------------------\n",
    "\n",
    "import bisect\n",
    "\n",
    "\n",
    "class TreeSet(object):\n",
    "    \"\"\"\n",
    "    Binary-tree set like java Treeset.\n",
    "    Duplicate elements will not be added.\n",
    "    When added new element, TreeSet will be sorted automatically.\n",
    "    \"\"\"\n",
    "    def __init__(self, elements):\n",
    "        self._treeset = []\n",
    "        self.addAll(elements)\n",
    "\n",
    "    def addAll(self, elements):\n",
    "        for element in elements:\n",
    "            if element in self: continue\n",
    "            self.add(element)\n",
    "\n",
    "    def add(self, element):\n",
    "        if element not in self:\n",
    "            bisect.insort(self._treeset, element)\n",
    "\n",
    "    def ceiling(self, e):\n",
    "        if not self._treeset:\n",
    "            return None\n",
    "        index = bisect.bisect_right(self._treeset, e)\n",
    "        if self[index - 1] == e:\n",
    "            return e\n",
    "        try:\n",
    "            return self._treeset[bisect.bisect_right(self._treeset, e)]\n",
    "        except IndexError:\n",
    "            return None\n",
    "\n",
    "    def floor(self, e):\n",
    "        if not self._treeset:\n",
    "            return None\n",
    "        index = bisect.bisect_left(self._treeset, e)\n",
    "        if index == len(self._treeset):\n",
    "            return self[index-1]\n",
    "        if self[index] == e:\n",
    "            return e\n",
    "        check = self._treeset[bisect.bisect_left(self._treeset, e) - 1]\n",
    "        if check <= e:\n",
    "            return check\n",
    "        return None\n",
    "\n",
    "    def __getitem__(self, num):\n",
    "        return self._treeset[num]\n",
    "\n",
    "    def __len__(self):\n",
    "        return len(self._treeset)\n",
    "\n",
    "    def clear(self):\n",
    "        \"\"\"Delete all elements in TreeSet.\"\"\"\n",
    "        self._treeset = []\n",
    "\n",
    "    def clone(self):\n",
    "        \"\"\"Return shallow copy of self.\"\"\"\n",
    "        return TreeSet(self._treeset)\n",
    "\n",
    "    def remove(self, element):\n",
    "        \"\"\"Remove element if element in TreeSet.\"\"\"\n",
    "        try:\n",
    "            self._treeset.remove(element)\n",
    "        except ValueError:\n",
    "            return False\n",
    "        return True\n",
    "\n",
    "    def __iter__(self):\n",
    "        \"\"\"Do ascending iteration for TreeSet\"\"\"\n",
    "        for element in self._treeset:\n",
    "            yield element\n",
    "\n",
    "    def pop(self, index):\n",
    "        return self._treeset.pop(index)\n",
    "\n",
    "    def __str__(self):\n",
    "        return str(self._treeset)\n",
    "\n",
    "    def __eq__(self, target):\n",
    "        if isinstance(target, TreeSet):\n",
    "            return self._treeset == target.treeset\n",
    "        elif isinstance(target, list):\n",
    "            return self._treeset == target\n",
    "        return None\n",
    "\n",
    "    def __contains__(self, e):\n",
    "        \"\"\"Fast attribution judgment by bisect\"\"\"\n",
    "        try:\n",
    "            return e == self._treeset[bisect.bisect_left(self._treeset, e)]\n",
    "        except Exception:\n",
    "            return False\n",
    "\n",
    "if __name__ == '__main__':\n",
    "    ts = TreeSet([3,7,7,1,3])\n",
    "    print(ts.floor(4))\n",
    "    print(ts.ceiling(4))\n",
    "    print(ts.floor(3))\n",
    "    print(ts.ceiling(3))\n",
    "    print(ts)"
   ]
  },
  {
   "cell_type": "code",
   "execution_count": 59,
   "metadata": {
    "collapsed": false
   },
   "outputs": [
   ],
   "source": [
    "class TreeMap(dict):\n",
    "    \"\"\"\n",
    "    \"TreeMap\" is a dictionary with sorted keys similar to java TreeMap.\n",
    "    Keys, iteration, items, values will all return values ordered by key.\n",
    "    Otherwise it should behave just like the builtin dict.\n",
    "    \"\"\"\n",
    "\n",
    "    def __init__(self, seq=None, **kwargs):\n",
    "        if seq is None:\n",
    "            super().__init__(**kwargs)\n",
    "        else:\n",
    "            super().__init__(seq, **kwargs)\n",
    "        self.sorted_keys = TreeSet(super().keys())\n",
    "\n",
    "    def __setitem__(self, key, value):\n",
    "        super().__setitem__(key, value)\n",
    "        self.sorted_keys.add(key)\n",
    "\n",
    "    def __delitem__(self, key):\n",
    "        super().__delitem__(key)\n",
    "        self.sorted_keys.remove(key)\n",
    "\n",
    "    def keys(self):\n",
    "        return self.sorted_keys\n",
    "\n",
    "    def items(self):\n",
    "        return [(k, self[k]) for k in self.sorted_keys]\n",
    "\n",
    "    def __iter__(self):\n",
    "        for k in self.sorted_keys:\n",
    "            yield k\n",
    "\n",
    "    def values(self):\n",
    "        for k in self.sorted_keys:\n",
    "            yield self[k]\n",
    "\n",
    "    def clear(self):\n",
    "        super().clear()\n",
    "        self.sorted_keys.clear()"
   ]
  },
  {
   "cell_type": "code",
   "execution_count": 60,
   "metadata": {
    "collapsed": false
   },
   "outputs": [
    {
     "name": "stdout",
     "output_type": "stream",
     "text": [
      "[1, 2, 3, 7]\n",
      "[1, 2, 3, 4, 7]\n",
      "[1, 2, 3, 4]\n",
      "[1, 2, 3, 4]\n",
      "[1, 2, 3, 4, 5, 6]\n",
      "1\n",
      "6\n",
      "True\n",
      "False\n",
      "1\n",
      "3\n"
     ]
    }
   ],
   "source": [
    "ts = TreeSet([3,7,2,7,1,3])\n",
    "print(ts)\n",
    "# >>> [1, 2, 3, 7]\n",
    "\n",
    "ts.add(4)\n",
    "print(ts)\n",
    "# >>> [1, 2, 3, 4, 7]\n",
    "\n",
    "ts.remove(7)\n",
    "print(ts)\n",
    "# >>> [1, 2, 3, 4]\n",
    "\n",
    "ts.remove(5)\n",
    "print(ts)\n",
    "# >>> [1, 2, 3, 4]\n",
    "\n",
    "ts.addAll([3,4,5,6])\n",
    "print(ts)\n",
    "# >>> [1, 2, 3, 4, 5, 6]\n",
    "\n",
    "print(ts[0])\n",
    "# >>> 1\n",
    "\n",
    "print(ts[-1])\n",
    "# >>> 6\n",
    "\n",
    "print(1 in ts)\n",
    "# >>> True\n",
    "\n",
    "print(100 in ts)\n",
    "# >>> False\n",
    "\n",
    "for i in TreeSet([1,3,1]):\n",
    "\tprint(i)\n",
    "# >>> 1\n",
    "# >>> 3\n"
   ]
  },
  {
   "cell_type": "code",
   "execution_count": 61,
   "metadata": {
    "collapsed": false
   },
   "outputs": [
    {
     "data": {
      "text/plain": [
       "{'M': -34, 'Z': 25, 'a': 100, 'm': -4, 'y': 1}"
      ]
     },
     "execution_count": 61,
     "metadata": {
     },
     "output_type": "execute_result"
    }
   ],
   "source": [
    "tm = TreeMap({'y':1, 'a':100, 'm':-4, 'Z':25, 'M': -34} )\n",
    "tm"
   ]
  },
  {
   "cell_type": "code",
   "execution_count": 62,
   "metadata": {
    "collapsed": false
   },
   "outputs": [
    {
     "data": {
      "text/plain": [
       "['M', 'Z', 'a', 'm', 'y']"
      ]
     },
     "execution_count": 62,
     "metadata": {
     },
     "output_type": "execute_result"
    }
   ],
   "source": [
    "list(tm.keys())"
   ]
  },
  {
   "cell_type": "code",
   "execution_count": 63,
   "metadata": {
    "collapsed": false
   },
   "outputs": [
   ],
   "source": [
    "tm.keys().floor('A')"
   ]
  },
  {
   "cell_type": "code",
   "execution_count": 64,
   "metadata": {
    "collapsed": false
   },
   "outputs": [
   ],
   "source": [
    "tm.keys().ceiling('z')"
   ]
  },
  {
   "cell_type": "code",
   "execution_count": 65,
   "metadata": {
    "collapsed": false
   },
   "outputs": [
    {
     "data": {
      "text/plain": [
       "'y'"
      ]
     },
     "execution_count": 65,
     "metadata": {
     },
     "output_type": "execute_result"
    }
   ],
   "source": [
    "tm.keys().floor('z')"
   ]
  },
  {
   "cell_type": "code",
   "execution_count": 66,
   "metadata": {
    "collapsed": false
   },
   "outputs": [
    {
     "data": {
      "text/plain": [
       "'M'"
      ]
     },
     "execution_count": 66,
     "metadata": {
     },
     "output_type": "execute_result"
    }
   ],
   "source": [
    "tm.keys().ceiling('A')"
   ]
  },
  {
   "cell_type": "code",
   "execution_count": 0,
   "metadata": {
    "collapsed": false
   },
   "outputs": [
   ],
   "source": [
   ]
  }
 ],
 "metadata": {
  "kernelspec": {
   "display_name": "Python 3 (system-wide)",
   "language": "python",
   "metadata": {
    "cocalc": {
     "description": "Python 3 programming language",
     "priority": 100,
     "url": "https://www.python.org/"
    }
   },
   "name": "python3",
   "resource_dir": "/ext/jupyter/kernels/python3"
  },
  "language_info": {
   "codemirror_mode": {
    "name": "ipython",
    "version": 3
   },
   "file_extension": ".py",
   "mimetype": "text/x-python",
   "name": "python",
   "nbconvert_exporter": "python",
   "pygments_lexer": "ipython3",
   "version": "3.8.5"
  }
 },
 "nbformat": 4,
 "nbformat_minor": 4
}