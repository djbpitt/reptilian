{
 "cells": [
  {
   "cell_type": "code",
   "execution_count": 1,
   "metadata": {
    "collapsed": false,
    "scrolled": true
   },
   "outputs": [
   ],
   "source": [
    "# # Fails\n",
    "# # Answer #1 at https://stackoverflow.com/questions/40295024/graphviz-source-not-rendering-in-jupyter-notebook\n",
    "# import graphviz\n",
    "# from IPython.display import SVG, display\n",
    "# with open('Digraph.gv') as f:\n",
    "#     source = f.read()\n",
    "# len(source)\n",
    "# # Crashes. Source (4M) is too large for environment?\n",
    "# # gvz = graphviz.Source(source)\n",
    "# # SVG(gvz.view())"
   ]
  },
  {
   "cell_type": "code",
   "execution_count": 2,
   "metadata": {
    "collapsed": false
   },
   "outputs": [
    {
     "name": "stdout",
     "output_type": "stream",
     "text": [
      "\tsubgraph w0child {\n",
      "                  ^\n",
      "Expected \"}\", found '{'  (at char 66), (line:5, col:19)\n"
     ]
    }
   ],
   "source": [
    "# # Fails\n",
    "# # Answer #2 at https://stackoverflow.com/questions/40295024/graphviz-source-not-rendering-in-jupyter-notebook\n",
    "# import pydotplus\n",
    "# pydot_graph = pydotplus.graph_from_dot_file(\"Digraph.gv\")"
   ]
  },
  {
   "cell_type": "code",
   "execution_count": 0,
   "metadata": {
    "collapsed": false
   },
   "outputs": [
   ],
   "source": [
   ]
  }
 ],
 "metadata": {
  "kernelspec": {
   "display_name": "Python 3 (system-wide)",
   "language": "python",
   "metadata": {
    "cocalc": {
     "description": "Python 3 programming language",
     "priority": 100,
     "url": "https://www.python.org/"
    }
   },
   "name": "python3",
   "resource_dir": "/ext/jupyter/kernels/python3"
  },
  "language_info": {
   "codemirror_mode": {
    "name": "ipython",
    "version": 3
   },
   "file_extension": ".py",
   "mimetype": "text/x-python",
   "name": "python",
   "nbconvert_exporter": "python",
   "pygments_lexer": "ipython3",
   "version": "3.8.10"
  }
 },
 "nbformat": 4,
 "nbformat_minor": 4
}