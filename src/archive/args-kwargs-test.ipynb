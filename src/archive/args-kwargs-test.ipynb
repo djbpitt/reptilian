{
 "cells": [
  {
   "cell_type": "code",
   "execution_count": 25,
   "metadata": {
    "collapsed": false
   },
   "outputs": [
   ],
   "source": [
    "class VG_node():\n",
    "    \"\"\"Variant graph node, used as key in skiplist\n",
    "\n",
    "    We don't care about the value in the skiplist; the node contains all information\"\"\"\n",
    "    def __init__(self, block_id=None, token_offset=None, **kwargs):\n",
    "        self.__dict__.update(kwargs)\n",
    "        self._sigla = [key for key in kwargs.keys()]\n",
    "        self.block_id = block_id\n",
    "        self.token_offset = token_offset\n",
    "    def __repr__(self):\n",
    "        return \"|\".join([\":\".join([str(key), str(getattr(self, key))]) for key in self.sigla()])\n",
    "    def __setitem__(self, key, value):\n",
    "        self._sigla.add(key)\n",
    "        self.__dict__[key] = value\n",
    "    def __getitem__(self, key):\n",
    "        return self.__dict__[key]\n",
    "    def __contains__(self, key):\n",
    "        return key in self.__dict__\n",
    "    def sigla(self):\n",
    "        return self._sigla\n",
    "    def find_shared_sigla(self, other):\n",
    "        \"\"\"Return shared sigla for use in comparison, raise error if none\"\"\"\n",
    "        shared_sigla = sorted(set(self.sigla()).intersection(set(other.sigla())))\n",
    "        if not shared_sigla:\n",
    "            raise ComparisonError(\"No shared sigla; cannot be compared\")\n",
    "        return shared_sigla\n",
    "    def __eq__(self, other):\n",
    "        shared_sigla = self.find_shared_sigla(other)\n",
    "        return [getattr(self, siglum) for siglum in shared_sigla] == [getattr(other, siglum) for siglum in shared_sigla]\n",
    "    def __lt__(self, other):\n",
    "        shared_sigla = self.find_shared_sigla(other)\n",
    "#         print(\"We are comparing the following sigla: \"+str(shared_sigla))\n",
    "#         print(str(self) + \" : \" + str(other))\n",
    "        return [getattr(self, siglum) for siglum in shared_sigla] < [getattr(other, siglum) for siglum in shared_sigla]"
   ]
  },
  {
   "cell_type": "code",
   "execution_count": 26,
   "metadata": {
    "collapsed": false
   },
   "outputs": [
   ],
   "source": [
    "v1 = VG_node(1, 3, w1=10, w2=11)"
   ]
  },
  {
   "cell_type": "code",
   "execution_count": 27,
   "metadata": {
    "collapsed": false
   },
   "outputs": [
    {
     "data": {
      "text/plain": [
       "w1:10|w2:11"
      ]
     },
     "execution_count": 27,
     "metadata": {
     },
     "output_type": "execute_result"
    }
   ],
   "source": [
    "v1"
   ]
  },
  {
   "cell_type": "code",
   "execution_count": 28,
   "metadata": {
    "collapsed": false
   },
   "outputs": [
   ],
   "source": [
    "v2 = VG_node(w1=12, w2=13)"
   ]
  },
  {
   "cell_type": "code",
   "execution_count": 29,
   "metadata": {
    "collapsed": false
   },
   "outputs": [
    {
     "data": {
      "text/plain": [
       "w1:12|w2:13"
      ]
     },
     "execution_count": 29,
     "metadata": {
     },
     "output_type": "execute_result"
    }
   ],
   "source": [
    "v2"
   ]
  },
  {
   "cell_type": "code",
   "execution_count": 31,
   "metadata": {
    "collapsed": false
   },
   "outputs": [
    {
     "data": {
      "text/plain": [
       "1"
      ]
     },
     "execution_count": 31,
     "metadata": {
     },
     "output_type": "execute_result"
    }
   ],
   "source": [
    "v1.block_id"
   ]
  },
  {
   "cell_type": "code",
   "execution_count": 32,
   "metadata": {
    "collapsed": false
   },
   "outputs": [
    {
     "data": {
      "text/plain": [
       "3"
      ]
     },
     "execution_count": 32,
     "metadata": {
     },
     "output_type": "execute_result"
    }
   ],
   "source": [
    "v1.token_offset"
   ]
  },
  {
   "cell_type": "code",
   "execution_count": 33,
   "metadata": {
    "collapsed": false
   },
   "outputs": [
   ],
   "source": [
    "v2.block_id"
   ]
  },
  {
   "cell_type": "code",
   "execution_count": 34,
   "metadata": {
    "collapsed": false
   },
   "outputs": [
   ],
   "source": [
    "v2.token_offset"
   ]
  },
  {
   "cell_type": "code",
   "execution_count": 0,
   "metadata": {
    "collapsed": false
   },
   "outputs": [
   ],
   "source": [
   ]
  }
 ],
 "metadata": {
  "kernelspec": {
   "display_name": "Python 3 (system-wide)",
   "language": "python",
   "metadata": {
    "cocalc": {
     "description": "Python 3 programming language",
     "priority": 100,
     "url": "https://www.python.org/"
    }
   },
   "name": "python3",
   "resource_dir": "/ext/jupyter/kernels/python3"
  },
  "language_info": {
   "codemirror_mode": {
    "name": "ipython",
    "version": 3
   },
   "file_extension": ".py",
   "mimetype": "text/x-python",
   "name": "python",
   "nbconvert_exporter": "python",
   "pygments_lexer": "ipython3",
   "version": "3.8.5"
  }
 },
 "nbformat": 4,
 "nbformat_minor": 4
}