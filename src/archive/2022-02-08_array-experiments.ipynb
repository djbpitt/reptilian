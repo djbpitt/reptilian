{
 "cells": [
  {
   "cell_type": "code",
   "execution_count": 1,
   "metadata": {
    "collapsed": false
   },
   "outputs": [
   ],
   "source": [
    "import numpy as np"
   ]
  },
  {
   "cell_type": "code",
   "execution_count": 2,
   "metadata": {
    "collapsed": false
   },
   "outputs": [
    {
     "name": "stdout",
     "output_type": "stream",
     "text": [
      "False\n",
      "False\n"
     ]
    }
   ],
   "source": [
    "# it is not practical to make both the outer and inner structures numpy arrays\n",
    "# if the outer structure is a numpy array, Python copies instead of using pointers\n",
    "d0 = np.array([1, 2, 3, 4])\n",
    "w0 = np.array(d0)\n",
    "w1 = np.array(d0)\n",
    "print(w0 is w1) # should be false\n",
    "print(w0[0] is w1[0]) # we want this to be true, but it isn't"
   ]
  },
  {
   "cell_type": "code",
   "execution_count": 11,
   "metadata": {
    "collapsed": false
   },
   "outputs": [
    {
     "name": "stdout",
     "output_type": "stream",
     "text": [
      "False\n",
      "False\n",
      "4\n"
     ]
    }
   ],
   "source": [
    "# it also is not practical to make just the outer structures numpy arrays\n",
    "# in this case the wrapper unpacks the array, so instead of a single value\n",
    "#  that points to an inner array we get unpacked individual values\n",
    "d0 = [1, 2, 3, 4]\n",
    "w0 = np.array(d0)\n",
    "w1 = np.array(d0)\n",
    "print(w0 is w1) # should be false\n",
    "print(w0[0] is w1[0]) # we want this to be true\n",
    "print(w0.size) # four integer values, instead of one list value"
   ]
  },
  {
   "cell_type": "code",
   "execution_count": 12,
   "metadata": {
    "collapsed": false
   },
   "outputs": [
    {
     "name": "stdout",
     "output_type": "stream",
     "text": [
      "False\n",
      "True\n",
      "1\n",
      "4\n"
     ]
    }
   ],
   "source": [
    "d0 = np.array([1, 2, 3, 4])\n",
    "w0 = [d0]\n",
    "w1 = [d0]\n",
    "print(w0 is w1) # should be false\n",
    "print(w0[0] is w1[0]) # we want this to be true\n",
    "print(len(w0)) # wrapper has only a single content item\n",
    "print(w0[0].size) # the content item is a numpy array with one value per \"witness\""
   ]
  },
  {
   "cell_type": "code",
   "execution_count": 13,
   "metadata": {
    "collapsed": false
   },
   "outputs": [
    {
     "name": "stdout",
     "output_type": "stream",
     "text": [
      "[array([  1,   2, 100,   4])]\n",
      "[array([  1,   2, 100,   4])]\n"
     ]
    }
   ],
   "source": [
    "w0[0][2] = 100 # change the value of the inner array for one wrapper\n",
    "print(w0) # both wrappers point to the same object\n",
    "print(w1) # so the value for the inner array changes for both in sync"
   ]
  },
  {
   "cell_type": "code",
   "execution_count": 18,
   "metadata": {
    "collapsed": false
   },
   "outputs": [
    {
     "name": "stdout",
     "output_type": "stream",
     "text": [
      "100\n",
      "None\n"
     ]
    }
   ],
   "source": [
    "l = [None] * 100 # initialize list of fixed size\n",
    "print(len(l)) # confirm the size\n",
    "print(l[99]) # confirm a value"
   ]
  },
  {
   "cell_type": "markdown",
   "metadata": {
    "collapsed": false
   },
   "source": [
    "# Next steps\n",
    "\n",
    "1. Create lists of preset length of each witness, initialized to `None` values\n",
    "2. As data is added, create numpy vectors of length equal to the number of witnesses, with `0` (pseudo-null) values or witness offset (one-based)"
   ]
  },
  {
   "cell_type": "code",
   "execution_count": 0,
   "metadata": {
    "collapsed": false
   },
   "outputs": [
   ],
   "source": [
   ]
  }
 ],
 "metadata": {
  "kernelspec": {
   "display_name": "Python 3 (system-wide)",
   "language": "python",
   "metadata": {
    "cocalc": {
     "description": "Python 3 programming language",
     "priority": 100,
     "url": "https://www.python.org/"
    }
   },
   "name": "python3",
   "resource_dir": "/ext/jupyter/kernels/python3"
  }
 },
 "nbformat": 4,
 "nbformat_minor": 4
}