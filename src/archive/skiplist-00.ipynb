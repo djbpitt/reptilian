{
 "cells": [
  {
   "cell_type": "code",
   "execution_count": 1,
   "metadata": {
    "collapsed": false
   },
   "outputs": [
   ],
   "source": [
    "from dataclasses import dataclass\n",
    "\n",
    "@dataclass\n",
    "class SkiplistNode:\n",
    "    level:int\n",
    "    key:str\n",
    "    value:str\n",
    "    name:str = None"
   ]
  },
  {
   "cell_type": "code",
   "execution_count": 2,
   "metadata": {
    "collapsed": false
   },
   "outputs": [
    {
     "data": {
      "text/plain": [
       "SkiplistNode(level=2, key='0010', value='cat', name=None)"
      ]
     },
     "execution_count": 2,
     "metadata": {
     },
     "output_type": "execute_result"
    }
   ],
   "source": [
    "test = SkiplistNode(level=2, key=\"0010\", value=\"cat\")\n",
    "test"
   ]
  },
  {
   "cell_type": "code",
   "execution_count": 3,
   "metadata": {
    "collapsed": false
   },
   "outputs": [
   ],
   "source": [
    "#\n",
    "# This file is part of Bluepass. Bluepass is Copyright (c) 2012-2014\n",
    "# Geert Jansen.\n",
    "#\n",
    "# Bluepass is free software available under the GNU General Public License,\n",
    "# version 3. See the file LICENSE distributed with this file for the exact\n",
    "# licensing terms.\n",
    "\n",
    "from __future__ import absolute_import, print_function\n",
    "\n",
    "import os\n",
    "import sys\n",
    "import math\n",
    "import random\n",
    "\n",
    "__all__ = ['SkipList']\n",
    "\n",
    "\n",
    "# The following functions are debugging functions. They are available only when\n",
    "# Python is not started with -O.\n",
    "\n",
    "if __debug__:\n",
    "\n",
    "    def fmtnode(node):\n",
    "        \"\"\"Format a single skiplist node.\"\"\"\n",
    "        level = max(1, len(node) - 3)\n",
    "        skip = '(none)' if level == 1 else node[-1]\n",
    "        return '<Node(level={}, key={}, value={}, skip={})>' \\\n",
    "                    .format(level, node[0], node[1], skip)\n",
    "\n",
    "    def dump(sl, file=sys.stdout):\n",
    "        \"\"\"Dump a skiplist to standard output.\"\"\"\n",
    "        print('== Dumping skiplist {0!r}'.format(sl), file=file)\n",
    "        print('Level: {}/{}'.format(sl.level, sl.maxlevel), file=file)\n",
    "        print('Size: {}'.format(len(sl)), file=file)\n",
    "        node = sl._head\n",
    "        print('{0} (head)'.format(fmtnode(node)), file=file)\n",
    "        node = node[2]\n",
    "        avglvl = avglen = avgsiz = 0\n",
    "        while node is not sl._tail:\n",
    "            print('{0}'.format(fmtnode(node)), file=file)\n",
    "            node = node[2]\n",
    "            avglvl += max(1, len(node) - 3)\n",
    "            avglen += len(node)\n",
    "            avgsiz += nodesize(node)\n",
    "        print('{0} (tail)'.format(fmtnode(node)), file=file)\n",
    "        print('Avg level: {:.2f}'.format(avglvl/len(sl)), file=file)\n",
    "        print('Avg node len: {:.2f}'.format(avglen/len(sl)), file=file)\n",
    "        print('Avg node memory: {:.2f}'.format(avgsiz/len(sl)), file=file)\n",
    "        print(file=file)\n",
    "\n",
    "    def getSkiplistNodeData(node):\n",
    "        level = max(1, len(node) - 3)\n",
    "        key = node[0]\n",
    "        value = node[1]\n",
    "        return(level, key, value)\n",
    "\n",
    "    def dumpNodes(sl):\n",
    "        SkiplistNodes = []\n",
    "        node = sl._head\n",
    "        nodeValues = getSkiplistNodeData(node)\n",
    "        SkiplistNodes.append(SkiplistNode(level=nodeValues[0], key=nodeValues[1], value=nodeValues[2], name=\"head\"))\n",
    "        node = node[2]\n",
    "        while node is not sl._tail:\n",
    "            nodeValues = getSkiplistNodeData(node)\n",
    "            SkiplistNodes.append(SkiplistNode(level=nodeValues[0], key=nodeValues[1], value=nodeValues[2]))\n",
    "            node = node[2]\n",
    "        nodeValues = getSkiplistNodeData(node)\n",
    "        SkiplistNodes.append(SkiplistNode(level=nodeValues[0], key=nodeValues[1], value=nodeValues[2], name=\"tail\"))\n",
    "        return SkiplistNodes\n",
    "\n",
    "    def check(sl):\n",
    "        \"\"\"Check the internal structure of a skiplist.\"\"\"\n",
    "        level = sl.maxlevel\n",
    "        assert level > 0\n",
    "        while sl._head[1+level] is sl._tail and level > 1:\n",
    "            level -= 1\n",
    "        assert level == sl.level\n",
    "        assert sl._head[0] is sl._head[1] is None\n",
    "        assert sl._head[-1] == 0\n",
    "        pos = 0\n",
    "        node = sl._head\n",
    "        inbound = {id(sl._head): 0, id(sl._tail): len(sl)}\n",
    "        while node is not sl._tail:\n",
    "            assert isinstance(node, list)\n",
    "            level = min(sl.level, max(1, len(node)-3))\n",
    "            assert 1 <= level <= sl.maxlevel\n",
    "            for i in range(1, level):\n",
    "                fnode = node[2+i]\n",
    "                flevel = min(sl.level, max(1, len(fnode)-3))\n",
    "                if i == flevel-1:\n",
    "                    inbound[id(fnode)] = pos\n",
    "            if level > 1:\n",
    "                assert id(node) in inbound\n",
    "                assert pos == inbound[id(node)] + node[-1]\n",
    "            for i in range(level):\n",
    "                fnode = node[2+i]\n",
    "                assert isinstance(fnode, list)\n",
    "                level = max(1, len(node) - 3)\n",
    "                assert level >= i+1\n",
    "            node = node[2]\n",
    "            pos += 1\n",
    "        assert sl._tail[0] is None\n",
    "        assert sl._tail[1] is None\n",
    "        for i in range(sl.maxlevel):\n",
    "            assert sl._tail[2+i] is None\n",
    "        assert len(sl) == inbound[id(sl._tail)] + node[-1]\n",
    "\n",
    "    def nodesize(node):\n",
    "        \"\"\"Return the size of a skiplist node.\"\"\"\n",
    "        size = sys.getsizeof(node)\n",
    "        size += sys.getsizeof(node[0])\n",
    "        size += sys.getsizeof(node[1])\n",
    "        # All elements in [3:-1] are references so don't count\n",
    "        if len(node) > 3:\n",
    "            size += sys.getsizeof(node[-1])\n",
    "        return size\n",
    "\n",
    "    def getsize(sl):\n",
    "        \"\"\"Return total size of a skiplist.\"\"\"\n",
    "        size = sys.getsizeof(sl)\n",
    "        size += sys.getsizeof(sl._level)\n",
    "        node = sl._head\n",
    "        while node is not sl._tail:\n",
    "            size += nodesize(node)\n",
    "            node = node[2]\n",
    "        size += nodesize(node)\n",
    "        size += sys.getsizeof(sl._path)  # contains references or None\n",
    "        size += sys.getsizeof(sl._distance)\n",
    "        for el in sl._distance:\n",
    "            size += sys.getsizeof(el)\n",
    "        return size\n",
    "\n",
    "\n",
    "class SkipList(object):\n",
    "    \"\"\"An indexable skip list.\n",
    "\n",
    "    A SkipList provides an ordered sequence of key-value pairs. The list is\n",
    "    always sorted on key and supports O(1) forward iteration. It has O(log N)\n",
    "    time complexity for key lookup, pair insertion and pair removal anywhere in\n",
    "    the list. The list also supports O(log N) element access by position.\n",
    "\n",
    "    The keys of all pairs you add to the skiplist must be be comparable against\n",
    "    each other, and define the ``<`` and ``<=`` operators.\n",
    "    \"\"\"\n",
    "\n",
    "    UNSET = object()\n",
    "\n",
    "    p = int((1<<31) / math.e)\n",
    "    maxlevel = 20\n",
    "\n",
    "    # Kudos to http://pythonsweetness.tumblr.com/post/45227295342 for some\n",
    "    # useful tricks, including using a list for the nodes to save memory.\n",
    "\n",
    "    # Use the built-in Mersenne Twister random number generator. It is more\n",
    "    # appropriate than SystemRandom because we don't need cryptographically\n",
    "    # secure random numbers, and we don't want to do a system call to read\n",
    "    # /dev/urandom for each random number we need (every insertion needs a new\n",
    "    # random number).\n",
    "\n",
    "    _rnd = random.Random()\n",
    "    _rnd.seed(os.urandom(16))\n",
    "\n",
    "    __slots__ = ('_level', '_head', '_tail', '_path', '_distance')\n",
    "\n",
    "    def __init__(self):\n",
    "        self._level = 1\n",
    "        self._head = self._new_node(self.maxlevel, None, None)\n",
    "        self._tail = self._new_node(self.maxlevel, None, None)\n",
    "        for i in range(self.maxlevel):\n",
    "            self._head[2+i] = self._tail\n",
    "        self._path = [None] * self.maxlevel\n",
    "        self._distance = [None] * self.maxlevel\n",
    "\n",
    "    def _new_node(self, level, key, value):\n",
    "        # Node layout: [key, value, next*LEVEL, skip?]\n",
    "        # The \"skip\" element indicates how many nodes are skipped by the\n",
    "        # highest level incoming link.\n",
    "        if level == 1:\n",
    "            return [key, value, None]\n",
    "        else:\n",
    "            return [key, value] + [None]*level + [0]\n",
    "\n",
    "    def _random_level(self):\n",
    "        # Exponential distribution as per Pugh's paper.\n",
    "        l = 1\n",
    "        maxlevel = min(self.maxlevel, self.level+1)\n",
    "        while l < maxlevel and self._rnd.getrandbits(31) < self.p:\n",
    "            l += 1\n",
    "        return l\n",
    "\n",
    "    def _create_node(self, key, value):\n",
    "        # Create a new node, updating the list level if required.\n",
    "        level = self._random_level()\n",
    "        if level > self.level:\n",
    "            self._tail[-1] = len(self)\n",
    "            self._level = level\n",
    "            self._path[level-1] = self._head\n",
    "            self._distance[level-1] = 0\n",
    "        return self._new_node(level, key, value)\n",
    "\n",
    "    def _find_lt(self, key):\n",
    "        # Find path to last node < key\n",
    "        node = self._head\n",
    "        distance = 0\n",
    "        for i in reversed(range(self.level)):\n",
    "            nnode = node[2+i]\n",
    "            while nnode is not self._tail and nnode[0] < key:\n",
    "                nnode, node = nnode[2+i], nnode\n",
    "                distance += 1 if i == 0 else node[-1]\n",
    "            self._path[i] = node\n",
    "            self._distance[i] = distance\n",
    "\n",
    "    def _find_lte(self, key):\n",
    "        # Find path to last node <= key\n",
    "        node = self._head\n",
    "        distance = 0\n",
    "        for i in reversed(range(self.level)):\n",
    "            nnode = node[2+i]\n",
    "            while nnode is not self._tail and nnode[0] <= key:\n",
    "                nnode, node = nnode[2+i], nnode\n",
    "                distance += 1 if i == 0 else node[-1]\n",
    "            self._path[i] = node\n",
    "            self._distance[i] = distance\n",
    "\n",
    "    def _find_pos(self, pos):\n",
    "        # Create path to node at pos.\n",
    "        node = self._head\n",
    "        distance = 0\n",
    "        for i in reversed(range(self.level)):\n",
    "            nnode = node[2+i]\n",
    "            ndistance = distance + (1 if i == 0 else nnode[-1])\n",
    "            while nnode is not self._tail and ndistance <= pos:\n",
    "                nnode, node, distance = nnode[2+i], nnode, ndistance\n",
    "                ndistance += 1 if i == 0 else nnode[-1]\n",
    "            self._path[i] = node\n",
    "            self._distance[i] = distance\n",
    "\n",
    "    def _insert(self, node):\n",
    "        # Insert a node in the list. The _path and _distance must be set.\n",
    "        path, distance = self._path, self._distance\n",
    "        # Update pointers\n",
    "        level = max(1, len(node) - 3)\n",
    "        for i in range(level):\n",
    "            node[2+i] = path[i][2+i]\n",
    "            path[i][2+i] = node\n",
    "        if level > 1:\n",
    "            node[-1] = 1 + distance[0] - distance[level-1]\n",
    "        # Update skip counts\n",
    "        node = node[2]\n",
    "        i = 2; j = min(len(node) - 3, self.level)\n",
    "        while i <= self.level:\n",
    "            while j < i:\n",
    "                node = node[i]\n",
    "                j = min(len(node) - 3, self.level)\n",
    "            node[-1] -= distance[0] - distance[j-1] if j <= level else -1\n",
    "            i = j+1\n",
    "\n",
    "    def _remove(self, node):\n",
    "        # Remove a node. The _path and _distance must be set.\n",
    "        path, distance = self._path, self._distance\n",
    "        level = max(1, len(node) - 3)\n",
    "        for i in range(level):\n",
    "            path[i][2+i] = node[2+i]\n",
    "        # Update skip counts\n",
    "        value = node[1]\n",
    "        node = node[2]\n",
    "        i = 2; j = min(len(node) - 3, self.level)\n",
    "        while i <= self.level:\n",
    "            while j < i:\n",
    "                node = node[i]\n",
    "                j = min(len(node) - 3, self.level)\n",
    "            node[-1] += distance[0] - distance[j-1] if j <= level else -1\n",
    "            i = j+1\n",
    "        # Reduce level if last node on current level was removed\n",
    "        while self.level > 1 and self._head[1+self.level] is self._tail:\n",
    "            self._level -= 1\n",
    "            self._tail[-1] += self._tail[-1] - len(self)\n",
    "        return value\n",
    "\n",
    "    # PUBLIC API ...\n",
    "\n",
    "    @property\n",
    "    def level(self):\n",
    "        \"\"\"The current level of the skip list.\"\"\"\n",
    "        return self._level\n",
    "\n",
    "    def insert(self, key, value):\n",
    "        \"\"\"Insert a key-value pair in the list.\n",
    "\n",
    "        The pair is inserted at the correct location so that the list remains\n",
    "        sorted on *key*. If a pair with the same key is already in the list,\n",
    "        then the pair is appended after all other pairs with that key.\n",
    "        \"\"\"\n",
    "        self._find_lte(key)\n",
    "        node = self._create_node(key, value)\n",
    "        self._insert(node)\n",
    "\n",
    "    def replace(self, key, value):\n",
    "        \"\"\"Replace the value of the first key-value pair with key *key*.\n",
    "\n",
    "        If the key was not found, the pair is inserted.\n",
    "        \"\"\"\n",
    "        self._find_lt(key)\n",
    "        node = self._path[0][2]\n",
    "        if node is self._tail or key < node[0]:\n",
    "            node = self._create_node(key, value)\n",
    "            self._insert(node)\n",
    "        else:\n",
    "            node[1] = value\n",
    "\n",
    "    def clear(self):\n",
    "        \"\"\"Remove all key-value pairs.\"\"\"\n",
    "        for i in range(self.maxlevel):\n",
    "            self._head[2+i] = self._tail\n",
    "            self._tail[-1] = 0\n",
    "        self._level = 1\n",
    "\n",
    "    def __len__(self):\n",
    "        \"\"\"Return the number of pairs in the list.\"\"\"\n",
    "        dist = 0\n",
    "        idx = self.level + 1\n",
    "        node = self._head[idx]\n",
    "        while node is not self._tail:\n",
    "            dist += node[-1] if idx > 2 else 1\n",
    "            node = node[idx]\n",
    "        dist += node[-1]\n",
    "        return dist\n",
    "\n",
    "    __bool__ = __nonzero__ = lambda self: len(self) > 0\n",
    "\n",
    "    def __repr__(self):\n",
    "        return type(self).__name__ + '((' + repr(list(self.items()))[1:-1] + '))'\n",
    "\n",
    "    def items(self, start=None, stop=None):\n",
    "        \"\"\"Return an iterator yielding pairs.\n",
    "\n",
    "        If *start* is specified, iteration starts at the first pair with a key\n",
    "        that is larger than or equal to *start*. If not specified, iteration\n",
    "        starts at the first pair in the list.\n",
    "\n",
    "        If *stop* is specified, iteration stops at the last pair that is\n",
    "        smaller than *stop*. If not specified, iteration end with the last pair\n",
    "        in the list.\n",
    "        \"\"\"\n",
    "        if start is None:\n",
    "            node = self._head[2]\n",
    "        else:\n",
    "            self._find_lt(start)\n",
    "            node = self._path[0][2]\n",
    "        while node is not self._tail and (stop is None or node[0] < stop):\n",
    "            yield (node[0], node[1])\n",
    "            node = node[2]\n",
    "\n",
    "    __iter__ = items\n",
    "\n",
    "    def keys(self, start=None, stop=None):\n",
    "        \"\"\"Like :meth:`items` but returns only the keys.\"\"\"\n",
    "        return (item[0] for item in self.items(start, stop))\n",
    "\n",
    "    def values(self, start=None, stop=None):\n",
    "        \"\"\"Like :meth:`items` but returns only the values.\"\"\"\n",
    "        return (item[1] for item in self.items(start, stop))\n",
    "\n",
    "    def popitem(self):\n",
    "        \"\"\"Removes the first key-value pair and return it.\n",
    "\n",
    "        This method raises a ``KeyError`` if the list is empty.\n",
    "        \"\"\"\n",
    "        node = self._head[2]\n",
    "        if node is self._tail:\n",
    "            raise KeyError('list is empty')\n",
    "        self._find_lt(node[0])\n",
    "        self._remove(node)\n",
    "        return (node[0], node[1])\n",
    "\n",
    "    # BY KEY API ...\n",
    "\n",
    "    def search(self, key, default=None):\n",
    "        \"\"\"Find the first key-value pair with key *key* and return its value.\n",
    "\n",
    "        If the key was not found, return *default*. If no default was provided,\n",
    "        return ``None``. This method never raises a ``KeyError``.\n",
    "        \"\"\"\n",
    "        self._find_lt(key)\n",
    "        node = self._path[0][2]\n",
    "        if node is self._tail or key < node[0]:\n",
    "            return default\n",
    "        return node[1]\n",
    "\n",
    "    def remove(self, key):\n",
    "        \"\"\"Remove the first key-value pair with key *key*.\n",
    "\n",
    "        If the key was not found, a ``KeyError`` is raised.\n",
    "        \"\"\"\n",
    "        self._find_lt(key)\n",
    "        node = self._path[0][2]\n",
    "        if node is self._tail or key < node[0]:\n",
    "            raise KeyError('{!r} is not in list'.format(key))\n",
    "        self._remove(node)\n",
    "\n",
    "    def pop(self, key, default=UNSET):\n",
    "        \"\"\"Remove the first key-value pair with key *key*.\n",
    "\n",
    "        If a pair was removed, return its value. Otherwise if *default* was\n",
    "        provided, return *default*. Otherwise a ``KeyError`` is raised.\n",
    "        \"\"\"\n",
    "        self._find_lt(key)\n",
    "        node = self._path[0][2]\n",
    "        if node is self._tail or key < node[0]:\n",
    "            if default is self.UNSET:\n",
    "                raise KeyError('key {!r} not in list')\n",
    "            return default\n",
    "        self._remove(node)\n",
    "        return node[1]\n",
    "\n",
    "    def __contains__(self, key):\n",
    "        \"\"\"Return whether *key* is contained in the list.\"\"\"\n",
    "        self._find_lt(key)\n",
    "        node = self._path[0][2]\n",
    "        return node is not self._tail and not key < node[0]\n",
    "\n",
    "    def index(self, key, default=UNSET):\n",
    "        \"\"\"Find the first key-value pair with key *key* and return its position.\n",
    "\n",
    "        If the key is not found, return *default*. If default was not provided,\n",
    "        raise a ``KeyError``\n",
    "        \"\"\"\n",
    "        self._find_lt(key)\n",
    "        node = self._path[0][2]\n",
    "        if node is self._tail or key < node[0]:\n",
    "            if default is self.UNSET:\n",
    "                raise KeyError('key {!r} not in list'.format(key))\n",
    "            return default\n",
    "        return self._distance[0]\n",
    "\n",
    "    def count(self, key):\n",
    "        \"\"\"Return the number of pairs with key *key*.\"\"\"\n",
    "        count = 0\n",
    "        pos = self.index(key, -1)\n",
    "        if pos == -1:\n",
    "            return count\n",
    "        count += 1\n",
    "        for i in range(pos+1, len(self)):\n",
    "            if self[i][0] != key:\n",
    "                break\n",
    "            count += 1\n",
    "        return count\n",
    "\n",
    "    # BY POSITION API ...\n",
    "\n",
    "    def __getitem__(self, pos):\n",
    "        \"\"\"Return a pair by its position.\n",
    "\n",
    "        If *pos* is a slice, then return a generator that yields pairs as\n",
    "        specified by the slice.\n",
    "        \"\"\"\n",
    "        size = len(self)\n",
    "        if isinstance(pos, int):\n",
    "            if pos < 0:\n",
    "                pos += size\n",
    "            if not 0 <= pos < size:\n",
    "                raise IndexError('list index out of range')\n",
    "            self._find_pos(pos)\n",
    "            node = self._path[0][2]\n",
    "            return (node[0], node[1])\n",
    "        elif isinstance(pos, slice):\n",
    "            start, stop = pos.start, pos.stop\n",
    "            if start is None:\n",
    "                start = 0\n",
    "            elif start < 0:\n",
    "                start += size\n",
    "            if stop is None:\n",
    "                stop = size\n",
    "            elif stop < 0:\n",
    "                stop += size\n",
    "            self._find_pos(start)\n",
    "            def genpairs():\n",
    "                pos = start; node = self._path[0][2]\n",
    "                while node is not self._tail and pos < stop:\n",
    "                    yield (node[0], node[1])\n",
    "                    node = node[2]; pos += 1\n",
    "            return genpairs()\n",
    "        else:\n",
    "            raise TypeError('expecting int or slice, got {0.__name__!r}'.format(type(pos)))\n",
    "\n",
    "    def __delitem__(self, pos):\n",
    "        \"\"\"Delete a pair by its position.\"\"\"\n",
    "        if not isinstance(pos, int):\n",
    "            raise TypeError('expecting int, got {0.__name__!r}'.format(type(pos)))\n",
    "        size = len(self)\n",
    "        if pos < 0:\n",
    "            pos += size\n",
    "        if not 0 <= pos < size:\n",
    "            raise IndexError('list index out of range')\n",
    "        self._find_pos(pos)\n",
    "        node = self._path[0][2]\n",
    "        self._remove(node)\n",
    "\n",
    "    def __setitem__(self, pos, value):\n",
    "        \"\"\"Set a value by its position.\"\"\"\n",
    "        if not isinstance(pos, int):\n",
    "            raise TypeError('expecting int, got {0.__name__!r}'.format(type(pos)))\n",
    "        size = len(self)\n",
    "        if pos < 0:\n",
    "            pos += size\n",
    "        if not 0 <= pos < size:\n",
    "            raise IndexError('list index out of range')\n",
    "        self._find_pos(pos)\n",
    "        node = self._path[0][2]\n",
    "        node[1] = value"
   ]
  },
  {
   "cell_type": "code",
   "execution_count": 4,
   "metadata": {
    "collapsed": false
   },
   "outputs": [
    {
     "data": {
      "text/plain": [
       "SkipList((('baz', 'qux'), ('foo', 'bar')))"
      ]
     },
     "execution_count": 4,
     "metadata": {
     },
     "output_type": "execute_result"
    }
   ],
   "source": [
    "sl = SkipList()\n",
    "sl.insert('foo', 'bar')\n",
    "sl.insert('baz', 'qux')\n",
    "sl # SkipList((('baz', 'qux'), ('foo', 'bar')))"
   ]
  },
  {
   "cell_type": "code",
   "execution_count": 5,
   "metadata": {
    "collapsed": false
   },
   "outputs": [
    {
     "name": "stdout",
     "output_type": "stream",
     "text": [
      "== Dumping skiplist SkipList((('baz', 'qux'), ('foo', 'bar')))\n",
      "Level: 2/20\n",
      "Size: 2\n",
      "<Node(level=20, key=None, value=None, skip=0)> (head)\n",
      "<Node(level=1, key=baz, value=qux, skip=(none))>\n",
      "<Node(level=2, key=foo, value=bar, skip=2)>\n",
      "<Node(level=20, key=None, value=None, skip=0)> (tail)\n",
      "Avg level: 11.00\n",
      "Avg node len: 14.00\n",
      "Avg node memory: 262.00\n",
      "\n"
     ]
    }
   ],
   "source": [
    "#  __debug__\n",
    "#  This constant is true if Python was not started with an -O option. See also the assert statement.\n",
    "dump(sl)"
   ]
  },
  {
   "cell_type": "code",
   "execution_count": 6,
   "metadata": {
    "collapsed": false
   },
   "outputs": [
    {
     "data": {
      "text/plain": [
       "SkipList((('0', 'hi'), ('1', 'hi'), ('10', 'hi'), ('11', 'hi'), ('12', 'hi'), ('13', 'hi'), ('14', 'hi'), ('15', 'hi'), ('16', 'hi'), ('17', 'hi'), ('18', 'hi'), ('19', 'hi'), ('2', 'hi'), ('20', 'hi'), ('21', 'hi'), ('22', 'hi'), ('23', 'hi'), ('24', 'hi'), ('25', 'hi'), ('26', 'hi'), ('27', 'hi'), ('28', 'hi'), ('29', 'hi'), ('3', 'hi'), ('30', 'hi'), ('31', 'hi'), ('32', 'hi'), ('33', 'hi'), ('34', 'hi'), ('35', 'hi'), ('36', 'hi'), ('37', 'hi'), ('38', 'hi'), ('39', 'hi'), ('4', 'hi'), ('40', 'hi'), ('41', 'hi'), ('42', 'hi'), ('43', 'hi'), ('44', 'hi'), ('45', 'hi'), ('46', 'hi'), ('47', 'hi'), ('48', 'hi'), ('49', 'hi'), ('5', 'hi'), ('50', 'hi'), ('51', 'hi'), ('52', 'hi'), ('53', 'hi'), ('54', 'hi'), ('55', 'hi'), ('56', 'hi'), ('57', 'hi'), ('58', 'hi'), ('59', 'hi'), ('6', 'hi'), ('60', 'hi'), ('61', 'hi'), ('62', 'hi'), ('63', 'hi'), ('64', 'hi'), ('65', 'hi'), ('66', 'hi'), ('67', 'hi'), ('68', 'hi'), ('69', 'hi'), ('7', 'hi'), ('70', 'hi'), ('71', 'hi'), ('72', 'hi'), ('73', 'hi'), ('74', 'hi'), ('75', 'hi'), ('76', 'hi'), ('77', 'hi'), ('78', 'hi'), ('79', 'hi'), ('8', 'hi'), ('80', 'hi'), ('81', 'hi'), ('82', 'hi'), ('83', 'hi'), ('84', 'hi'), ('85', 'hi'), ('86', 'hi'), ('87', 'hi'), ('88', 'hi'), ('89', 'hi'), ('9', 'hi'), ('90', 'hi'), ('91', 'hi'), ('92', 'hi'), ('93', 'hi'), ('94', 'hi'), ('95', 'hi'), ('96', 'hi'), ('97', 'hi'), ('98', 'hi'), ('99', 'hi')))"
      ]
     },
     "execution_count": 6,
     "metadata": {
     },
     "output_type": "execute_result"
    }
   ],
   "source": [
    "sl_long = SkipList()\n",
    "for i in range(0, 100):\n",
    "    sl_long.insert(str(i), 'hi')\n",
    "sl_long"
   ]
  },
  {
   "cell_type": "code",
   "execution_count": 7,
   "metadata": {
    "collapsed": false
   },
   "outputs": [
    {
     "name": "stdout",
     "output_type": "stream",
     "text": [
      "== Dumping skiplist SkipList((('0000', 'the'), ('0001', 'red'), ('0002', 'and'), ('0003', 'the'), ('0004', 'black'), ('0005', 'cat'), ('0006', 'played'), ('0007', 'with'), ('0008', 'the'), ('0009', 'gray'), ('0010', 'and'), ('0011', 'the'), ('0012', 'brown'), ('0013', 'koalas')))\n",
      "Level: 2/20\n",
      "Size: 14\n",
      "<Node(level=20, key=None, value=None, skip=0)> (head)\n",
      "<Node(level=2, key=0000, value=the, skip=1)>\n",
      "<Node(level=1, key=0001, value=red, skip=(none))>\n",
      "<Node(level=1, key=0002, value=and, skip=(none))>\n",
      "<Node(level=2, key=0003, value=the, skip=3)>\n",
      "<Node(level=1, key=0004, value=black, skip=(none))>\n",
      "<Node(level=1, key=0005, value=cat, skip=(none))>\n",
      "<Node(level=2, key=0006, value=played, skip=3)>\n",
      "<Node(level=1, key=0007, value=with, skip=(none))>\n",
      "<Node(level=2, key=0008, value=the, skip=2)>\n",
      "<Node(level=1, key=0009, value=gray, skip=(none))>\n",
      "<Node(level=1, key=0010, value=and, skip=(none))>\n",
      "<Node(level=2, key=0011, value=the, skip=3)>\n",
      "<Node(level=2, key=0012, value=brown, skip=1)>\n",
      "<Node(level=2, key=0013, value=koalas, skip=1)>\n",
      "<Node(level=20, key=None, value=None, skip=0)> (tail)\n",
      "Avg level: 2.79\n",
      "Avg node len: 5.29\n",
      "Avg node memory: 212.64\n",
      "\n"
     ]
    }
   ],
   "source": [
    "sl_mid = SkipList()\n",
    "sl_tokens = \"the red and the black cat played with the gray and the brown koalas\".split()\n",
    "for index,token in enumerate(sl_tokens):\n",
    "    sl_mid.insert(str(index).zfill(4), token)\n",
    "dump(sl_mid)"
   ]
  },
  {
   "cell_type": "code",
   "execution_count": 8,
   "metadata": {
    "collapsed": false
   },
   "outputs": [
   ],
   "source": [
    "# sl_dumped = dumpNodes(sl_mid) # list representation of Skiplist, used for subsequent processing\n",
    "# sl_dumped # take a look"
   ]
  },
  {
   "cell_type": "code",
   "execution_count": 9,
   "metadata": {
    "collapsed": false
   },
   "outputs": [
   ],
   "source": [
    "# Dataclasses, variables, and functions for SVG visualization of skiplist\n",
    "# Input parameters are in camelCase because Python doesn't allow hyphens in variable names\n",
    "\n",
    "@dataclass\n",
    "class SVGRect:\n",
    "    x: int\n",
    "    y: int\n",
    "    height: int\n",
    "    width: int\n",
    "    stroke: str\n",
    "    strokeWidth: int\n",
    "    fill: str\n",
    "    def __str__(self):\n",
    "        return f'<rect x=\"{self.x}\" y=\"{self.y}\" height=\"{self.height}\" width=\"{self.width}\" stroke=\"{self.stroke}\" stroke-width=\"{self.strokeWidth}\" fill=\"{self.fill}\"/>'\n",
    "\n",
    "@dataclass\n",
    "class SVGCircle:\n",
    "    cx: int\n",
    "    cy: int\n",
    "    r: int\n",
    "    fill: str\n",
    "    def __str__(self):\n",
    "        return f'<circle cx=\"{self.cx}\" cy=\"{self.cy}\" r=\"{self.r}\" fill=\"{self.fill}\"/>'\n",
    "\n",
    "@dataclass\n",
    "class SVGText:\n",
    "    x: int\n",
    "    y: int\n",
    "    dominantBaseline: str\n",
    "    textAnchor: str\n",
    "    fill: str\n",
    "    fontSize: str\n",
    "    content: str\n",
    "    dy: int = None\n",
    "    def __str__(self):\n",
    "        dyRep = f'dy=\"{self.dy}\"' if self.dy else ''\n",
    "        return f'<text x=\"{self.x}\" y=\"{self.y}\" {dyRep} dominant-baseline=\"{self.dominantBaseline}\" text-anchor=\"{self.textAnchor}\" fill=\"{self.fill}\" font-size=\"{self.fontSize}\">{self.content}</text>'\n",
    "\n",
    "@dataclass\n",
    "class SVGLine:\n",
    "    x1: int\n",
    "    y1: int\n",
    "    x2: int\n",
    "    y2: int\n",
    "    stroke: str\n",
    "    strokeWidth: int\n",
    "    markerEnd: str\n",
    "    def __str__(self):\n",
    "        return f'<line x1=\"{self.x1}\" y1=\"{self.y1}\" x2=\"{self.x2}\" y2=\"{self.y2}\" stroke=\"{self.stroke}\" stroke-width=\"{self.strokeWidth}\" marker-end=\"{self.markerEnd}\"/>'\n",
    "\n",
    "def SVGStartTag(x:int, y:int, width:int, height:int) -> str:\n",
    "    return f'<svg xmlns=\"http://www.w3.org/2000/svg\" viewBox=\"{x} {y} {width} {height}\" height=\"{height + 100}\">'\n",
    "\n",
    "defs = '''\n",
    "<defs>\n",
    "  <marker id=\"arrowend\"\n",
    "          viewBox=\"-30 -8 30 16\"\n",
    "          markerWidth=\"30\"\n",
    "          markerHeight=\"8\">\n",
    "     <path d=\"M -30 0  L -30 8  L 0 0  L -30 -8  Z\" fill=\"black\"/>\n",
    " </marker>\n",
    "</defs>\n",
    "'''"
   ]
  },
  {
   "cell_type": "code",
   "execution_count": 10,
   "metadata": {
    "collapsed": false
   },
   "outputs": [
   ],
   "source": [
    "# test SVG dataclasses\n",
    "# testStartTag = SVGStartTag(x=-200, y=-400, width=3800, height=500)\n",
    "# print(testStartTag)\n",
    "# testRect = SVGRect(x=200, y=-100, height=100, width=100, stroke='black', strokeWidth=2, fill='none')\n",
    "# print(testRect)\n",
    "# testCircle = SVGCircle(cx=250, cy=-50, r=10, fill='black')\n",
    "# print(testCircle)\n",
    "# testText = SVGText(x=450, y=150, dominantBaseline='middle', textAnchor='middle', fill='black', fontSize='400%', content='0')\n",
    "# print(testText)\n",
    "# testTextDy = SVGText(x=450, y=150, dominantBaseline='middle', dy=3, textAnchor='middle', fill='black', fontSize='400%', content='0')\n",
    "# print(testTextDy)\n",
    "# testLine = SVGLine(x1=1250, y1=-250, x2=3200, y2=-250, stroke=\"black\", strokeWidth=2, markerEnd=\"url(#arrowend)\")\n",
    "# print(testLine)"
   ]
  },
  {
   "cell_type": "code",
   "execution_count": 11,
   "metadata": {
    "collapsed": false
   },
   "outputs": [
   ],
   "source": [
    "# SVG constants\n",
    "SkiplistNodes = dumpNodes(sl_mid) # node 0 is head, data begins at node 1\n",
    "boxSize = 100\n",
    "boxSpacing = boxSize * 2\n",
    "boxCenterOffset = boxSize / 2\n",
    "textShift = 3 # @dy value to center text vertically in rectangle\n",
    "textSize = '400%'\n",
    "dataNodes = [x for x in SkiplistNodes if not x.name]\n",
    "maxLevels = max(map(lambda x: x.level, dataNodes))\n",
    "nodeCount = len(SkiplistNodes)\n",
    "dataNodeCount = len(dataNodes)\n",
    "circleRadius = boxSize * .1\n",
    "nilColor = '#E8E8E8'\n",
    "\n",
    "# test constants\n",
    "\n",
    "from IPython.core.interactiveshell import InteractiveShell\n",
    "InteractiveShell.ast_node_interactivity = \"all\"\n",
    "\n",
    "# SkiplistNodes\n",
    "# boxSize\n",
    "# boxSpacing\n",
    "# boxCenterOffset\n",
    "# textShift\n",
    "# textSize\n",
    "# dataNodes\n",
    "# maxLevels\n",
    "# nodeCount\n",
    "# dataNodeCount\n",
    "# circleRadius\n",
    "# nilColor"
   ]
  },
  {
   "cell_type": "code",
   "execution_count": 12,
   "metadata": {
    "collapsed": false
   },
   "outputs": [
   ],
   "source": [
    "from typing import List\n",
    "def computeOffsetsOfNodesAtLevel(nodes:List[SkiplistNode], level:int) -> List:\n",
    "    '''Filter to keep all nodes at specified level or higher\n",
    "\n",
    "    Incorporate head and tail\n",
    "    '''\n",
    "    offsets = [0]\n",
    "    for offset, node in enumerate(nodes):\n",
    "        if node.level >= level and not node.name:\n",
    "            offsets.append(offset)\n",
    "    offsets.append(nodeCount - 1) # offset of tail\n",
    "    return offsets"
   ]
  },
  {
   "cell_type": "code",
   "execution_count": 13,
   "metadata": {
    "collapsed": false
   },
   "outputs": [
    {
     "data": {
      "text/plain": [
       "[SkiplistNode(level=20, key=None, value=None, name='head'),\n",
       " SkiplistNode(level=2, key='0000', value='the', name=None),\n",
       " SkiplistNode(level=1, key='0001', value='red', name=None),\n",
       " SkiplistNode(level=1, key='0002', value='and', name=None),\n",
       " SkiplistNode(level=2, key='0003', value='the', name=None),\n",
       " SkiplistNode(level=1, key='0004', value='black', name=None),\n",
       " SkiplistNode(level=1, key='0005', value='cat', name=None),\n",
       " SkiplistNode(level=2, key='0006', value='played', name=None),\n",
       " SkiplistNode(level=1, key='0007', value='with', name=None),\n",
       " SkiplistNode(level=2, key='0008', value='the', name=None),\n",
       " SkiplistNode(level=1, key='0009', value='gray', name=None),\n",
       " SkiplistNode(level=1, key='0010', value='and', name=None),\n",
       " SkiplistNode(level=2, key='0011', value='the', name=None),\n",
       " SkiplistNode(level=2, key='0012', value='brown', name=None),\n",
       " SkiplistNode(level=2, key='0013', value='koalas', name=None),\n",
       " SkiplistNode(level=20, key=None, value=None, name='tail')]"
      ]
     },
     "execution_count": 13,
     "metadata": {
     },
     "output_type": "execute_result"
    },
    {
     "data": {
      "text/plain": [
       "[0, 1, 4, 7, 9, 12, 13, 14, 15]"
      ]
     },
     "execution_count": 13,
     "metadata": {
     },
     "output_type": "execute_result"
    }
   ],
   "source": [
    "# test of computeNodesAtLevel()\n",
    "out = computeOffsetsOfNodesAtLevel(SkiplistNodes, 2)\n",
    "SkiplistNodes\n",
    "list(out) # take a look"
   ]
  },
  {
   "cell_type": "code",
   "execution_count": 14,
   "metadata": {
    "collapsed": false
   },
   "outputs": [
   ],
   "source": [
    "# construct SVG\n",
    "SVGElements = []\n",
    "# start tag\n",
    "SVGElements.append(SVGStartTag(x=-boxSpacing, y=-(maxLevels + 1) * boxSize, width=boxSpacing * \\\n",
    "                               (nodeCount + 5), height=(maxLevels + 2) * boxSize))\n",
    "# arrowhead\n",
    "SVGElements.append(defs)\n",
    "# nodes\n",
    "for offset, node in enumerate(SkiplistNodes):\n",
    "    if node.name == 'head':\n",
    "        for level in range(1, maxLevels + 1): # rectangles\n",
    "            SVGElements.append(SVGRect(x=offset * boxSpacing, y=-level * boxSize, width=boxSize, \\\n",
    "                                       height=boxSize, stroke='black', strokeWidth=2, fill='none'))\n",
    "            SVGElements.append(SVGCircle(cx=offset * boxSpacing + boxCenterOffset, cy=-level * boxSize + boxCenterOffset, \\\n",
    "                                         r=circleRadius, fill='black'))\n",
    "        SVGElements.append(SVGText(x=offset * boxSpacing + boxCenterOffset, y=150, dominantBaseline='middle', \\\n",
    "                                   textAnchor='middle', fill='gray', fontSize=textSize, content='[head]'))\n",
    "    elif node.name == 'tail':\n",
    "        for level in range(1, maxLevels + 1): # rectangles\n",
    "            SVGElements.append(SVGRect(x=offset * boxSpacing, y=-level * boxSize, width=boxSize, \\\n",
    "                                       height=boxSize, stroke='black', strokeWidth=2, fill=nilColor))\n",
    "            SVGElements.append(SVGText(x=offset * boxSpacing + boxCenterOffset, y=-(level * boxSize) + boxCenterOffset, \\\n",
    "                                       dominantBaseline='middle', textAnchor='middle', fill='black', fontSize='300%', content='NIL'))\n",
    "        SVGElements.append(SVGText(x=offset * boxSpacing + boxCenterOffset, y=150,  dominantBaseline='middle', \\\n",
    "                                   textAnchor='middle', fill='gray', fontSize=textSize, content='[tail]'))\n",
    "    else: #regular node\n",
    "        # create numbered yellow box for node, with value underneath\n",
    "        SVGElements.append(SVGRect(x=offset * boxSpacing, y=0, height=boxSize, width=boxSize, stroke='black', \\\n",
    "                                   strokeWidth=2, fill='yellow'))\n",
    "        SVGElements.append(SVGText(x=offset * boxSpacing + boxCenterOffset, y=boxCenterOffset, dy=textShift, \\\n",
    "                                   dominantBaseline='middle', textAnchor='middle', fill='black', \\\n",
    "                                   fontSize=textSize, content=offset))\n",
    "        SVGElements.append(SVGText(x=offset * boxSpacing + boxCenterOffset, y=150, textAnchor='middle', \\\n",
    "                                  dominantBaseline='middle', fill='black', fontSize=textSize, content=node.value))\n",
    "        # create dotted boxes for all levels\n",
    "        for level in range(1, node.level + 1):\n",
    "            SVGElements.append(SVGRect(x=offset * boxSpacing, y=-level * boxSize, height=boxSize, width=boxSize, \\\n",
    "                                       stroke='black', strokeWidth=2, fill='none'))\n",
    "            SVGElements.append(SVGCircle(cx=offset * boxSpacing + boxCenterOffset, cy=-level * boxSize + boxCenterOffset, \\\n",
    "                                         r=circleRadius, fill='black'))\n",
    "# draw arrows for levels\n",
    "for currentLevel in range(1, maxLevels + 1):\n",
    "    offsetsOfNodesToLink = computeOffsetsOfNodesAtLevel(SkiplistNodes, currentLevel)\n",
    "    for sourceOffset, targetOffset in zip(offsetsOfNodesToLink, offsetsOfNodesToLink[1:]):\n",
    "        height = -(currentLevel) * boxSize + boxCenterOffset\n",
    "        SVGElements.append(SVGLine(x1=sourceOffset * boxSpacing + boxCenterOffset, y1=height, \\\n",
    "                                   x2=targetOffset * boxSpacing, y2=height, \\\n",
    "                                   stroke='black', strokeWidth=2, markerEnd='url(#arrowend)'))\n",
    "SVGElements.append('</svg>')"
   ]
  },
  {
   "cell_type": "code",
   "execution_count": 15,
   "metadata": {
    "collapsed": false
   },
   "outputs": [
   ],
   "source": [
    "SVGstring = (\"\\n\".join([str(x) for x in SVGElements]))\n",
    "# SkiplistNodes\n",
    "# print(SVGstring)"
   ]
  },
  {
   "cell_type": "code",
   "execution_count": 16,
   "metadata": {
    "collapsed": false
   },
   "outputs": [
    {
     "data": {
      "image/svg+xml": "<svg xmlns=\"http://www.w3.org/2000/svg\" viewBox=\"-200 -300 4200 400\" height=\"500\">\n\n<defs>\n  <marker id=\"arrowend\" viewBox=\"-30 -8 30 16\" markerWidth=\"30\" markerHeight=\"8\">\n     <path d=\"M -30 0  L -30 8  L 0 0  L -30 -8  Z\" fill=\"black\"/>\n </marker>\n</defs>\n\n<rect x=\"0\" y=\"-100\" height=\"100\" width=\"100\" stroke=\"black\" stroke-width=\"2\" fill=\"none\"/>\n<circle cx=\"50.0\" cy=\"-50.0\" r=\"10.0\" fill=\"black\"/>\n<rect x=\"0\" y=\"-200\" height=\"100\" width=\"100\" stroke=\"black\" stroke-width=\"2\" fill=\"none\"/>\n<circle cx=\"50.0\" cy=\"-150.0\" r=\"10.0\" fill=\"black\"/>\n<text x=\"50.0\" y=\"150\" dominant-baseline=\"middle\" text-anchor=\"middle\" fill=\"gray\" font-size=\"400%\">[head]</text>\n<rect x=\"200\" y=\"0\" height=\"100\" width=\"100\" stroke=\"black\" stroke-width=\"2\" fill=\"yellow\"/>\n<text x=\"250.0\" y=\"50.0\" dy=\"3\" dominant-baseline=\"middle\" text-anchor=\"middle\" fill=\"black\" font-size=\"400%\">1</text>\n<text x=\"250.0\" y=\"150\" dominant-baseline=\"middle\" text-anchor=\"middle\" fill=\"black\" font-size=\"400%\">the</text>\n<rect x=\"200\" y=\"-100\" height=\"100\" width=\"100\" stroke=\"black\" stroke-width=\"2\" fill=\"none\"/>\n<circle cx=\"250.0\" cy=\"-50.0\" r=\"10.0\" fill=\"black\"/>\n<rect x=\"200\" y=\"-200\" height=\"100\" width=\"100\" stroke=\"black\" stroke-width=\"2\" fill=\"none\"/>\n<circle cx=\"250.0\" cy=\"-150.0\" r=\"10.0\" fill=\"black\"/>\n<rect x=\"400\" y=\"0\" height=\"100\" width=\"100\" stroke=\"black\" stroke-width=\"2\" fill=\"yellow\"/>\n<text x=\"450.0\" y=\"50.0\" dy=\"3\" dominant-baseline=\"middle\" text-anchor=\"middle\" fill=\"black\" font-size=\"400%\">2</text>\n<text x=\"450.0\" y=\"150\" dominant-baseline=\"middle\" text-anchor=\"middle\" fill=\"black\" font-size=\"400%\">red</text>\n<rect x=\"400\" y=\"-100\" height=\"100\" width=\"100\" stroke=\"black\" stroke-width=\"2\" fill=\"none\"/>\n<circle cx=\"450.0\" cy=\"-50.0\" r=\"10.0\" fill=\"black\"/>\n<rect x=\"600\" y=\"0\" height=\"100\" width=\"100\" stroke=\"black\" stroke-width=\"2\" fill=\"yellow\"/>\n<text x=\"650.0\" y=\"50.0\" dy=\"3\" dominant-baseline=\"middle\" text-anchor=\"middle\" fill=\"black\" font-size=\"400%\">3</text>\n<text x=\"650.0\" y=\"150\" dominant-baseline=\"middle\" text-anchor=\"middle\" fill=\"black\" font-size=\"400%\">and</text>\n<rect x=\"600\" y=\"-100\" height=\"100\" width=\"100\" stroke=\"black\" stroke-width=\"2\" fill=\"none\"/>\n<circle cx=\"650.0\" cy=\"-50.0\" r=\"10.0\" fill=\"black\"/>\n<rect x=\"800\" y=\"0\" height=\"100\" width=\"100\" stroke=\"black\" stroke-width=\"2\" fill=\"yellow\"/>\n<text x=\"850.0\" y=\"50.0\" dy=\"3\" dominant-baseline=\"middle\" text-anchor=\"middle\" fill=\"black\" font-size=\"400%\">4</text>\n<text x=\"850.0\" y=\"150\" dominant-baseline=\"middle\" text-anchor=\"middle\" fill=\"black\" font-size=\"400%\">the</text>\n<rect x=\"800\" y=\"-100\" height=\"100\" width=\"100\" stroke=\"black\" stroke-width=\"2\" fill=\"none\"/>\n<circle cx=\"850.0\" cy=\"-50.0\" r=\"10.0\" fill=\"black\"/>\n<rect x=\"800\" y=\"-200\" height=\"100\" width=\"100\" stroke=\"black\" stroke-width=\"2\" fill=\"none\"/>\n<circle cx=\"850.0\" cy=\"-150.0\" r=\"10.0\" fill=\"black\"/>\n<rect x=\"1000\" y=\"0\" height=\"100\" width=\"100\" stroke=\"black\" stroke-width=\"2\" fill=\"yellow\"/>\n<text x=\"1050.0\" y=\"50.0\" dy=\"3\" dominant-baseline=\"middle\" text-anchor=\"middle\" fill=\"black\" font-size=\"400%\">5</text>\n<text x=\"1050.0\" y=\"150\" dominant-baseline=\"middle\" text-anchor=\"middle\" fill=\"black\" font-size=\"400%\">black</text>\n<rect x=\"1000\" y=\"-100\" height=\"100\" width=\"100\" stroke=\"black\" stroke-width=\"2\" fill=\"none\"/>\n<circle cx=\"1050.0\" cy=\"-50.0\" r=\"10.0\" fill=\"black\"/>\n<rect x=\"1200\" y=\"0\" height=\"100\" width=\"100\" stroke=\"black\" stroke-width=\"2\" fill=\"yellow\"/>\n<text x=\"1250.0\" y=\"50.0\" dy=\"3\" dominant-baseline=\"middle\" text-anchor=\"middle\" fill=\"black\" font-size=\"400%\">6</text>\n<text x=\"1250.0\" y=\"150\" dominant-baseline=\"middle\" text-anchor=\"middle\" fill=\"black\" font-size=\"400%\">cat</text>\n<rect x=\"1200\" y=\"-100\" height=\"100\" width=\"100\" stroke=\"black\" stroke-width=\"2\" fill=\"none\"/>\n<circle cx=\"1250.0\" cy=\"-50.0\" r=\"10.0\" fill=\"black\"/>\n<rect x=\"1400\" y=\"0\" height=\"100\" width=\"100\" stroke=\"black\" stroke-width=\"2\" fill=\"yellow\"/>\n<text x=\"1450.0\" y=\"50.0\" dy=\"3\" dominant-baseline=\"middle\" text-anchor=\"middle\" fill=\"black\" font-size=\"400%\">7</text>\n<text x=\"1450.0\" y=\"150\" dominant-baseline=\"middle\" text-anchor=\"middle\" fill=\"black\" font-size=\"400%\">played</text>\n<rect x=\"1400\" y=\"-100\" height=\"100\" width=\"100\" stroke=\"black\" stroke-width=\"2\" fill=\"none\"/>\n<circle cx=\"1450.0\" cy=\"-50.0\" r=\"10.0\" fill=\"black\"/>\n<rect x=\"1400\" y=\"-200\" height=\"100\" width=\"100\" stroke=\"black\" stroke-width=\"2\" fill=\"none\"/>\n<circle cx=\"1450.0\" cy=\"-150.0\" r=\"10.0\" fill=\"black\"/>\n<rect x=\"1600\" y=\"0\" height=\"100\" width=\"100\" stroke=\"black\" stroke-width=\"2\" fill=\"yellow\"/>\n<text x=\"1650.0\" y=\"50.0\" dy=\"3\" dominant-baseline=\"middle\" text-anchor=\"middle\" fill=\"black\" font-size=\"400%\">8</text>\n<text x=\"1650.0\" y=\"150\" dominant-baseline=\"middle\" text-anchor=\"middle\" fill=\"black\" font-size=\"400%\">with</text>\n<rect x=\"1600\" y=\"-100\" height=\"100\" width=\"100\" stroke=\"black\" stroke-width=\"2\" fill=\"none\"/>\n<circle cx=\"1650.0\" cy=\"-50.0\" r=\"10.0\" fill=\"black\"/>\n<rect x=\"1800\" y=\"0\" height=\"100\" width=\"100\" stroke=\"black\" stroke-width=\"2\" fill=\"yellow\"/>\n<text x=\"1850.0\" y=\"50.0\" dy=\"3\" dominant-baseline=\"middle\" text-anchor=\"middle\" fill=\"black\" font-size=\"400%\">9</text>\n<text x=\"1850.0\" y=\"150\" dominant-baseline=\"middle\" text-anchor=\"middle\" fill=\"black\" font-size=\"400%\">the</text>\n<rect x=\"1800\" y=\"-100\" height=\"100\" width=\"100\" stroke=\"black\" stroke-width=\"2\" fill=\"none\"/>\n<circle cx=\"1850.0\" cy=\"-50.0\" r=\"10.0\" fill=\"black\"/>\n<rect x=\"1800\" y=\"-200\" height=\"100\" width=\"100\" stroke=\"black\" stroke-width=\"2\" fill=\"none\"/>\n<circle cx=\"1850.0\" cy=\"-150.0\" r=\"10.0\" fill=\"black\"/>\n<rect x=\"2000\" y=\"0\" height=\"100\" width=\"100\" stroke=\"black\" stroke-width=\"2\" fill=\"yellow\"/>\n<text x=\"2050.0\" y=\"50.0\" dy=\"3\" dominant-baseline=\"middle\" text-anchor=\"middle\" fill=\"black\" font-size=\"400%\">10</text>\n<text x=\"2050.0\" y=\"150\" dominant-baseline=\"middle\" text-anchor=\"middle\" fill=\"black\" font-size=\"400%\">gray</text>\n<rect x=\"2000\" y=\"-100\" height=\"100\" width=\"100\" stroke=\"black\" stroke-width=\"2\" fill=\"none\"/>\n<circle cx=\"2050.0\" cy=\"-50.0\" r=\"10.0\" fill=\"black\"/>\n<rect x=\"2200\" y=\"0\" height=\"100\" width=\"100\" stroke=\"black\" stroke-width=\"2\" fill=\"yellow\"/>\n<text x=\"2250.0\" y=\"50.0\" dy=\"3\" dominant-baseline=\"middle\" text-anchor=\"middle\" fill=\"black\" font-size=\"400%\">11</text>\n<text x=\"2250.0\" y=\"150\" dominant-baseline=\"middle\" text-anchor=\"middle\" fill=\"black\" font-size=\"400%\">and</text>\n<rect x=\"2200\" y=\"-100\" height=\"100\" width=\"100\" stroke=\"black\" stroke-width=\"2\" fill=\"none\"/>\n<circle cx=\"2250.0\" cy=\"-50.0\" r=\"10.0\" fill=\"black\"/>\n<rect x=\"2400\" y=\"0\" height=\"100\" width=\"100\" stroke=\"black\" stroke-width=\"2\" fill=\"yellow\"/>\n<text x=\"2450.0\" y=\"50.0\" dy=\"3\" dominant-baseline=\"middle\" text-anchor=\"middle\" fill=\"black\" font-size=\"400%\">12</text>\n<text x=\"2450.0\" y=\"150\" dominant-baseline=\"middle\" text-anchor=\"middle\" fill=\"black\" font-size=\"400%\">the</text>\n<rect x=\"2400\" y=\"-100\" height=\"100\" width=\"100\" stroke=\"black\" stroke-width=\"2\" fill=\"none\"/>\n<circle cx=\"2450.0\" cy=\"-50.0\" r=\"10.0\" fill=\"black\"/>\n<rect x=\"2400\" y=\"-200\" height=\"100\" width=\"100\" stroke=\"black\" stroke-width=\"2\" fill=\"none\"/>\n<circle cx=\"2450.0\" cy=\"-150.0\" r=\"10.0\" fill=\"black\"/>\n<rect x=\"2600\" y=\"0\" height=\"100\" width=\"100\" stroke=\"black\" stroke-width=\"2\" fill=\"yellow\"/>\n<text x=\"2650.0\" y=\"50.0\" dy=\"3\" dominant-baseline=\"middle\" text-anchor=\"middle\" fill=\"black\" font-size=\"400%\">13</text>\n<text x=\"2650.0\" y=\"150\" dominant-baseline=\"middle\" text-anchor=\"middle\" fill=\"black\" font-size=\"400%\">brown</text>\n<rect x=\"2600\" y=\"-100\" height=\"100\" width=\"100\" stroke=\"black\" stroke-width=\"2\" fill=\"none\"/>\n<circle cx=\"2650.0\" cy=\"-50.0\" r=\"10.0\" fill=\"black\"/>\n<rect x=\"2600\" y=\"-200\" height=\"100\" width=\"100\" stroke=\"black\" stroke-width=\"2\" fill=\"none\"/>\n<circle cx=\"2650.0\" cy=\"-150.0\" r=\"10.0\" fill=\"black\"/>\n<rect x=\"2800\" y=\"0\" height=\"100\" width=\"100\" stroke=\"black\" stroke-width=\"2\" fill=\"yellow\"/>\n<text x=\"2850.0\" y=\"50.0\" dy=\"3\" dominant-baseline=\"middle\" text-anchor=\"middle\" fill=\"black\" font-size=\"400%\">14</text>\n<text x=\"2850.0\" y=\"150\" dominant-baseline=\"middle\" text-anchor=\"middle\" fill=\"black\" font-size=\"400%\">koalas</text>\n<rect x=\"2800\" y=\"-100\" height=\"100\" width=\"100\" stroke=\"black\" stroke-width=\"2\" fill=\"none\"/>\n<circle cx=\"2850.0\" cy=\"-50.0\" r=\"10.0\" fill=\"black\"/>\n<rect x=\"2800\" y=\"-200\" height=\"100\" width=\"100\" stroke=\"black\" stroke-width=\"2\" fill=\"none\"/>\n<circle cx=\"2850.0\" cy=\"-150.0\" r=\"10.0\" fill=\"black\"/>\n<rect x=\"3000\" y=\"-100\" height=\"100\" width=\"100\" stroke=\"black\" stroke-width=\"2\" fill=\"#E8E8E8\"/>\n<text x=\"3050.0\" y=\"-50.0\" dominant-baseline=\"middle\" text-anchor=\"middle\" fill=\"black\" font-size=\"300%\">NIL</text>\n<rect x=\"3000\" y=\"-200\" height=\"100\" width=\"100\" stroke=\"black\" stroke-width=\"2\" fill=\"#E8E8E8\"/>\n<text x=\"3050.0\" y=\"-150.0\" dominant-baseline=\"middle\" text-anchor=\"middle\" fill=\"black\" font-size=\"300%\">NIL</text>\n<text x=\"3050.0\" y=\"150\" dominant-baseline=\"middle\" text-anchor=\"middle\" fill=\"gray\" font-size=\"400%\">[tail]</text>\n<line x1=\"50.0\" y1=\"-50.0\" x2=\"200\" y2=\"-50.0\" stroke=\"black\" stroke-width=\"2\" marker-end=\"url(#arrowend)\"/>\n<line x1=\"250.0\" y1=\"-50.0\" x2=\"400\" y2=\"-50.0\" stroke=\"black\" stroke-width=\"2\" marker-end=\"url(#arrowend)\"/>\n<line x1=\"450.0\" y1=\"-50.0\" x2=\"600\" y2=\"-50.0\" stroke=\"black\" stroke-width=\"2\" marker-end=\"url(#arrowend)\"/>\n<line x1=\"650.0\" y1=\"-50.0\" x2=\"800\" y2=\"-50.0\" stroke=\"black\" stroke-width=\"2\" marker-end=\"url(#arrowend)\"/>\n<line x1=\"850.0\" y1=\"-50.0\" x2=\"1000\" y2=\"-50.0\" stroke=\"black\" stroke-width=\"2\" marker-end=\"url(#arrowend)\"/>\n<line x1=\"1050.0\" y1=\"-50.0\" x2=\"1200\" y2=\"-50.0\" stroke=\"black\" stroke-width=\"2\" marker-end=\"url(#arrowend)\"/>\n<line x1=\"1250.0\" y1=\"-50.0\" x2=\"1400\" y2=\"-50.0\" stroke=\"black\" stroke-width=\"2\" marker-end=\"url(#arrowend)\"/>\n<line x1=\"1450.0\" y1=\"-50.0\" x2=\"1600\" y2=\"-50.0\" stroke=\"black\" stroke-width=\"2\" marker-end=\"url(#arrowend)\"/>\n<line x1=\"1650.0\" y1=\"-50.0\" x2=\"1800\" y2=\"-50.0\" stroke=\"black\" stroke-width=\"2\" marker-end=\"url(#arrowend)\"/>\n<line x1=\"1850.0\" y1=\"-50.0\" x2=\"2000\" y2=\"-50.0\" stroke=\"black\" stroke-width=\"2\" marker-end=\"url(#arrowend)\"/>\n<line x1=\"2050.0\" y1=\"-50.0\" x2=\"2200\" y2=\"-50.0\" stroke=\"black\" stroke-width=\"2\" marker-end=\"url(#arrowend)\"/>\n<line x1=\"2250.0\" y1=\"-50.0\" x2=\"2400\" y2=\"-50.0\" stroke=\"black\" stroke-width=\"2\" marker-end=\"url(#arrowend)\"/>\n<line x1=\"2450.0\" y1=\"-50.0\" x2=\"2600\" y2=\"-50.0\" stroke=\"black\" stroke-width=\"2\" marker-end=\"url(#arrowend)\"/>\n<line x1=\"2650.0\" y1=\"-50.0\" x2=\"2800\" y2=\"-50.0\" stroke=\"black\" stroke-width=\"2\" marker-end=\"url(#arrowend)\"/>\n<line x1=\"2850.0\" y1=\"-50.0\" x2=\"3000\" y2=\"-50.0\" stroke=\"black\" stroke-width=\"2\" marker-end=\"url(#arrowend)\"/>\n<line x1=\"50.0\" y1=\"-150.0\" x2=\"200\" y2=\"-150.0\" stroke=\"black\" stroke-width=\"2\" marker-end=\"url(#arrowend)\"/>\n<line x1=\"250.0\" y1=\"-150.0\" x2=\"800\" y2=\"-150.0\" stroke=\"black\" stroke-width=\"2\" marker-end=\"url(#arrowend)\"/>\n<line x1=\"850.0\" y1=\"-150.0\" x2=\"1400\" y2=\"-150.0\" stroke=\"black\" stroke-width=\"2\" marker-end=\"url(#arrowend)\"/>\n<line x1=\"1450.0\" y1=\"-150.0\" x2=\"1800\" y2=\"-150.0\" stroke=\"black\" stroke-width=\"2\" marker-end=\"url(#arrowend)\"/>\n<line x1=\"1850.0\" y1=\"-150.0\" x2=\"2400\" y2=\"-150.0\" stroke=\"black\" stroke-width=\"2\" marker-end=\"url(#arrowend)\"/>\n<line x1=\"2450.0\" y1=\"-150.0\" x2=\"2600\" y2=\"-150.0\" stroke=\"black\" stroke-width=\"2\" marker-end=\"url(#arrowend)\"/>\n<line x1=\"2650.0\" y1=\"-150.0\" x2=\"2800\" y2=\"-150.0\" stroke=\"black\" stroke-width=\"2\" marker-end=\"url(#arrowend)\"/>\n<line x1=\"2850.0\" y1=\"-150.0\" x2=\"3000\" y2=\"-150.0\" stroke=\"black\" stroke-width=\"2\" marker-end=\"url(#arrowend)\"/>\n</svg>",
      "text/plain": [
       "<IPython.core.display.SVG object>"
      ]
     },
     "execution_count": 16,
     "metadata": {
     },
     "output_type": "execute_result"
    }
   ],
   "source": [
    "from IPython.display import SVG, display\n",
    "display(SVG(SVGstring))"
   ]
  },
  {
   "cell_type": "code",
   "execution_count": 40,
   "metadata": {
    "collapsed": false
   },
   "outputs": [
    {
     "data": {
      "text/plain": [
       "SkipList((('0000', 'the'), ('0001', 'red'), ('0002', 'and'), ('0003', 'the'), ('0004', 'black'), ('0005', 'cat'), ('0006', 'played'), ('0007', 'with'), ('0008', 'the'), ('0009', 'gray'), ('0010', 'and'), ('0011', 'the'), ('0012', 'brown'), ('0013', 'koalas')))"
      ]
     },
     "execution_count": 40,
     "metadata": {
     },
     "output_type": "execute_result"
    }
   ],
   "source": [
    "sl_mid"
   ]
  },
  {
   "cell_type": "code",
   "execution_count": 41,
   "metadata": {
    "collapsed": false
   },
   "outputs": [
    {
     "name": "stdout",
     "output_type": "stream",
     "text": [
      "0005\n",
      "0006\n"
     ]
    }
   ],
   "source": [
    "result = sl_mid._find_lte('00055')\n",
    "print(sl_mid._path[0][0])\n",
    "print(sl_mid._path[0][2][0])"
   ]
  },
  {
   "cell_type": "code",
   "execution_count": 42,
   "metadata": {
    "collapsed": false
   },
   "outputs": [
   ],
   "source": [
    "def floor(sl: SkipList, key: str) -> str:\n",
    "    \"\"\"Return highest key value that is less than the new key that we seek to place\n",
    "\n",
    "    Assumption: keys are unique\"\"\"\n",
    "    sl._find_lte(key) # change state (eek!)\n",
    "    return sl._path[0][0]"
   ]
  },
  {
   "cell_type": "code",
   "execution_count": 45,
   "metadata": {
    "collapsed": false
   },
   "outputs": [
   ],
   "source": [
    "def ceiling(sl: SkipList, key: str) -> str:\n",
    "    \"\"\"Return lowest value that is greatr than the new key that we seek to place\n",
    "\n",
    "    Assumption: keys are unique\"\"\"\n",
    "    sl._find_lte(key) # change state (eek!)\n",
    "    return sl._path[0][2][0] # next node after floor"
   ]
  },
  {
   "cell_type": "code",
   "execution_count": 46,
   "metadata": {
    "collapsed": false
   },
   "outputs": [
    {
     "name": "stdout",
     "output_type": "stream",
     "text": [
      "0007 0008\n"
     ]
    }
   ],
   "source": [
    "f = floor(sl=sl_mid, key='00075')\n",
    "c = ceiling(sl=sl_mid, key='00075')\n",
    "print(f, c)"
   ]
  },
  {
   "cell_type": "code",
   "execution_count": 44,
   "metadata": {
    "collapsed": false
   },
   "outputs": [
    {
     "data": {
      "text/plain": [
       "SkipList((('0000', 'the'), ('0001', 'red'), ('0002', 'and'), ('0003', 'the'), ('0004', 'black'), ('0005', 'cat'), ('0006', 'played'), ('0007', 'with'), ('0008', 'the'), ('0009', 'gray'), ('0010', 'and'), ('0011', 'the'), ('0012', 'brown'), ('0013', 'koalas')))"
      ]
     },
     "execution_count": 44,
     "metadata": {
     },
     "output_type": "execute_result"
    }
   ],
   "source": [
    "sl_mid"
   ]
  },
  {
   "cell_type": "code",
   "execution_count": 0,
   "metadata": {
    "collapsed": false
   },
   "outputs": [
   ],
   "source": [
   ]
  }
 ],
 "metadata": {
  "kernelspec": {
   "display_name": "Python 3 (system-wide)",
   "language": "python",
   "metadata": {
    "cocalc": {
     "description": "Python 3 programming language",
     "priority": 100,
     "url": "https://www.python.org/"
    }
   },
   "name": "python3",
   "resource_dir": "/ext/jupyter/kernels/python3"
  },
  "language_info": {
   "codemirror_mode": {
    "name": "ipython",
    "version": 3
   },
   "file_extension": ".py",
   "mimetype": "text/x-python",
   "name": "python",
   "nbconvert_exporter": "python",
   "pygments_lexer": "ipython3",
   "version": "3.8.5"
  }
 },
 "nbformat": 4,
 "nbformat_minor": 4
}