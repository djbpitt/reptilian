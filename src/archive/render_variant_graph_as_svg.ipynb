{
 "cells": [
  {
   "cell_type": "code",
   "execution_count": 1,
   "metadata": {
    "collapsed": false
   },
   "outputs": [
    {
     "ename": "NameError",
     "evalue": "name 'dumpNodes' is not defined",
     "output_type": "error",
     "traceback": [
      "\u001b[0;31m---------------------------------------------------------------------------\u001b[0m",
      "\u001b[0;31mNameError\u001b[0m                                 Traceback (most recent call last)",
      "\u001b[0;32m<ipython-input-1-f14da2ff5b68>\u001b[0m in \u001b[0;36m<module>\u001b[0;34m\u001b[0m\n\u001b[1;32m     13\u001b[0m \u001b[0;31m# new code starts here\u001b[0m\u001b[0;34m\u001b[0m\u001b[0;34m\u001b[0m\u001b[0;34m\u001b[0m\u001b[0m\n\u001b[1;32m     14\u001b[0m \u001b[0;31m# #####\u001b[0m\u001b[0;34m\u001b[0m\u001b[0;34m\u001b[0m\u001b[0;34m\u001b[0m\u001b[0m\n\u001b[0;32m---> 15\u001b[0;31m \u001b[0;32mfor\u001b[0m \u001b[0mindex\u001b[0m\u001b[0;34m,\u001b[0m \u001b[0mvg_node\u001b[0m \u001b[0;32min\u001b[0m \u001b[0menumerate\u001b[0m\u001b[0;34m(\u001b[0m\u001b[0mdumpNodes\u001b[0m\u001b[0;34m(\u001b[0m\u001b[0mvg\u001b[0m\u001b[0;34m)\u001b[0m\u001b[0;34m[\u001b[0m\u001b[0;36m1\u001b[0m\u001b[0;34m:\u001b[0m\u001b[0;34m-\u001b[0m\u001b[0;36m1\u001b[0m\u001b[0;34m]\u001b[0m\u001b[0;34m)\u001b[0m\u001b[0;34m:\u001b[0m \u001b[0;31m# list of SkiplistNode objects, omit head and tail\u001b[0m\u001b[0;34m\u001b[0m\u001b[0;34m\u001b[0m\u001b[0m\n\u001b[0m\u001b[1;32m     16\u001b[0m \u001b[0;31m# create nodes\u001b[0m\u001b[0;34m\u001b[0m\u001b[0;34m\u001b[0m\u001b[0;34m\u001b[0m\u001b[0m\n\u001b[1;32m     17\u001b[0m     \u001b[0mnode_id\u001b[0m \u001b[0;34m=\u001b[0m \u001b[0mstr\u001b[0m\u001b[0;34m(\u001b[0m\u001b[0mindex\u001b[0m\u001b[0;34m)\u001b[0m\u001b[0;34m\u001b[0m\u001b[0;34m\u001b[0m\u001b[0m\n",
      "\u001b[0;31mNameError\u001b[0m: name 'dumpNodes' is not defined"
     ]
    }
   ],
   "source": [
    "# get ready to visualize the decision tree in SVG\n",
    "import graphviz\n",
    "from IPython.display import SVG\n",
    "from collections import defaultdict\n",
    "\n",
    "# TODO: use tm instead of to_variant_graph_nodes because reasons\n",
    "# TODO: add token offsets with witness identifiers to label\n",
    "\n",
    "# node id values must be strings for graphviz\n",
    "a = graphviz.Digraph(format=\"svg\")\n",
    "a.attr(rankdir = \"LR\")\n",
    "# #####\n",
    "# new code starts here\n",
    "# #####\n",
    "for index, vg_node in enumerate(dumpNodes(vg)[1:-1]): # list of SkiplistNode objects, omit head and tail\n",
    "# create nodes\n",
    "    node_id = str(index)\n",
    "    all_token_offsets = \",\".join(vg_node.value) if isinstance(vg_node.value[0], int) else vg_node.value[0]\n",
    "    token_string = token_array[vg_node.value[0]] if isinstance(vg_node.value[0], int) else vg_node.value[0]\n",
    "    a.node(node_id, label=(node_id + ':' + token_string + ':' + all_token_offsets))\n",
    "# create edges witness by witness\n",
    "# print([x.key.sigla() for x in dumpNodes(vg)[1:-1]]) # keys for all skiplist nodes are variant-graph nodes, which have a sigla() method\n",
    "# for w in range(len(witnesses)): # w is offset of witness in list of witnesses\n",
    "#     siglum = 'w' + str(w) # siglum as recorded in SkiplistNode keys\n",
    "#     # witness_nodes = filter(lambda x: siglum in x.key.sigla(), dumpNodes(vg)[1:-1]) # this loses the original position, which is the node id in the variant graph\n",
    "#     # print(list(witness_nodes)) take a look\n",
    "#     witness_nodes = []\n",
    "#     for index, vg_node in enumerate(dumpNodes(vg)[1:-1]):\n",
    "#         if siglum in vg_node.key.sigla():\n",
    "#             witness_nodes.append(index)\n",
    "#     for source, target in zip(witness_nodes, witness_nodes[1:]):\n",
    "#         a.edge(str(source), str(target), label=str(siglum))\n",
    "\n",
    "# create dictionary of all edges; key is (source, target) node id, value is list of sigla\n",
    "all_edges = defaultdict(list)\n",
    "for w in range(len(witnesses)): # w is offset of witness in list of witnesses\n",
    "    siglum = 'w' + str(w) # siglum as recorded in SkiplistNode keys\n",
    "    witness_nodes = []\n",
    "    for index, vg_node in enumerate(dumpNodes(vg)[1:-1]):\n",
    "        if siglum in vg_node.key.sigla():\n",
    "            witness_nodes.append(index)\n",
    "    for source, target in zip(witness_nodes, witness_nodes[1:]):\n",
    "        all_edges[(source, target)].append(siglum)\n",
    "\n",
    "# add edges to graph\n",
    "for edge_endpoints, sigla in all_edges.items():\n",
    "    a.edge(str(edge_endpoints[0]), str(edge_endpoints[1]), label=\",\".join(sigla))\n",
    "\n",
    "SVG(a.view()) # this doesn't seem to work; need to run it in the calling program"
   ]
  }
 ],
 "metadata": {
  "kernelspec": {
   "display_name": "Python 3 (system-wide)",
   "language": "python",
   "metadata": {
    "cocalc": {
     "description": "Python 3 programming language",
     "priority": 100,
     "url": "https://www.python.org/"
    }
   },
   "name": "python3",
   "resource_dir": "/ext/jupyter/kernels/python3"
  },
  "language_info": {
   "codemirror_mode": {
    "name": "ipython",
    "version": 3
   },
   "file_extension": ".py",
   "mimetype": "text/x-python",
   "name": "python",
   "nbconvert_exporter": "python",
   "pygments_lexer": "ipython3",
   "version": "3.8.5"
  }
 },
 "nbformat": 4,
 "nbformat_minor": 4
}