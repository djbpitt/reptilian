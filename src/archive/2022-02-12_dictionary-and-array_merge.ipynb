{
 "cells": [
  {
   "cell_type": "markdown",
   "metadata": {
    "collapsed": false
   },
   "source": [
    "# Alignment with regular matrix (not masked)\n",
    "\n",
    "## What next?\n",
    "\n",
    "In cell 10 we check each position, but if the new vector adds no new information\n",
    "we don't have to check any positions, and if it adds only some new information, we\n",
    "have to check only the positions where that happens. So:\n",
    "\n",
    "Create bitarrays for each vector as we create them and compare the bitarrays first. That\n",
    "will tell us when we have to do nothing and when we have to check only some positions.\n",
    "The cost is that we have to maintain the bitarrays; the payoff is that checking them is\n",
    "much faster than walking over the vectors position by position. The payoff is especially\n",
    "great when the new vector adds no new information.\n",
    "\n",
    "We can count the number of times this happens first to see how much the payoff would be.\n",
    "\n",
    "Another potential optimization:\n",
    "Maximal (longest) frequent (often occurring) sequences would group blocks together. MFS\n",
    "are discontinuous, finding them takes time, but they would let us reduce the number of\n",
    "blocks, and therefore the number of merges. Question: does discontinuity complicate \n",
    "transposition detection.\n",
    "\n",
    "Profiling transposition detection with `%lprn` errors out, and it shouldn’t. Why?"
   ]
  },
  {
   "cell_type": "markdown",
   "metadata": {
    "collapsed": false
   },
   "source": [
    "## Initialize"
   ]
  },
  {
   "cell_type": "code",
   "execution_count": 1,
   "metadata": {
    "collapsed": false
   },
   "outputs": [
   ],
   "source": [
    "%load_ext autoreload\n",
    "%autoreload 2\n",
    "\n",
    "from collections import defaultdict, deque\n",
    "from typing import Set, List\n",
    "from dataclasses import dataclass\n",
    "from bitarray import bitarray\n",
    "import networkx as nx\n",
    "import re\n",
    "import queue\n",
    "\n",
    "import numpy as np\n",
    "import numba as nb\n",
    "import numpy.ma as ma\n",
    "\n",
    "import graphviz\n",
    "from IPython.display import SVG\n",
    "\n",
    "from numba import jit\n",
    "\n",
    "import pprint\n",
    "pp = pprint.PrettyPrinter(indent=2)\n",
    "debug = False\n",
    "\n",
    "%load_ext line_profiler"
   ]
  },
  {
   "cell_type": "code",
   "execution_count": 2,
   "metadata": {
    "collapsed": false
   },
   "outputs": [
   ],
   "source": [
    "# Identity set\n",
    "# https://stackoverflow.com/questions/16994307/identityset-in-python (first solution)\n",
    "from collections.abc import MutableSet\n",
    "\n",
    "class IdentitySet(MutableSet):\n",
    "    key = id  # should return a hashable object\n",
    "\n",
    "    def __init__(self, iterable=()):\n",
    "        self.map = {} # id -> object\n",
    "        self |= iterable  # add elements from iterable to the set (union)\n",
    "\n",
    "    def __len__(self):  # Sized\n",
    "        return len(self.map)\n",
    "\n",
    "    def __iter__(self):  # Iterable\n",
    "        return iter(self.map.values())\n",
    "\n",
    "    def __contains__(self, x):  # Container\n",
    "        return self.key(x) in self.map\n",
    "\n",
    "    def add(self, value):  # MutableSet\n",
    "        \"\"\"Add an element.\"\"\"\n",
    "        self.map[self.key(value)] = value\n",
    "\n",
    "    def discard(self, value):  # MutableSet\n",
    "        \"\"\"Remove an element.  Do not raise an exception if absent.\"\"\"\n",
    "        self.map.pop(self.key(value), None)\n",
    "\n",
    "    def __repr__(self):\n",
    "        if not self:\n",
    "            return '%s()' % (self.__class__.__name__,)\n",
    "        return '%s(%r)' % (self.__class__.__name__, list(self))"
   ]
  },
  {
   "cell_type": "markdown",
   "metadata": {
    "collapsed": false
   },
   "source": [
    "## Load data"
   ]
  },
  {
   "cell_type": "code",
   "execution_count": 3,
   "metadata": {
    "collapsed": false,
    "scrolled": true
   },
   "outputs": [
   ],
   "source": [
    "%run 20220123_one-based_create-blocks-and-dependencies.ipynb # data will be in prioritized_blocks\n",
    "# print(dependencies)"
   ]
  },
  {
   "cell_type": "markdown",
   "metadata": {
    "collapsed": false
   },
   "source": [
    "## Create witness_node (dataclass)"
   ]
  },
  {
   "cell_type": "code",
   "execution_count": 4,
   "metadata": {
    "collapsed": false
   },
   "outputs": [
   ],
   "source": [
    "@dataclass(unsafe_hash=True)\n",
    "class WitnessNode:\n",
    "    \"\"\"TODO: Write a docstring some day\"\"\"\n",
    "    token_string: str\n",
    "    witness: str\n",
    "    witness_offset: int\n",
    "\n",
    "    def __repr__(self):\n",
    "        return self.token_string\n",
    "\n",
    "# Subclass of WitnessNodeEnd so that our constructed end node will be able to identify itself\n",
    "class WitnessNodeEnd(WitnessNode):\n",
    "    \"\"\"TODO: Write a docstring some day\"\"\""
   ]
  },
  {
   "cell_type": "code",
   "execution_count": 5,
   "metadata": {
    "collapsed": false
   },
   "outputs": [
   ],
   "source": [
    "# Store all witness nodes in dictionary of lists\n",
    "witness_node_lists = defaultdict(list) # one per witness (keys will be sigla)\n",
    "# create, for each witness:\n",
    "#   nodes for real tokens\n",
    "#   END node\n",
    "# A start node is not created. That is on purpose.\n",
    "for index, witness_siglum in enumerate(witness_sigla):\n",
    "    # witness_sigla is a global set when the input data is read\n",
    "    # items in lists have item.token_string, item.witness, and one-based item.witness_offset properties\n",
    "    for witness_token_offset, witness_token in enumerate(witnesses[index]): # list of tokens in a single witness\n",
    "        witness_node_lists[witness_siglum].append(WitnessNode(witness_token, witness_siglum, witness_token_offset + 1))\n",
    "    witness_node_lists[witness_siglum].append(WitnessNodeEnd('END', witness_siglum, len(token_array)))"
   ]
  },
  {
   "cell_type": "markdown",
   "metadata": {
    "collapsed": false
   },
   "source": [
    "## Create candidate vectors from block"
   ]
  },
  {
   "cell_type": "code",
   "execution_count": 6,
   "metadata": {
    "collapsed": false
   },
   "outputs": [
   ],
   "source": [
    "def create_candidate_vectors(block):\n",
    "    \"\"\"Returns list of data for block, one numpy array per hyperedge\"\"\"\n",
    "    candidate_vectors = [] # list of individual vectors, not a matrix\n",
    "    for token_offset_in_block in range(block.token_count):\n",
    "        # first add the token_offset_in_block to the block start positions\n",
    "        offset_start_positions = [value + token_offset_in_block for value in block.all_start_positions]\n",
    "        tokens_to_place = [ # list of all token positions, not just first in each witness\n",
    "            (\n",
    "                token_membership_array[token_array_index],\n",
    "                token_witness_offset_array[token_array_index]\n",
    "            )\n",
    "            for token_array_index in offset_start_positions\n",
    "        ]\n",
    "        new_vector = np.array([0] * len(witness_sigla)) # initialize numpy array to all zeroes\n",
    "        for witness_number, witness_offset in tokens_to_place:\n",
    "            new_vector[witness_number] = witness_offset\n",
    "        candidate_vectors.append(new_vector)\n",
    "\n",
    "    return candidate_vectors"
   ]
  },
  {
   "cell_type": "markdown",
   "metadata": {
    "collapsed": false
   },
   "source": [
    "## Place vectors if allowed"
   ]
  },
  {
   "cell_type": "code",
   "execution_count": 7,
   "metadata": {
    "collapsed": false
   },
   "outputs": [
   ],
   "source": [
    "@nb.njit(fastmath=True)\n",
    "def check_single_vector_for_transposition(old_vector, potential_vector):\n",
    "    \"\"\"Called by check_whether_okay_to_place()\n",
    "\n",
    "    Separated for numba compilation\n",
    "    \"\"\"\n",
    "    subtraction_results = np.array([0] * old_vector.size)\n",
    "    for column_offset, (old_value, new_value) in enumerate(zip(old_vector, potential_vector)): # compare each position\n",
    "        subtraction_results[column_offset] = 0 if old_value * new_value == 0 else old_value - new_value\n",
    "    signs = np.sign(subtraction_results) # values are all -1, 0, or 1\n",
    "    unique_row_values = set(signs) # all unique sign values\n",
    "    if 0 in unique_row_values:\n",
    "        unique_row_values.remove(0) # all unique values after removing 0 (0, 1, or 2 values)\n",
    "    return unique_row_values"
   ]
  },
  {
   "cell_type": "code",
   "execution_count": 8,
   "metadata": {
    "collapsed": false
   },
   "outputs": [
   ],
   "source": [
    "def check_whether_okay_to_place(current_vectors, potential_vector) -> bool:\n",
    "    \"\"\"Return True iff we can add row without creating transpositions\n",
    "\n",
    "    current_vectors: identity set of all vectors currently placed\n",
    "    potential_vector: we check whether this can be added\n",
    "\n",
    "    If subtracting a potential vector from any existing vector would return\n",
    "    values that diverge in sign, the potential would cross the existing one\n",
    "\n",
    "    Instead of broadcast subtraction, we use plain ol' Python and trust numba\n",
    "    to optimate:\n",
    "        We compile check_single_value_for_transposition(), since we can't\n",
    "        optimate the extendable list here\n",
    "\n",
    "    If either value in a column is 0 (placeholder, not a real position), return 0\n",
    "    Otherwise perform subtraction\n",
    "\n",
    "    If it's okay to place we **can** merge, but we need to call merge_vector()\n",
    "        to see whether we **should** merge\"\"\"\n",
    "\n",
    "    ###\n",
    "    # Can we optimize? Check signage of each row before subtraction for the next\n",
    "    # This lets us bail out as soon as a row has mixed signs, since that means\n",
    "    #   transposition, and we can avoid performing complete subtraction\n",
    "    # But: transpositions don't happen often, so there may little to gain from\n",
    "    #   the extra effort\n",
    "    ###\n",
    "    #\n",
    "    for vector_to_check in current_vectors:\n",
    "        unique_row_values = check_single_vector_for_transposition(vector_to_check, potential_vector)\n",
    "        if len(unique_row_values) == 2: # if any row has pos and neg, there's a transpostion, so bail out\n",
    "            return False\n",
    "    return True # if we get this far, no transposition in any row"
   ]
  },
  {
   "cell_type": "code",
   "execution_count": 9,
   "metadata": {
    "collapsed": false
   },
   "outputs": [
   ],
   "source": [
    "@nb.njit\n",
    "def merge_vectors(old_data, new_vector):\n",
    "    \"\"\"Add a docstring some day\n",
    "\n",
    "    Parameters:\n",
    "        old_data: vector that contains consolidated data from mergeable rows\n",
    "        new_vector: vector\n",
    "        Values in each position are either 0 or witness offset\n",
    "    \"\"\"\n",
    "    return np.maximum(old_data, new_vector)"
   ]
  },
  {
   "cell_type": "code",
   "execution_count": 10,
   "metadata": {
    "collapsed": false
   },
   "outputs": [
   ],
   "source": [
    "def merge_vectors_in_place(old_data, new_vector, witness_lists):\n",
    "    for pos, value in enumerate(new_vector):\n",
    "        if old_data[pos] == 0 and value != 0:\n",
    "            old_data[pos] = value\n",
    "            witness_lists[pos][value] = old_data"
   ]
  },
  {
   "cell_type": "code",
   "execution_count": 11,
   "metadata": {
    "collapsed": false
   },
   "outputs": [
   ],
   "source": [
    "def add_new_vector(witness_lists, consolidated_identity_set, new_vector):\n",
    "    \"\"\"Add row to matrix and update pointer to next empty row\n",
    "\n",
    "    To add a vector:\n",
    "        Add to all non-zero witness lists and to consolidated list\n",
    "        Not a merge, so we add (no replace)\n",
    "\n",
    "    Parameters:\n",
    "        witness_lists: tuple of lists (write to specific offset of each)\n",
    "            order of witness lists matches order of columns in vector\n",
    "            first (zeroeth) position is always None because witness offset positions are 1-based\n",
    "        consolidated_identity_set: IdentitySet of all placed vectors\n",
    "        new_vector : vector to add\n",
    "\n",
    "    Void because lists contain pointers, so change in place\n",
    "    \"\"\"\n",
    "    consolidated_identity_set.add(new_vector)\n",
    "    for witness_number, witness_token_offset in enumerate(new_vector):\n",
    "        if witness_token_offset != 0:\n",
    "            witness_lists[witness_number][witness_token_offset] = new_vector"
   ]
  },
  {
   "cell_type": "code",
   "execution_count": 12,
   "metadata": {
    "collapsed": false
   },
   "outputs": [
   ],
   "source": [
    "def add_or_merge_new_vector_into_matrix(witness_lists, consolidated_identity_set, new_vector):\n",
    "    \"\"\"Do stuff\n",
    "\n",
    "    Parameters:\n",
    "        witness_lists: tuple of lists (write to specific offset of each)\n",
    "            order of witness lists matches order of columns in vector\n",
    "            first (zeroeth) position is always None because witness offset positions are 1-based\n",
    "        consolidated_identity_set: IdentitySet of all placed vectors\n",
    "        new_vector : vector to add\n",
    "\n",
    "    Void because lists contain pointers, so change in place\n",
    "    \"\"\"\n",
    "\n",
    "    # Query witness-specific lists to collect merge candidates\n",
    "    merge_candidates = IdentitySet()\n",
    "    for witness_number, witness_token_offset in enumerate(new_vector):\n",
    "        # FIXME: we do the same lookup twice; use a walrus\n",
    "        if witness_token_offset != 0 and witness_lists[witness_number][witness_token_offset] is not None:\n",
    "            merge_candidates.add(witness_lists[witness_number][witness_token_offset])\n",
    "\n",
    "    if len(merge_candidates) == 0: # no merge candidate, so add candidate as new vector\n",
    "        add_new_vector(witness_lists, consolidated_identity_set, new_vector)\n",
    "\n",
    "    elif len(merge_candidates) == 1: # one merge candidate, so (relatively) simple merge\n",
    "        merge_vectors_in_place(merge_candidates.pop(), new_vector, witness_lists)\n",
    "\n",
    "    else: # multiple merge candidates\n",
    "        # perform merge in new array\n",
    "        # remove old candidates from consolidated_identity_set\n",
    "        result = np.array([0] * len(new_vector)) # will hold merge result as vector\n",
    "        for merge_candidate in merge_candidates: # identity set of vectors\n",
    "            for pos, value in enumerate(merge_candidate): # check each position\n",
    "                if result[pos] == 0 and value != 0: # update only when necessary\n",
    "                    result[pos] = value\n",
    "            consolidated_identity_set.discard(merge_candidate)\n",
    "        # update non-zero values witness-specific lists\n",
    "        for witness_number, witness_token_offset in enumerate(result):\n",
    "            if witness_token_offset != 0:\n",
    "                witness_lists[witness_number][witness_token_offset] = result\n",
    "        # add merge result to consolidated_identity_set\n",
    "        consoidated_identity_set.add(result)"
   ]
  },
  {
   "cell_type": "markdown",
   "metadata": {
    "collapsed": false
   },
   "source": [
    "## Process blocks"
   ]
  },
  {
   "cell_type": "code",
   "execution_count": 13,
   "metadata": {
    "collapsed": false,
    "scrolled": true
   },
   "outputs": [
   ],
   "source": [
    "# Create witness-specific lists and consolidated_identity_set here\n",
    "#\n",
    "def process_blocks(selected_blocks):\n",
    "    \"\"\" Add all data to witness-specific lists of vectors and to consolidated identity set\n",
    "\n",
    "    Return only consolidated identity set\n",
    "    \"\"\"\n",
    "    #selected_blocks is a list of tuples, each of which is a Block and an integer, representing its dependency position\n",
    "    dependency_bitarray = bitarray(len(selected_blocks)) # track dependencies\n",
    "    dependency_bitarray.setall(False) # true = no need to place; initially all false\n",
    "    # ##\n",
    "    # initialze witness lists and consolidated identity set\n",
    "    # ##\n",
    "    witness_lists = [] # will convert to tuple\n",
    "    for witness_position in range(len(witnesses)):\n",
    "        witness_lists.append([None] * (len(witnesses[witness_position]) + 1))\n",
    "    witness_lists = tuple(witness_lists) # stable, so now convert to tuple\n",
    "    consolidated_identity_set = IdentitySet()\n",
    "    # ##\n",
    "    # process blocks\n",
    "    # ##\n",
    "    for current_block, dependency_pointer in selected_blocks:\n",
    "        if dependency_bitarray[dependency_pointer]: # block (or superset) already placed, so skip\n",
    "            continue\n",
    "        else:\n",
    "            dependency_bitarray[dependency_pointer] = True # no need to revisit this block\n",
    "            # Create vectors for entire block\n",
    "            new_vectors = create_candidate_vectors(current_block)\n",
    "            # Check only first and last, merge is both are okay\n",
    "            # NB: Checking only first and last to test entire block will break with discontinuous blocks\n",
    "            #   (should we ever switch to working with discontinuous blocks)\n",
    "            no_transposition = \\\n",
    "                check_whether_okay_to_place(consolidated_identity_set, new_vectors[0]) and \\\n",
    "                check_whether_okay_to_place(consolidated_identity_set, new_vectors[-1])\n",
    "            if no_transposition: # all-or-nothing\n",
    "                for potential_vector in new_vectors:\n",
    "                    input_tuple = add_or_merge_new_vector_into_matrix(witness_lists, consolidated_identity_set, potential_vector)\n",
    "                while dependency_pointer in dependencies: # TODO: alternative to updating variable (\"not very beautiful\")\n",
    "                    dependency_bitarray[dependencies[dependency_pointer]] = True\n",
    "                    dependency_pointer = dependencies[dependency_pointer]\n",
    "            else:\n",
    "                pass\n",
    "    return consolidated_identity_set"
   ]
  },
  {
   "cell_type": "markdown",
   "metadata": {
    "collapsed": false
   },
   "source": [
    "## Main"
   ]
  },
  {
   "cell_type": "code",
   "execution_count": 14,
   "metadata": {
    "collapsed": false,
    "scrolled": true
   },
   "outputs": [
    {
     "data": {
      "text/plain": [
       "Timer unit: 1e-06 s\n",
       "\n",
       "Total time: 5.21777 s\n",
       "\n",
       "Could not find file /tmp/ipykernel_3115/3616626631.py\n",
       "Are you sure you are running this program from the same directory\n",
       "that you ran the profiler from?\n",
       "Continuing without the function's contents.\n",
       "\n",
       "Line #      Hits         Time  Per Hit   % Time  Line Contents\n",
       "==============================================================\n",
       "     1                                           \n",
       "     2                                           \n",
       "     3                                           \n",
       "     4                                           \n",
       "     5                                           \n",
       "     6                                           \n",
       "     7                                           \n",
       "     8                                           \n",
       "     9                                           \n",
       "    10                                           \n",
       "    11                                           \n",
       "    12                                           \n",
       "    13                                           \n",
       "    14                                           \n",
       "    15    132055     414985.0      3.1      8.0  \n",
       "    16    660275    1089700.0      1.7     20.9  \n",
       "    17                                           \n",
       "    18    528220     834420.0      1.6     16.0  \n",
       "    19    335039     514834.0      1.5      9.9  \n",
       "    20                                           \n",
       "    21    132055     331195.0      2.5      6.3  \n",
       "    22       861      65566.0     76.2      1.3  \n",
       "    23                                           \n",
       "    24    131194     107003.0      0.8      2.1  \n",
       "    25    131194    1860066.0     14.2     35.6"
      ]
     },
     "execution_count": 14,
     "metadata": {
     },
     "output_type": "execute_result",
     "start": 0
    }
   ],
   "source": [
    "# create all vectors (gingerly)\n",
    "# We excluded blocks with repetition (temporarily?) before importing into this notebook\n",
    "\n",
    "%lprun -f add_or_merge_new_vector_into_matrix alignment_vectors = process_blocks(prioritized_blocks)\n",
    "# alignment_vectors = process_blocks(prioritized_blocks) # identity set of all placed alignment vectors"
   ]
  },
  {
   "cell_type": "markdown",
   "metadata": {
    "collapsed": false
   },
   "source": [
    "## Create variant graph from numpy masked array"
   ]
  },
  {
   "cell_type": "code",
   "execution_count": 15,
   "metadata": {
    "collapsed": false
   },
   "outputs": [
   ],
   "source": [
    "# Hack to adapt code written originally for numpy matrix to work with identity set instead\n",
    "alignment_matrix = alignment_vectors"
   ]
  },
  {
   "cell_type": "code",
   "execution_count": 16,
   "metadata": {
    "collapsed": false
   },
   "outputs": [
   ],
   "source": [
    "class VG_node():\n",
    "    \"\"\"Variant graph node\"\"\"\n",
    "    def __init__(self, token_string, data): # dictionary of siglum:witness_offset\n",
    "        self.token_string = token_string\n",
    "        self.__dict__.update(**data)\n",
    "        self._sigla = [key for key in data.keys()]\n",
    "    def __repr__(self):\n",
    "        return self.token_string + \"~\" + \"|\".join([\":\".join([str(key), str(getattr(self, key))]) for key in self.sigla()])\n",
    "    def __setitem__(self, key, value):\n",
    "        self._sigla.append(key)\n",
    "        self.__dict__[key] = value\n",
    "    def __getitem__(self, key):\n",
    "        return self.__dict__[key]\n",
    "    def __contains__(self, key):\n",
    "        return key in self.__dict__\n",
    "    def sigla(self):\n",
    "        return self._sigla\n",
    "    def values(self):\n",
    "        return [self[key] for key in self._sigla]\n",
    "    def items(self):\n",
    "        return [(key, self.__dict__[key]) for key in self._sigla]"
   ]
  },
  {
   "cell_type": "code",
   "execution_count": 17,
   "metadata": {
    "collapsed": false
   },
   "outputs": [
   ],
   "source": [
    "# Create networkx variant graph from our (not networkx) alignment graph\n",
    "# Create variant graph edges for start and end nodes (only)\n",
    "# We've treated VG as a global and we refer to it in the earlier functions; should we pass it instead?\n",
    "def augment_or_add_edge_without_conversion(siglum, source_VG_node, target_VG_node):\n",
    "    if VG.has_edge(source_VG_node, target_VG_node):\n",
    "        VG[source_VG_node][target_VG_node][\"siglum\"].append(siglum)\n",
    "    else:\n",
    "        VG.add_edge(\n",
    "            source_VG_node,\n",
    "            target_VG_node,\n",
    "            siglum = [siglum]\n",
    "        )"
   ]
  },
  {
   "cell_type": "code",
   "execution_count": 18,
   "metadata": {
    "collapsed": false
   },
   "outputs": [
   ],
   "source": [
    "# Use alignment graph node to look up variant graph node\n",
    "def alignment_node_to_VG_node(alignment_node: WitnessNode) -> VG_node:\n",
    "    global witness_offset_to_VG_node\n",
    "    return witness_offset_to_VG_node[alignment_node.witness][alignment_node.witness_offset]"
   ]
  },
  {
   "cell_type": "code",
   "execution_count": 19,
   "metadata": {
    "collapsed": false
   },
   "outputs": [
   ],
   "source": [
    "# Create variant graph data edges (except start and end nodes)\n",
    "def augment_or_add_edge(siglum, source, target):\n",
    "    source_VG_node = alignment_node_to_VG_node(source)\n",
    "    target_VG_node = alignment_node_to_VG_node(target)\n",
    "    if VG.has_edge(source_VG_node, target_VG_node):\n",
    "        VG[source_VG_node][target_VG_node][\"siglum\"].append(siglum)\n",
    "    else:\n",
    "        VG.add_edge(\n",
    "            source_VG_node,\n",
    "            target_VG_node,\n",
    "            siglum = [siglum]\n",
    "                )"
   ]
  },
  {
   "cell_type": "code",
   "execution_count": 20,
   "metadata": {
    "collapsed": false
   },
   "outputs": [
    {
     "name": "stdout",
     "output_type": "stream",
     "text": [
      "[WHEN, we, look, to, the]\n",
      "[by, danger,, seems, probable., END]\n"
     ]
    }
   ],
   "source": [
    "print(witness_node_lists['w0'][:5])\n",
    "print(witness_node_lists['w0'][-5:])"
   ]
  },
  {
   "cell_type": "code",
   "execution_count": 21,
   "metadata": {
    "collapsed": false
   },
   "outputs": [
   ],
   "source": [
    "def create_variant_graph_from_vector_space(alignment_matrix):\n",
    "    # create variant graph and add start and end nodes\n",
    "\n",
    "    start_offsets = {} # make sure that START points to first tokens of each witness\n",
    "    for siglum in witness_sigla:\n",
    "        start_offsets[siglum] = -1;\n",
    "    start_node = VG_node(\"START\", start_offsets)\n",
    "    end_node = VG_node(\"END\", {})\n",
    "    global VG # does this have to be global; we return it at the end, but we also use it in functions above\n",
    "    VG = nx.DiGraph(start = start_node, end = end_node) # create start and end properties to find terminal nodes\n",
    "    VG.add_node(start_node)\n",
    "    VG.add_node(end_node)\n",
    "\n",
    "    # keep track of which witness nodes (and therefore also vectors)\n",
    "    # have been added to VG\n",
    "    # does this duplicate information available from the following structure, since\n",
    "    #   if we assign a value below to replace the None, this doesn't seem to add anything\n",
    "    #   Can we get rid of this and use witness_offset_to_VG_node for this purpose instead?\n",
    "    # NB: Includes END (not START), which we will later ignore (we think …)\n",
    "    from bitarray import bitarray\n",
    "    global VG_tracking # keep this, but should we return it instead of making it global?\n",
    "    VG_tracking = {}\n",
    "    for siglum, witness_node_list in witness_node_lists.items():\n",
    "        VG_tracking[siglum] = bitarray(len(witness_node_list))\n",
    "        VG_tracking[siglum].setall(0)\n",
    "\n",
    "    # map from witness token node to variant graph node (needed to construct edges)\n",
    "    # values will be added as we create variant graph nodes\n",
    "    # NB: Includes END (not START), which we will later ignore (we think …)\n",
    "    global witness_offset_to_VG_node # does this have to be global?\n",
    "    witness_offset_to_VG_node = {}\n",
    "    for siglum in witness_node_lists.keys():\n",
    "        witness_offset_to_VG_node[siglum] = [None] * (len(witness_node_lists[siglum]))\n",
    "\n",
    "    # Replaces old code in following cell to build variant graph,\n",
    "    #   this time using vector space as main data source\n",
    "\n",
    "    # 1. Convert vectors to variant graph nodes\n",
    "\n",
    "    for row in alignment_matrix: # row is a numpy array, with 0 for \"masked\" values\n",
    "        if debug:\n",
    "            print(' '.join(('Processing', str(row))))\n",
    "        data = {} # create dictionary of siglum:value for new VG node (variable name: data) and update globals\n",
    "        for index, value in enumerate(row):\n",
    "            if value != 0:\n",
    "                siglum = sigla[index]\n",
    "                value = value - 1 # alignment vector offsets are one greater than offsets in witness_node_lists\n",
    "                data[siglum] = value # add to data for eventual new VG node\n",
    "                VG_tracking[siglum][value] = 1 # update global\n",
    "        # get token string for node (variable name: token_string)\n",
    "        siglum, offset = next(iter(data.items())) # get value without depleting original dictionary\n",
    "        token_string = witness_node_lists[siglum][offset].token_string\n",
    "        # create and add new VG_node\n",
    "        new_VG_node = VG_node(token_string, data)\n",
    "        VG.add_node(new_VG_node)\n",
    "        for siglum, offset in data.items(): # Eek! Another for loop! How embarrassing!\n",
    "            witness_offset_to_VG_node[siglum][offset] = new_VG_node # update other global;\n",
    "\n",
    "    # 2. Traverse variant graph (in arbitrary order), each of which contains witness nodes.\n",
    "    #    Draw outgoing edges, which point to nodes with next tokens in each witness present\n",
    "    #      on the variant graph node.\n",
    "    #    Creating new variant graph nodes for witness tokens not in a alignment vector.\n",
    "    #    Use queue because we're iterating over a dynamic structure (inventory of variant graph nodes).\n",
    "\n",
    "    VG_node_queue = queue.Queue()\n",
    "    #\n",
    "    # Temporarily skipping START and END, which are the first two nodes\n",
    "    #\n",
    "    for node in VG.nodes(): # add all initial VG nodes to queue except START and END\n",
    "        VG_node_queue.put(node)\n",
    "        if debug:\n",
    "            print(f\"Adding node to VG_node_queue; length is {VG_node_queue.qsize()=}\")\n",
    "#     ignore_start = VG_node_queue.get() # temporarily ignore START node when creating edges\n",
    "#     ignore_end = VG_node_queue.get() # temporarily ignore END node when creating edges\n",
    "#     if debug:\n",
    "#         print(f\"Removed START and END; length is {VG_node_queue.qsize()=}\")\n",
    "    while not VG_node_queue.empty():\n",
    "        if debug:\n",
    "            print(f\"Processing source node from VG_node_queue; length is {VG_node_queue.qsize()=}\")\n",
    "        source_node = VG_node_queue.get()\n",
    "        targets = set()\n",
    "        edge_labels = defaultdict(list) # key is target VG node, value is list of sigla\n",
    "        source_sigla = source_node._sigla # all sigla on source node\n",
    "        for siglum in source_sigla:\n",
    "            # target may or may not already exist as node in VG\n",
    "            source_offset = source_node[siglum]\n",
    "            target_offset = source_offset + 1\n",
    "            target = witness_offset_to_VG_node[siglum][target_offset]\n",
    "            if target: # does the target already exist?:\n",
    "                targets.add(target)\n",
    "                edge_labels[target].append(siglum)\n",
    "            else: # 1) create target, 2) add to targets, 3) add to queue of nodes, and 4 + 5) update globals\n",
    "                # TODO: Do we need to update globals? We shouldn't need to return to nodes we add here.\n",
    "                # NB: If real target object is of type WitnessNodeEnd, don't add it to the queue or create an edge\n",
    "                # print(f\"{type(witness_node_lists[siglum][target_offset])=}\")\n",
    "                witness_node_target = witness_node_lists[siglum][target_offset]\n",
    "                if type(witness_node_target) != WitnessNodeEnd:\n",
    "                    target_token_string = witness_node_target.token_string\n",
    "                    new_VG_node = VG_node(target_token_string, {siglum: target_offset}) # 1 create target\n",
    "                    targets.add(new_VG_node) # 2 add to targets\n",
    "                    edge_labels[new_VG_node].append(siglum)\n",
    "                    VG_node_queue.put(new_VG_node) # 3 add to queue of nodes\n",
    "                    VG_tracking[siglum][target_offset] = 1 # 4 update first global\n",
    "                    witness_offset_to_VG_node[siglum][target_offset] = new_VG_node # 5. update second global\n",
    "        for target in targets:\n",
    "            VG.add_edge(source_node, target, label=\",\".join(edge_labels[target]))\n",
    "    #\n",
    "    # Add edges for end VG node\n",
    "    #\n",
    "    all_end_data_nodes = defaultdict(list)\n",
    "    for siglum in witness_sigla:\n",
    "        # Figure out why -2 works and clean up as needed\n",
    "        key = witness_offset_to_VG_node[siglum][-2]\n",
    "        all_end_data_nodes[key].append(siglum)\n",
    "    for key,value in all_end_data_nodes.items():\n",
    "        VG.add_edge(key, end_node, label=\",\".join(value))\n",
    "\n",
    "    # we're done! return the result\n",
    "    return VG"
   ]
  },
  {
   "cell_type": "code",
   "execution_count": 22,
   "metadata": {
    "collapsed": false,
    "scrolled": true
   },
   "outputs": [
   ],
   "source": [
    "# create output\n",
    "VG = create_variant_graph_from_vector_space(alignment_matrix)"
   ]
  },
  {
   "cell_type": "code",
   "execution_count": 23,
   "metadata": {
    "collapsed": false
   },
   "outputs": [
   ],
   "source": [
    "# alignment_matrix.shape"
   ]
  },
  {
   "cell_type": "markdown",
   "metadata": {
    "collapsed": false
   },
   "source": [
    "## Visualize variant graph"
   ]
  },
  {
   "cell_type": "code",
   "execution_count": 24,
   "metadata": {
    "collapsed": false,
    "scrolled": true
   },
   "outputs": [
   ],
   "source": [
    "# # node id values must be strings for graphviz\n",
    "# a = graphviz.Digraph(format=\"svg\", name=\"variant_graph_unjoined\")\n",
    "# a.attr(rankdir = \"LR\")\n",
    "# a.attr(rank = 'same')\n",
    "# a.attr(compound='true')\n",
    "\n",
    "# # plot nodes, building {node: id} for lookup\n",
    "# node_to_id = {}\n",
    "# for index, node in enumerate(VG.nodes()):\n",
    "#     node_id = str(index)\n",
    "#     node_to_id[node] = node_id\n",
    "#     if node is None:\n",
    "#         node_text = 'NONE'\n",
    "#     else:\n",
    "#         node_text = node.token_string + \" (\" + node_id + \")\"\n",
    "#     a.node(node_id, label=node_text)\n",
    "\n",
    "# # plot edges\n",
    "# for edge in VG.edges(data=True):\n",
    "#     # edge is a three-item tuple: source, target, dictionary of properties\n",
    "#     a.edge(node_to_id[edge[0]], node_to_id[edge[1]], label=edge[2][\"label\"])\n",
    "\n",
    "# print('aligning', how_many_paragraphs, 'paragraphs') # confirm\n",
    "# SVG(a.view())"
   ]
  },
  {
   "cell_type": "code",
   "execution_count": 25,
   "metadata": {
    "collapsed": false,
    "scrolled": true
   },
   "outputs": [
   ],
   "source": [
    "#  This function joins the variant graph in place.\n",
    "#  This function is a straight port of the Java version of CollateX.\n",
    "\n",
    "def join(graph):\n",
    "    processed = set()\n",
    "    end = graph.graph[\"end\"]\n",
    "    queue = deque()\n",
    "    for (_, neighbor) in graph.out_edges(graph.graph[\"start\"]):\n",
    "        queue.appendleft(neighbor)\n",
    "    while queue:\n",
    "        vertex = queue.popleft()\n",
    "        out_edges = graph.out_edges(vertex)\n",
    "        if len(out_edges) == 1:\n",
    "            (_, join_candidate) = next(iter(out_edges))\n",
    "            can_join = join_candidate != end and len(graph.in_edges(join_candidate)) == 1\n",
    "            if can_join:\n",
    "                join_vertex_and_join_candidate(graph, join_candidate, vertex)\n",
    "                # we have merged join_candidate (tokens originally to the right) into vertex (tokens originally to the left)\n",
    "                # (for now, join_candidate node and all of its edges are still there, and we need to remove edges before\n",
    "                #   we can remove node, which we do in a for loop)\n",
    "                #\n",
    "                # RESUME HERE: both of the following branches are wrong, the first cryptically (it shows sigla, but not\n",
    "                #   all sigla) and the second conspicuously\n",
    "                #\n",
    "                for (_, neighbor, data) in list(graph.out_edges(join_candidate, data=True)):\n",
    "                    graph.remove_edge(join_candidate, neighbor)\n",
    "                    if graph.has_edge(vertex, neighbor):\n",
    "                        continue # TODO: this looks wrong\n",
    "#                         graph[source][target][\"siglum\"].append(data[\"siglum\"])\n",
    "                    else:\n",
    "#                         graph.add_edge(vertex, neighbor, siglum=data[\"siglum\"])\n",
    "                         graph.add_edge(vertex, neighbor,label=data[\"label\"])\n",
    "                graph.remove_edge(vertex, join_candidate)\n",
    "                graph.remove_node(join_candidate)\n",
    "                queue.appendleft(vertex)\n",
    "                continue\n",
    "        processed.add(vertex)\n",
    "        for (_, neighbor) in out_edges:\n",
    "            # FIXME: Why do we run out of memory in some cases here, if this is not checked?\n",
    "            if neighbor not in processed:\n",
    "                queue.appendleft(neighbor)\n",
    "\n",
    "\n",
    "def join_vertex_and_join_candidate(graph, join_candidate, vertex):\n",
    "    # Note: since there is no normalized/non normalized content in the graph\n",
    "    # a space character is added here for non punctuation tokens\n",
    "\n",
    "    if re.match(r'^\\W', join_candidate.token_string):\n",
    "        vertex.token_string += join_candidate.token_string\n",
    "    else:\n",
    "        vertex.token_string += (\" \" + join_candidate.token_string)\n",
    "    # join_candidate must have exactly one token (inside a list); left item may have more\n",
    "#     for siglum, token in join_candidate.tokens.items():\n",
    "#         vertex.add_token(siglum, token[0])"
   ]
  },
  {
   "cell_type": "code",
   "execution_count": 26,
   "metadata": {
    "collapsed": false
   },
   "outputs": [
   ],
   "source": [
    "# len(nx.algorithms.cycles.find_cycle(VG))"
   ]
  },
  {
   "cell_type": "code",
   "execution_count": 27,
   "metadata": {
    "collapsed": false,
    "scrolled": true
   },
   "outputs": [
   ],
   "source": [
    "# nx.algorithms.cycles.find_cycle(VG)"
   ]
  },
  {
   "cell_type": "code",
   "execution_count": 28,
   "metadata": {
    "collapsed": false,
    "scrolled": true
   },
   "outputs": [
    {
     "name": "stdout",
     "output_type": "stream",
     "text": [
      "aligning 3 paragraphs\n"
     ]
    },
    {
     "data": {
      "image/svg+xml": "<svg xmlns=\"http://www.w3.org/2000/svg\" xmlns:xlink=\"http://www.w3.org/1999/xlink\" width=\"53917pt\" height=\"134pt\" viewBox=\"0.00 0.00 53916.60 134.00\">\n<g id=\"graph0\" class=\"graph\" transform=\"scale(1 1) rotate(0) translate(4 130)\">\n<title>variant_graph_joined</title>\n<polygon fill=\"white\" stroke=\"transparent\" points=\"-4,4 -4,-130 53912.6,-130 53912.6,4 -4,4\"/>\n<!-- 0 -->\n<g id=\"node1\" class=\"node\">\n<title>0</title>\n<ellipse fill=\"none\" stroke=\"black\" cx=\"57.84\" cy=\"-67\" rx=\"57.69\" ry=\"18\"/>\n<text text-anchor=\"middle\" x=\"57.84\" y=\"-63.3\" font-family=\"Times,serif\" font-size=\"14.00\">START (0)</text>\n</g>\n<!-- 20 -->\n<g id=\"node21\" class=\"node\">\n<title>20</title>\n<ellipse fill=\"none\" stroke=\"black\" cx=\"1354.79\" cy=\"-67\" rx=\"864.35\" ry=\"18\"/>\n<text text-anchor=\"middle\" x=\"1354.79\" y=\"-63.3\" font-family=\"Times,serif\" font-size=\"14.00\">WHEN we look to the individuals of the same variety or sub-variety of our older cultivated plants and animals, one of the first points which strikes us, is, that they generally differ (20)</text>\n</g>\n<!-- 0&#45;&gt;20 -->\n<g id=\"edge1\" class=\"edge\">\n<title>0-&gt;20</title>\n<path fill=\"none\" stroke=\"black\" d=\"M110.29,-74.79C118.11,-75.71 126.1,-76.5 133.69,-77 143.45,-77.65 145.91,-77.04 155.69,-77 285.95,-76.46 424.17,-75.58 558.66,-74.57\"/>\n<polygon fill=\"black\" stroke=\"black\" points=\"558.78,-78.07 568.75,-74.49 558.72,-71.07 558.78,-78.07\"/>\n<text text-anchor=\"middle\" x=\"303.03\" y=\"-79.8\" font-family=\"Times,serif\" font-size=\"14.00\">w0,w1,w2</text>\n</g>\n<!-- 33 -->\n<g id=\"node34\" class=\"node\">\n<title>33</title>\n<ellipse fill=\"none\" stroke=\"black\" cx=\"303.03\" cy=\"-40\" rx=\"129.18\" ry=\"18\"/>\n<text text-anchor=\"middle\" x=\"303.03\" y=\"-36.3\" font-family=\"Times,serif\" font-size=\"14.00\">Causes of Variability. (33)</text>\n</g>\n<!-- 0&#45;&gt;33 -->\n<g id=\"edge2\" class=\"edge\">\n<title>0-&gt;33</title>\n<path fill=\"none\" stroke=\"black\" d=\"M112.51,-61.04C135.81,-58.45 164,-55.32 191.44,-52.28\"/>\n<polygon fill=\"black\" stroke=\"black\" points=\"191.95,-55.74 201.51,-51.16 191.18,-48.79 191.95,-55.74\"/>\n<text text-anchor=\"middle\" x=\"144.69\" y=\"-61.8\" font-family=\"Times,serif\" font-size=\"14.00\">w3</text>\n</g>\n<!-- 1 -->\n<g id=\"node2\" class=\"node\">\n<title>1</title>\n<ellipse fill=\"none\" stroke=\"black\" cx=\"53860.51\" cy=\"-73\" rx=\"48.19\" ry=\"18\"/>\n<text text-anchor=\"middle\" x=\"53860.51\" y=\"-69.3\" font-family=\"Times,serif\" font-size=\"14.00\">END (1)</text>\n</g>\n<!-- 2 -->\n<g id=\"node3\" class=\"node\">\n<title>2</title>\n<ellipse fill=\"none\" stroke=\"black\" cx=\"16802.71\" cy=\"-67\" rx=\"5013.81\" ry=\"18\"/>\n<text text-anchor=\"middle\" x=\"16802.71\" y=\"-63.3\" font-family=\"Times,serif\" font-size=\"14.00\">when the organisation has once begun to vary, it generally continues to vary for many generations. No case is on record of a variable being ceasing to be variable under cultivation. Our oldest cultivated plants, such as wheat, still often yield new varieties: our oldest domesticated animals are still capable of rapid improvement or modification. It has been disputed at what period of life the causes of variability, whatever they may be, generally act; whether during the early or late period of development of the embryo, or at the instant of conception. Geoffroy St. Hilaire's experiments show that unnatural treatment of the embryo causes monstrosities; and monstrosities cannot be separated by any clear line of distinction from mere variations. But I am strongly inclined to suspect that the most frequent cause of variability may be attributed to the male and female reproductive elements having been affected prior to the act of conception. Several reasons make me believe in this; but the chief one is the remarkable effect which confinement or cultivation has on the (2)</text>\n</g>\n<!-- 10 -->\n<g id=\"node11\" class=\"node\">\n<title>10</title>\n<ellipse fill=\"none\" stroke=\"black\" cx=\"22000.76\" cy=\"-94\" rx=\"70.39\" ry=\"18\"/>\n<text text-anchor=\"middle\" x=\"22000.76\" y=\"-90.3\" font-family=\"Times,serif\" font-size=\"14.00\">function (10)</text>\n</g>\n<!-- 2&#45;&gt;10 -->\n<g id=\"edge4\" class=\"edge\">\n<title>2-&gt;10</title>\n<path fill=\"none\" stroke=\"black\" d=\"M19653.51,-81.81C20673.64,-87.11 21641.5,-92.14 21920,-93.59\"/>\n<polygon fill=\"black\" stroke=\"black\" points=\"21920.38,-97.09 21930.4,-93.64 21920.42,-90.09 21920.38,-97.09\"/>\n<text text-anchor=\"middle\" x=\"21870.86\" y=\"-96.8\" font-family=\"Times,serif\" font-size=\"14.00\">w1,w2,w3</text>\n</g>\n<!-- 34 -->\n<g id=\"node35\" class=\"node\">\n<title>34</title>\n<ellipse fill=\"none\" stroke=\"black\" cx=\"22000.76\" cy=\"-40\" rx=\"75.29\" ry=\"18\"/>\n<text text-anchor=\"middle\" x=\"22000.76\" y=\"-36.3\" font-family=\"Times,serif\" font-size=\"14.00\">functions (34)</text>\n</g>\n<!-- 2&#45;&gt;34 -->\n<g id=\"edge3\" class=\"edge\">\n<title>2-&gt;34</title>\n<path fill=\"none\" stroke=\"black\" d=\"M19653.51,-52.19C20667.72,-46.92 21630.27,-41.92 21915.08,-40.44\"/>\n<polygon fill=\"black\" stroke=\"black\" points=\"21915.35,-43.94 21925.33,-40.39 21915.31,-36.94 21915.35,-43.94\"/>\n<text text-anchor=\"middle\" x=\"21870.86\" y=\"-43.8\" font-family=\"Times,serif\" font-size=\"14.00\">w0</text>\n</g>\n<!-- 3 -->\n<g id=\"node4\" class=\"node\">\n<title>3</title>\n<ellipse fill=\"none\" stroke=\"black\" cx=\"38160.69\" cy=\"-45\" rx=\"3539.67\" ry=\"18\"/>\n<text text-anchor=\"middle\" x=\"38160.69\" y=\"-41.3\" font-family=\"Times,serif\" font-size=\"14.00\">carnivorous birds, with the rarest exceptions, hardly ever lay fertile eggs. Many exotic plants have pollen utterly worthless, in the same exact condition as in the most sterile hybrids. When, on the one hand, we see domesticated animals and plants, though often weak and sickly, yet breeding quite freely under confinement; and when, on the other hand, we see individuals, though taken young from a state of nature, perfectly tamed, long-lived, and healthy(of which I could give numerous instances), yet having their reproductive system so seriously affected by unperceived causes as to fail in acting, we need not be surprised at this system, when it does act under confinement, acting not quite regularly, and producing offspring not perfectly like their (3)</text>\n</g>\n<!-- 30 -->\n<g id=\"node31\" class=\"node\">\n<title>30</title>\n<ellipse fill=\"none\" stroke=\"black\" cx=\"41880.12\" cy=\"-73\" rx=\"70.69\" ry=\"18\"/>\n<text text-anchor=\"middle\" x=\"41880.12\" y=\"-69.3\" font-family=\"Times,serif\" font-size=\"14.00\">parents. (30)</text>\n</g>\n<!-- 3&#45;&gt;30 -->\n<g id=\"edge5\" class=\"edge\">\n<title>3-&gt;30</title>\n<path fill=\"none\" stroke=\"black\" d=\"M40142.17,-59.92C40867.27,-65.38 41567.56,-70.65 41799.09,-72.4\"/>\n<polygon fill=\"black\" stroke=\"black\" points=\"41799.07,-75.9 41809.1,-72.47 41799.13,-68.9 41799.07,-75.9\"/>\n<text text-anchor=\"middle\" x=\"41754.78\" y=\"-75.8\" font-family=\"Times,serif\" font-size=\"14.00\">w1,w2,w3</text>\n</g>\n<!-- 35 -->\n<g id=\"node36\" class=\"node\">\n<title>35</title>\n<ellipse fill=\"none\" stroke=\"black\" cx=\"42093.1\" cy=\"-24\" rx=\"124.28\" ry=\"18\"/>\n<text text-anchor=\"middle\" x=\"42093.1\" y=\"-20.3\" font-family=\"Times,serif\" font-size=\"14.00\">parents or variable. (35)</text>\n</g>\n<!-- 3&#45;&gt;35 -->\n<g id=\"edge6\" class=\"edge\">\n<title>3-&gt;35</title>\n<path fill=\"none\" stroke=\"black\" d=\"M40601.63,-31.96C41191.34,-28.81 41720.39,-25.99 41958.62,-24.71\"/>\n<polygon fill=\"black\" stroke=\"black\" points=\"41958.72,-28.21 41968.71,-24.66 41958.69,-21.21 41958.72,-28.21\"/>\n<text text-anchor=\"middle\" x=\"41754.78\" y=\"-29.8\" font-family=\"Times,serif\" font-size=\"14.00\">w0</text>\n</g>\n<!-- 4 -->\n<g id=\"node5\" class=\"node\">\n<title>4</title>\n<ellipse fill=\"none\" stroke=\"black\" cx=\"45984.91\" cy=\"-73\" rx=\"3141.64\" ry=\"18\"/>\n<text text-anchor=\"middle\" x=\"45984.91\" y=\"-69.3\" font-family=\"Times,serif\" font-size=\"14.00\">Habit also has a decided influence, as in the period of flowering with plants when transported from one climate to another. In animals it has a more marked effect; for instance, I find in the domestic duck that the bones of the wing weigh less and the bones of the leg more, in proportion to the whole skeleton, than do the same bones in the wild-duck; and I presume that this change may be safely attributed to the domestic duck flying much less, and walking more, than its wild parent. The great and inherited development of the udders in cows and goats in countries where they are habitually milked, in comparison with the state of these organs in other countries, is (4)</text>\n</g>\n<!-- 12 -->\n<g id=\"node13\" class=\"node\">\n<title>12</title>\n<ellipse fill=\"none\" stroke=\"black\" cx=\"49529.36\" cy=\"-73\" rx=\"139.98\" ry=\"18\"/>\n<text text-anchor=\"middle\" x=\"49529.36\" y=\"-69.3\" font-family=\"Times,serif\" font-size=\"14.00\">another instance of the (12)</text>\n</g>\n<!-- 4&#45;&gt;12 -->\n<g id=\"edge8\" class=\"edge\">\n<title>4-&gt;12</title>\n<path fill=\"none\" stroke=\"black\" d=\"M49086.8,-75.87C49175.37,-75.92 49263.12,-75.96 49349.62,-76 49359.4,-76 49361.84,-76.09 49371.62,-76 49374.72,-75.97 49377.85,-75.94 49381.01,-75.9\"/>\n<polygon fill=\"black\" stroke=\"black\" points=\"49381.21,-79.4 49391.17,-75.78 49381.13,-72.4 49381.21,-79.4\"/>\n<text text-anchor=\"middle\" x=\"49258.18\" y=\"-78.8\" font-family=\"Times,serif\" font-size=\"14.00\">w0,w1,w2</text>\n</g>\n<!-- 36 -->\n<g id=\"node37\" class=\"node\">\n<title>36</title>\n<ellipse fill=\"none\" stroke=\"black\" cx=\"49258.18\" cy=\"-46\" rx=\"73.39\" ry=\"18\"/>\n<text text-anchor=\"middle\" x=\"49258.18\" y=\"-42.3\" font-family=\"Times,serif\" font-size=\"14.00\">probably (36)</text>\n</g>\n<!-- 4&#45;&gt;36 -->\n<g id=\"edge7\" class=\"edge\">\n<title>4-&gt;36</title>\n<path fill=\"none\" stroke=\"black\" d=\"M47777.37,-58.21C48385.62,-53.19 48964.86,-48.41 49174.53,-46.68\"/>\n<polygon fill=\"black\" stroke=\"black\" points=\"49174.56,-50.18 49184.53,-46.6 49174.5,-43.18 49174.56,-50.18\"/>\n<text text-anchor=\"middle\" x=\"49155.73\" y=\"-49.8\" font-family=\"Times,serif\" font-size=\"14.00\">w3</text>\n</g>\n<!-- 5 -->\n<g id=\"node6\" class=\"node\">\n<title>5</title>\n<ellipse fill=\"none\" stroke=\"black\" cx=\"25660.66\" cy=\"-67\" rx=\"2929.88\" ry=\"18\"/>\n<text text-anchor=\"middle\" x=\"25660.66\" y=\"-63.3\" font-family=\"Times,serif\" font-size=\"14.00\">this system appearing to be far more susceptible than any other part of the organisation, to the action of any change in the conditions of life. Nothing is more easy than to tame an animal, and few things more difficult than to get it to breed freely under confinement, even in the many cases when the male and female unite. How many animals there are which will not breed, though living long under not very close confinement in their native country! This is generally attributed to vitiated instincts; but how many cultivated plants display the utmost vigour, and yet rarely or never seed! In some few such cases it has been (5)</text>\n</g>\n<!-- 9 -->\n<g id=\"node10\" class=\"node\">\n<title>9</title>\n<ellipse fill=\"none\" stroke=\"black\" cx=\"28776.29\" cy=\"-94\" rx=\"76.89\" ry=\"18\"/>\n<text text-anchor=\"middle\" x=\"28776.29\" y=\"-90.3\" font-family=\"Times,serif\" font-size=\"14.00\">discovered (9)</text>\n</g>\n<!-- 5&#45;&gt;9 -->\n<g id=\"edge9\" class=\"edge\">\n<title>5-&gt;9</title>\n<path fill=\"none\" stroke=\"black\" d=\"M27355.14,-81.69C27931.28,-86.68 28482.27,-91.46 28689.19,-93.25\"/>\n<polygon fill=\"black\" stroke=\"black\" points=\"28689.35,-96.75 28699.38,-93.34 28689.41,-89.76 28689.35,-96.75\"/>\n<text text-anchor=\"middle\" x=\"28645.1\" y=\"-96.8\" font-family=\"Times,serif\" font-size=\"14.00\">w1,w2,w3</text>\n</g>\n<!-- 37 -->\n<g id=\"node38\" class=\"node\">\n<title>37</title>\n<ellipse fill=\"none\" stroke=\"black\" cx=\"28776.29\" cy=\"-40\" rx=\"76.89\" ry=\"18\"/>\n<text text-anchor=\"middle\" x=\"28776.29\" y=\"-36.3\" font-family=\"Times,serif\" font-size=\"14.00\">found out (37)</text>\n</g>\n<!-- 5&#45;&gt;37 -->\n<g id=\"edge10\" class=\"edge\">\n<title>5-&gt;37</title>\n<path fill=\"none\" stroke=\"black\" d=\"M27355.14,-52.31C27931.28,-47.32 28482.27,-42.54 28689.19,-40.75\"/>\n<polygon fill=\"black\" stroke=\"black\" points=\"28689.41,-44.24 28699.38,-40.66 28689.35,-37.25 28689.41,-44.24\"/>\n<text text-anchor=\"middle\" x=\"28645.1\" y=\"-44.8\" font-family=\"Times,serif\" font-size=\"14.00\">w0</text>\n</g>\n<!-- 6 -->\n<g id=\"node7\" class=\"node\">\n<title>6</title>\n<ellipse fill=\"none\" stroke=\"black\" cx=\"10021.59\" cy=\"-67\" rx=\"1441.64\" ry=\"18\"/>\n<text text-anchor=\"middle\" x=\"10021.59\" y=\"-63.3\" font-family=\"Times,serif\" font-size=\"14.00\">also, I think, some probability in the view propounded by Andrew Knight, that this variability may be partly connected with excess of food. It seems pretty clear that organic beings must be exposed during several generations to the new conditions of life to cause any appreciable amount of variation; and (6)</text>\n</g>\n<!-- 7 -->\n<g id=\"node8\" class=\"node\">\n<title>7</title>\n<ellipse fill=\"none\" stroke=\"black\" cx=\"11626.11\" cy=\"-94\" rx=\"45.49\" ry=\"18\"/>\n<text text-anchor=\"middle\" x=\"11626.11\" y=\"-90.3\" font-family=\"Times,serif\" font-size=\"14.00\">that (7)</text>\n</g>\n<!-- 6&#45;&gt;7 -->\n<g id=\"edge12\" class=\"edge\">\n<title>6-&gt;7</title>\n<path fill=\"none\" stroke=\"black\" d=\"M10880.73,-81.46C11172.83,-86.38 11454.8,-91.13 11570.3,-93.08\"/>\n<polygon fill=\"black\" stroke=\"black\" points=\"11570.57,-96.58 11580.63,-93.25 11570.69,-89.58 11570.57,-96.58\"/>\n<text text-anchor=\"middle\" x=\"11517.66\" y=\"-95.8\" font-family=\"Times,serif\" font-size=\"14.00\">w0,w1,w2</text>\n</g>\n<!-- 38 -->\n<g id=\"node39\" class=\"node\">\n<title>38</title>\n<ellipse fill=\"none\" stroke=\"black\" cx=\"11626.11\" cy=\"-40\" rx=\"53.89\" ry=\"18\"/>\n<text text-anchor=\"middle\" x=\"11626.11\" y=\"-36.3\" font-family=\"Times,serif\" font-size=\"14.00\">that, (38)</text>\n</g>\n<!-- 6&#45;&gt;38 -->\n<g id=\"edge11\" class=\"edge\">\n<title>6-&gt;38</title>\n<path fill=\"none\" stroke=\"black\" d=\"M10880.73,-52.54C11165.83,-47.74 11441.28,-43.1 11561.72,-41.07\"/>\n<polygon fill=\"black\" stroke=\"black\" points=\"11561.91,-44.57 11571.85,-40.9 11561.79,-37.57 11561.91,-44.57\"/>\n<text text-anchor=\"middle\" x=\"11517.66\" y=\"-45.8\" font-family=\"Times,serif\" font-size=\"14.00\">w3</text>\n</g>\n<!-- 7&#45;&gt;2 -->\n<g id=\"edge13\" class=\"edge\">\n<title>7-&gt;2</title>\n<path fill=\"none\" stroke=\"black\" d=\"M11671.84,-93.77C11891.83,-92.62 12890.94,-87.41 13949.8,-81.88\"/>\n<polygon fill=\"black\" stroke=\"black\" points=\"13949.93,-85.38 13959.91,-81.83 13949.9,-78.38 13949.93,-85.38\"/>\n<text text-anchor=\"middle\" x=\"11734.55\" y=\"-96.8\" font-family=\"Times,serif\" font-size=\"14.00\">w0,w1,w2</text>\n</g>\n<!-- 8 -->\n<g id=\"node9\" class=\"node\">\n<title>8</title>\n<ellipse fill=\"none\" stroke=\"black\" cx=\"31376.52\" cy=\"-67\" rx=\"2414.57\" ry=\"18\"/>\n<text text-anchor=\"middle\" x=\"31376.52\" y=\"-63.3\" font-family=\"Times,serif\" font-size=\"14.00\">that very trifling changes, such as a little more or less water at some particular period of growth, will determine whether or not the plant sets a seed. I cannot here enter on the copious details which I have collected on this curious subject; but to show how singular the laws are which determine the reproduction of animals under confinement, I may just mention that carnivorous animals, even from the tropics, breed in this country pretty freely under confinement, with the exception of the plantigrades or bear (8)</text>\n</g>\n<!-- 28 -->\n<g id=\"node29\" class=\"node\">\n<title>28</title>\n<ellipse fill=\"none\" stroke=\"black\" cx=\"34077.49\" cy=\"-94\" rx=\"203.36\" ry=\"18\"/>\n<text text-anchor=\"middle\" x=\"34077.49\" y=\"-90.3\" font-family=\"Times,serif\" font-size=\"14.00\">family, which seldom produce young; (28)</text>\n</g>\n<!-- 8&#45;&gt;28 -->\n<g id=\"edge14\" class=\"edge\">\n<title>8-&gt;28</title>\n<path fill=\"none\" stroke=\"black\" d=\"M32820.34,-81.43C33231.15,-85.54 33630.38,-89.54 33864.74,-91.88\"/>\n<polygon fill=\"black\" stroke=\"black\" points=\"33865.05,-95.38 33875.09,-91.99 33865.12,-88.39 33865.05,-95.38\"/>\n<text text-anchor=\"middle\" x=\"33832.55\" y=\"-94.8\" font-family=\"Times,serif\" font-size=\"14.00\">w2,w3</text>\n</g>\n<!-- 32 -->\n<g id=\"node33\" class=\"node\">\n<title>32</title>\n<ellipse fill=\"none\" stroke=\"black\" cx=\"34077.49\" cy=\"-40\" rx=\"63.89\" ry=\"18\"/>\n<text text-anchor=\"middle\" x=\"34077.49\" y=\"-36.3\" font-family=\"Times,serif\" font-size=\"14.00\">family; (32)</text>\n</g>\n<!-- 8&#45;&gt;32 -->\n<g id=\"edge15\" class=\"edge\">\n<title>8-&gt;32</title>\n<path fill=\"none\" stroke=\"black\" d=\"M32820.34,-52.57C33330.37,-47.46 33822.54,-42.54 34003.55,-40.73\"/>\n<polygon fill=\"black\" stroke=\"black\" points=\"34003.78,-44.23 34013.74,-40.63 34003.71,-37.23 34003.78,-44.23\"/>\n<text text-anchor=\"middle\" x=\"33832.55\" y=\"-45.8\" font-family=\"Times,serif\" font-size=\"14.00\">w0,w1</text>\n</g>\n<!-- 9&#45;&gt;8 -->\n<g id=\"edge16\" class=\"edge\">\n<title>9-&gt;8</title>\n<path fill=\"none\" stroke=\"black\" d=\"M28852.94,-93.21C29027.96,-91.4 29482.33,-86.67 29958.04,-81.73\"/>\n<polygon fill=\"black\" stroke=\"black\" points=\"29958.26,-85.23 29968.22,-81.62 29958.19,-78.23 29958.26,-85.23\"/>\n<text text-anchor=\"middle\" x=\"28907.48\" y=\"-95.8\" font-family=\"Times,serif\" font-size=\"14.00\">w1,w2,w3</text>\n</g>\n<!-- 11 -->\n<g id=\"node12\" class=\"node\">\n<title>11</title>\n<ellipse fill=\"none\" stroke=\"black\" cx=\"22306.69\" cy=\"-67\" rx=\"121.58\" ry=\"18\"/>\n<text text-anchor=\"middle\" x=\"22306.69\" y=\"-63.3\" font-family=\"Times,serif\" font-size=\"14.00\">of the reproductive (11)</text>\n</g>\n<!-- 10&#45;&gt;11 -->\n<g id=\"edge17\" class=\"edge\">\n<title>10-&gt;11</title>\n<path fill=\"none\" stroke=\"black\" d=\"M22067.33,-88.17C22103.68,-84.95 22149.91,-80.84 22191.95,-77.1\"/>\n<polygon fill=\"black\" stroke=\"black\" points=\"22192.33,-80.58 22201.98,-76.21 22191.71,-73.61 22192.33,-80.58\"/>\n<text text-anchor=\"middle\" x=\"22130.65\" y=\"-88.8\" font-family=\"Times,serif\" font-size=\"14.00\">w1,w2,w3</text>\n</g>\n<!-- 27 -->\n<g id=\"node28\" class=\"node\">\n<title>27</title>\n<ellipse fill=\"none\" stroke=\"black\" cx=\"22579.47\" cy=\"-94\" rx=\"68.49\" ry=\"18\"/>\n<text text-anchor=\"middle\" x=\"22579.47\" y=\"-90.3\" font-family=\"Times,serif\" font-size=\"14.00\">system: (27)</text>\n</g>\n<!-- 11&#45;&gt;27 -->\n<g id=\"edge18\" class=\"edge\">\n<title>11-&gt;27</title>\n<path fill=\"none\" stroke=\"black\" d=\"M22408.13,-77.02C22440.18,-80.21 22475.02,-83.69 22504.8,-86.65\"/>\n<polygon fill=\"black\" stroke=\"black\" points=\"22504.81,-90.17 22515.11,-87.68 22505.51,-83.21 22504.81,-90.17\"/>\n<text text-anchor=\"middle\" x=\"22469.73\" y=\"-88.8\" font-family=\"Times,serif\" font-size=\"14.00\">w2,w3</text>\n</g>\n<!-- 31 -->\n<g id=\"node32\" class=\"node\">\n<title>31</title>\n<ellipse fill=\"none\" stroke=\"black\" cx=\"22579.47\" cy=\"-40\" rx=\"68.49\" ry=\"18\"/>\n<text text-anchor=\"middle\" x=\"22579.47\" y=\"-36.3\" font-family=\"Times,serif\" font-size=\"14.00\">system; (31)</text>\n</g>\n<!-- 11&#45;&gt;31 -->\n<g id=\"edge19\" class=\"edge\">\n<title>11-&gt;31</title>\n<path fill=\"none\" stroke=\"black\" d=\"M22408.13,-56.98C22440.18,-53.79 22475.02,-50.31 22504.8,-47.35\"/>\n<polygon fill=\"black\" stroke=\"black\" points=\"22505.51,-50.79 22515.11,-46.32 22504.81,-43.83 22505.51,-50.79\"/>\n<text text-anchor=\"middle\" x=\"22469.73\" y=\"-55.8\" font-family=\"Times,serif\" font-size=\"14.00\">w0,w1</text>\n</g>\n<!-- 13 -->\n<g id=\"node14\" class=\"node\">\n<title>13</title>\n<ellipse fill=\"none\" stroke=\"black\" cx=\"49841.79\" cy=\"-100\" rx=\"58.49\" ry=\"18\"/>\n<text text-anchor=\"middle\" x=\"49841.79\" y=\"-96.3\" font-family=\"Times,serif\" font-size=\"14.00\">effect (13)</text>\n</g>\n<!-- 12&#45;&gt;13 -->\n<g id=\"edge21\" class=\"edge\">\n<title>12-&gt;13</title>\n<path fill=\"none\" stroke=\"black\" d=\"M49645.51,-83.02C49689.2,-86.82 49737.44,-91.01 49775.04,-94.28\"/>\n<polygon fill=\"black\" stroke=\"black\" points=\"49775.08,-97.8 49785.35,-95.18 49775.69,-90.82 49775.08,-97.8\"/>\n<text text-anchor=\"middle\" x=\"49723.6\" y=\"-95.8\" font-family=\"Times,serif\" font-size=\"14.00\">w0,w1,w2</text>\n</g>\n<!-- 39 -->\n<g id=\"node40\" class=\"node\">\n<title>39</title>\n<ellipse fill=\"none\" stroke=\"black\" cx=\"49841.79\" cy=\"-46\" rx=\"63.89\" ry=\"18\"/>\n<text text-anchor=\"middle\" x=\"49841.79\" y=\"-42.3\" font-family=\"Times,serif\" font-size=\"14.00\">effects (39)</text>\n</g>\n<!-- 12&#45;&gt;39 -->\n<g id=\"edge20\" class=\"edge\">\n<title>12-&gt;39</title>\n<path fill=\"none\" stroke=\"black\" d=\"M49644.64,-62.73C49658.93,-61.46 49673.35,-60.2 49687.1,-59 49714.3,-56.63 49744.21,-54.09 49770.37,-51.89\"/>\n<polygon fill=\"black\" stroke=\"black\" points=\"49770.9,-55.35 49780.57,-51.03 49770.31,-48.38 49770.9,-55.35\"/>\n<text text-anchor=\"middle\" x=\"49723.6\" y=\"-62.8\" font-family=\"Times,serif\" font-size=\"14.00\">w3</text>\n</g>\n<!-- 14 -->\n<g id=\"node15\" class=\"node\">\n<title>14</title>\n<ellipse fill=\"none\" stroke=\"black\" cx=\"50559.79\" cy=\"-73\" rx=\"545.1\" ry=\"18\"/>\n<text text-anchor=\"middle\" x=\"50559.79\" y=\"-69.3\" font-family=\"Times,serif\" font-size=\"14.00\">of use. Not a single domestic animal can be named which has not in some country drooping ears; and the view (14)</text>\n</g>\n<!-- 13&#45;&gt;14 -->\n<g id=\"edge22\" class=\"edge\">\n<title>13-&gt;14</title>\n<path fill=\"none\" stroke=\"black\" d=\"M49899.87,-97.85C49964.75,-95.4 50076.4,-91.19 50189.55,-86.92\"/>\n<polygon fill=\"black\" stroke=\"black\" points=\"50189.94,-90.41 50199.8,-86.54 50189.68,-83.42 50189.94,-90.41\"/>\n<text text-anchor=\"middle\" x=\"49959.99\" y=\"-99.8\" font-family=\"Times,serif\" font-size=\"14.00\">w0,w1,w2</text>\n</g>\n<!-- 15 -->\n<g id=\"node16\" class=\"node\">\n<title>15</title>\n<ellipse fill=\"none\" stroke=\"black\" cx=\"51509.01\" cy=\"-73\" rx=\"79.89\" ry=\"18\"/>\n<text text-anchor=\"middle\" x=\"51509.01\" y=\"-69.3\" font-family=\"Times,serif\" font-size=\"14.00\">suggested (15)</text>\n</g>\n<!-- 14&#45;&gt;15 -->\n<g id=\"edge23\" class=\"edge\">\n<title>14-&gt;15</title>\n<path fill=\"none\" stroke=\"black\" d=\"M51082.99,-78.08C51184.51,-78.88 51290.12,-79.58 51389.07,-80 51398.85,-80.04 51401.3,-80.35 51411.07,-80 51415.04,-79.86 51419.09,-79.68 51423.19,-79.48\"/>\n<polygon fill=\"black\" stroke=\"black\" points=\"51423.62,-82.96 51433.42,-78.93 51423.24,-75.97 51423.62,-82.96\"/>\n<text text-anchor=\"middle\" x=\"51267.08\" y=\"-82.8\" font-family=\"Times,serif\" font-size=\"14.00\">w0,w1,w2</text>\n</g>\n<!-- 40 -->\n<g id=\"node41\" class=\"node\">\n<title>40</title>\n<ellipse fill=\"none\" stroke=\"black\" cx=\"51267.08\" cy=\"-46\" rx=\"103.98\" ry=\"18\"/>\n<text text-anchor=\"middle\" x=\"51267.08\" y=\"-42.3\" font-family=\"Times,serif\" font-size=\"14.00\">which has been (40)</text>\n</g>\n<!-- 14&#45;&gt;40 -->\n<g id=\"edge24\" class=\"edge\">\n<title>14-&gt;40</title>\n<path fill=\"none\" stroke=\"black\" d=\"M50916.53,-59.38C51003.3,-56.06 51089.81,-52.75 51155.07,-50.25\"/>\n<polygon fill=\"black\" stroke=\"black\" points=\"51155.5,-53.74 51165.35,-49.86 51155.23,-46.74 51155.5,-53.74\"/>\n<text text-anchor=\"middle\" x=\"51134.09\" y=\"-54.8\" font-family=\"Times,serif\" font-size=\"14.00\">w3</text>\n</g>\n<!-- 16 -->\n<g id=\"node17\" class=\"node\">\n<title>16</title>\n<ellipse fill=\"none\" stroke=\"black\" cx=\"51810.4\" cy=\"-108\" rx=\"112.38\" ry=\"18\"/>\n<text text-anchor=\"middle\" x=\"51810.4\" y=\"-104.3\" font-family=\"Times,serif\" font-size=\"14.00\">by some authors, (16)</text>\n</g>\n<!-- 15&#45;&gt;16 -->\n<g id=\"edge25\" class=\"edge\">\n<title>15-&gt;16</title>\n<path fill=\"none\" stroke=\"black\" d=\"M51580.21,-81.21C51618.61,-85.7 51666.84,-91.33 51709.14,-96.28\"/>\n<polygon fill=\"black\" stroke=\"black\" points=\"51708.85,-99.77 51719.19,-97.45 51709.66,-92.82 51708.85,-99.77\"/>\n<text text-anchor=\"middle\" x=\"51643.46\" y=\"-95.8\" font-family=\"Times,serif\" font-size=\"14.00\">w0,w1,w2</text>\n</g>\n<!-- 17 -->\n<g id=\"node18\" class=\"node\">\n<title>17</title>\n<ellipse fill=\"none\" stroke=\"black\" cx=\"52440.65\" cy=\"-73\" rx=\"408.63\" ry=\"18\"/>\n<text text-anchor=\"middle\" x=\"52440.65\" y=\"-69.3\" font-family=\"Times,serif\" font-size=\"14.00\">that the drooping is due to the disuse of the muscles of the ear, from the animals (17)</text>\n</g>\n<!-- 15&#45;&gt;17 -->\n<g id=\"edge26\" class=\"edge\">\n<title>15-&gt;17</title>\n<path fill=\"none\" stroke=\"black\" d=\"M51587.72,-69.46C51621.57,-68.08 51661.72,-66.67 51697.96,-66 51815.4,-63.81 51943.31,-64.07 52059.33,-65.32\"/>\n<polygon fill=\"black\" stroke=\"black\" points=\"52059.4,-68.82 52069.44,-65.43 52059.48,-61.82 52059.4,-68.82\"/>\n<text text-anchor=\"middle\" x=\"51810.4\" y=\"-69.8\" font-family=\"Times,serif\" font-size=\"14.00\">w3</text>\n</g>\n<!-- 16&#45;&gt;17 -->\n<g id=\"edge27\" class=\"edge\">\n<title>16-&gt;17</title>\n<path fill=\"none\" stroke=\"black\" d=\"M51916.91,-102.12C51987.99,-98.16 52085.08,-92.75 52176.3,-87.67\"/>\n<polygon fill=\"black\" stroke=\"black\" points=\"52176.75,-91.15 52186.53,-87.1 52176.36,-84.16 52176.75,-91.15\"/>\n<text text-anchor=\"middle\" x=\"51977.34\" y=\"-103.8\" font-family=\"Times,serif\" font-size=\"14.00\">w0,w1,w2</text>\n</g>\n<!-- 18 -->\n<g id=\"node19\" class=\"node\">\n<title>18</title>\n<ellipse fill=\"none\" stroke=\"black\" cx=\"53063.1\" cy=\"-100\" rx=\"104.78\" ry=\"18\"/>\n<text text-anchor=\"middle\" x=\"53063.1\" y=\"-96.3\" font-family=\"Times,serif\" font-size=\"14.00\">not being much (18)</text>\n</g>\n<!-- 17&#45;&gt;18 -->\n<g id=\"edge28\" class=\"edge\">\n<title>17-&gt;18</title>\n<path fill=\"none\" stroke=\"black\" d=\"M52732.35,-85.65C52810.26,-89.04 52889.82,-92.5 52951.26,-95.18\"/>\n<polygon fill=\"black\" stroke=\"black\" points=\"52951.21,-98.68 52961.35,-95.62 52951.52,-91.68 52951.21,-98.68\"/>\n<text text-anchor=\"middle\" x=\"52903.96\" y=\"-97.8\" font-family=\"Times,serif\" font-size=\"14.00\">w0,w1,w2</text>\n</g>\n<!-- 41 -->\n<g id=\"node42\" class=\"node\">\n<title>41</title>\n<ellipse fill=\"none\" stroke=\"black\" cx=\"53063.1\" cy=\"-46\" rx=\"94.48\" ry=\"18\"/>\n<text text-anchor=\"middle\" x=\"53063.1\" y=\"-42.3\" font-family=\"Times,serif\" font-size=\"14.00\">being seldom (41)</text>\n</g>\n<!-- 17&#45;&gt;41 -->\n<g id=\"edge29\" class=\"edge\">\n<title>17-&gt;41</title>\n<path fill=\"none\" stroke=\"black\" d=\"M52732.35,-60.35C52814.29,-56.78 52898.05,-53.14 52960.65,-50.41\"/>\n<polygon fill=\"black\" stroke=\"black\" points=\"52961.07,-53.9 52970.91,-49.97 52960.76,-46.91 52961.07,-53.9\"/>\n<text text-anchor=\"middle\" x=\"52903.96\" y=\"-56.8\" font-family=\"Times,serif\" font-size=\"14.00\">w3</text>\n</g>\n<!-- 19 -->\n<g id=\"node20\" class=\"node\">\n<title>19</title>\n<ellipse fill=\"none\" stroke=\"black\" cx=\"53477.58\" cy=\"-73\" rx=\"200.66\" ry=\"18\"/>\n<text text-anchor=\"middle\" x=\"53477.58\" y=\"-69.3\" font-family=\"Times,serif\" font-size=\"14.00\">alarmed by danger, seems probable. (19)</text>\n</g>\n<!-- 18&#45;&gt;19 -->\n<g id=\"edge30\" class=\"edge\">\n<title>18-&gt;19</title>\n<path fill=\"none\" stroke=\"black\" d=\"M53161.07,-93.65C53203.96,-90.85 53255.71,-87.46 53304.79,-84.25\"/>\n<polygon fill=\"black\" stroke=\"black\" points=\"53305.14,-87.73 53314.89,-83.58 53304.68,-80.74 53305.14,-87.73\"/>\n<text text-anchor=\"middle\" x=\"53222.25\" y=\"-95.8\" font-family=\"Times,serif\" font-size=\"14.00\">w0,w1,w2</text>\n</g>\n<!-- 19&#45;&gt;1 -->\n<g id=\"edge31\" class=\"edge\">\n<title>19-&gt;1</title>\n<path fill=\"none\" stroke=\"black\" d=\"M53678.52,-73C53723.94,-73 53768.64,-73 53802.25,-73\"/>\n<polygon fill=\"black\" stroke=\"black\" points=\"53802.31,-76.5 53812.31,-73 53802.31,-69.5 53802.31,-76.5\"/>\n<text text-anchor=\"middle\" x=\"53745.41\" y=\"-76.8\" font-family=\"Times,serif\" font-size=\"14.00\">w0,w1,w2,w3</text>\n</g>\n<!-- 21 -->\n<g id=\"node22\" class=\"node\">\n<title>21</title>\n<ellipse fill=\"none\" stroke=\"black\" cx=\"2556.19\" cy=\"-67\" rx=\"105.08\" ry=\"18\"/>\n<text text-anchor=\"middle\" x=\"2556.19\" y=\"-63.3\" font-family=\"Times,serif\" font-size=\"14.00\">more from each (21)</text>\n</g>\n<!-- 20&#45;&gt;21 -->\n<g id=\"edge33\" class=\"edge\">\n<title>20-&gt;21</title>\n<path fill=\"none\" stroke=\"black\" d=\"M2210.21,-69.64C2278.12,-69.78 2345.65,-69.91 2410.9,-70 2420.68,-70.01 2423.13,-70.12 2432.9,-70 2435.79,-69.96 2438.71,-69.92 2441.67,-69.88\"/>\n<polygon fill=\"black\" stroke=\"black\" points=\"2441.84,-73.38 2451.78,-69.72 2441.73,-66.38 2441.84,-73.38\"/>\n<text text-anchor=\"middle\" x=\"2335.06\" y=\"-72.8\" font-family=\"Times,serif\" font-size=\"14.00\">w1,w2,w3</text>\n</g>\n<!-- 42 -->\n<g id=\"node43\" class=\"node\">\n<title>42</title>\n<ellipse fill=\"none\" stroke=\"black\" cx=\"2335.06\" cy=\"-40\" rx=\"57.69\" ry=\"18\"/>\n<text text-anchor=\"middle\" x=\"2335.06\" y=\"-36.3\" font-family=\"Times,serif\" font-size=\"14.00\">much (42)</text>\n</g>\n<!-- 20&#45;&gt;42 -->\n<g id=\"edge32\" class=\"edge\">\n<title>20-&gt;42</title>\n<path fill=\"none\" stroke=\"black\" d=\"M1876.07,-52.64C2031.88,-48.34 2183.45,-44.16 2267.22,-41.84\"/>\n<polygon fill=\"black\" stroke=\"black\" points=\"2267.44,-45.34 2277.34,-41.57 2267.25,-38.34 2267.44,-45.34\"/>\n<text text-anchor=\"middle\" x=\"2248.21\" y=\"-45.8\" font-family=\"Times,serif\" font-size=\"14.00\">w0</text>\n</g>\n<!-- 22 -->\n<g id=\"node23\" class=\"node\">\n<title>22</title>\n<ellipse fill=\"none\" stroke=\"black\" cx=\"2829.63\" cy=\"-94\" rx=\"57.39\" ry=\"18\"/>\n<text text-anchor=\"middle\" x=\"2829.63\" y=\"-90.3\" font-family=\"Times,serif\" font-size=\"14.00\">other (22)</text>\n</g>\n<!-- 21&#45;&gt;22 -->\n<g id=\"edge35\" class=\"edge\">\n<title>21-&gt;22</title>\n<path fill=\"none\" stroke=\"black\" d=\"M2647.58,-75.99C2685.9,-79.8 2729.66,-84.16 2764.57,-87.63\"/>\n<polygon fill=\"black\" stroke=\"black\" points=\"2764.33,-91.12 2774.63,-88.63 2765.03,-84.16 2764.33,-91.12\"/>\n<text text-anchor=\"middle\" x=\"2715.98\" y=\"-89.8\" font-family=\"Times,serif\" font-size=\"14.00\">w1,w2,w3</text>\n</g>\n<!-- 43 -->\n<g id=\"node44\" class=\"node\">\n<title>43</title>\n<ellipse fill=\"none\" stroke=\"black\" cx=\"2829.63\" cy=\"-40\" rx=\"59.29\" ry=\"18\"/>\n<text text-anchor=\"middle\" x=\"2829.63\" y=\"-36.3\" font-family=\"Times,serif\" font-size=\"14.00\">other, (43)</text>\n</g>\n<!-- 21&#45;&gt;43 -->\n<g id=\"edge34\" class=\"edge\">\n<title>21-&gt;43</title>\n<path fill=\"none\" stroke=\"black\" d=\"M2643.35,-56.84C2655.48,-55.5 2667.79,-54.18 2679.48,-53 2706.54,-50.27 2736.39,-47.6 2762.23,-45.4\"/>\n<polygon fill=\"black\" stroke=\"black\" points=\"2762.62,-48.88 2772.29,-44.55 2762.03,-41.9 2762.62,-48.88\"/>\n<text text-anchor=\"middle\" x=\"2715.98\" y=\"-56.8\" font-family=\"Times,serif\" font-size=\"14.00\">w0</text>\n</g>\n<!-- 23 -->\n<g id=\"node24\" class=\"node\">\n<title>23</title>\n<ellipse fill=\"none\" stroke=\"black\" cx=\"4406.85\" cy=\"-67\" rx=\"1409.15\" ry=\"18\"/>\n<text text-anchor=\"middle\" x=\"4406.85\" y=\"-63.3\" font-family=\"Times,serif\" font-size=\"14.00\">than do the individuals of any one species or variety in a state of nature. When we reflect on the vast diversity of the plants and animals which have been cultivated, and which have varied during all ages under the most different climates and treatment, I think we are driven to conclude that this (23)</text>\n</g>\n<!-- 22&#45;&gt;23 -->\n<g id=\"edge36\" class=\"edge\">\n<title>22-&gt;23</title>\n<path fill=\"none\" stroke=\"black\" d=\"M2887.16,-93.03C3001.2,-91.08 3272.08,-86.43 3554.01,-81.6\"/>\n<polygon fill=\"black\" stroke=\"black\" points=\"3554.1,-85.1 3564.04,-81.43 3553.98,-78.1 3554.1,-85.1\"/>\n<text text-anchor=\"middle\" x=\"2943.27\" y=\"-95.8\" font-family=\"Times,serif\" font-size=\"14.00\">w1,w2,w3</text>\n</g>\n<!-- 24 -->\n<g id=\"node25\" class=\"node\">\n<title>24</title>\n<ellipse fill=\"none\" stroke=\"black\" cx=\"5991.87\" cy=\"-94\" rx=\"57.39\" ry=\"18\"/>\n<text text-anchor=\"middle\" x=\"5991.87\" y=\"-90.3\" font-family=\"Times,serif\" font-size=\"14.00\">great (24)</text>\n</g>\n<!-- 23&#45;&gt;24 -->\n<g id=\"edge38\" class=\"edge\">\n<title>23-&gt;24</title>\n<path fill=\"none\" stroke=\"black\" d=\"M5252.37,-81.4C5532,-86.17 5802.76,-90.79 5924.22,-92.86\"/>\n<polygon fill=\"black\" stroke=\"black\" points=\"5924.4,-96.37 5934.46,-93.04 5924.52,-89.37 5924.4,-96.37\"/>\n<text text-anchor=\"middle\" x=\"5870.42\" y=\"-95.8\" font-family=\"Times,serif\" font-size=\"14.00\">w1,w2,w3</text>\n</g>\n<!-- 44 -->\n<g id=\"node45\" class=\"node\">\n<title>44</title>\n<ellipse fill=\"none\" stroke=\"black\" cx=\"5991.87\" cy=\"-40\" rx=\"66.89\" ry=\"18\"/>\n<text text-anchor=\"middle\" x=\"5991.87\" y=\"-36.3\" font-family=\"Times,serif\" font-size=\"14.00\">greater (44)</text>\n</g>\n<!-- 23&#45;&gt;44 -->\n<g id=\"edge37\" class=\"edge\">\n<title>23-&gt;44</title>\n<path fill=\"none\" stroke=\"black\" d=\"M5252.37,-52.6C5524.75,-47.95 5788.73,-43.45 5914.48,-41.3\"/>\n<polygon fill=\"black\" stroke=\"black\" points=\"5914.82,-44.8 5924.76,-41.13 5914.7,-37.8 5914.82,-44.8\"/>\n<text text-anchor=\"middle\" x=\"5870.42\" y=\"-45.8\" font-family=\"Times,serif\" font-size=\"14.00\">w0</text>\n</g>\n<!-- 25 -->\n<g id=\"node26\" class=\"node\">\n<title>25</title>\n<ellipse fill=\"none\" stroke=\"black\" cx=\"7222.02\" cy=\"-67\" rx=\"1054.41\" ry=\"18\"/>\n<text text-anchor=\"middle\" x=\"7222.02\" y=\"-63.3\" font-family=\"Times,serif\" font-size=\"14.00\">variability is simply due to our domestic productions having been raised under conditions of life not so uniform as, and somewhat different from, those to which the parent-species have been exposed under nature. There (25)</text>\n</g>\n<!-- 24&#45;&gt;25 -->\n<g id=\"edge39\" class=\"edge\">\n<title>24-&gt;25</title>\n<path fill=\"none\" stroke=\"black\" d=\"M6049.24,-92.76C6145.4,-90.65 6351.51,-86.12 6564.46,-81.43\"/>\n<polygon fill=\"black\" stroke=\"black\" points=\"6564.69,-84.93 6574.61,-81.21 6564.53,-77.93 6564.69,-84.93\"/>\n<text text-anchor=\"middle\" x=\"6113.31\" y=\"-95.8\" font-family=\"Times,serif\" font-size=\"14.00\">w1,w2,w3</text>\n</g>\n<!-- 26 -->\n<g id=\"node27\" class=\"node\">\n<title>26</title>\n<ellipse fill=\"none\" stroke=\"black\" cx=\"8428.12\" cy=\"-94\" rx=\"40.09\" ry=\"18\"/>\n<text text-anchor=\"middle\" x=\"8428.12\" y=\"-90.3\" font-family=\"Times,serif\" font-size=\"14.00\">is (26)</text>\n</g>\n<!-- 25&#45;&gt;26 -->\n<g id=\"edge40\" class=\"edge\">\n<title>25-&gt;26</title>\n<path fill=\"none\" stroke=\"black\" d=\"M7861.65,-81.32C8076.67,-86.14 8285.44,-90.82 8377.72,-92.89\"/>\n<polygon fill=\"black\" stroke=\"black\" points=\"8377.79,-96.39 8387.87,-93.12 8377.95,-89.4 8377.79,-96.39\"/>\n<text text-anchor=\"middle\" x=\"8330.72\" y=\"-95.8\" font-family=\"Times,serif\" font-size=\"14.00\">w1,w2,w3</text>\n</g>\n<!-- 45 -->\n<g id=\"node46\" class=\"node\">\n<title>45</title>\n<ellipse fill=\"none\" stroke=\"black\" cx=\"8428.12\" cy=\"-40\" rx=\"42.79\" ry=\"18\"/>\n<text text-anchor=\"middle\" x=\"8428.12\" y=\"-36.3\" font-family=\"Times,serif\" font-size=\"14.00\">is, (45)</text>\n</g>\n<!-- 25&#45;&gt;45 -->\n<g id=\"edge41\" class=\"edge\">\n<title>25-&gt;45</title>\n<path fill=\"none\" stroke=\"black\" d=\"M7861.65,-52.68C8074.71,-47.9 8281.64,-43.26 8375.18,-41.16\"/>\n<polygon fill=\"black\" stroke=\"black\" points=\"8375.29,-44.66 8385.21,-40.94 8375.14,-37.66 8375.29,-44.66\"/>\n<text text-anchor=\"middle\" x=\"8330.72\" y=\"-45.8\" font-family=\"Times,serif\" font-size=\"14.00\">w0</text>\n</g>\n<!-- 26&#45;&gt;6 -->\n<g id=\"edge42\" class=\"edge\">\n<title>26-&gt;6</title>\n<path fill=\"none\" stroke=\"black\" d=\"M8468.46,-93.33C8570.51,-91.6 8856.71,-86.75 9156,-81.67\"/>\n<polygon fill=\"black\" stroke=\"black\" points=\"9156.26,-85.16 9166.2,-81.5 9156.14,-78.17 9156.26,-85.16\"/>\n<text text-anchor=\"middle\" x=\"8525.52\" y=\"-95.8\" font-family=\"Times,serif\" font-size=\"14.00\">w1,w2,w3</text>\n</g>\n<!-- 27&#45;&gt;5 -->\n<g id=\"edge43\" class=\"edge\">\n<title>27-&gt;5</title>\n<path fill=\"none\" stroke=\"black\" d=\"M22648.01,-93.41C22835.57,-91.76 23387.36,-86.92 23968.27,-81.83\"/>\n<polygon fill=\"black\" stroke=\"black\" points=\"23968.58,-85.33 23978.54,-81.74 23968.51,-78.33 23968.58,-85.33\"/>\n<text text-anchor=\"middle\" x=\"22689.22\" y=\"-96.8\" font-family=\"Times,serif\" font-size=\"14.00\">w2,w3</text>\n</g>\n<!-- 29 -->\n<g id=\"node30\" class=\"node\">\n<title>29</title>\n<ellipse fill=\"none\" stroke=\"black\" cx=\"34438.01\" cy=\"-72\" rx=\"71.49\" ry=\"18\"/>\n<text text-anchor=\"middle\" x=\"34438.01\" y=\"-68.3\" font-family=\"Times,serif\" font-size=\"14.00\">whereas (29)</text>\n</g>\n<!-- 28&#45;&gt;29 -->\n<g id=\"edge44\" class=\"edge\">\n<title>28-&gt;29</title>\n<path fill=\"none\" stroke=\"black\" d=\"M34245.15,-83.77C34284.59,-81.35 34324.85,-78.88 34358.24,-76.83\"/>\n<polygon fill=\"black\" stroke=\"black\" points=\"34358.61,-80.32 34368.37,-76.21 34358.18,-73.33 34358.61,-80.32\"/>\n<text text-anchor=\"middle\" x=\"34322.42\" y=\"-83.8\" font-family=\"Times,serif\" font-size=\"14.00\">w2,w3</text>\n</g>\n<!-- 29&#45;&gt;3 -->\n<g id=\"edge45\" class=\"edge\">\n<title>29-&gt;3</title>\n<path fill=\"none\" stroke=\"black\" d=\"M34509.6,-71.49C34725.17,-69.92 35403.83,-65 36118.43,-59.81\"/>\n<polygon fill=\"black\" stroke=\"black\" points=\"36118.71,-63.31 36128.69,-59.74 36118.66,-56.31 36118.71,-63.31\"/>\n<text text-anchor=\"middle\" x=\"34566.6\" y=\"-74.8\" font-family=\"Times,serif\" font-size=\"14.00\">w1,w2,w3</text>\n</g>\n<!-- 30&#45;&gt;4 -->\n<g id=\"edge46\" class=\"edge\">\n<title>30-&gt;4</title>\n<path fill=\"none\" stroke=\"black\" d=\"M41931.48,-85.55C41943.68,-88.12 41956.73,-90.51 41968.96,-92 42086.49,-106.35 42116.86,-98.22 42235.24,-100 42479.59,-103.67 42540.72,-101.03 42785.09,-100 43320.64,-97.74 43906.6,-93.35 44429.01,-88.76\"/>\n<polygon fill=\"black\" stroke=\"black\" points=\"44429.05,-92.26 44439.02,-88.67 44428.99,-85.26 44429.05,-92.26\"/>\n<text text-anchor=\"middle\" x=\"42510.17\" y=\"-104.8\" font-family=\"Times,serif\" font-size=\"14.00\">w1,w2</text>\n</g>\n<!-- 46 -->\n<g id=\"node47\" class=\"node\">\n<title>46</title>\n<ellipse fill=\"none\" stroke=\"black\" cx=\"42510.17\" cy=\"-73\" rx=\"274.85\" ry=\"18\"/>\n<text text-anchor=\"middle\" x=\"42510.17\" y=\"-69.3\" font-family=\"Times,serif\" font-size=\"14.00\">Effects of Habit; Correlation of Growth; Inheritance. (46)</text>\n</g>\n<!-- 30&#45;&gt;46 -->\n<g id=\"edge47\" class=\"edge\">\n<title>30-&gt;46</title>\n<path fill=\"none\" stroke=\"black\" d=\"M41951.03,-73C42018.02,-73 42123.65,-73 42225.08,-73\"/>\n<polygon fill=\"black\" stroke=\"black\" points=\"42225.2,-76.5 42235.2,-73 42225.2,-69.5 42225.2,-76.5\"/>\n<text text-anchor=\"middle\" x=\"42093.1\" y=\"-76.8\" font-family=\"Times,serif\" font-size=\"14.00\">w3</text>\n</g>\n<!-- 31&#45;&gt;5 -->\n<g id=\"edge48\" class=\"edge\">\n<title>31-&gt;5</title>\n<path fill=\"none\" stroke=\"black\" d=\"M22648.01,-40.59C22835.57,-42.24 23387.36,-47.08 23968.27,-52.17\"/>\n<polygon fill=\"black\" stroke=\"black\" points=\"23968.51,-55.67 23978.54,-52.26 23968.58,-48.67 23968.51,-55.67\"/>\n<text text-anchor=\"middle\" x=\"22689.22\" y=\"-44.8\" font-family=\"Times,serif\" font-size=\"14.00\">w0,w1</text>\n</g>\n<!-- 32&#45;&gt;29 -->\n<g id=\"edge50\" class=\"edge\">\n<title>32-&gt;29</title>\n<path fill=\"none\" stroke=\"black\" d=\"M34140.49,-42.67C34194.78,-45.37 34275.73,-50.26 34345.92,-58 34353.02,-58.78 34360.43,-59.72 34367.8,-60.73\"/>\n<polygon fill=\"black\" stroke=\"black\" points=\"34367.42,-64.21 34377.82,-62.15 34368.41,-57.28 34367.42,-64.21\"/>\n<text text-anchor=\"middle\" x=\"34322.42\" y=\"-61.8\" font-family=\"Times,serif\" font-size=\"14.00\">w1</text>\n</g>\n<!-- 47 -->\n<g id=\"node48\" class=\"node\">\n<title>47</title>\n<ellipse fill=\"none\" stroke=\"black\" cx=\"34438.01\" cy=\"-18\" rx=\"74.19\" ry=\"18\"/>\n<text text-anchor=\"middle\" x=\"34438.01\" y=\"-14.3\" font-family=\"Times,serif\" font-size=\"14.00\">whereas, (47)</text>\n</g>\n<!-- 32&#45;&gt;47 -->\n<g id=\"edge49\" class=\"edge\">\n<title>32-&gt;47</title>\n<path fill=\"none\" stroke=\"black\" d=\"M34136.4,-33.08C34180.8,-28.12 34243.63,-21.83 34298.92,-19 34316.61,-18.09 34335.6,-17.63 34353.66,-17.42\"/>\n<polygon fill=\"black\" stroke=\"black\" points=\"34353.91,-20.92 34363.87,-17.33 34353.84,-13.92 34353.91,-20.92\"/>\n<text text-anchor=\"middle\" x=\"34322.42\" y=\"-22.8\" font-family=\"Times,serif\" font-size=\"14.00\">w0</text>\n</g>\n<!-- 33&#45;&gt;20 -->\n<g id=\"edge51\" class=\"edge\">\n<title>33-&gt;20</title>\n<path fill=\"none\" stroke=\"black\" d=\"M430.39,-43.25C524.8,-45.68 661.02,-49.18 799.96,-52.76\"/>\n<polygon fill=\"black\" stroke=\"black\" points=\"799.88,-56.25 809.96,-53.01 800.06,-49.26 799.88,-56.25\"/>\n<text text-anchor=\"middle\" x=\"461.37\" y=\"-46.8\" font-family=\"Times,serif\" font-size=\"14.00\">w3</text>\n</g>\n<!-- 34&#45;&gt;11 -->\n<g id=\"edge52\" class=\"edge\">\n<title>34-&gt;11</title>\n<path fill=\"none\" stroke=\"black\" d=\"M22071.87,-46.23C22107.42,-49.39 22151.5,-53.3 22191.76,-56.88\"/>\n<polygon fill=\"black\" stroke=\"black\" points=\"22191.64,-60.38 22201.91,-57.78 22192.26,-53.41 22191.64,-60.38\"/>\n<text text-anchor=\"middle\" x=\"22130.65\" y=\"-57.8\" font-family=\"Times,serif\" font-size=\"14.00\">w0</text>\n</g>\n<!-- 35&#45;&gt;4 -->\n<g id=\"edge53\" class=\"edge\">\n<title>35-&gt;4</title>\n<path fill=\"none\" stroke=\"black\" d=\"M42217.05,-25.13C42355.23,-26.44 42586.26,-28.69 42785.09,-31 43441.57,-38.63 44173.82,-48.17 44771.89,-56.23\"/>\n<polygon fill=\"black\" stroke=\"black\" points=\"44771.97,-59.73 44782.01,-56.37 44772.06,-52.73 44771.97,-59.73\"/>\n<text text-anchor=\"middle\" x=\"42510.17\" y=\"-34.8\" font-family=\"Times,serif\" font-size=\"14.00\">w0</text>\n</g>\n<!-- 36&#45;&gt;12 -->\n<g id=\"edge54\" class=\"edge\">\n<title>36-&gt;12</title>\n<path fill=\"none\" stroke=\"black\" d=\"M49326.41,-52.74C49351.24,-55.23 49380.18,-58.14 49408.27,-60.95\"/>\n<polygon fill=\"black\" stroke=\"black\" points=\"49408.27,-64.47 49418.57,-61.99 49408.97,-57.51 49408.27,-64.47\"/>\n<text text-anchor=\"middle\" x=\"49360.62\" y=\"-60.8\" font-family=\"Times,serif\" font-size=\"14.00\">w3</text>\n</g>\n<!-- 37&#45;&gt;8 -->\n<g id=\"edge55\" class=\"edge\">\n<title>37-&gt;8</title>\n<path fill=\"none\" stroke=\"black\" d=\"M28852.94,-40.79C29027.96,-42.6 29482.33,-47.33 29958.04,-52.27\"/>\n<polygon fill=\"black\" stroke=\"black\" points=\"29958.19,-55.77 29968.22,-52.38 29958.26,-48.77 29958.19,-55.77\"/>\n<text text-anchor=\"middle\" x=\"28907.48\" y=\"-44.8\" font-family=\"Times,serif\" font-size=\"14.00\">w0</text>\n</g>\n<!-- 38&#45;&gt;2 -->\n<g id=\"edge56\" class=\"edge\">\n<title>38-&gt;2</title>\n<path fill=\"none\" stroke=\"black\" d=\"M11680.43,-40.28C11916.71,-41.51 12903.8,-46.66 13949.26,-52.12\"/>\n<polygon fill=\"black\" stroke=\"black\" points=\"13949.61,-55.62 13959.63,-52.17 13949.65,-48.62 13949.61,-55.62\"/>\n<text text-anchor=\"middle\" x=\"11734.55\" y=\"-43.8\" font-family=\"Times,serif\" font-size=\"14.00\">w3</text>\n</g>\n<!-- 39&#45;&gt;14 -->\n<g id=\"edge57\" class=\"edge\">\n<title>39-&gt;14</title>\n<path fill=\"none\" stroke=\"black\" d=\"M49905.08,-48.35C49970.72,-50.82 50079.71,-54.93 50190.06,-59.1\"/>\n<polygon fill=\"black\" stroke=\"black\" points=\"50189.93,-62.59 50200.05,-59.47 50190.19,-55.6 50189.93,-62.59\"/>\n<text text-anchor=\"middle\" x=\"49959.99\" y=\"-54.8\" font-family=\"Times,serif\" font-size=\"14.00\">w3</text>\n</g>\n<!-- 40&#45;&gt;15 -->\n<g id=\"edge58\" class=\"edge\">\n<title>40-&gt;15</title>\n<path fill=\"none\" stroke=\"black\" d=\"M51354.7,-55.75C51378.32,-58.41 51403.81,-61.27 51427.1,-63.89\"/>\n<polygon fill=\"black\" stroke=\"black\" points=\"51426.95,-67.4 51437.28,-65.04 51427.74,-60.44 51426.95,-67.4\"/>\n<text text-anchor=\"middle\" x=\"51400.07\" y=\"-64.8\" font-family=\"Times,serif\" font-size=\"14.00\">w3</text>\n</g>\n<!-- 41&#45;&gt;19 -->\n<g id=\"edge59\" class=\"edge\">\n<title>41-&gt;19</title>\n<path fill=\"none\" stroke=\"black\" d=\"M53152.59,-51.79C53197.07,-54.7 53252.53,-58.33 53304.93,-61.76\"/>\n<polygon fill=\"black\" stroke=\"black\" points=\"53304.81,-65.26 53315.02,-62.42 53305.27,-58.28 53304.81,-65.26\"/>\n<text text-anchor=\"middle\" x=\"53222.25\" y=\"-61.8\" font-family=\"Times,serif\" font-size=\"14.00\">w3</text>\n</g>\n<!-- 42&#45;&gt;21 -->\n<g id=\"edge60\" class=\"edge\">\n<title>42-&gt;21</title>\n<path fill=\"none\" stroke=\"black\" d=\"M2389.1,-46.54C2410.48,-49.17 2435.81,-52.29 2460.16,-55.29\"/>\n<polygon fill=\"black\" stroke=\"black\" points=\"2459.8,-58.77 2470.16,-56.52 2460.66,-51.83 2459.8,-58.77\"/>\n<text text-anchor=\"middle\" x=\"2421.9\" y=\"-54.8\" font-family=\"Times,serif\" font-size=\"14.00\">w0</text>\n</g>\n<!-- 43&#45;&gt;23 -->\n<g id=\"edge61\" class=\"edge\">\n<title>43-&gt;23</title>\n<path fill=\"none\" stroke=\"black\" d=\"M2889.03,-41C3004.08,-42.97 3273.33,-47.59 3553.56,-52.39\"/>\n<polygon fill=\"black\" stroke=\"black\" points=\"3553.9,-55.9 3563.96,-52.57 3554.02,-48.9 3553.9,-55.9\"/>\n<text text-anchor=\"middle\" x=\"2943.27\" y=\"-45.8\" font-family=\"Times,serif\" font-size=\"14.00\">w0</text>\n</g>\n<!-- 44&#45;&gt;25 -->\n<g id=\"edge62\" class=\"edge\">\n<title>44-&gt;25</title>\n<path fill=\"none\" stroke=\"black\" d=\"M6058.9,-41.45C6158.72,-43.65 6358.36,-48.03 6564.41,-52.56\"/>\n<polygon fill=\"black\" stroke=\"black\" points=\"6564.46,-56.07 6574.54,-52.79 6564.62,-49.07 6564.46,-56.07\"/>\n<text text-anchor=\"middle\" x=\"6113.31\" y=\"-46.8\" font-family=\"Times,serif\" font-size=\"14.00\">w0</text>\n</g>\n<!-- 45&#45;&gt;6 -->\n<g id=\"edge63\" class=\"edge\">\n<title>45-&gt;6</title>\n<path fill=\"none\" stroke=\"black\" d=\"M8471.28,-40.72C8575.71,-42.49 8859.47,-47.3 9156.08,-52.33\"/>\n<polygon fill=\"black\" stroke=\"black\" points=\"9156.13,-55.83 9166.19,-52.5 9156.25,-48.84 9156.13,-55.83\"/>\n<text text-anchor=\"middle\" x=\"8525.52\" y=\"-44.8\" font-family=\"Times,serif\" font-size=\"14.00\">w0</text>\n</g>\n<!-- 46&#45;&gt;4 -->\n<g id=\"edge64\" class=\"edge\">\n<title>46-&gt;4</title>\n<path fill=\"none\" stroke=\"black\" d=\"M42785.12,-73C42800.45,-73 42816.33,-73 42832.73,-73\"/>\n<polygon fill=\"black\" stroke=\"black\" points=\"42833.01,-76.5 42843.01,-73 42833.01,-69.5 42833.01,-76.5\"/>\n<text text-anchor=\"middle\" x=\"42814.09\" y=\"-76.8\" font-family=\"Times,serif\" font-size=\"14.00\">w3</text>\n</g>\n<!-- 47&#45;&gt;3 -->\n<g id=\"edge65\" class=\"edge\">\n<title>47-&gt;3</title>\n<path fill=\"none\" stroke=\"black\" d=\"M34512.08,-18.53C34730.3,-20.11 35406.4,-25.02 36118.2,-30.19\"/>\n<polygon fill=\"black\" stroke=\"black\" points=\"36118.39,-33.69 36128.41,-30.26 36118.44,-26.69 36118.39,-33.69\"/>\n<text text-anchor=\"middle\" x=\"34566.6\" y=\"-23.8\" font-family=\"Times,serif\" font-size=\"14.00\">w0</text>\n</g>\n</g>\n</svg>",
      "text/plain": [
       "<IPython.core.display.SVG object>"
      ]
     },
     "execution_count": 28,
     "metadata": {
     },
     "output_type": "execute_result"
    }
   ],
   "source": [
    "# We need this to create a joined variant graph\n",
    "# Commented out temporarily\n",
    "#\n",
    "join(VG)\n",
    "\n",
    "# node id values must be strings for graphviz\n",
    "a = graphviz.Digraph(format=\"svg\", name=\"variant_graph_joined\")\n",
    "a.attr(rankdir = \"LR\")\n",
    "a.attr(rank = 'same')\n",
    "a.attr(compound='true')\n",
    "\n",
    "# plot nodes, building {node: id} for lookup\n",
    "node_to_id = {}\n",
    "for index, node in enumerate(VG.nodes()):\n",
    "    node_id = str(index)\n",
    "    node_to_id[node] = node_id\n",
    "    if node is None:\n",
    "        node_text = 'None'\n",
    "    else:\n",
    "        node_text = node.token_string + \" (\" + node_id + \")\"\n",
    "    a.node(node_id, label=node_text)\n",
    "\n",
    "# plot edges\n",
    "for edge in VG.edges(data=True):\n",
    "    # edge is a three-item tuple: source, target, dictionary of properties\n",
    "#     label = \"(all)\" if len(edge[2][\"siglum\"]) == len(witness_sigla) else \",\".join(sorted(edge[2][\"siglum\"]))\n",
    "    label = edge[2][\"label\"]\n",
    "    a.edge(node_to_id[edge[0]], node_to_id[edge[1]], label=label)\n",
    "\n",
    "print('aligning', how_many_paragraphs, 'paragraphs') # confirm\n",
    "SVG(a.view())"
   ]
  },
  {
   "cell_type": "code",
   "execution_count": 29,
   "metadata": {
    "collapsed": false
   },
   "outputs": [
   ],
   "source": [
    "# Find first non-masked value in each column to avoid traversing entire column\n",
    "# In our matrix, all non-masked column values for rows that are merge candidates\n",
    "#   have the same value. Previously we found max(), which had to look at them all\n",
    "#   and compare, but the first value will necessarily also be the max().\n",
    "\n",
    "# current_matrix = ma.MaskedArray(\n",
    "#     data =[[-1, 2, 3], [4, -1,6], [7,8,-1]],\n",
    "#     mask=[[True, False, False],[False, True, False],[False, False, True]],\n",
    "#     fill_value=-1\n",
    "# )\n",
    "# columns = current_matrix.T # swap rows and columns and process (new) rows\n",
    "# [print(column) for column in columns]\n",
    "# first_non_masked = [column[column.mask == False][0] for column in columns]\n",
    "# first_non_masked"
   ]
  },
  {
   "cell_type": "code",
   "execution_count": 30,
   "metadata": {
    "collapsed": false,
    "scrolled": true
   },
   "outputs": [
    {
     "name": "stdout",
     "output_type": "stream",
     "text": [
      "START~w0:-1|w1:-1|w2:-1|w3:-1\n",
      "\n",
      "END~\n",
      "\n",
      "when the organisation has once begun to vary, it generally continues to vary for many generations. No case is on record of a variable being ceasing to be variable under cultivation. Our oldest cultivated plants, such as wheat, still often yield new varieties: our oldest domesticated animals are still capable of rapid improvement or modification. It has been disputed at what period of life the causes of variability, whatever they may be, generally act; whether during the early or late period of development of the embryo, or at the instant of conception. Geoffroy St. Hilaire's experiments show that unnatural treatment of the embryo causes monstrosities; and monstrosities cannot be separated by any clear line of distinction from mere variations. But I am strongly inclined to suspect that the most frequent cause of variability may be attributed to the male and female reproductive elements having been affected prior to the act of conception. Several reasons make me believe in this; but the chief one is the remarkable effect which confinement or cultivation has on the~w0:178|w1:177|w2:177|w3:180\n",
      "\n",
      "carnivorous birds, with the rarest exceptions, hardly ever lay fertile eggs. Many exotic plants have pollen utterly worthless, in the same exact condition as in the most sterile hybrids. When, on the one hand, we see domesticated animals and plants, though often weak and sickly, yet breeding quite freely under confinement; and when, on the other hand, we see individuals, though taken young from a state of nature, perfectly tamed, long-lived, and healthy(of which I could give numerous instances), yet having their reproductive system so seriously affected by unperceived causes as to fail in acting, we need not be surprised at this system, when it does act under confinement, acting not quite regularly, and producing offspring not perfectly like their~w0:559|w1:557|w2:561|w3:564\n",
      "\n",
      "Habit also has a decided influence, as in the period of flowering with plants when transported from one climate to another. In animals it has a more marked effect; for instance, I find in the domestic duck that the bones of the wing weigh less and the bones of the leg more, in proportion to the whole skeleton, than do the same bones in the wild-duck; and I presume that this change may be safely attributed to the domestic duck flying much less, and walking more, than its wild parent. The great and inherited development of the udders in cows and goats in countries where they are habitually milked, in comparison with the state of these organs in other countries, is~w0:683|w1:679|w2:683|w3:693\n",
      "\n"
     ]
    }
   ],
   "source": [
    "tmp = iter(VG.nodes)\n",
    "for i in range (5):\n",
    "    print(next(tmp))\n",
    "    print()"
   ]
  }
 ],
 "metadata": {
  "kernelspec": {
   "display_name": "Python 3 (system-wide)",
   "language": "python",
   "metadata": {
    "cocalc": {
     "description": "Python 3 programming language",
     "priority": 100,
     "url": "https://www.python.org/"
    }
   },
   "name": "python3",
   "resource_dir": "/ext/jupyter/kernels/python3"
  },
  "language_info": {
   "codemirror_mode": {
    "name": "ipython",
    "version": 3
   },
   "file_extension": ".py",
   "mimetype": "text/x-python",
   "name": "python",
   "nbconvert_exporter": "python",
   "pygments_lexer": "ipython3",
   "version": "3.8.10"
  }
 },
 "nbformat": 4,
 "nbformat_minor": 4
}