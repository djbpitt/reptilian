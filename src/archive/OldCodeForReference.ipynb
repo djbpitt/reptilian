{
 "cells": [
  {
   "cell_type": "code",
   "execution_count": 0,
   "metadata": {
    "collapsed": false
   },
   "outputs": [
   ],
   "source": [
    "# Naive attempt at creating unigrams with dict comprehensions; does not work\n",
    "# we want to create unigrams.\n",
    "# the following code is incorrect; it only stores the last index and forgets about the others; it does use a comprehension\n",
    "unigramsMappedToPosition = { token : index for index, token in enumerate(witness) }\n",
    "print(unigramsMappedToPosition)\n"
   ]
  },
  {
   "cell_type": "code",
   "execution_count": 0,
   "metadata": {
    "collapsed": false
   },
   "outputs": [
   ],
   "source": [
    "# Better attempt at creating unigrams\n",
    "# unigrams\n",
    "def compute_unigrams(witness):\n",
    "    d = {}\n",
    "    for index,token in enumerate(witness):\n",
    "        if token in d:\n",
    "            d[token].append(index)\n",
    "        else:\n",
    "            d[token] = [index]\n",
    "    return d\n",
    "\n",
    "for witness in witnesses:\n",
    "    print(compute_unigrams(witness))"
   ]
  },
  {
   "cell_type": "code",
   "execution_count": 0,
   "metadata": {
    "collapsed": false
   },
   "outputs": [
   ],
   "source": [
    "# bigrams: assumes no repeated bigrams\n",
    "def compute_bigrams(witness):\n",
    "    d = {}\n",
    "    for index,token in enumerate(witness):\n",
    "        if index < len(witness) - 1:\n",
    "            d[token + '_' + witness[index + 1]] = [index]\n",
    "    return d\n",
    "\n",
    "for witness in witnesses:\n",
    "    print(compute_bigrams(witness))"
   ]
  }
 ],
 "metadata": {
  "kernelspec": {
   "display_name": "Python 3 (system-wide)",
   "language": "python",
   "metadata": {
    "cocalc": {
     "description": "Python 3 programming language",
     "priority": 100,
     "url": "https://www.python.org/"
    }
   },
   "name": "python3",
   "resource_dir": "/ext/jupyter/kernels/python3"
  }
 },
 "nbformat": 4,
 "nbformat_minor": 4
}