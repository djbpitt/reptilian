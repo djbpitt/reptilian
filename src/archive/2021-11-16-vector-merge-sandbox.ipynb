{
 "cells": [
  {
   "cell_type": "markdown",
   "metadata": {
    "collapsed": false
   },
   "source": [
    "# Experiments in merging vectors\n",
    "\n",
    "New rows are of two types: either they can be merged with\n",
    "rows already in the matrix or they must be added as new rows.\n",
    "\n",
    "1. Find rows to merge (`filter_for_merge()` function); these are current merge candidates.\n",
    "There may be zero or more merge candidates.\n",
    "    1. If there are zero rows for merging, add new row (`add_new_vector()` function)\n",
    "        1. `add_new_vector()` calls `increase_matrix_size()` when necessary\n",
    "    1. If there are one or more merge candidates:\n",
    "        1. Merge all current merge candidates plus the potential in all columns where we can\n",
    "        1. Replace first current merge candidate in existing matrix with result of merger\n",
    "        1. Mask all other current merge candidate rows"
   ]
  },
  {
   "cell_type": "code",
   "execution_count": 1,
   "metadata": {
    "collapsed": false
   },
   "outputs": [
   ],
   "source": [
    "%reload_ext autoreload\n",
    "%autoreload 2\n",
    "\n",
    "import numpy as np\n",
    "import numpy.ma as ma\n",
    "import pprint as pp"
   ]
  },
  {
   "cell_type": "code",
   "execution_count": 2,
   "metadata": {
    "collapsed": false
   },
   "outputs": [
   ],
   "source": [
    "def increase_matrix_size(current_matrix):\n",
    "    \"\"\"Double row count of matrix, retaining old data\n",
    "\n",
    "    Parameter: current_matrix\n",
    "\n",
    "    Returns: updated current_matrix with additional rows\n",
    "\n",
    "    TODO: filter out fully masked rows (broadcast) during copying\n",
    "    \"\"\"\n",
    "    current_matrix_row_count, column_count = current_matrix.shape # rows, then columns\n",
    "    new_matrix_row = ma.MaskedArray(\n",
    "        data = [-1] * column_count,\n",
    "        mask = [True] * column_count\n",
    "    )\n",
    "    new_matrix = ma.MaskedArray(\n",
    "        data = np.append(\n",
    "            current_matrix.data,\n",
    "            [new_matrix_row] * current_matrix_row_count,\n",
    "            0 # rows, not columns\n",
    "        ),\n",
    "        mask = np.append(\n",
    "            current_matrix.mask,\n",
    "            [new_matrix_row.mask] * current_matrix_row_count,\n",
    "            0\n",
    "        )\n",
    "    )\n",
    "    return new_matrix"
   ]
  },
  {
   "cell_type": "code",
   "execution_count": 3,
   "metadata": {
    "collapsed": false
   },
   "outputs": [
   ],
   "source": [
    "# test of increase_matrix_size() function\n",
    "#\n",
    "# initial_matrix = ma.MaskedArray(\n",
    "#     data = [\n",
    "#         ma.MaskedArray(data=[1, 2, 3, 4, 5], mask=[False] * 5),\n",
    "#         ma.MaskedArray(data=[-1, -1, -1, -1, -1], mask=[True] * 5),\n",
    "#         ma.MaskedArray(data=[11, 21, 313, -1, -1], mask=[False, False, False, True, True]),\n",
    "#         ma.MaskedArray(data=[-1, -1, 37, 52, 109], mask=[True, True, False, False, False]),\n",
    "#         ma.MaskedArray(data=[160, 832, 64, -1, 12], mask=[False, False, False, True, True]),\n",
    "#     ]\n",
    "# )\n",
    "# print(initial_matrix.shape)\n",
    "# pp.pprint(initial_matrix)\n",
    "# medium_matrix = increase_matrix_size(initial_matrix)\n",
    "# print(medium_matrix.shape)\n",
    "# pp.pprint(medium_matrix)\n",
    "# large_matrix = increase_matrix_size(medium_matrix)\n",
    "# print(large_matrix.shape)\n",
    "# pp.pprint(large_matrix)"
   ]
  },
  {
   "cell_type": "code",
   "execution_count": 4,
   "metadata": {
    "collapsed": false
   },
   "outputs": [
   ],
   "source": [
    "def merge_vectors(existing_vector: ma.MaskedArray, new_vector: ma.MaskedArray) -> ma.MaskedArray:\n",
    "    \"\"\"Combine non-masked values of two vectors, returns one vector\n",
    "\n",
    "    Sample input:\n",
    "        v_candidate = ma.MaskedArray(data=[-1, 21, 22, -1], mask=[True, False, False, True])\n",
    "        v_existing = ma.MaskedArray(data=[-1, -1, 22, 23], mask=[True, True, False, False])\n",
    "\n",
    "    Sample result:\n",
    "        masked_array(data=[--, 21, 22, 23], mask=[ True, False, False, False])\n",
    "        data: non-masked values of two vectors, some of which were already in both\n",
    "        mask: mask only positions that were masked in both input vectors\n",
    "\n",
    "    NB:\n",
    "        assumes that masked positions have a data value of -1\n",
    "        does not trap bad data (input vectors that have different non-masked values in same positions)\n",
    "\n",
    "    \"\"\"\n",
    "    v_new = ma.MaskedArray(\n",
    "        data=ma.maximum(existing_vector.data, new_vector.data),\n",
    "        mask=(existing_vector.mask * new_vector.mask),\n",
    "        fill_value=-1\n",
    "    )\n",
    "    return v_new"
   ]
  },
  {
   "cell_type": "code",
   "execution_count": 5,
   "metadata": {
    "collapsed": false
   },
   "outputs": [
   ],
   "source": [
    "def add_new_vector(input_tuple, new_vector):\n",
    "    \"\"\"Add row to matrix and update pointer to next empty row\n",
    "\n",
    "    Parameters:\n",
    "        input_tuple : current_matrix, pointer to next empty row\n",
    "        new_vector : masked array vector to add as new row\n",
    "\n",
    "    Returns tuple of:\n",
    "        updated matrix, updated pointer\n",
    "    \"\"\"\n",
    "    current_matrix, pointer = input_tuple\n",
    "    current_matrix_row_count = current_matrix.shape[0]\n",
    "    if pointer == current_matrix_row_count: # need more rows now!!!\n",
    "        current_matrix = increase_matrix_size(current_matrix)\n",
    "    current_matrix[pointer] = new_vector\n",
    "    pointer += 1\n",
    "    return (current_matrix, pointer)"
   ]
  },
  {
   "cell_type": "code",
   "execution_count": 6,
   "metadata": {
    "collapsed": false
   },
   "outputs": [
   ],
   "source": [
    "# test of pointer to determine when we need to add rows to matrix\n",
    "# initial_matrix = ma.MaskedArray(\n",
    "#     data= [ma.MaskedArray(\n",
    "#             data=[-1] * 5,\n",
    "#             mask=[True] * 5\n",
    "#         )] * 6\n",
    "# )\n",
    "# next_open_row = 0\n",
    "# pp.pprint(initial_matrix)\n",
    "# print(f\"{next_open_row=}\")\n",
    "# new_row = ma.MaskedArray(\n",
    "#     data = [10, 13, -1, 16, 18],\n",
    "#     mask = [False, False, True, False, False]\n",
    "# )\n",
    "# for i in range(7):\n",
    "#     initial_matrix, next_open_row = add_new_vector((initial_matrix, next_open_row), new_row)\n",
    "#     pp.pprint(initial_matrix)\n",
    "#     print(f\"{next_open_row=}\")"
   ]
  },
  {
   "cell_type": "code",
   "execution_count": 7,
   "metadata": {
    "collapsed": false
   },
   "outputs": [
   ],
   "source": [
    "def add_or_merge_new_vector_into_matrix(input_tuple, candidate):\n",
    "    \"\"\"Return max row values (copy) and indices of rows to update in existing matrix\n",
    "\n",
    "    Parameters:\n",
    "        input_tuple : (existing matrix, pointer to next empty row in matrix)\n",
    "        candidate: new vector\n",
    "\n",
    "    Returns tuple of:\n",
    "        merged_vector : vector to replace first row to update\n",
    "        indices : vector of offsets of rows to update (first) or mask (others)\n",
    "\n",
    "    filter contains vector of booleans, with True for rows in current that are merge candidates\n",
    "    \"\"\"\n",
    "\n",
    "    current_matrix, pointer = input_tuple\n",
    "    filter = np.any(current_matrix - candidate == 0, axis = 1)\n",
    "    indices = np.where(filter == True)[0] # row numbers where boolean is True\n",
    "    if indices.size == 0: # if indices is empty, add new row, update current_matrix and pointer\n",
    "        current_matrix, pointer = add_new_vector(input_tuple, candidate)\n",
    "        return (current_matrix, pointer)\n",
    "    else: # if indices is populated, we merge\n",
    "        max_row_values = ma.max(current_matrix[filter], axis=0) # merger of existing, not yet candidate\n",
    "        merged_vector = merge_vectors(max_row_values, candidate) # eventual replacement for one of the existing candidates\n",
    "        new_row = merged_vector\n",
    "        rows_to_change = indices\n",
    "#         print(\"Data for new merged row: \", new_row)\n",
    "#         print(\"Indices of rows to modify\", rows_to_change)\n",
    "        current_matrix[rows_to_change[0]] = new_row # replace first row to replace with merge\n",
    "        column_count = current_matrix.shape[1] # get column count\n",
    "        current_matrix[rows_to_change[1:]] = ma.MaskedArray( # mask other rows to replace\n",
    "            data=[-1] * column_count,\n",
    "            mask=[True] * column_count\n",
    "        )\n",
    "#         print(\"After merge:\"+str(current_matrix))\n",
    "        return (current_matrix, pointer)"
   ]
  },
  {
   "cell_type": "code",
   "execution_count": 8,
   "metadata": {
    "collapsed": false
   },
   "outputs": [
   ],
   "source": [
    "# test data\n",
    "v_candidate = ma.MaskedArray(data=[-1, 21, 22, -1, -1], mask=[True, False, False, True, True])\n",
    "v_existing_01 = ma.MaskedArray(data=[-1, -1, 22, 23, -1], mask=[True, True, False, False, True])\n",
    "v_existing_02 = ma.MaskedArray(data=[-1, 21, 22, 23, 24], mask=[True, False, False, False, False])\n",
    "v_existing_03 = ma.MaskedArray(data=[-1, -1, 22, -1, -1], mask=[True, True, False, True, True])\n",
    "v_existing_04 = ma.MaskedArray(data=[2, 3, 3, 3, 2], mask=[False, False, False, False, False]) # cannot be merged, no masked values\n",
    "v_existing_05 = ma.MaskedArray(data=[5, 5, -1, 6, 7], mask=[False, False, True, False, False]) # cannot be merged, has masked values\n",
    "v_empty = ma.MaskedArray(data=[-1] * 5, mask=[True] * 5) # next blank row\n",
    "\n",
    "v_existing = ma.MaskedArray(data=[\n",
    "        v_existing_01,\n",
    "        v_existing_05,\n",
    "        v_existing_03,\n",
    "        v_existing_04,\n",
    "        v_existing_02,\n",
    "        v_empty\n",
    "    ])"
   ]
  },
  {
   "cell_type": "code",
   "execution_count": 9,
   "metadata": {
    "collapsed": false
   },
   "outputs": [
    {
     "data": {
      "text/plain": [
       "(masked_array(\n",
       "   data=[[--, 21, 22, 23, 24],\n",
       "         [5, 5, --, 6, 7],\n",
       "         [--, --, --, --, --],\n",
       "         [2, 3, 3, 3, 2],\n",
       "         [--, --, --, --, --],\n",
       "         [--, --, --, --, --]],\n",
       "   mask=[[ True, False, False, False, False],\n",
       "         [False, False,  True, False, False],\n",
       "         [ True,  True,  True,  True,  True],\n",
       "         [False, False, False, False, False],\n",
       "         [ True,  True,  True,  True,  True],\n",
       "         [ True,  True,  True,  True,  True]],\n",
       "   fill_value=999999),\n",
       " 5)"
      ]
     },
     "execution_count": 9,
     "metadata": {
     },
     "output_type": "execute_result"
    }
   ],
   "source": [
    "add_or_merge_new_vector_into_matrix((v_existing, 5), v_candidate)"
   ]
  },
  {
   "cell_type": "code",
   "execution_count": 10,
   "metadata": {
    "collapsed": false
   },
   "outputs": [
    {
     "name": "stdout",
     "output_type": "stream",
     "text": [
      "new_vector=masked_array(data=[4, 7, 3, 0, 2],\n",
      "             mask=[False, False, False, False, False],\n",
      "       fill_value=999999)\n",
      "initial_matrix=masked_array(data=[[4, 7, 3, 0, 2]],\n",
      "             mask=[[False, False, False, False, False]],\n",
      "       fill_value=999999)\n",
      "new_vector=masked_array(data=[--, 8, 3, 3, 5],\n",
      "             mask=[ True, False, False, False, False],\n",
      "       fill_value=999999)\n",
      "initial_matrix=masked_array(data=[[4, 8, 3, 3, 5]],\n",
      "             mask=[[False, False, False, False, False]],\n",
      "       fill_value=999999)\n",
      "new_vector=masked_array(data=[0, 7, 7, 4, 9],\n",
      "             mask=[False, False, False, False, False],\n",
      "       fill_value=999999)\n",
      "initial_matrix=masked_array(\n",
      "  data=[[4, 8, 3, 3, 5],\n",
      "        [0, 7, 7, 4, 9]],\n",
      "  mask=[[False, False, False, False, False],\n",
      "        [False, False, False, False, False]],\n",
      "  fill_value=999999)\n",
      "new_vector=masked_array(data=[--, 6, 2, 7, 1],\n",
      "             mask=[ True, False, False, False, False],\n",
      "       fill_value=999999)\n",
      "initial_matrix=masked_array(\n",
      "  data=[[4, 8, 3, 3, 5],\n",
      "        [0, 7, 7, 4, 9],\n",
      "        [--, 6, 2, 7, 1],\n",
      "        [--, --, --, --, --]],\n",
      "  mask=[[False, False, False, False, False],\n",
      "        [False, False, False, False, False],\n",
      "        [ True, False, False, False, False],\n",
      "        [ True,  True,  True,  True,  True]],\n",
      "  fill_value=999999)\n",
      "new_vector=masked_array(data=[--, 5, 8, 9, 4],\n",
      "             mask=[ True, False, False, False, False],\n",
      "       fill_value=999999)\n",
      "initial_matrix=masked_array(\n",
      "  data=[[4, 8, 3, 3, 5],\n",
      "        [0, 7, 7, 4, 9],\n",
      "        [--, 6, 2, 7, 1],\n",
      "        [--, 5, 8, 9, 4]],\n",
      "  mask=[[False, False, False, False, False],\n",
      "        [False, False, False, False, False],\n",
      "        [ True, False, False, False, False],\n",
      "        [ True, False, False, False, False]],\n",
      "  fill_value=999999)\n",
      "new_vector=masked_array(data=[2, 8, 9, 4, 2],\n",
      "             mask=[False, False, False, False, False],\n",
      "       fill_value=999999)\n",
      "initial_matrix=masked_array(\n",
      "  data=[[4, 8, 9, 4, 9],\n",
      "        [--, --, --, --, --],\n",
      "        [--, 6, 2, 7, 1],\n",
      "        [--, 5, 8, 9, 4]],\n",
      "  mask=[[False, False, False, False, False],\n",
      "        [ True,  True,  True,  True,  True],\n",
      "        [ True, False, False, False, False],\n",
      "        [ True, False, False, False, False]],\n",
      "  fill_value=999999)\n",
      "new_vector=masked_array(data=[0, 2, 6, --, --],\n",
      "             mask=[False, False, False,  True,  True],\n",
      "       fill_value=999999)\n",
      "initial_matrix=masked_array(\n",
      "  data=[[4, 8, 9, 4, 9],\n",
      "        [--, --, --, --, --],\n",
      "        [--, 6, 2, 7, 1],\n",
      "        [--, 5, 8, 9, 4],\n",
      "        [0, 2, 6, --, --],\n",
      "        [--, --, --, --, --],\n",
      "        [--, --, --, --, --],\n",
      "        [--, --, --, --, --]],\n",
      "  mask=[[False, False, False, False, False],\n",
      "        [ True,  True,  True,  True,  True],\n",
      "        [ True, False, False, False, False],\n",
      "        [ True, False, False, False, False],\n",
      "        [False, False, False,  True,  True],\n",
      "        [ True,  True,  True,  True,  True],\n",
      "        [ True,  True,  True,  True,  True],\n",
      "        [ True,  True,  True,  True,  True]],\n",
      "  fill_value=999999)\n",
      "new_vector=masked_array(data=[7, 0, --, 4, --],\n",
      "             mask=[False, False,  True, False,  True],\n",
      "       fill_value=999999)\n",
      "initial_matrix=masked_array(\n",
      "  data=[[7, 8, 9, 4, 9],\n",
      "        [--, --, --, --, --],\n",
      "        [--, 6, 2, 7, 1],\n",
      "        [--, 5, 8, 9, 4],\n",
      "        [0, 2, 6, --, --],\n",
      "        [--, --, --, --, --],\n",
      "        [--, --, --, --, --],\n",
      "        [--, --, --, --, --]],\n",
      "  mask=[[False, False, False, False, False],\n",
      "        [ True,  True,  True,  True,  True],\n",
      "        [ True, False, False, False, False],\n",
      "        [ True, False, False, False, False],\n",
      "        [False, False, False,  True,  True],\n",
      "        [ True,  True,  True,  True,  True],\n",
      "        [ True,  True,  True,  True,  True],\n",
      "        [ True,  True,  True,  True,  True]],\n",
      "  fill_value=999999)\n",
      "new_vector=masked_array(data=[9, 1, 6, 8, 6],\n",
      "             mask=[False, False, False, False, False],\n",
      "       fill_value=999999)\n",
      "initial_matrix=masked_array(\n",
      "  data=[[7, 8, 9, 4, 9],\n",
      "        [--, --, --, --, --],\n",
      "        [--, 6, 2, 7, 1],\n",
      "        [--, 5, 8, 9, 4],\n",
      "        [9, 2, 6, 999999, 999999],\n",
      "        [--, --, --, --, --],\n",
      "        [--, --, --, --, --],\n",
      "        [--, --, --, --, --]],\n",
      "  mask=[[False, False, False, False, False],\n",
      "        [ True,  True,  True,  True,  True],\n",
      "        [ True, False, False, False, False],\n",
      "        [ True, False, False, False, False],\n",
      "        [False, False, False, False, False],\n",
      "        [ True,  True,  True,  True,  True],\n",
      "        [ True,  True,  True,  True,  True],\n",
      "        [ True,  True,  True,  True,  True]],\n",
      "  fill_value=999999)\n",
      "new_vector=masked_array(data=[7, 9, 9, 4, 9],\n",
      "             mask=[False, False, False, False, False],\n",
      "       fill_value=999999)\n",
      "initial_matrix=masked_array(\n",
      "  data=[[7, 9, 9, 4, 9],\n",
      "        [--, --, --, --, --],\n",
      "        [--, 6, 2, 7, 1],\n",
      "        [--, 5, 8, 9, 4],\n",
      "        [9, 2, 6, 999999, 999999],\n",
      "        [--, --, --, --, --],\n",
      "        [--, --, --, --, --],\n",
      "        [--, --, --, --, --]],\n",
      "  mask=[[False, False, False, False, False],\n",
      "        [ True,  True,  True,  True,  True],\n",
      "        [ True, False, False, False, False],\n",
      "        [ True, False, False, False, False],\n",
      "        [False, False, False, False, False],\n",
      "        [ True,  True,  True,  True,  True],\n",
      "        [ True,  True,  True,  True,  True],\n",
      "        [ True,  True,  True,  True,  True]],\n",
      "  fill_value=999999)\n",
      "masked_array(\n",
      "  data=[[7, 9, 9, 4, 9],\n",
      "        [--, --, --, --, --],\n",
      "        [--, 6, 2, 7, 1],\n",
      "        [--, 5, 8, 9, 4],\n",
      "        [9, 2, 6, 999999, 999999],\n",
      "        [--, --, --, --, --],\n",
      "        [--, --, --, --, --],\n",
      "        [--, --, --, --, --]],\n",
      "  mask=[[False, False, False, False, False],\n",
      "        [ True,  True,  True,  True,  True],\n",
      "        [ True, False, False, False, False],\n",
      "        [ True, False, False, False, False],\n",
      "        [False, False, False, False, False],\n",
      "        [ True,  True,  True,  True,  True],\n",
      "        [ True,  True,  True,  True,  True],\n",
      "        [ True,  True,  True,  True,  True]],\n",
      "  fill_value=999999)\n",
      "5\n"
     ]
    }
   ],
   "source": [
    "# Eek!\n",
    "# This test is broken because the random examples can be inconsistent.\n",
    "# If a candidate row has values in two columns and a merge candidate\n",
    "# matches one, both have to match. This doesn't happen with random\n",
    "# data.\n",
    "#\n",
    "# To fix: manually create some number of test rows with data that is\n",
    "# consistent with the data that will arise with real collation.\n",
    "#\n",
    "# Create separate notebook to hold vector space manipulation functions.\n",
    "# Only one such function will be public (cf. the notebook that generates\n",
    "# blocks).\n",
    "\n",
    "empty_row = ma.MaskedArray(data=[-1] * 5, mask=[True] * 5) # 5 columns\n",
    "# initial state is one fully masked row\n",
    "initial_matrix = ma.MaskedArray(\n",
    "    data=[empty_row]\n",
    ")\n",
    "pointer = 0\n",
    "# add some rows\n",
    "for new_row_number in range(10):\n",
    "    new_data = np.random.randint(-1, 10, 5) # 5 values between -1 and 10\n",
    "    new_mask = [True if i == -1 else False for i in new_data] # 5 booleans — if only!\n",
    "    new_vector = ma.MaskedArray(\n",
    "        data = new_data,\n",
    "        mask = new_mask\n",
    "    )\n",
    "    print(f\"{new_vector=}\")\n",
    "    initial_matrix, pointer = add_or_merge_new_vector_into_matrix((initial_matrix, pointer), new_vector)\n",
    "    print(f\"{initial_matrix=}\")\n",
    "pp.pprint(initial_matrix)\n",
    "print(pointer)"
   ]
  },
  {
   "cell_type": "code",
   "execution_count": 0,
   "metadata": {
    "collapsed": false
   },
   "outputs": [
   ],
   "source": [
   ]
  }
 ],
 "metadata": {
  "kernelspec": {
   "display_name": "Python 3 (system-wide)",
   "language": "python",
   "metadata": {
    "cocalc": {
     "description": "Python 3 programming language",
     "priority": 100,
     "url": "https://www.python.org/"
    }
   },
   "name": "python3",
   "resource_dir": "/ext/jupyter/kernels/python3"
  },
  "language_info": {
   "codemirror_mode": {
    "name": "ipython",
    "version": 3
   },
   "file_extension": ".py",
   "mimetype": "text/x-python",
   "name": "python",
   "nbconvert_exporter": "python",
   "pygments_lexer": "ipython3",
   "version": "3.8.10"
  }
 },
 "nbformat": 4,
 "nbformat_minor": 4
}