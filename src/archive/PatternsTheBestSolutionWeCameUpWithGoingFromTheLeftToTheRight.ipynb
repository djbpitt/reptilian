{
 "cells": [
  {
   "cell_type": "markdown",
   "metadata": {
    "collapsed": false
   },
   "source": [
    "# Collation with decision tree"
   ]
  },
  {
   "cell_type": "markdown",
   "metadata": {
    "collapsed": false
   },
   "source": [
    "## Find ngrams and positions in witnesses"
   ]
  },
  {
   "cell_type": "code",
   "execution_count": 1,
   "metadata": {
    "collapsed": false
   },
   "outputs": [
   ],
   "source": [
    "# two witnesses, with repetition and transposition\n",
    "w1 = \"\"\"the red and the black cat\"\"\"\n",
    "w2 = \"\"\"the black and the red cat\"\"\""
   ]
  },
  {
   "cell_type": "code",
   "execution_count": 2,
   "metadata": {
    "collapsed": false
   },
   "outputs": [
   ],
   "source": [
    "def tokenize_witnesses(w1_string, w2_string):\n",
    "    '''Return list of witnesses, each represented by a list of tokens'''\n",
    "    w1_tokens = w1.split()\n",
    "    w2_tokens = w2.split()\n",
    "    witnesses = [w1_tokens, w2_tokens]\n",
    "    return witnesses"
   ]
  },
  {
   "cell_type": "code",
   "execution_count": 3,
   "metadata": {
    "collapsed": false
   },
   "outputs": [
    {
     "name": "stdout",
     "output_type": "stream",
     "text": [
      "[['the', 'red', 'and', 'the', 'black', 'cat'], ['the', 'black', 'and', 'the', 'red', 'cat']]\n"
     ]
    }
   ],
   "source": [
    "witnesses = tokenize_witnesses(w1, w2)\n",
    "print(witnesses)"
   ]
  },
  {
   "cell_type": "code",
   "execution_count": 4,
   "metadata": {
    "collapsed": false
   },
   "outputs": [
   ],
   "source": [
    "from collections import defaultdict \n",
    "\n",
    "# create a function that creates n-grams and returns the offsets\n",
    "def compute_ngrams(witness, n):\n",
    "   output = defaultdict(list)\n",
    "   for i in range(len(witness)-n+1):\n",
    "       g = ' '.join(witness[i:i+n])\n",
    "       output[g].append(i)\n",
    "   return output"
   ]
  },
  {
   "cell_type": "code",
   "execution_count": 5,
   "metadata": {
    "collapsed": false
   },
   "outputs": [
    {
     "name": "stdout",
     "output_type": "stream",
     "text": [
      "defaultdict(<class 'list'>, {'the': [0, 3], 'red': [1], 'and': [2], 'black': [4], 'cat': [5]})\n",
      "defaultdict(<class 'list'>, {'the red': [0], 'red and': [1], 'and the': [2], 'the black': [3], 'black cat': [4]})\n",
      "defaultdict(<class 'list'>, {'the': [0, 3], 'black': [1], 'and': [2], 'red': [4], 'cat': [5]})\n",
      "defaultdict(<class 'list'>, {'the black': [0], 'black and': [1], 'and the': [2], 'the red': [3], 'red cat': [4]})\n"
     ]
    }
   ],
   "source": [
    "for witness in witnesses:\n",
    "    print(compute_ngrams(witness, 1))\n",
    "    print(compute_ngrams(witness, 2))\n"
   ]
  },
  {
   "cell_type": "code",
   "execution_count": 6,
   "metadata": {
    "collapsed": false
   },
   "outputs": [
    {
     "name": "stdout",
     "output_type": "stream",
     "text": [
      "{'and the', 'the black', 'the red'}\n"
     ]
    }
   ],
   "source": [
    "# find bigrams common to the two witnesses\n",
    "w1_bigrams = compute_ngrams(witnesses[0], 2)\n",
    "w2_bigrams = compute_ngrams(witnesses[1], 2)\n",
    "shared_keys = w1_bigrams.keys() & w2_bigrams.keys()\n",
    "print(shared_keys)"
   ]
  },
  {
   "cell_type": "code",
   "execution_count": 7,
   "metadata": {
    "collapsed": false
   },
   "outputs": [
   ],
   "source": [
    "from collections import defaultdict\n",
    "\n",
    "def compute_ngrams_all(witness):\n",
    "   '''Create a function that creates n-grams and returns the offsets'''\n",
    "   output = defaultdict(list)\n",
    "   output2 = {}\n",
    "   for n in range(1, len(witness) + 1):\n",
    "       for i in range(len(witness)-n+1):\n",
    "           g = ' '.join(witness[i:i+n])\n",
    "           output[g].append(i)\n",
    "           output2[g] = n\n",
    "   return output, output2"
   ]
  },
  {
   "cell_type": "code",
   "execution_count": 8,
   "metadata": {
    "collapsed": false
   },
   "outputs": [
    {
     "name": "stdout",
     "output_type": "stream",
     "text": [
      "w1 defaultdict(<class 'list'>, {'the': [0, 3], 'red': [1], 'and': [2], 'black': [4], 'cat': [5], 'the red': [0], 'red and': [1], 'and the': [2], 'the black': [3], 'black cat': [4], 'the red and': [0], 'red and the': [1], 'and the black': [2], 'the black cat': [3], 'the red and the': [0], 'red and the black': [1], 'and the black cat': [2], 'the red and the black': [0], 'red and the black cat': [1], 'the red and the black cat': [0]})\n",
      "w2 defaultdict(<class 'list'>, {'the': [0, 3], 'black': [1], 'and': [2], 'red': [4], 'cat': [5], 'the black': [0], 'black and': [1], 'and the': [2], 'the red': [3], 'red cat': [4], 'the black and': [0], 'black and the': [1], 'and the red': [2], 'the red cat': [3], 'the black and the': [0], 'black and the red': [1], 'and the red cat': [2], 'the black and the red': [0], 'black and the red cat': [1], 'the black and the red cat': [0]})\n",
      "{'the': 1, 'red': 1, 'and': 1, 'black': 1, 'cat': 1, 'the red': 2, 'red and': 2, 'and the': 2, 'the black': 2, 'black cat': 2, 'the red and': 3, 'red and the': 3, 'and the black': 3, 'the black cat': 3, 'the red and the': 4, 'red and the black': 4, 'and the black cat': 4, 'the red and the black': 5, 'red and the black cat': 5, 'the red and the black cat': 6, 'black and': 2, 'red cat': 2, 'the black and': 3, 'black and the': 3, 'and the red': 3, 'the red cat': 3, 'the black and the': 4, 'black and the red': 4, 'and the red cat': 4, 'the black and the red': 5, 'black and the red cat': 5, 'the black and the red cat': 6}\n"
     ]
    }
   ],
   "source": [
    "# compute ngrams for all (both) witnesses\n",
    "ngram_offset_by_witness_dict = {}\n",
    "ngram_length = {}\n",
    "for index, witness in enumerate(witnesses):\n",
    "    map1, map2 = compute_ngrams_all(witness)\n",
    "    ngram_offset_by_witness_dict['w' + str(index + 1)] = map1\n",
    "    ngram_length.update(map2)\n",
    "\n",
    "for key in ngram_offset_by_witness_dict.keys():\n",
    "    print(key, ngram_offset_by_witness_dict[key])\n",
    "\n",
    "print(ngram_length)"
   ]
  },
  {
   "cell_type": "code",
   "execution_count": 9,
   "metadata": {
    "collapsed": false
   },
   "outputs": [
    {
     "name": "stdout",
     "output_type": "stream",
     "text": [
      "{'and the', 'the', 'and', 'the red', 'cat', 'the black', 'black', 'red'}\n"
     ]
    }
   ],
   "source": [
    "# find keys shared by *all* witnesses\n",
    "shared_ngrams = set(ngram_offset_by_witness_dict[\"w1\"].keys())\n",
    "for value in ngram_offset_by_witness_dict.values():\n",
    "    shared_ngrams = shared_ngrams.intersection(value.keys())\n",
    "\n",
    "print(shared_ngrams)"
   ]
  },
  {
   "cell_type": "code",
   "execution_count": 10,
   "metadata": {
    "collapsed": false,
    "scrolled": true
   },
   "outputs": [
    {
     "name": "stdout",
     "output_type": "stream",
     "text": [
      "defaultdict(<class 'list'>, {'and the': [(2, 2)], 'the': [(0, 0), (0, 3), (3, 0), (3, 3)], 'and': [(2, 2)], 'the red': [(0, 3)], 'cat': [(5, 5)], 'the black': [(3, 0)], 'black': [(4, 1)], 'red': [(1, 4)]})\n"
     ]
    }
   ],
   "source": [
    "# use shared keys to find potential alignments\n",
    "# NB: works for only two witnesses\n",
    "# output format: {ngram : [(0,1), (2,3)]}, where \n",
    "#   the two entries in each tuple are for witnesses A and B\n",
    "from collections import defaultdict\n",
    "\n",
    "potential_alignments = defaultdict(list)\n",
    "for ngram in shared_ngrams:\n",
    "    for w1_offset in ngram_offset_by_witness_dict['w1'][ngram]:\n",
    "        for w2_offset in ngram_offset_by_witness_dict['w2'][ngram]:\n",
    "            potential_alignments[ngram].append((w1_offset, w2_offset))\n",
    "\n",
    "print(potential_alignments)"
   ]
  },
  {
   "cell_type": "markdown",
   "metadata": {
    "collapsed": false
   },
   "source": [
    "## Build decision tree"
   ]
  },
  {
   "cell_type": "code",
   "execution_count": 11,
   "metadata": {
    "collapsed": false,
    "scrolled": true
   },
   "outputs": [
    {
     "name": "stdout",
     "output_type": "stream",
     "text": [
      "defaultdict(<class 'list'>, {(2, 2): ['and the', 'and'], (0, 0): ['the'], (0, 3): ['the', 'the red'], (3, 0): ['the', 'the black'], (3, 3): ['the'], (5, 5): ['cat'], (4, 1): ['black'], (1, 4): ['red']})\n"
     ]
    }
   ],
   "source": [
    "# Find actual alignments (ngrams with positions in witnesses)\n",
    "#\n",
    "# Build dictionary of offset_tuple : list_of_ngrams\n",
    "#\n",
    "# Source: https://stackoverflow.com/questions/6190331/how-to-implement-an-ordered-default-dict\n",
    "#\n",
    "# agglomerate = collections.OrderedDict()\n",
    "# for i, x in some_generator():\n",
    "#     agglomerate.setdefault(i, []).append(x)\n",
    "#\n",
    "# Tuples of offsets are keys, sorted; values are lists of ngrams at those offsets\n",
    "\n",
    "alignments = defaultdict(list)\n",
    "for key,value in potential_alignments.items():\n",
    "    for t in value:\n",
    "        alignments[t].append(key)\n",
    "\n",
    "print(alignments)"
   ]
  },
  {
   "cell_type": "code",
   "execution_count": 12,
   "metadata": {
    "collapsed": false,
    "scrolled": true
   },
   "outputs": [
    {
     "name": "stdout",
     "output_type": "stream",
     "text": [
      "[(0, 0, ('the',)), (0, 3, ('the red', 'the')), (1, 4, ('red',)), (2, 2, ('and the', 'and')), (3, 0, ('the black', 'the')), (3, 3, ('the',)), (4, 1, ('black',)), (5, 5, ('cat',))]\n"
     ]
    }
   ],
   "source": [
    "# Create list of tuples (A-position:int, B-position:int, (ngrams), sorted by A position\n",
    "# Sort ngrams by token count from high to low\n",
    "# ngrams are in a tuple, rather than list, to make them hashable, and therefore set-able\n",
    "#\n",
    "# sorted(alignments.items()) # sorts, but outputs tuples\n",
    "import collections\n",
    "sorted_alignments_witness_A = []\n",
    "for key in sorted(alignments):\n",
    "    sorted_alignments_witness_A.append((key[0],key[1], tuple(sorted(alignments[key], key=lambda x: ngram_length[x], reverse=True ))))\n",
    "\n",
    "print(sorted_alignments_witness_A)"
   ]
  },
  {
   "cell_type": "code",
   "execution_count": 13,
   "metadata": {
    "collapsed": false,
    "scrolled": true
   },
   "outputs": [
    {
     "name": "stdout",
     "output_type": "stream",
     "text": [
      "(0, 0, ('the',))\n",
      "(0, 3, ('the red', 'the'))\n",
      "(1, 4, ('red',))\n",
      "(2, 2, ('and the', 'and'))\n",
      "(3, 0, ('the black', 'the'))\n",
      "(3, 3, ('the',))\n",
      "(4, 1, ('black',))\n",
      "(5, 5, ('cat',))\n"
     ]
    }
   ],
   "source": [
    "# Does it work?\n",
    "for entry in sorted_alignments_witness_A:\n",
    "    print(entry)"
   ]
  },
  {
   "cell_type": "code",
   "execution_count": 14,
   "metadata": {
    "collapsed": false
   },
   "outputs": [
    {
     "name": "stdout",
     "output_type": "stream",
     "text": [
      "[(0, 0, ('the',)), (3, 0, ('the black', 'the')), (4, 1, ('black',)), (2, 2, ('and the', 'and')), (0, 3, ('the red', 'the')), (3, 3, ('the',)), (1, 4, ('red',)), (5, 5, ('cat',))]\n"
     ]
    }
   ],
   "source": [
    "# TODO: No need to flip and then flip again\n",
    "# Sort dictionary of offset_tuple : list_of_ngrams by tuple; Prefer witness B offsets over witness A offsets\n",
    "# Sort ngrams by length \n",
    "#\n",
    "flipped_witness_offsets = { (k[1], k[0]): v for k,v in alignments.items() }\n",
    "# print(flipped_witness_offsets)\n",
    "\n",
    "sorted_alignments_witness_B = []\n",
    "for key in sorted(flipped_witness_offsets): # flip them back to write A before B\n",
    "    sorted_alignments_witness_B.append((key[1], key[0], tuple(sorted(flipped_witness_offsets[key], key=lambda x: ngram_length[x], reverse=True ))))\n",
    "\n",
    "print(sorted_alignments_witness_B)"
   ]
  },
  {
   "cell_type": "markdown",
   "metadata": {
    "collapsed": false
   },
   "source": [
    "### A decision tree node stores the following properties:\n",
    "* unique id\n",
    "* current location in witness A\n",
    "* current location in witness B\n",
    "* parent (except root)\n",
    "* children\n",
    "* aligned patterns\n",
    "* potential alignments by A\n",
    "* potential alignments by B\n",
    "\n",
    "Edges are not stored separately; edge information is represented by parent and children properties of node\n",
    "\n",
    "### Implement with nested dictionaries:\n",
    "* {id:int : properties:dict} for each node\n",
    "* properties (7) : \n",
    "  * current-location-in-A:int (id of node)\n",
    "  * current-location-in-B:int (id of node)\n",
    "  * parent : id:int\n",
    "  * children : [id:int]\n",
    "  * aligned-patterns : [(offsetA:int, offsetB:int, ngram:str)]\n",
    "  * potential-alignments-by-A : [(offsetA:int, offsetB:int, ngram:str)]\n",
    "  * potential-alignments-by-B : [(offsetB:int, offsetA:int, ngram:str)]"
   ]
  },
  {
   "cell_type": "code",
   "execution_count": 15,
   "metadata": {
    "collapsed": false
   },
   "outputs": [
   ],
   "source": [
    "# Create outer dictionary for decision tree nodes\n",
    "decision_tree = {}\n",
    "\n",
    "# Add root node\n",
    "decision_tree[0] = {}\n",
    "\n",
    "# Supply properties for root node\n",
    "decision_tree[0]['id'] = 0 # what's my key?\n",
    "decision_tree[0]['type'] = None # normally 'align' or 'transpose'\n",
    "decision_tree[0]['current-location-in-A'] = -1 # 0 would be the first position\n",
    "decision_tree[0]['current-location-in-B'] = -1\n",
    "decision_tree[0]['parent'] = None # integer\n",
    "decision_tree[0]['children'] = []\n",
    "decision_tree[0]['aligned-patterns'] = []\n",
    "decision_tree[0]['transposed-patterns'] = []\n",
    "decision_tree[0]['potential-alignments-by-A'] = sorted_alignments_witness_A\n",
    "decision_tree[0]['potential-alignments-by-B'] = sorted_alignments_witness_B"
   ]
  },
  {
   "cell_type": "code",
   "execution_count": 16,
   "metadata": {
    "collapsed": false,
    "scrolled": true
   },
   "outputs": [
    {
     "data": {
      "text/plain": [
       "{'id': 0,\n",
       " 'type': None,\n",
       " 'current-location-in-A': -1,\n",
       " 'current-location-in-B': -1,\n",
       " 'parent': None,\n",
       " 'children': [],\n",
       " 'aligned-patterns': [],\n",
       " 'transposed-patterns': [],\n",
       " 'potential-alignments-by-A': [(0, 0, ('the',)),\n",
       "  (0, 3, ('the red', 'the')),\n",
       "  (1, 4, ('red',)),\n",
       "  (2, 2, ('and the', 'and')),\n",
       "  (3, 0, ('the black', 'the')),\n",
       "  (3, 3, ('the',)),\n",
       "  (4, 1, ('black',)),\n",
       "  (5, 5, ('cat',))],\n",
       " 'potential-alignments-by-B': [(0, 0, ('the',)),\n",
       "  (3, 0, ('the black', 'the')),\n",
       "  (4, 1, ('black',)),\n",
       "  (2, 2, ('and the', 'and')),\n",
       "  (0, 3, ('the red', 'the')),\n",
       "  (3, 3, ('the',)),\n",
       "  (1, 4, ('red',)),\n",
       "  (5, 5, ('cat',))]}"
      ]
     },
     "execution_count": 16,
     "metadata": {
     },
     "output_type": "execute_result"
    }
   ],
   "source": [
    "# Take a look\n",
    "decision_tree[0]"
   ]
  },
  {
   "cell_type": "code",
   "execution_count": 17,
   "metadata": {
    "collapsed": false
   },
   "outputs": [
   ],
   "source": [
    "# Function to add child nodes recursively\n",
    "# Within children:\n",
    "#   Add parent\n",
    "#   Update current location in A and B\n",
    "#   Update aligned patterns\n",
    "#   Update potential alignments for A and B\n",
    "#\n",
    "# Add three types of nodes:\n",
    "#\n",
    "#   1. Align closest in both witnesses, advance both pointers by 1\n",
    "#      There should be zero or one of these\n",
    "#   2. Align closest in one witness, but not the other, advance pointers different amounts\n",
    "#      There should be zero or two or more, closest in witness A (but not B) and vice versa\n",
    "#      May not be symmetrical because of repetition\n",
    "#   3. Advance pointer by one in both witnesses, but no alignment\n",
    "#      If we get to type 2, there should be one of type 3\n",
    "#\n",
    "# Assign consecutive id values by counting size of dictionary = could break with multithreading\n",
    "\n",
    "def add_children(parent_id: int) -> dict:\n",
    "    # get nearest matches in new child node and prepare to recur over its children\n",
    "    # Sort the union of nearest matches for consistency during development; does not affect logic\n",
    "    # This gets node types 1 and 2 (see comment above), but not 3\n",
    "    nearest_A_matches = [item for item in decision_tree[parent_id]['potential-alignments-by-A'] if item[0] == decision_tree[parent_id]['potential-alignments-by-A'][0][0]]\n",
    "    nearest_B_matches = [item for item in decision_tree[parent_id]['potential-alignments-by-B'] if item[1] == decision_tree[parent_id]['potential-alignments-by-B'][0][1]]\n",
    "    nearest_matches = sorted({item for item in nearest_A_matches + nearest_B_matches})\n",
    "\n",
    "    for child in nearest_matches:\n",
    "        # child looks like: (1, 2, ('hi mon', 'hi'))\n",
    "        # start location in A, in B, ngrams at that location\n",
    "        child = (child[0], child[1], child[2][0]) # prune ngrams to keep only longest; NB: redefining \"child\" variable\n",
    "        current_ngram_length = ngram_length[child[2]]\n",
    "        id = len(decision_tree)\n",
    "        decision_tree[id] = {}\n",
    "        decision_tree[id]['id'] = id\n",
    "        if child[0] == decision_tree[parent_id]['potential-alignments-by-A'][0][0] and child[1] == decision_tree[parent_id]['potential-alignments-by-B'][0][1]:\n",
    "            decision_tree[id]['type'] = 'closest-in-both'\n",
    "        else:\n",
    "            decision_tree[id]['type'] = 'closest-in-one'\n",
    "        decision_tree[id]['current-location-in-A'] = child[0] + current_ngram_length - 1\n",
    "        decision_tree[id]['current-location-in-B'] = child[1] + current_ngram_length - 1\n",
    "        decision_tree[id]['parent'] = parent_id\n",
    "        decision_tree[id]['children'] = []\n",
    "        aligned_patterns = decision_tree[parent_id]['aligned-patterns'].copy()\n",
    "        aligned_patterns.append(child)\n",
    "        decision_tree[id]['aligned-patterns'] = aligned_patterns\n",
    "        transposed_patterns = decision_tree[parent_id]['transposed-patterns'].copy()\n",
    "        decision_tree[id]['transposed-patterns'] = transposed_patterns\n",
    "\n",
    "        # TODO: Because lists are sorted, once one is far enough to the right to avoid transposition,\n",
    "        #   all following ones are also okay (in this case, though, must process A and B separately)\n",
    "        # Similarly, once one ngram is safe, all shorter ones are also safe, and don't need to be checked\n",
    "        decision_tree[id]['potential-alignments-by-A'] = []\n",
    "\n",
    "        # while figuring the new potential alignments by a and b we will find transpositions that we need to store.\n",
    "        # We use bitarrays to track (avoid) overlap (subsequences) between detected transposed patterns.\n",
    "        # ba1 and ba2 record transposed patterns\n",
    "        from bitarray import bitarray\n",
    "        ba1 = bitarray(len(witnesses[0]))\n",
    "        ba1.setall(0)\n",
    "        ba2 = bitarray(len(witnesses[1]))\n",
    "        ba2.setall(0)\n",
    "\n",
    "        #TEMP: transposed-patterns': [(2, 2, 'and the'), (4, 1, 'black')],\n",
    "        for tp in decision_tree[id]['transposed-patterns']:\n",
    "            # now we need to fill the bitarray; We need the start position in each witness and the length of the pattern.\n",
    "            tp_ngram_length = ngram_length[tp[2]]\n",
    "            ba1[tp[0]:tp[0] + tp_ngram_length] = 1\n",
    "            ba2[tp[1]:tp[1] + tp_ngram_length] = 1\n",
    "\n",
    "        # ba3 and ba4 record aligned pattern being added\n",
    "        ba3 = bitarray(len(witnesses[0]))\n",
    "        ba3.setall(0)\n",
    "        ba4 = bitarray(len(witnesses[1]))\n",
    "        ba4.setall(0)\n",
    "        ba3[child[0]:child[0] + current_ngram_length] = 1\n",
    "        ba4[child[1]:child[1] + current_ngram_length] = 1\n",
    "\n",
    "        for p in decision_tree[parent_id]['potential-alignments-by-A']: # check for potentials and transpositions\n",
    "            if p[0] > decision_tree[id]['current-location-in-A'] and p[1] > decision_tree[id]['current-location-in-B']:\n",
    "                decision_tree[id]['potential-alignments-by-A'].append(p) # both are to the right, so it's still potential\n",
    "            else: # check whether it's a transposition or an overlap\n",
    "                for q in p[2]: # iterate over the different n-grams\n",
    "                    q_ngram_length = ngram_length[q] # length of current ngram inside current potential\n",
    "                    if ba3[p[0]:p[0] + q_ngram_length].any() or ba4[p[1]:p[1] + q_ngram_length].any(): # overlap; throw it away\n",
    "                        continue\n",
    "                    else: # transposition but is it alreadyin the transposed patterns property?\n",
    "                        if ba1[p[0]:p[0] + q_ngram_length].any() or ba2[p[1]:p[1] + q_ngram_length].any(): # already among transpositions\n",
    "                            continue\n",
    "                        decision_tree[id]['transposed-patterns'].append((p[0], p[1], q)) # update bitarrays with the new transposed pattern\n",
    "                        ba1[p[0]:p[0] + q_ngram_length] = 1\n",
    "                        ba2[p[1]:p[1] + q_ngram_length] = 1\n",
    "\n",
    "        # potentials by A and B are the same tuples, but sorted differently\n",
    "        decision_tree[id]['potential-alignments-by-B'] = sorted(decision_tree[id]['potential-alignments-by-A'], key=lambda x: (x[1], x[0]))\n",
    "\n",
    "        decision_tree[parent_id]['children'].append(id) # add new child to parent\n",
    "        if decision_tree[id]['potential-alignments-by-A']:\n",
    "            add_children(id) # recur to process children of new child\n",
    "\n",
    "    # add type #3 (skip) node\n",
    "    if len(decision_tree[parent_id]['children']) > 1:\n",
    "        skip_node_id = len(decision_tree)\n",
    "        decision_tree[skip_node_id] = {}\n",
    "        decision_tree[skip_node_id]['id'] = skip_node_id\n",
    "        decision_tree[skip_node_id]['type'] = 'skip'\n",
    "        decision_tree[skip_node_id]['current-location-in-A'] = nearest_A_matches[0][0] + ngram_length[nearest_A_matches[0][2][0]] - 1\n",
    "        decision_tree[skip_node_id]['current-location-in-B'] = nearest_B_matches[0][1] + ngram_length[nearest_B_matches[0][2][0]] - 1\n",
    "        decision_tree[skip_node_id]['parent'] = parent_id\n",
    "        decision_tree[skip_node_id]['children'] = []\n",
    "        aligned_patterns = decision_tree[parent_id]['aligned-patterns'].copy() # aligned patterns don't change\n",
    "        decision_tree[skip_node_id]['aligned-patterns'] = aligned_patterns\n",
    "        transposed_patterns = decision_tree[parent_id]['transposed-patterns'].copy()\n",
    "        decision_tree[skip_node_id]['transposed-patterns'] = transposed_patterns\n",
    "        potential_alignments_by_A = decision_tree[parent_id]['potential-alignments-by-A'].copy() # keep only potential greater than current position\n",
    "        decision_tree[skip_node_id]['potential-alignments-by-A'] = [t for t in potential_alignments_by_A if t[0] > decision_tree[skip_node_id]['current-location-in-A'] and t[1] > decision_tree[skip_node_id]['current-location-in-B']]\n",
    "        decision_tree[skip_node_id]['potential-alignments-by-B'] = sorted(decision_tree[skip_node_id]['potential-alignments-by-A'], key=lambda x: (x[1], x[0]))\n",
    "        decision_tree[parent_id]['children'].append(skip_node_id)\n",
    "\n",
    "        # while figuring the new potential alignments by a and b we will find transpositions that we need to store.\n",
    "        # We use bitarrays to track (avoid) overlap (subsequences) between detected transposed patterns.\n",
    "        # ba1 and ba2 record transposed patterns\n",
    "        from bitarray import bitarray\n",
    "        ba1 = bitarray(len(witnesses[0]))\n",
    "        ba1.setall(0)\n",
    "        ba2 = bitarray(len(witnesses[1]))\n",
    "        ba2.setall(0)\n",
    "\n",
    "        #INFO: 'transposed-patterns' looks like: [(2, 2, 'and the'), (4, 1, 'black')],\n",
    "        for tp in decision_tree[skip_node_id]['transposed-patterns']:\n",
    "            # now we need to fill the bitarray; We need the start position in each witness and the length of the pattern.\n",
    "            tp_ngram_length = ngram_length[tp[2]]\n",
    "            ba1[tp[0]:tp[0] + tp_ngram_length] = 1\n",
    "            ba2[tp[1]:tp[1] + tp_ngram_length] = 1\n",
    "\n",
    "        for t in potential_alignments_by_A:\n",
    "            if t[0] <= decision_tree[skip_node_id]['current-location-in-A'] or t[1] <= decision_tree[skip_node_id]['current-location-in-B']:\n",
    "                # transposition, but is it already in the transposed-patterns property?\n",
    "                t_ngram_length = ngram_length[t[2][0]]\n",
    "                if ba1[t[0]:t[0] + t_ngram_length].any() or ba2[t[1]:t[1] + t_ngram_length].any(): # already among transpositions\n",
    "                    continue\n",
    "                decision_tree[skip_node_id]['transposed-patterns'].append((t[0], t[1], t[2][0])) # update bitarrays with the new transposed pattern\n",
    "                ba1[t[0]:t[0] + t_ngram_length] = 1\n",
    "                ba2[t[1]:t[1] + t_ngram_length] = 1\n",
    "\n",
    "        if decision_tree[skip_node_id]['potential-alignments-by-A']:\n",
    "            add_children(skip_node_id)"
   ]
  },
  {
   "cell_type": "code",
   "execution_count": 18,
   "metadata": {
    "collapsed": false,
    "scrolled": true
   },
   "outputs": [
    {
     "data": {
      "text/plain": [
       "{0: {'id': 0,\n",
       "  'type': None,\n",
       "  'current-location-in-A': -1,\n",
       "  'current-location-in-B': -1,\n",
       "  'parent': None,\n",
       "  'children': [1, 9, 11, 13],\n",
       "  'aligned-patterns': [],\n",
       "  'transposed-patterns': [],\n",
       "  'potential-alignments-by-A': [(0, 0, ('the',)),\n",
       "   (0, 3, ('the red', 'the')),\n",
       "   (1, 4, ('red',)),\n",
       "   (2, 2, ('and the', 'and')),\n",
       "   (3, 0, ('the black', 'the')),\n",
       "   (3, 3, ('the',)),\n",
       "   (4, 1, ('black',)),\n",
       "   (5, 5, ('cat',))],\n",
       "  'potential-alignments-by-B': [(0, 0, ('the',)),\n",
       "   (3, 0, ('the black', 'the')),\n",
       "   (4, 1, ('black',)),\n",
       "   (2, 2, ('and the', 'and')),\n",
       "   (0, 3, ('the red', 'the')),\n",
       "   (3, 3, ('the',)),\n",
       "   (1, 4, ('red',)),\n",
       "   (5, 5, ('cat',))]},\n",
       " 1: {'id': 1,\n",
       "  'type': 'closest-in-both',\n",
       "  'current-location-in-A': 0,\n",
       "  'current-location-in-B': 0,\n",
       "  'parent': 0,\n",
       "  'children': [2, 4, 6],\n",
       "  'aligned-patterns': [(0, 0, 'the')],\n",
       "  'transposed-patterns': [],\n",
       "  'potential-alignments-by-A': [(1, 4, ('red',)),\n",
       "   (2, 2, ('and the', 'and')),\n",
       "   (3, 3, ('the',)),\n",
       "   (4, 1, ('black',)),\n",
       "   (5, 5, ('cat',))],\n",
       "  'potential-alignments-by-B': [(4, 1, ('black',)),\n",
       "   (2, 2, ('and the', 'and')),\n",
       "   (3, 3, ('the',)),\n",
       "   (1, 4, ('red',)),\n",
       "   (5, 5, ('cat',))]},\n",
       " 2: {'id': 2,\n",
       "  'type': 'closest-in-one',\n",
       "  'current-location-in-A': 1,\n",
       "  'current-location-in-B': 4,\n",
       "  'parent': 1,\n",
       "  'children': [3],\n",
       "  'aligned-patterns': [(0, 0, 'the'), (1, 4, 'red')],\n",
       "  'transposed-patterns': [(2, 2, 'and the'), (4, 1, 'black')],\n",
       "  'potential-alignments-by-A': [(5, 5, ('cat',))],\n",
       "  'potential-alignments-by-B': [(5, 5, ('cat',))]},\n",
       " 3: {'id': 3,\n",
       "  'type': 'closest-in-both',\n",
       "  'current-location-in-A': 5,\n",
       "  'current-location-in-B': 5,\n",
       "  'parent': 2,\n",
       "  'children': [],\n",
       "  'aligned-patterns': [(0, 0, 'the'), (1, 4, 'red'), (5, 5, 'cat')],\n",
       "  'transposed-patterns': [(2, 2, 'and the'), (4, 1, 'black')],\n",
       "  'potential-alignments-by-A': [],\n",
       "  'potential-alignments-by-B': []},\n",
       " 4: {'id': 4,\n",
       "  'type': 'closest-in-one',\n",
       "  'current-location-in-A': 4,\n",
       "  'current-location-in-B': 1,\n",
       "  'parent': 1,\n",
       "  'children': [5],\n",
       "  'aligned-patterns': [(0, 0, 'the'), (4, 1, 'black')],\n",
       "  'transposed-patterns': [(1, 4, 'red'), (2, 2, 'and the')],\n",
       "  'potential-alignments-by-A': [(5, 5, ('cat',))],\n",
       "  'potential-alignments-by-B': [(5, 5, ('cat',))]},\n",
       " 5: {'id': 5,\n",
       "  'type': 'closest-in-both',\n",
       "  'current-location-in-A': 5,\n",
       "  'current-location-in-B': 5,\n",
       "  'parent': 4,\n",
       "  'children': [],\n",
       "  'aligned-patterns': [(0, 0, 'the'), (4, 1, 'black'), (5, 5, 'cat')],\n",
       "  'transposed-patterns': [(1, 4, 'red'), (2, 2, 'and the')],\n",
       "  'potential-alignments-by-A': [],\n",
       "  'potential-alignments-by-B': []},\n",
       " 6: {'id': 6,\n",
       "  'type': 'skip',\n",
       "  'current-location-in-A': 1,\n",
       "  'current-location-in-B': 1,\n",
       "  'parent': 1,\n",
       "  'children': [7],\n",
       "  'aligned-patterns': [(0, 0, 'the')],\n",
       "  'transposed-patterns': [(1, 4, 'red'), (4, 1, 'black')],\n",
       "  'potential-alignments-by-A': [(2, 2, ('and the', 'and')),\n",
       "   (3, 3, ('the',)),\n",
       "   (5, 5, ('cat',))],\n",
       "  'potential-alignments-by-B': [(2, 2, ('and the', 'and')),\n",
       "   (3, 3, ('the',)),\n",
       "   (5, 5, ('cat',))]},\n",
       " 7: {'id': 7,\n",
       "  'type': 'closest-in-both',\n",
       "  'current-location-in-A': 3,\n",
       "  'current-location-in-B': 3,\n",
       "  'parent': 6,\n",
       "  'children': [8],\n",
       "  'aligned-patterns': [(0, 0, 'the'), (2, 2, 'and the')],\n",
       "  'transposed-patterns': [(1, 4, 'red'), (4, 1, 'black')],\n",
       "  'potential-alignments-by-A': [(5, 5, ('cat',))],\n",
       "  'potential-alignments-by-B': [(5, 5, ('cat',))]},\n",
       " 8: {'id': 8,\n",
       "  'type': 'closest-in-both',\n",
       "  'current-location-in-A': 5,\n",
       "  'current-location-in-B': 5,\n",
       "  'parent': 7,\n",
       "  'children': [],\n",
       "  'aligned-patterns': [(0, 0, 'the'), (2, 2, 'and the'), (5, 5, 'cat')],\n",
       "  'transposed-patterns': [(1, 4, 'red'), (4, 1, 'black')],\n",
       "  'potential-alignments-by-A': [],\n",
       "  'potential-alignments-by-B': []},\n",
       " 9: {'id': 9,\n",
       "  'type': 'closest-in-one',\n",
       "  'current-location-in-A': 1,\n",
       "  'current-location-in-B': 4,\n",
       "  'parent': 0,\n",
       "  'children': [10],\n",
       "  'aligned-patterns': [(0, 3, 'the red')],\n",
       "  'transposed-patterns': [(2, 2, 'and'), (3, 0, 'the black')],\n",
       "  'potential-alignments-by-A': [(5, 5, ('cat',))],\n",
       "  'potential-alignments-by-B': [(5, 5, ('cat',))]},\n",
       " 10: {'id': 10,\n",
       "  'type': 'closest-in-both',\n",
       "  'current-location-in-A': 5,\n",
       "  'current-location-in-B': 5,\n",
       "  'parent': 9,\n",
       "  'children': [],\n",
       "  'aligned-patterns': [(0, 3, 'the red'), (5, 5, 'cat')],\n",
       "  'transposed-patterns': [(2, 2, 'and'), (3, 0, 'the black')],\n",
       "  'potential-alignments-by-A': [],\n",
       "  'potential-alignments-by-B': []},\n",
       " 11: {'id': 11,\n",
       "  'type': 'closest-in-one',\n",
       "  'current-location-in-A': 4,\n",
       "  'current-location-in-B': 1,\n",
       "  'parent': 0,\n",
       "  'children': [12],\n",
       "  'aligned-patterns': [(3, 0, 'the black')],\n",
       "  'transposed-patterns': [(0, 3, 'the red'), (2, 2, 'and')],\n",
       "  'potential-alignments-by-A': [(5, 5, ('cat',))],\n",
       "  'potential-alignments-by-B': [(5, 5, ('cat',))]},\n",
       " 12: {'id': 12,\n",
       "  'type': 'closest-in-both',\n",
       "  'current-location-in-A': 5,\n",
       "  'current-location-in-B': 5,\n",
       "  'parent': 11,\n",
       "  'children': [],\n",
       "  'aligned-patterns': [(3, 0, 'the black'), (5, 5, 'cat')],\n",
       "  'transposed-patterns': [(0, 3, 'the red'), (2, 2, 'and')],\n",
       "  'potential-alignments-by-A': [],\n",
       "  'potential-alignments-by-B': []},\n",
       " 13: {'id': 13,\n",
       "  'type': 'skip',\n",
       "  'current-location-in-A': 0,\n",
       "  'current-location-in-B': 0,\n",
       "  'parent': 0,\n",
       "  'children': [14, 16, 18],\n",
       "  'aligned-patterns': [],\n",
       "  'transposed-patterns': [(0, 0, 'the')],\n",
       "  'potential-alignments-by-A': [(1, 4, ('red',)),\n",
       "   (2, 2, ('and the', 'and')),\n",
       "   (3, 3, ('the',)),\n",
       "   (4, 1, ('black',)),\n",
       "   (5, 5, ('cat',))],\n",
       "  'potential-alignments-by-B': [(4, 1, ('black',)),\n",
       "   (2, 2, ('and the', 'and')),\n",
       "   (3, 3, ('the',)),\n",
       "   (1, 4, ('red',)),\n",
       "   (5, 5, ('cat',))]},\n",
       " 14: {'id': 14,\n",
       "  'type': 'closest-in-one',\n",
       "  'current-location-in-A': 1,\n",
       "  'current-location-in-B': 4,\n",
       "  'parent': 13,\n",
       "  'children': [15],\n",
       "  'aligned-patterns': [(1, 4, 'red')],\n",
       "  'transposed-patterns': [(0, 0, 'the'), (2, 2, 'and the'), (4, 1, 'black')],\n",
       "  'potential-alignments-by-A': [(5, 5, ('cat',))],\n",
       "  'potential-alignments-by-B': [(5, 5, ('cat',))]},\n",
       " 15: {'id': 15,\n",
       "  'type': 'closest-in-both',\n",
       "  'current-location-in-A': 5,\n",
       "  'current-location-in-B': 5,\n",
       "  'parent': 14,\n",
       "  'children': [],\n",
       "  'aligned-patterns': [(1, 4, 'red'), (5, 5, 'cat')],\n",
       "  'transposed-patterns': [(0, 0, 'the'), (2, 2, 'and the'), (4, 1, 'black')],\n",
       "  'potential-alignments-by-A': [],\n",
       "  'potential-alignments-by-B': []},\n",
       " 16: {'id': 16,\n",
       "  'type': 'closest-in-one',\n",
       "  'current-location-in-A': 4,\n",
       "  'current-location-in-B': 1,\n",
       "  'parent': 13,\n",
       "  'children': [17],\n",
       "  'aligned-patterns': [(4, 1, 'black')],\n",
       "  'transposed-patterns': [(0, 0, 'the'), (1, 4, 'red'), (2, 2, 'and the')],\n",
       "  'potential-alignments-by-A': [(5, 5, ('cat',))],\n",
       "  'potential-alignments-by-B': [(5, 5, ('cat',))]},\n",
       " 17: {'id': 17,\n",
       "  'type': 'closest-in-both',\n",
       "  'current-location-in-A': 5,\n",
       "  'current-location-in-B': 5,\n",
       "  'parent': 16,\n",
       "  'children': [],\n",
       "  'aligned-patterns': [(4, 1, 'black'), (5, 5, 'cat')],\n",
       "  'transposed-patterns': [(0, 0, 'the'), (1, 4, 'red'), (2, 2, 'and the')],\n",
       "  'potential-alignments-by-A': [],\n",
       "  'potential-alignments-by-B': []},\n",
       " 18: {'id': 18,\n",
       "  'type': 'skip',\n",
       "  'current-location-in-A': 1,\n",
       "  'current-location-in-B': 1,\n",
       "  'parent': 13,\n",
       "  'children': [19],\n",
       "  'aligned-patterns': [],\n",
       "  'transposed-patterns': [(0, 0, 'the'), (1, 4, 'red'), (4, 1, 'black')],\n",
       "  'potential-alignments-by-A': [(2, 2, ('and the', 'and')),\n",
       "   (3, 3, ('the',)),\n",
       "   (5, 5, ('cat',))],\n",
       "  'potential-alignments-by-B': [(2, 2, ('and the', 'and')),\n",
       "   (3, 3, ('the',)),\n",
       "   (5, 5, ('cat',))]},\n",
       " 19: {'id': 19,\n",
       "  'type': 'closest-in-both',\n",
       "  'current-location-in-A': 3,\n",
       "  'current-location-in-B': 3,\n",
       "  'parent': 18,\n",
       "  'children': [20],\n",
       "  'aligned-patterns': [(2, 2, 'and the')],\n",
       "  'transposed-patterns': [(0, 0, 'the'), (1, 4, 'red'), (4, 1, 'black')],\n",
       "  'potential-alignments-by-A': [(5, 5, ('cat',))],\n",
       "  'potential-alignments-by-B': [(5, 5, ('cat',))]},\n",
       " 20: {'id': 20,\n",
       "  'type': 'closest-in-both',\n",
       "  'current-location-in-A': 5,\n",
       "  'current-location-in-B': 5,\n",
       "  'parent': 19,\n",
       "  'children': [],\n",
       "  'aligned-patterns': [(2, 2, 'and the'), (5, 5, 'cat')],\n",
       "  'transposed-patterns': [(0, 0, 'the'), (1, 4, 'red'), (4, 1, 'black')],\n",
       "  'potential-alignments-by-A': [],\n",
       "  'potential-alignments-by-B': []}}"
      ]
     },
     "execution_count": 18,
     "metadata": {
     },
     "output_type": "execute_result"
    }
   ],
   "source": [
    "# Process the root node to start building the tree recursively\n",
    "\n",
    "# Update root node to add children (recursively, to bottom of tree)\n",
    "add_children(0) # function uses global \"decision_tree\" dictionary\n",
    "\n",
    "# take a look\n",
    "decision_tree"
   ]
  },
  {
   "cell_type": "code",
   "execution_count": 19,
   "metadata": {
    "collapsed": false
   },
   "outputs": [
   ],
   "source": [
    "# get ready to visualize the decision tree in SVG\n",
    "import graphviz\n",
    "from IPython.display import SVG"
   ]
  },
  {
   "cell_type": "markdown",
   "metadata": {
    "collapsed": false
   },
   "source": [
    "## Create graph of decision tree\n",
    "\n",
    "**Align** nodes are cyan; **transpose** nodes are pink\n"
   ]
  },
  {
   "cell_type": "code",
   "execution_count": 20,
   "metadata": {
    "collapsed": false,
    "scrolled": true
   },
   "outputs": [
    {
     "data": {
      "image/svg+xml": "<svg xmlns=\"http://www.w3.org/2000/svg\" xmlns:xlink=\"http://www.w3.org/1999/xlink\" width=\"840pt\" height=\"332pt\" viewBox=\"0.00 0.00 839.54 332.00\">\n<g id=\"graph0\" class=\"graph\" transform=\"scale(1 1) rotate(0) translate(4 328)\">\n<title>%3</title>\n<polygon fill=\"white\" stroke=\"transparent\" points=\"-4,4 -4,-328 835.54,-328 835.54,4 -4,4\"/>\n<!-- 1 -->\n<g id=\"node1\" class=\"node\">\n<title>1</title>\n<ellipse fill=\"cyan\" stroke=\"cyan\" cx=\"177.1\" cy=\"-234\" rx=\"34.39\" ry=\"18\"/>\n<text text-anchor=\"middle\" x=\"177.1\" y=\"-230.3\" font-family=\"Times,serif\" font-size=\"14.00\">1:the</text>\n</g>\n<!-- 2 -->\n<g id=\"node3\" class=\"node\">\n<title>2</title>\n<ellipse fill=\"pink\" stroke=\"pink\" cx=\"35.1\" cy=\"-162\" rx=\"35.19\" ry=\"18\"/>\n<text text-anchor=\"middle\" x=\"35.1\" y=\"-158.3\" font-family=\"Times,serif\" font-size=\"14.00\">2:red</text>\n</g>\n<!-- 1&#45;&gt;2 -->\n<g id=\"edge2\" class=\"edge\">\n<title>1-&gt;2</title>\n<path fill=\"none\" stroke=\"black\" d=\"M153.01,-221.13C129.89,-209.73 94.77,-192.42 68.87,-179.65\"/>\n<polygon fill=\"black\" stroke=\"black\" points=\"70.3,-176.45 59.78,-175.17 67.2,-182.73 70.3,-176.45\"/>\n</g>\n<!-- 4 -->\n<g id=\"node5\" class=\"node\">\n<title>4</title>\n<ellipse fill=\"pink\" stroke=\"pink\" cx=\"132.1\" cy=\"-162\" rx=\"44.39\" ry=\"18\"/>\n<text text-anchor=\"middle\" x=\"132.1\" y=\"-158.3\" font-family=\"Times,serif\" font-size=\"14.00\">4:black</text>\n</g>\n<!-- 1&#45;&gt;4 -->\n<g id=\"edge4\" class=\"edge\">\n<title>1-&gt;4</title>\n<path fill=\"none\" stroke=\"black\" d=\"M166.66,-216.76C161.23,-208.32 154.47,-197.8 148.37,-188.31\"/>\n<polygon fill=\"black\" stroke=\"black\" points=\"151.14,-186.15 142.79,-179.63 145.25,-189.94 151.14,-186.15\"/>\n</g>\n<!-- 6 -->\n<g id=\"node7\" class=\"node\">\n<title>6</title>\n<ellipse fill=\"white\" stroke=\"white\" cx=\"233.1\" cy=\"-162\" rx=\"38.19\" ry=\"18\"/>\n<text text-anchor=\"middle\" x=\"233.1\" y=\"-158.3\" font-family=\"Times,serif\" font-size=\"14.00\">6:skip</text>\n</g>\n<!-- 1&#45;&gt;6 -->\n<g id=\"edge6\" class=\"edge\">\n<title>1-&gt;6</title>\n<path fill=\"none\" stroke=\"black\" d=\"M189.8,-217.12C196.86,-208.29 205.79,-197.13 213.71,-187.24\"/>\n<polygon fill=\"black\" stroke=\"black\" points=\"216.54,-189.3 220.05,-179.31 211.07,-184.93 216.54,-189.3\"/>\n</g>\n<!-- 0 -->\n<g id=\"node2\" class=\"node\">\n<title>0</title>\n<ellipse fill=\"none\" stroke=\"black\" cx=\"387.1\" cy=\"-306\" rx=\"27\" ry=\"18\"/>\n<text text-anchor=\"middle\" x=\"387.1\" y=\"-302.3\" font-family=\"Times,serif\" font-size=\"14.00\">0</text>\n</g>\n<!-- 0&#45;&gt;1 -->\n<g id=\"edge1\" class=\"edge\">\n<title>0-&gt;1</title>\n<path fill=\"none\" stroke=\"black\" d=\"M363.42,-297.11C327.29,-285.06 258.08,-261.99 214.94,-247.61\"/>\n<polygon fill=\"black\" stroke=\"black\" points=\"215.95,-244.26 205.36,-244.42 213.74,-250.9 215.95,-244.26\"/>\n</g>\n<!-- 9 -->\n<g id=\"node10\" class=\"node\">\n<title>9</title>\n<ellipse fill=\"pink\" stroke=\"pink\" cx=\"318.1\" cy=\"-234\" rx=\"53.09\" ry=\"18\"/>\n<text text-anchor=\"middle\" x=\"318.1\" y=\"-230.3\" font-family=\"Times,serif\" font-size=\"14.00\">9:the red</text>\n</g>\n<!-- 0&#45;&gt;9 -->\n<g id=\"edge9\" class=\"edge\">\n<title>0-&gt;9</title>\n<path fill=\"none\" stroke=\"black\" d=\"M372.8,-290.5C363.72,-281.28 351.75,-269.14 341.32,-258.56\"/>\n<polygon fill=\"black\" stroke=\"black\" points=\"343.58,-255.86 334.06,-251.2 338.59,-260.78 343.58,-255.86\"/>\n</g>\n<!-- 11 -->\n<g id=\"node12\" class=\"node\">\n<title>11</title>\n<ellipse fill=\"pink\" stroke=\"pink\" cx=\"457.1\" cy=\"-234\" rx=\"67.69\" ry=\"18\"/>\n<text text-anchor=\"middle\" x=\"457.1\" y=\"-230.3\" font-family=\"Times,serif\" font-size=\"14.00\">11:the black</text>\n</g>\n<!-- 0&#45;&gt;11 -->\n<g id=\"edge11\" class=\"edge\">\n<title>0-&gt;11</title>\n<path fill=\"none\" stroke=\"black\" d=\"M401.6,-290.5C410.69,-281.41 422.62,-269.48 433.09,-259\"/>\n<polygon fill=\"black\" stroke=\"black\" points=\"435.8,-261.24 440.4,-251.7 430.85,-256.29 435.8,-261.24\"/>\n</g>\n<!-- 13 -->\n<g id=\"node14\" class=\"node\">\n<title>13</title>\n<ellipse fill=\"white\" stroke=\"white\" cx=\"626.1\" cy=\"-234\" rx=\"44.39\" ry=\"18\"/>\n<text text-anchor=\"middle\" x=\"626.1\" y=\"-230.3\" font-family=\"Times,serif\" font-size=\"14.00\">13:skip</text>\n</g>\n<!-- 0&#45;&gt;13 -->\n<g id=\"edge13\" class=\"edge\">\n<title>0-&gt;13</title>\n<path fill=\"none\" stroke=\"black\" d=\"M411.33,-297.9C451.16,-286.24 531.06,-262.84 581.38,-248.1\"/>\n<polygon fill=\"black\" stroke=\"black\" points=\"582.41,-251.44 591.03,-245.27 580.45,-244.72 582.41,-251.44\"/>\n</g>\n<!-- 3 -->\n<g id=\"node4\" class=\"node\">\n<title>3</title>\n<ellipse fill=\"cyan\" stroke=\"cyan\" cx=\"35.1\" cy=\"-90\" rx=\"33.6\" ry=\"18\"/>\n<text text-anchor=\"middle\" x=\"35.1\" y=\"-86.3\" font-family=\"Times,serif\" font-size=\"14.00\">3:cat</text>\n</g>\n<!-- 2&#45;&gt;3 -->\n<g id=\"edge3\" class=\"edge\">\n<title>2-&gt;3</title>\n<path fill=\"none\" stroke=\"black\" d=\"M35.1,-143.7C35.1,-135.98 35.1,-126.71 35.1,-118.11\"/>\n<polygon fill=\"black\" stroke=\"black\" points=\"38.6,-118.1 35.1,-108.1 31.6,-118.1 38.6,-118.1\"/>\n</g>\n<!-- 5 -->\n<g id=\"node6\" class=\"node\">\n<title>5</title>\n<ellipse fill=\"cyan\" stroke=\"cyan\" cx=\"130.1\" cy=\"-90\" rx=\"33.6\" ry=\"18\"/>\n<text text-anchor=\"middle\" x=\"130.1\" y=\"-86.3\" font-family=\"Times,serif\" font-size=\"14.00\">5:cat</text>\n</g>\n<!-- 4&#45;&gt;5 -->\n<g id=\"edge5\" class=\"edge\">\n<title>4-&gt;5</title>\n<path fill=\"none\" stroke=\"black\" d=\"M131.6,-143.7C131.38,-135.98 131.12,-126.71 130.87,-118.11\"/>\n<polygon fill=\"black\" stroke=\"black\" points=\"134.37,-118 130.59,-108.1 127.37,-118.2 134.37,-118\"/>\n</g>\n<!-- 7 -->\n<g id=\"node8\" class=\"node\">\n<title>7</title>\n<ellipse fill=\"cyan\" stroke=\"cyan\" cx=\"236.1\" cy=\"-90\" rx=\"54.69\" ry=\"18\"/>\n<text text-anchor=\"middle\" x=\"236.1\" y=\"-86.3\" font-family=\"Times,serif\" font-size=\"14.00\">7:and the</text>\n</g>\n<!-- 6&#45;&gt;7 -->\n<g id=\"edge7\" class=\"edge\">\n<title>6-&gt;7</title>\n<path fill=\"none\" stroke=\"black\" d=\"M233.84,-143.7C234.17,-135.98 234.57,-126.71 234.93,-118.11\"/>\n<polygon fill=\"black\" stroke=\"black\" points=\"238.43,-118.25 235.36,-108.1 231.44,-117.95 238.43,-118.25\"/>\n</g>\n<!-- 8 -->\n<g id=\"node9\" class=\"node\">\n<title>8</title>\n<ellipse fill=\"cyan\" stroke=\"cyan\" cx=\"236.1\" cy=\"-18\" rx=\"33.6\" ry=\"18\"/>\n<text text-anchor=\"middle\" x=\"236.1\" y=\"-14.3\" font-family=\"Times,serif\" font-size=\"14.00\">8:cat</text>\n</g>\n<!-- 7&#45;&gt;8 -->\n<g id=\"edge8\" class=\"edge\">\n<title>7-&gt;8</title>\n<path fill=\"none\" stroke=\"black\" d=\"M236.1,-71.7C236.1,-63.98 236.1,-54.71 236.1,-46.11\"/>\n<polygon fill=\"black\" stroke=\"black\" points=\"239.6,-46.1 236.1,-36.1 232.6,-46.1 239.6,-46.1\"/>\n</g>\n<!-- 10 -->\n<g id=\"node11\" class=\"node\">\n<title>10</title>\n<ellipse fill=\"cyan\" stroke=\"cyan\" cx=\"329.1\" cy=\"-162\" rx=\"39.79\" ry=\"18\"/>\n<text text-anchor=\"middle\" x=\"329.1\" y=\"-158.3\" font-family=\"Times,serif\" font-size=\"14.00\">10:cat</text>\n</g>\n<!-- 9&#45;&gt;10 -->\n<g id=\"edge10\" class=\"edge\">\n<title>9-&gt;10</title>\n<path fill=\"none\" stroke=\"black\" d=\"M320.82,-215.7C322.03,-207.98 323.48,-198.71 324.84,-190.11\"/>\n<polygon fill=\"black\" stroke=\"black\" points=\"328.31,-190.53 326.41,-180.1 321.4,-189.44 328.31,-190.53\"/>\n</g>\n<!-- 12 -->\n<g id=\"node13\" class=\"node\">\n<title>12</title>\n<ellipse fill=\"cyan\" stroke=\"cyan\" cx=\"447.1\" cy=\"-162\" rx=\"39.79\" ry=\"18\"/>\n<text text-anchor=\"middle\" x=\"447.1\" y=\"-158.3\" font-family=\"Times,serif\" font-size=\"14.00\">12:cat</text>\n</g>\n<!-- 11&#45;&gt;12 -->\n<g id=\"edge12\" class=\"edge\">\n<title>11-&gt;12</title>\n<path fill=\"none\" stroke=\"black\" d=\"M454.62,-215.7C453.52,-207.98 452.2,-198.71 450.97,-190.11\"/>\n<polygon fill=\"black\" stroke=\"black\" points=\"454.42,-189.51 449.54,-180.1 447.49,-190.5 454.42,-189.51\"/>\n</g>\n<!-- 14 -->\n<g id=\"node15\" class=\"node\">\n<title>14</title>\n<ellipse fill=\"pink\" stroke=\"pink\" cx=\"546.1\" cy=\"-162\" rx=\"40.89\" ry=\"18\"/>\n<text text-anchor=\"middle\" x=\"546.1\" y=\"-158.3\" font-family=\"Times,serif\" font-size=\"14.00\">14:red</text>\n</g>\n<!-- 13&#45;&gt;14 -->\n<g id=\"edge14\" class=\"edge\">\n<title>13-&gt;14</title>\n<path fill=\"none\" stroke=\"black\" d=\"M608.34,-217.46C597.47,-207.95 583.38,-195.62 571.35,-185.1\"/>\n<polygon fill=\"black\" stroke=\"black\" points=\"573.63,-182.44 563.8,-178.49 569.02,-187.71 573.63,-182.44\"/>\n</g>\n<!-- 16 -->\n<g id=\"node17\" class=\"node\">\n<title>16</title>\n<ellipse fill=\"pink\" stroke=\"pink\" cx=\"655.1\" cy=\"-162\" rx=\"50.09\" ry=\"18\"/>\n<text text-anchor=\"middle\" x=\"655.1\" y=\"-158.3\" font-family=\"Times,serif\" font-size=\"14.00\">16:black</text>\n</g>\n<!-- 13&#45;&gt;16 -->\n<g id=\"edge16\" class=\"edge\">\n<title>13-&gt;16</title>\n<path fill=\"none\" stroke=\"black\" d=\"M633.12,-216.05C636.38,-208.18 640.34,-198.62 644,-189.79\"/>\n<polygon fill=\"black\" stroke=\"black\" points=\"647.35,-190.85 647.94,-180.28 640.88,-188.17 647.35,-190.85\"/>\n</g>\n<!-- 18 -->\n<g id=\"node19\" class=\"node\">\n<title>18</title>\n<ellipse fill=\"white\" stroke=\"white\" cx=\"770.1\" cy=\"-162\" rx=\"44.39\" ry=\"18\"/>\n<text text-anchor=\"middle\" x=\"770.1\" y=\"-158.3\" font-family=\"Times,serif\" font-size=\"14.00\">18:skip</text>\n</g>\n<!-- 13&#45;&gt;18 -->\n<g id=\"edge18\" class=\"edge\">\n<title>13-&gt;18</title>\n<path fill=\"none\" stroke=\"black\" d=\"M653.52,-219.67C676.24,-208.62 708.73,-192.83 733.63,-180.72\"/>\n<polygon fill=\"black\" stroke=\"black\" points=\"735.31,-183.8 742.77,-176.28 732.25,-177.51 735.31,-183.8\"/>\n</g>\n<!-- 15 -->\n<g id=\"node16\" class=\"node\">\n<title>15</title>\n<ellipse fill=\"cyan\" stroke=\"cyan\" cx=\"546.1\" cy=\"-90\" rx=\"39.79\" ry=\"18\"/>\n<text text-anchor=\"middle\" x=\"546.1\" y=\"-86.3\" font-family=\"Times,serif\" font-size=\"14.00\">15:cat</text>\n</g>\n<!-- 14&#45;&gt;15 -->\n<g id=\"edge15\" class=\"edge\">\n<title>14-&gt;15</title>\n<path fill=\"none\" stroke=\"black\" d=\"M546.1,-143.7C546.1,-135.98 546.1,-126.71 546.1,-118.11\"/>\n<polygon fill=\"black\" stroke=\"black\" points=\"549.6,-118.1 546.1,-108.1 542.6,-118.1 549.6,-118.1\"/>\n</g>\n<!-- 17 -->\n<g id=\"node18\" class=\"node\">\n<title>17</title>\n<ellipse fill=\"cyan\" stroke=\"cyan\" cx=\"653.1\" cy=\"-90\" rx=\"39.79\" ry=\"18\"/>\n<text text-anchor=\"middle\" x=\"653.1\" y=\"-86.3\" font-family=\"Times,serif\" font-size=\"14.00\">17:cat</text>\n</g>\n<!-- 16&#45;&gt;17 -->\n<g id=\"edge17\" class=\"edge\">\n<title>16-&gt;17</title>\n<path fill=\"none\" stroke=\"black\" d=\"M654.6,-143.7C654.38,-135.98 654.12,-126.71 653.87,-118.11\"/>\n<polygon fill=\"black\" stroke=\"black\" points=\"657.37,-118 653.59,-108.1 650.37,-118.2 657.37,-118\"/>\n</g>\n<!-- 19 -->\n<g id=\"node20\" class=\"node\">\n<title>19</title>\n<ellipse fill=\"cyan\" stroke=\"cyan\" cx=\"771.1\" cy=\"-90\" rx=\"60.39\" ry=\"18\"/>\n<text text-anchor=\"middle\" x=\"771.1\" y=\"-86.3\" font-family=\"Times,serif\" font-size=\"14.00\">19:and the</text>\n</g>\n<!-- 18&#45;&gt;19 -->\n<g id=\"edge19\" class=\"edge\">\n<title>18-&gt;19</title>\n<path fill=\"none\" stroke=\"black\" d=\"M770.34,-143.7C770.45,-135.98 770.59,-126.71 770.71,-118.11\"/>\n<polygon fill=\"black\" stroke=\"black\" points=\"774.21,-118.15 770.85,-108.1 767.21,-118.05 774.21,-118.15\"/>\n</g>\n<!-- 20 -->\n<g id=\"node21\" class=\"node\">\n<title>20</title>\n<ellipse fill=\"cyan\" stroke=\"cyan\" cx=\"771.1\" cy=\"-18\" rx=\"39.79\" ry=\"18\"/>\n<text text-anchor=\"middle\" x=\"771.1\" y=\"-14.3\" font-family=\"Times,serif\" font-size=\"14.00\">20:cat</text>\n</g>\n<!-- 19&#45;&gt;20 -->\n<g id=\"edge20\" class=\"edge\">\n<title>19-&gt;20</title>\n<path fill=\"none\" stroke=\"black\" d=\"M771.1,-71.7C771.1,-63.98 771.1,-54.71 771.1,-46.11\"/>\n<polygon fill=\"black\" stroke=\"black\" points=\"774.6,-46.1 771.1,-36.1 767.6,-46.1 774.6,-46.1\"/>\n</g>\n</g>\n</svg>",
      "text/plain": [
       "<IPython.core.display.SVG object>"
      ]
     },
     "execution_count": 20,
     "metadata": {
     },
     "output_type": "execute_result"
    }
   ],
   "source": [
    "# Source: https://github.com/interedition/collatex/blob/master/collatex-pythonport/collatex/display_module.py\n",
    "# node id values must be strings for graphviz\n",
    "a = graphviz.Digraph(format=\"svg\")\n",
    "for key,value in decision_tree.items():\n",
    "    if value['id'] != 0:\n",
    "        node_id = str(value['id'])\n",
    "        if value['type'] == 'closest-in-one':\n",
    "            fill_color = 'pink'\n",
    "        elif value['type'] == 'closest-in-both':\n",
    "            fill_color = 'cyan'\n",
    "        else:\n",
    "            fill_color = 'white'\n",
    "        try:\n",
    "            if value['type'] == 'skip':\n",
    "                ngram_text = 'skip'\n",
    "            else:\n",
    "                ngram_text = value['aligned-patterns'][len(value['aligned-patterns']) - 1][2]\n",
    "        except:\n",
    "            ngram_text = 'oops'\n",
    "        a.node(node_id, label=node_id + ':' + ngram_text, style='filled', color=fill_color)\n",
    "        a.edge(str(value['parent']), str(value['id']))\n",
    "SVG(a.view())"
   ]
  },
  {
   "cell_type": "markdown",
   "metadata": {
    "collapsed": false
   },
   "source": [
    "## Output table of paths, sorted from best to worst\n",
    "\n",
    "Sort by, in order:\n",
    "\n",
    "1. Aligned token count (high is better)\n",
    "1. Path length (node count; low is better)\n",
    "1. Transposition count (pattern count; low is better)"
   ]
  },
  {
   "cell_type": "code",
   "execution_count": 21,
   "metadata": {
    "collapsed": false
   },
   "outputs": [
    {
     "data": {
      "text/html": [
       "<table border><tr style=\"text-align:center;\"><th>Leaf<br/>id</th><th>Aligned<br/>tokens</th><th>Path<br/>length</th><th>Transposed<br/>patterns</th></tr><tr style=\"text-align:right;\"><td>8</td><td>4</td><td>3</td><td>2</td></tr><tr style=\"text-align:right;\"><td>10</td><td>3</td><td>2</td><td>2</td></tr><tr style=\"text-align:right;\"><td>12</td><td>3</td><td>2</td><td>2</td></tr><tr style=\"text-align:right;\"><td>20</td><td>3</td><td>2</td><td>3</td></tr><tr style=\"text-align:right;\"><td>3</td><td>3</td><td>3</td><td>2</td></tr><tr style=\"text-align:right;\"><td>5</td><td>3</td><td>3</td><td>2</td></tr><tr style=\"text-align:right;\"><td>15</td><td>2</td><td>2</td><td>3</td></tr><tr style=\"text-align:right;\"><td>17</td><td>2</td><td>2</td><td>3</td></tr></table>"
      ],
      "text/plain": [
       "<IPython.core.display.HTML object>"
      ]
     },
     "execution_count": 21,
     "metadata": {
     },
     "output_type": "execute_result"
    }
   ],
   "source": [
    "from IPython.display import HTML\n",
    "evaluation_report = ['<table border><tr style=\"text-align:center;\"><th>Leaf<br/>id</th><th>Aligned<br/>tokens</th><th>Path<br/>length</th><th>Transposed<br/>patterns</th></tr>']\n",
    "evaluation_data = []\n",
    "for key, value in decision_tree.items():\n",
    "    if not(value['children']): # it's a leaf node\n",
    "        path_length = len(value['aligned-patterns'])\n",
    "        token_count = 0 # counts tokens, not ngrams (nodes)\n",
    "        transposition_count = 0 # counts nodes (not tokens)\n",
    "        for t in value['aligned-patterns']:\n",
    "            token_count += ngram_length[t[2]]\n",
    "        for t in value['transposed-patterns']:\n",
    "            transposition_count += 1\n",
    "        evaluation_data.append((value['id'], token_count, path_length, transposition_count))\n",
    "evaluation_data.sort(key = lambda x : (-x[1], x[2], x[3], x[0]))\n",
    "for leaf in (evaluation_data):\n",
    "    evaluation_report.append('<tr style=\"text-align:right;\"><td>' + str(leaf[0]) + '</td><td>' + str(leaf[1]) + '</td><td>' + str(leaf[2]) + '</td><td>' + str(leaf[3]) + '</td></tr>')\n",
    "evaluation_report.append('</table>')\n",
    "HTML(''.join(evaluation_report))"
   ]
  },
  {
   "cell_type": "code",
   "execution_count": 0,
   "metadata": {
    "collapsed": false
   },
   "outputs": [
   ],
   "source": [
   ]
  }
 ],
 "metadata": {
  "kernelspec": {
   "display_name": "Python 3 (system-wide)",
   "language": "python",
   "metadata": {
    "cocalc": {
     "description": "Python 3 programming language",
     "priority": 100,
     "url": "https://www.python.org/"
    }
   },
   "name": "python3",
   "resource_dir": "/ext/jupyter/kernels/python3"
  },
  "language_info": {
   "codemirror_mode": {
    "name": "ipython",
    "version": 3
   },
   "file_extension": ".py",
   "mimetype": "text/x-python",
   "name": "python",
   "nbconvert_exporter": "python",
   "pygments_lexer": "ipython3",
   "version": "3.8.5"
  }
 },
 "nbformat": 4,
 "nbformat_minor": 4
}