{
 "cells": [
  {
   "cell_type": "markdown",
   "metadata": {
    "collapsed": false
   },
   "source": [
    "# Visualization code below, assumes vg (variant graph) skiplist exists"
   ]
  },
  {
   "cell_type": "code",
   "execution_count": 1,
   "metadata": {
    "collapsed": false
   },
   "outputs": [
    {
     "ename": "NameError",
     "evalue": "name 'dataclass' is not defined",
     "output_type": "error",
     "traceback": [
      "\u001b[0;31m---------------------------------------------------------------------------\u001b[0m",
      "\u001b[0;31mNameError\u001b[0m                                 Traceback (most recent call last)",
      "\u001b[0;32m<ipython-input-1-e838c5cc2794>\u001b[0m in \u001b[0;36m<module>\u001b[0;34m\u001b[0m\n\u001b[1;32m      2\u001b[0m \u001b[0;31m# Input parameters are in camelCase because Python doesn't allow hyphens in variable names\u001b[0m\u001b[0;34m\u001b[0m\u001b[0;34m\u001b[0m\u001b[0;34m\u001b[0m\u001b[0m\n\u001b[1;32m      3\u001b[0m \u001b[0;34m\u001b[0m\u001b[0m\n\u001b[0;32m----> 4\u001b[0;31m \u001b[0;34m@\u001b[0m\u001b[0mdataclass\u001b[0m\u001b[0;34m\u001b[0m\u001b[0;34m\u001b[0m\u001b[0m\n\u001b[0m\u001b[1;32m      5\u001b[0m \u001b[0;32mclass\u001b[0m \u001b[0mSVGRect\u001b[0m\u001b[0;34m:\u001b[0m\u001b[0;34m\u001b[0m\u001b[0;34m\u001b[0m\u001b[0m\n\u001b[1;32m      6\u001b[0m     \u001b[0mx\u001b[0m\u001b[0;34m:\u001b[0m \u001b[0mint\u001b[0m\u001b[0;34m\u001b[0m\u001b[0;34m\u001b[0m\u001b[0m\n",
      "\u001b[0;31mNameError\u001b[0m: name 'dataclass' is not defined"
     ]
    }
   ],
   "source": [
    "# Dataclasses, variables, and functions for SVG visualization of skiplist\n",
    "# Input parameters are in camelCase because Python doesn't allow hyphens in variable names\n",
    "\n",
    "@dataclass\n",
    "class SVGRect:\n",
    "    x: int\n",
    "    y: int\n",
    "    height: int\n",
    "    width: int\n",
    "    stroke: str\n",
    "    strokeWidth: int\n",
    "    fill: str\n",
    "    def __str__(self):\n",
    "        return f'<rect x=\"{self.x}\" y=\"{self.y}\" height=\"{self.height}\" width=\"{self.width}\" stroke=\"{self.stroke}\" stroke-width=\"{self.strokeWidth}\" fill=\"{self.fill}\"/>'\n",
    "\n",
    "@dataclass\n",
    "class SVGCircle:\n",
    "    cx: int\n",
    "    cy: int\n",
    "    r: int\n",
    "    fill: str\n",
    "    def __str__(self):\n",
    "        return f'<circle cx=\"{self.cx}\" cy=\"{self.cy}\" r=\"{self.r}\" fill=\"{self.fill}\"/>'\n",
    "\n",
    "@dataclass\n",
    "class SVGText:\n",
    "    x: int\n",
    "    y: int\n",
    "    dominantBaseline: str\n",
    "    textAnchor: str\n",
    "    fill: str\n",
    "    fontSize: str\n",
    "    content: str\n",
    "    dy: int = None\n",
    "    def __str__(self):\n",
    "        dyRep = f'dy=\"{self.dy}\"' if self.dy else ''\n",
    "        return f'<text x=\"{self.x}\" y=\"{self.y}\" {dyRep} dominant-baseline=\"{self.dominantBaseline}\" text-anchor=\"{self.textAnchor}\" fill=\"{self.fill}\" font-size=\"{self.fontSize}\">{self.content}</text>'\n",
    "\n",
    "@dataclass\n",
    "class SVGLine:\n",
    "    x1: int\n",
    "    y1: int\n",
    "    x2: int\n",
    "    y2: int\n",
    "    stroke: str\n",
    "    strokeWidth: int\n",
    "    markerEnd: str\n",
    "    def __str__(self):\n",
    "        return f'<line x1=\"{self.x1}\" y1=\"{self.y1}\" x2=\"{self.x2}\" y2=\"{self.y2}\" stroke=\"{self.stroke}\" stroke-width=\"{self.strokeWidth}\" marker-end=\"{self.markerEnd}\"/>'\n",
    "\n",
    "def SVGStartTag(x:int, y:int, width:int, height:int) -> str:\n",
    "    return f'<svg xmlns=\"http://www.w3.org/2000/svg\" viewBox=\"{x} {y} {width} {height}\" height=\"{height}\" width=\"{width}\">'\n",
    "\n",
    "defs = '''\n",
    "<defs>\n",
    "  <marker id=\"arrowend\"\n",
    "          viewBox=\"-30 -8 30 16\"\n",
    "          markerWidth=\"30\"\n",
    "          markerHeight=\"8\">\n",
    "     <path d=\"M -30 0  L -30 8  L 0 0  L -30 -8  Z\" fill=\"black\"/>\n",
    " </marker>\n",
    "</defs>\n",
    "'''"
   ]
  },
  {
   "cell_type": "code",
   "execution_count": 2,
   "metadata": {
    "collapsed": false
   },
   "outputs": [
    {
     "ename": "NameError",
     "evalue": "name 'dumpNodes' is not defined",
     "output_type": "error",
     "traceback": [
      "\u001b[0;31m---------------------------------------------------------------------------\u001b[0m",
      "\u001b[0;31mNameError\u001b[0m                                 Traceback (most recent call last)",
      "\u001b[0;32m<ipython-input-2-31044a73a569>\u001b[0m in \u001b[0;36m<module>\u001b[0;34m\u001b[0m\n\u001b[1;32m      1\u001b[0m \u001b[0;31m# SVG constants\u001b[0m\u001b[0;34m\u001b[0m\u001b[0;34m\u001b[0m\u001b[0;34m\u001b[0m\u001b[0m\n\u001b[0;32m----> 2\u001b[0;31m \u001b[0mSkiplistNodes\u001b[0m \u001b[0;34m=\u001b[0m \u001b[0mdumpNodes\u001b[0m\u001b[0;34m(\u001b[0m\u001b[0mvg\u001b[0m\u001b[0;34m)\u001b[0m \u001b[0;31m# node 0 is head, data begins at node 1\u001b[0m\u001b[0;34m\u001b[0m\u001b[0;34m\u001b[0m\u001b[0m\n\u001b[0m\u001b[1;32m      3\u001b[0m \u001b[0mboxSize\u001b[0m \u001b[0;34m=\u001b[0m \u001b[0;36m100\u001b[0m\u001b[0;34m\u001b[0m\u001b[0;34m\u001b[0m\u001b[0m\n\u001b[1;32m      4\u001b[0m \u001b[0mboxSpacing\u001b[0m \u001b[0;34m=\u001b[0m \u001b[0mboxSize\u001b[0m \u001b[0;34m*\u001b[0m \u001b[0;36m2\u001b[0m\u001b[0;34m\u001b[0m\u001b[0;34m\u001b[0m\u001b[0m\n\u001b[1;32m      5\u001b[0m \u001b[0mboxCenterOffset\u001b[0m \u001b[0;34m=\u001b[0m \u001b[0mboxSize\u001b[0m \u001b[0;34m/\u001b[0m \u001b[0;36m2\u001b[0m\u001b[0;34m\u001b[0m\u001b[0;34m\u001b[0m\u001b[0m\n",
      "\u001b[0;31mNameError\u001b[0m: name 'dumpNodes' is not defined"
     ]
    }
   ],
   "source": [
    "# SVG constants\n",
    "SkiplistNodes = dumpNodes(vg) # node 0 is head, data begins at node 1\n",
    "boxSize = 100\n",
    "boxSpacing = boxSize * 2\n",
    "boxCenterOffset = boxSize / 2\n",
    "textShift = 3 # @dy value to center text vertically in rectangle\n",
    "textSize = '400%'\n",
    "dataNodes = [x for x in SkiplistNodes if not x.name]\n",
    "maxLevels = max(map(lambda x: x.level, dataNodes))\n",
    "nodeCount = len(SkiplistNodes)\n",
    "dataNodeCount = len(dataNodes)\n",
    "circleRadius = boxSize * .1\n",
    "nilColor = '#E8E8E8'\n",
    "\n",
    "# test constants\n",
    "\n",
    "from IPython.core.interactiveshell import InteractiveShell\n",
    "InteractiveShell.ast_node_interactivity = \"all\"\n",
    "\n",
    "# SkiplistNodes\n",
    "# boxSize\n",
    "# boxSpacing\n",
    "# boxCenterOffset\n",
    "# textShift\n",
    "# textSize\n",
    "# dataNodes\n",
    "# maxLevels\n",
    "# nodeCount\n",
    "# dataNodeCount\n",
    "# circleRadius\n",
    "# nilColor"
   ]
  },
  {
   "cell_type": "code",
   "execution_count": 3,
   "metadata": {
    "collapsed": false
   },
   "outputs": [
    {
     "ename": "NameError",
     "evalue": "name 'SkiplistNode' is not defined",
     "output_type": "error",
     "traceback": [
      "\u001b[0;31m---------------------------------------------------------------------------\u001b[0m",
      "\u001b[0;31mNameError\u001b[0m                                 Traceback (most recent call last)",
      "\u001b[0;32m<ipython-input-3-488ae2091a91>\u001b[0m in \u001b[0;36m<module>\u001b[0;34m\u001b[0m\n\u001b[1;32m      1\u001b[0m \u001b[0;32mfrom\u001b[0m \u001b[0mtyping\u001b[0m \u001b[0;32mimport\u001b[0m \u001b[0mList\u001b[0m\u001b[0;34m\u001b[0m\u001b[0;34m\u001b[0m\u001b[0m\n\u001b[0;32m----> 2\u001b[0;31m \u001b[0;32mdef\u001b[0m \u001b[0mcomputeOffsetsOfNodesAtLevel\u001b[0m\u001b[0;34m(\u001b[0m\u001b[0mnodes\u001b[0m\u001b[0;34m:\u001b[0m\u001b[0mList\u001b[0m\u001b[0;34m[\u001b[0m\u001b[0mSkiplistNode\u001b[0m\u001b[0;34m]\u001b[0m\u001b[0;34m,\u001b[0m \u001b[0mlevel\u001b[0m\u001b[0;34m:\u001b[0m\u001b[0mint\u001b[0m\u001b[0;34m)\u001b[0m \u001b[0;34m->\u001b[0m \u001b[0mList\u001b[0m\u001b[0;34m:\u001b[0m\u001b[0;34m\u001b[0m\u001b[0;34m\u001b[0m\u001b[0m\n\u001b[0m\u001b[1;32m      3\u001b[0m     '''Filter to keep all nodes at specified level or higher\n\u001b[1;32m      4\u001b[0m \u001b[0;34m\u001b[0m\u001b[0m\n\u001b[1;32m      5\u001b[0m     \u001b[0mIncorporate\u001b[0m \u001b[0mhead\u001b[0m \u001b[0;32mand\u001b[0m \u001b[0mtail\u001b[0m\u001b[0;34m\u001b[0m\u001b[0;34m\u001b[0m\u001b[0m\n",
      "\u001b[0;31mNameError\u001b[0m: name 'SkiplistNode' is not defined"
     ]
    }
   ],
   "source": [
    "from typing import List\n",
    "def computeOffsetsOfNodesAtLevel(nodes:List[SkiplistNode], level:int) -> List:\n",
    "    '''Filter to keep all nodes at specified level or higher\n",
    "\n",
    "    Incorporate head and tail\n",
    "    '''\n",
    "    offsets = [0]\n",
    "    for offset, node in enumerate(nodes):\n",
    "        if node.level >= level and not node.name:\n",
    "            offsets.append(offset)\n",
    "    offsets.append(nodeCount - 1) # offset of tail\n",
    "    return offsets"
   ]
  },
  {
   "cell_type": "code",
   "execution_count": 4,
   "metadata": {
    "collapsed": false
   },
   "outputs": [
    {
     "ename": "NameError",
     "evalue": "name 'SVGStartTag' is not defined",
     "output_type": "error",
     "traceback": [
      "\u001b[0;31m---------------------------------------------------------------------------\u001b[0m",
      "\u001b[0;31mNameError\u001b[0m                                 Traceback (most recent call last)",
      "\u001b[0;32m<ipython-input-4-415f4e39c860>\u001b[0m in \u001b[0;36m<module>\u001b[0;34m\u001b[0m\n\u001b[1;32m      2\u001b[0m \u001b[0mSVGElements\u001b[0m \u001b[0;34m=\u001b[0m \u001b[0;34m[\u001b[0m\u001b[0;34m]\u001b[0m\u001b[0;34m\u001b[0m\u001b[0;34m\u001b[0m\u001b[0m\n\u001b[1;32m      3\u001b[0m \u001b[0;31m# start tag\u001b[0m\u001b[0;34m\u001b[0m\u001b[0;34m\u001b[0m\u001b[0;34m\u001b[0m\u001b[0m\n\u001b[0;32m----> 4\u001b[0;31m SVGElements.append(SVGStartTag(x=-boxSpacing, y=-(maxLevels) * boxSize, width=boxSpacing *\n\u001b[0m\u001b[1;32m      5\u001b[0m                                (nodeCount + 5), height=(maxLevels + 2.5) * boxSize))\n\u001b[1;32m      6\u001b[0m \u001b[0;31m# arrowhead\u001b[0m\u001b[0;34m\u001b[0m\u001b[0;34m\u001b[0m\u001b[0;34m\u001b[0m\u001b[0m\n",
      "\u001b[0;31mNameError\u001b[0m: name 'SVGStartTag' is not defined"
     ]
    }
   ],
   "source": [
    "# construct SVG\n",
    "SVGElements = []\n",
    "# start tag\n",
    "SVGElements.append(SVGStartTag(x=-boxSpacing, y=-(maxLevels) * boxSize, width=boxSpacing *\n",
    "                               (nodeCount + 5), height=(maxLevels + 2.5) * boxSize))\n",
    "# arrowhead\n",
    "SVGElements.append(defs)\n",
    "# nodes\n",
    "for offset, node in enumerate(SkiplistNodes):\n",
    "    if node.name == 'head':\n",
    "        for level in range(1, maxLevels + 1): # rectangles\n",
    "            SVGElements.append(SVGRect(x=offset * boxSpacing, y=-level * boxSize, width=boxSize,\n",
    "                                       height=boxSize, stroke='black', strokeWidth=2, fill='none'))\n",
    "            SVGElements.append(SVGCircle(cx=offset * boxSpacing + boxCenterOffset, cy=-level * boxSize + boxCenterOffset,\n",
    "                                         r=circleRadius, fill='black'))\n",
    "        SVGElements.append(SVGText(x=offset * boxSpacing + boxCenterOffset, y=150, dominantBaseline='middle',\n",
    "                                   textAnchor='middle', fill='gray', fontSize=textSize, content='[head]'))\n",
    "    elif node.name == 'tail':\n",
    "        for level in range(1, maxLevels + 1): # rectangles\n",
    "            SVGElements.append(SVGRect(x=offset * boxSpacing, y=-level * boxSize, width=boxSize, \\\n",
    "                                       height=boxSize, stroke='black', strokeWidth=2, fill=nilColor))\n",
    "            SVGElements.append(SVGText(x=offset * boxSpacing + boxCenterOffset, y=-(level * boxSize) + boxCenterOffset, \\\n",
    "                                       dominantBaseline='middle', textAnchor='middle', fill='black', fontSize='300%', content='NIL'))\n",
    "        SVGElements.append(SVGText(x=offset * boxSpacing + boxCenterOffset, y=150,  dominantBaseline='middle', \\\n",
    "                                   textAnchor='middle', fill='gray', fontSize=textSize, content='[tail]'))\n",
    "    else: #regular node\n",
    "        # create numbered yellow box for node, with value underneath\n",
    "        SVGElements.append(SVGRect(x=offset * boxSpacing, y=0, height=boxSize, width=boxSize, stroke='black',\n",
    "                                   strokeWidth=2, fill='yellow'))\n",
    "        SVGElements.append(SVGText(x=offset * boxSpacing + boxCenterOffset, y=boxCenterOffset, dy=textShift,\n",
    "                                   dominantBaseline='middle', textAnchor='middle', fill='black', \\\n",
    "                                   fontSize=textSize, content=offset))\n",
    "        string_value = token_array[node.value[0]] if isinstance(node.value[0], int) else node.value[0]\n",
    "        SVGElements.append(SVGText(x=offset * boxSpacing + boxCenterOffset, y=150, textAnchor='middle', \\\n",
    "                                  dominantBaseline='middle', fill='black', fontSize='300%', content=string_value))\n",
    "        # show sigla under value\n",
    "        sigla = [item.split(':')[0] for item in str(node.key).split('|')]\n",
    "        SVGElements.append(SVGText(x=offset * boxSpacing + boxCenterOffset, y=200, textAnchor='middle',\n",
    "            dominantBaseline='middle', fill='black', fontSize='150%', content=sigla))\n",
    "        # create dotted boxes for all levels\n",
    "        for level in range(1, node.level + 1):\n",
    "            SVGElements.append(SVGRect(x=offset * boxSpacing, y=-level * boxSize, height=boxSize, width=boxSize, \\\n",
    "                                       stroke='black', strokeWidth=2, fill='none'))\n",
    "            SVGElements.append(SVGCircle(cx=offset * boxSpacing + boxCenterOffset, cy=-level * boxSize + boxCenterOffset, \\\n",
    "                                         r=circleRadius, fill='black'))\n",
    "# draw arrows for levels\n",
    "for currentLevel in range(1, maxLevels + 1):\n",
    "    offsetsOfNodesToLink = computeOffsetsOfNodesAtLevel(SkiplistNodes, currentLevel)\n",
    "    for sourceOffset, targetOffset in zip(offsetsOfNodesToLink, offsetsOfNodesToLink[1:]):\n",
    "        height = -(currentLevel) * boxSize + boxCenterOffset\n",
    "        SVGElements.append(SVGLine(x1=sourceOffset * boxSpacing + boxCenterOffset, y1=height, \\\n",
    "                                   x2=targetOffset * boxSpacing, y2=height, \\\n",
    "                                   stroke='black', strokeWidth=2, markerEnd='url(#arrowend)'))\n",
    "SVGElements.append('</svg>')"
   ]
  },
  {
   "cell_type": "code",
   "execution_count": 5,
   "metadata": {
    "collapsed": false
   },
   "outputs": [
   ],
   "source": [
    "SVGstring = (\"\\n\".join([str(x) for x in SVGElements]))\n",
    "# SkiplistNodes\n",
    "# print(SVGstring)"
   ]
  },
  {
   "cell_type": "code",
   "execution_count": 6,
   "metadata": {
    "collapsed": false
   },
   "outputs": [
    {
     "ename": "ExpatError",
     "evalue": "no element found: line 1, column 0",
     "output_type": "error",
     "traceback": [
      "\u001b[0;31m---------------------------------------------------------------------------\u001b[0m",
      "\u001b[0;31mExpatError\u001b[0m                                Traceback (most recent call last)",
      "\u001b[0;32m<ipython-input-6-b605c4121816>\u001b[0m in \u001b[0;36m<module>\u001b[0;34m\u001b[0m\n\u001b[1;32m      1\u001b[0m \u001b[0;32mfrom\u001b[0m \u001b[0mIPython\u001b[0m\u001b[0;34m.\u001b[0m\u001b[0mdisplay\u001b[0m \u001b[0;32mimport\u001b[0m \u001b[0mSVG\u001b[0m\u001b[0;34m,\u001b[0m \u001b[0mdisplay\u001b[0m\u001b[0;34m\u001b[0m\u001b[0;34m\u001b[0m\u001b[0m\n\u001b[0;32m----> 2\u001b[0;31m \u001b[0mdisplay\u001b[0m\u001b[0;34m(\u001b[0m\u001b[0mSVG\u001b[0m\u001b[0;34m(\u001b[0m\u001b[0mSVGstring\u001b[0m\u001b[0;34m)\u001b[0m\u001b[0;34m)\u001b[0m\u001b[0;34m\u001b[0m\u001b[0;34m\u001b[0m\u001b[0m\n\u001b[0m",
      "\u001b[0;32m/usr/local/lib/python3.8/dist-packages/IPython/core/display.py\u001b[0m in \u001b[0;36m__init__\u001b[0;34m(self, data, url, filename, metadata)\u001b[0m\n\u001b[1;32m    616\u001b[0m                 \u001b[0mdata\u001b[0m \u001b[0;34m=\u001b[0m \u001b[0;32mNone\u001b[0m\u001b[0;34m\u001b[0m\u001b[0;34m\u001b[0m\u001b[0m\n\u001b[1;32m    617\u001b[0m \u001b[0;34m\u001b[0m\u001b[0m\n\u001b[0;32m--> 618\u001b[0;31m         \u001b[0mself\u001b[0m\u001b[0;34m.\u001b[0m\u001b[0mdata\u001b[0m \u001b[0;34m=\u001b[0m \u001b[0mdata\u001b[0m\u001b[0;34m\u001b[0m\u001b[0;34m\u001b[0m\u001b[0m\n\u001b[0m\u001b[1;32m    619\u001b[0m         \u001b[0mself\u001b[0m\u001b[0;34m.\u001b[0m\u001b[0murl\u001b[0m \u001b[0;34m=\u001b[0m \u001b[0murl\u001b[0m\u001b[0;34m\u001b[0m\u001b[0;34m\u001b[0m\u001b[0m\n\u001b[1;32m    620\u001b[0m         \u001b[0mself\u001b[0m\u001b[0;34m.\u001b[0m\u001b[0mfilename\u001b[0m \u001b[0;34m=\u001b[0m \u001b[0mfilename\u001b[0m\u001b[0;34m\u001b[0m\u001b[0;34m\u001b[0m\u001b[0m\n",
      "\u001b[0;32m/usr/local/lib/python3.8/dist-packages/IPython/core/display.py\u001b[0m in \u001b[0;36mdata\u001b[0;34m(self, svg)\u001b[0m\n\u001b[1;32m    754\u001b[0m         \u001b[0;31m# parse into dom object\u001b[0m\u001b[0;34m\u001b[0m\u001b[0;34m\u001b[0m\u001b[0;34m\u001b[0m\u001b[0m\n\u001b[1;32m    755\u001b[0m         \u001b[0;32mfrom\u001b[0m \u001b[0mxml\u001b[0m\u001b[0;34m.\u001b[0m\u001b[0mdom\u001b[0m \u001b[0;32mimport\u001b[0m \u001b[0mminidom\u001b[0m\u001b[0;34m\u001b[0m\u001b[0;34m\u001b[0m\u001b[0m\n\u001b[0;32m--> 756\u001b[0;31m         \u001b[0mx\u001b[0m \u001b[0;34m=\u001b[0m \u001b[0mminidom\u001b[0m\u001b[0;34m.\u001b[0m\u001b[0mparseString\u001b[0m\u001b[0;34m(\u001b[0m\u001b[0msvg\u001b[0m\u001b[0;34m)\u001b[0m\u001b[0;34m\u001b[0m\u001b[0;34m\u001b[0m\u001b[0m\n\u001b[0m\u001b[1;32m    757\u001b[0m         \u001b[0;31m# get svg tag (should be 1)\u001b[0m\u001b[0;34m\u001b[0m\u001b[0;34m\u001b[0m\u001b[0;34m\u001b[0m\u001b[0m\n\u001b[1;32m    758\u001b[0m         \u001b[0mfound_svg\u001b[0m \u001b[0;34m=\u001b[0m \u001b[0mx\u001b[0m\u001b[0;34m.\u001b[0m\u001b[0mgetElementsByTagName\u001b[0m\u001b[0;34m(\u001b[0m\u001b[0;34m'svg'\u001b[0m\u001b[0;34m)\u001b[0m\u001b[0;34m\u001b[0m\u001b[0;34m\u001b[0m\u001b[0m\n",
      "\u001b[0;32m/usr/lib/python3.8/xml/dom/minidom.py\u001b[0m in \u001b[0;36mparseString\u001b[0;34m(string, parser)\u001b[0m\n\u001b[1;32m   1967\u001b[0m     \u001b[0;32mif\u001b[0m \u001b[0mparser\u001b[0m \u001b[0;32mis\u001b[0m \u001b[0;32mNone\u001b[0m\u001b[0;34m:\u001b[0m\u001b[0;34m\u001b[0m\u001b[0;34m\u001b[0m\u001b[0m\n\u001b[1;32m   1968\u001b[0m         \u001b[0;32mfrom\u001b[0m \u001b[0mxml\u001b[0m\u001b[0;34m.\u001b[0m\u001b[0mdom\u001b[0m \u001b[0;32mimport\u001b[0m \u001b[0mexpatbuilder\u001b[0m\u001b[0;34m\u001b[0m\u001b[0;34m\u001b[0m\u001b[0m\n\u001b[0;32m-> 1969\u001b[0;31m         \u001b[0;32mreturn\u001b[0m \u001b[0mexpatbuilder\u001b[0m\u001b[0;34m.\u001b[0m\u001b[0mparseString\u001b[0m\u001b[0;34m(\u001b[0m\u001b[0mstring\u001b[0m\u001b[0;34m)\u001b[0m\u001b[0;34m\u001b[0m\u001b[0;34m\u001b[0m\u001b[0m\n\u001b[0m\u001b[1;32m   1970\u001b[0m     \u001b[0;32melse\u001b[0m\u001b[0;34m:\u001b[0m\u001b[0;34m\u001b[0m\u001b[0;34m\u001b[0m\u001b[0m\n\u001b[1;32m   1971\u001b[0m         \u001b[0;32mfrom\u001b[0m \u001b[0mxml\u001b[0m\u001b[0;34m.\u001b[0m\u001b[0mdom\u001b[0m \u001b[0;32mimport\u001b[0m \u001b[0mpulldom\u001b[0m\u001b[0;34m\u001b[0m\u001b[0;34m\u001b[0m\u001b[0m\n",
      "\u001b[0;32m/usr/lib/python3.8/xml/dom/expatbuilder.py\u001b[0m in \u001b[0;36mparseString\u001b[0;34m(string, namespaces)\u001b[0m\n\u001b[1;32m    923\u001b[0m     \u001b[0;32melse\u001b[0m\u001b[0;34m:\u001b[0m\u001b[0;34m\u001b[0m\u001b[0;34m\u001b[0m\u001b[0m\n\u001b[1;32m    924\u001b[0m         \u001b[0mbuilder\u001b[0m \u001b[0;34m=\u001b[0m \u001b[0mExpatBuilder\u001b[0m\u001b[0;34m(\u001b[0m\u001b[0;34m)\u001b[0m\u001b[0;34m\u001b[0m\u001b[0;34m\u001b[0m\u001b[0m\n\u001b[0;32m--> 925\u001b[0;31m     \u001b[0;32mreturn\u001b[0m \u001b[0mbuilder\u001b[0m\u001b[0;34m.\u001b[0m\u001b[0mparseString\u001b[0m\u001b[0;34m(\u001b[0m\u001b[0mstring\u001b[0m\u001b[0;34m)\u001b[0m\u001b[0;34m\u001b[0m\u001b[0;34m\u001b[0m\u001b[0m\n\u001b[0m\u001b[1;32m    926\u001b[0m \u001b[0;34m\u001b[0m\u001b[0m\n\u001b[1;32m    927\u001b[0m \u001b[0;34m\u001b[0m\u001b[0m\n",
      "\u001b[0;32m/usr/lib/python3.8/xml/dom/expatbuilder.py\u001b[0m in \u001b[0;36mparseString\u001b[0;34m(self, string)\u001b[0m\n\u001b[1;32m    221\u001b[0m         \u001b[0mparser\u001b[0m \u001b[0;34m=\u001b[0m \u001b[0mself\u001b[0m\u001b[0;34m.\u001b[0m\u001b[0mgetParser\u001b[0m\u001b[0;34m(\u001b[0m\u001b[0;34m)\u001b[0m\u001b[0;34m\u001b[0m\u001b[0;34m\u001b[0m\u001b[0m\n\u001b[1;32m    222\u001b[0m         \u001b[0;32mtry\u001b[0m\u001b[0;34m:\u001b[0m\u001b[0;34m\u001b[0m\u001b[0;34m\u001b[0m\u001b[0m\n\u001b[0;32m--> 223\u001b[0;31m             \u001b[0mparser\u001b[0m\u001b[0;34m.\u001b[0m\u001b[0mParse\u001b[0m\u001b[0;34m(\u001b[0m\u001b[0mstring\u001b[0m\u001b[0;34m,\u001b[0m \u001b[0;32mTrue\u001b[0m\u001b[0;34m)\u001b[0m\u001b[0;34m\u001b[0m\u001b[0;34m\u001b[0m\u001b[0m\n\u001b[0m\u001b[1;32m    224\u001b[0m             \u001b[0mself\u001b[0m\u001b[0;34m.\u001b[0m\u001b[0m_setup_subset\u001b[0m\u001b[0;34m(\u001b[0m\u001b[0mstring\u001b[0m\u001b[0;34m)\u001b[0m\u001b[0;34m\u001b[0m\u001b[0;34m\u001b[0m\u001b[0m\n\u001b[1;32m    225\u001b[0m         \u001b[0;32mexcept\u001b[0m \u001b[0mParseEscape\u001b[0m\u001b[0;34m:\u001b[0m\u001b[0;34m\u001b[0m\u001b[0;34m\u001b[0m\u001b[0m\n",
      "\u001b[0;31mExpatError\u001b[0m: no element found: line 1, column 0"
     ]
    }
   ],
   "source": [
    "from IPython.display import SVG, display\n",
    "display(SVG(SVGstring))"
   ]
  },
  {
   "cell_type": "code",
   "execution_count": 0,
   "metadata": {
    "collapsed": false
   },
   "outputs": [
   ],
   "source": [
   ]
  }
 ],
 "metadata": {
  "kernelspec": {
   "display_name": "Python 3 (system-wide)",
   "language": "python",
   "metadata": {
    "cocalc": {
     "description": "Python 3 programming language",
     "priority": 100,
     "url": "https://www.python.org/"
    }
   },
   "name": "python3",
   "resource_dir": "/ext/jupyter/kernels/python3"
  },
  "language_info": {
   "codemirror_mode": {
    "name": "ipython",
    "version": 3
   },
   "file_extension": ".py",
   "mimetype": "text/x-python",
   "name": "python",
   "nbconvert_exporter": "python",
   "pygments_lexer": "ipython3",
   "version": "3.8.5"
  }
 },
 "nbformat": 4,
 "nbformat_minor": 4
}