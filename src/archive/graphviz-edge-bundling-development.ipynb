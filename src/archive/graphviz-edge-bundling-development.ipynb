{
 "cells": [
  {
   "cell_type": "code",
   "execution_count": 16,
   "metadata": {
    "collapsed": false
   },
   "outputs": [
    {
     "data": {
      "image/svg+xml": "<svg xmlns=\"http://www.w3.org/2000/svg\" xmlns:xlink=\"http://www.w3.org/1999/xlink\" width=\"962pt\" height=\"106pt\" viewBox=\"0.00 0.00 962.49 106.00\">\n<g id=\"graph0\" class=\"graph\" transform=\"scale(1 1) rotate(0) translate(4 102)\">\n<title>%3</title>\n<polygon fill=\"white\" stroke=\"transparent\" points=\"-4,4 -4,-102 958.49,-102 958.49,4 -4,4\"/>\n<!-- START -->\n<g id=\"node1\" class=\"node\">\n<title>START</title>\n<ellipse fill=\"none\" stroke=\"black\" cx=\"42.25\" cy=\"-45\" rx=\"42.49\" ry=\"18\"/>\n<text text-anchor=\"middle\" x=\"42.25\" y=\"-41.3\" font-family=\"Times,serif\" font-size=\"14.00\">START</text>\n</g>\n<!-- A -->\n<g id=\"node2\" class=\"node\">\n<title>A</title>\n<ellipse fill=\"none\" stroke=\"black\" cx=\"194.49\" cy=\"-45\" rx=\"27\" ry=\"18\"/>\n<text text-anchor=\"middle\" x=\"194.49\" y=\"-41.3\" font-family=\"Times,serif\" font-size=\"14.00\">A</text>\n</g>\n<!-- START&#45;&gt;A -->\n<g id=\"edge1\" class=\"edge\">\n<title>START-&gt;A</title>\n<path fill=\"none\" stroke=\"black\" d=\"M84.7,-45C107.39,-45 135.25,-45 157.1,-45\"/>\n<polygon fill=\"black\" stroke=\"black\" points=\"157.29,-48.5 167.29,-45 157.29,-41.5 157.29,-48.5\"/>\n<text text-anchor=\"middle\" x=\"125.99\" y=\"-48.8\" font-family=\"Times,serif\" font-size=\"14.00\">w0,w1</text>\n</g>\n<!-- B -->\n<g id=\"node3\" class=\"node\">\n<title>B</title>\n<ellipse fill=\"none\" stroke=\"black\" cx=\"306.49\" cy=\"-80\" rx=\"27\" ry=\"18\"/>\n<text text-anchor=\"middle\" x=\"306.49\" y=\"-76.3\" font-family=\"Times,serif\" font-size=\"14.00\">B</text>\n</g>\n<!-- A&#45;&gt;B -->\n<g id=\"edge2\" class=\"edge\">\n<title>A-&gt;B</title>\n<path fill=\"none\" stroke=\"black\" d=\"M219.09,-52.51C234.6,-57.44 255.13,-63.98 272.29,-69.43\"/>\n<polygon fill=\"black\" stroke=\"black\" points=\"271.34,-72.81 281.93,-72.5 273.47,-66.14 271.34,-72.81\"/>\n<text text-anchor=\"middle\" x=\"250.49\" y=\"-68.8\" font-family=\"Times,serif\" font-size=\"14.00\">w0</text>\n</g>\n<!-- C -->\n<g id=\"node4\" class=\"node\">\n<title>C</title>\n<ellipse fill=\"none\" stroke=\"black\" cx=\"418.49\" cy=\"-45\" rx=\"27\" ry=\"18\"/>\n<text text-anchor=\"middle\" x=\"418.49\" y=\"-41.3\" font-family=\"Times,serif\" font-size=\"14.00\">C</text>\n</g>\n<!-- A&#45;&gt;C -->\n<g id=\"edge7\" class=\"edge\">\n<title>A-&gt;C</title>\n<path fill=\"none\" stroke=\"black\" d=\"M221.19,-42.3C237.8,-40.69 259.9,-38.81 279.49,-38 303.47,-37 309.51,-37 333.49,-38 349.26,-38.66 366.65,-40 381.49,-41.34\"/>\n<polygon fill=\"black\" stroke=\"black\" points=\"381.51,-44.86 391.79,-42.3 382.16,-37.89 381.51,-44.86\"/>\n<text text-anchor=\"middle\" x=\"306.49\" y=\"-41.8\" font-family=\"Times,serif\" font-size=\"14.00\">w1</text>\n</g>\n<!-- B&#45;&gt;C -->\n<g id=\"edge3\" class=\"edge\">\n<title>B-&gt;C</title>\n<path fill=\"none\" stroke=\"black\" d=\"M331.09,-72.49C346.6,-67.56 367.13,-61.02 384.29,-55.57\"/>\n<polygon fill=\"black\" stroke=\"black\" points=\"385.47,-58.86 393.93,-52.5 383.34,-52.19 385.47,-58.86\"/>\n<text text-anchor=\"middle\" x=\"362.49\" y=\"-68.8\" font-family=\"Times,serif\" font-size=\"14.00\">w0</text>\n</g>\n<!-- D -->\n<g id=\"node5\" class=\"node\">\n<title>D</title>\n<ellipse fill=\"none\" stroke=\"black\" cx=\"555.49\" cy=\"-45\" rx=\"27\" ry=\"18\"/>\n<text text-anchor=\"middle\" x=\"555.49\" y=\"-41.3\" font-family=\"Times,serif\" font-size=\"14.00\">D</text>\n</g>\n<!-- C&#45;&gt;D -->\n<g id=\"edge4\" class=\"edge\">\n<title>C-&gt;D</title>\n<path fill=\"none\" stroke=\"black\" d=\"M445.52,-45C466.12,-45 495.13,-45 518.04,-45\"/>\n<polygon fill=\"black\" stroke=\"black\" points=\"518.08,-48.5 528.08,-45 518.08,-41.5 518.08,-48.5\"/>\n<text text-anchor=\"middle\" x=\"486.99\" y=\"-48.8\" font-family=\"Times,serif\" font-size=\"14.00\">w0,w1</text>\n</g>\n<!-- F -->\n<g id=\"node6\" class=\"node\">\n<title>F</title>\n<ellipse fill=\"none\" stroke=\"black\" cx=\"779.49\" cy=\"-45\" rx=\"27\" ry=\"18\"/>\n<text text-anchor=\"middle\" x=\"779.49\" y=\"-41.3\" font-family=\"Times,serif\" font-size=\"14.00\">F</text>\n</g>\n<!-- D&#45;&gt;F -->\n<g id=\"edge5\" class=\"edge\">\n<title>D-&gt;F</title>\n<path fill=\"none\" stroke=\"black\" d=\"M582,-49.76C588.04,-50.69 594.48,-51.52 600.49,-52 659.86,-56.69 675.12,-56.69 734.49,-52 737.22,-51.78 740.03,-51.5 742.85,-51.16\"/>\n<polygon fill=\"black\" stroke=\"black\" points=\"743.55,-54.59 752.98,-49.76 742.6,-47.66 743.55,-54.59\"/>\n<text text-anchor=\"middle\" x=\"667.49\" y=\"-58.8\" font-family=\"Times,serif\" font-size=\"14.00\">w0</text>\n</g>\n<!-- E -->\n<g id=\"node8\" class=\"node\">\n<title>E</title>\n<ellipse fill=\"none\" stroke=\"black\" cx=\"667.49\" cy=\"-18\" rx=\"27\" ry=\"18\"/>\n<text text-anchor=\"middle\" x=\"667.49\" y=\"-14.3\" font-family=\"Times,serif\" font-size=\"14.00\">E</text>\n</g>\n<!-- D&#45;&gt;E -->\n<g id=\"edge8\" class=\"edge\">\n<title>D-&gt;E</title>\n<path fill=\"none\" stroke=\"black\" d=\"M581.18,-38.94C596.18,-35.26 615.56,-30.5 632.06,-26.45\"/>\n<polygon fill=\"black\" stroke=\"black\" points=\"633.01,-29.82 641.89,-24.04 631.34,-23.02 633.01,-29.82\"/>\n<text text-anchor=\"middle\" x=\"611.49\" y=\"-36.8\" font-family=\"Times,serif\" font-size=\"14.00\">w1</text>\n</g>\n<!-- END -->\n<g id=\"node7\" class=\"node\">\n<title>END</title>\n<ellipse fill=\"none\" stroke=\"black\" cx=\"921.99\" cy=\"-45\" rx=\"32.49\" ry=\"18\"/>\n<text text-anchor=\"middle\" x=\"921.99\" y=\"-41.3\" font-family=\"Times,serif\" font-size=\"14.00\">END</text>\n</g>\n<!-- F&#45;&gt;END -->\n<g id=\"edge6\" class=\"edge\">\n<title>F-&gt;END</title>\n<path fill=\"none\" stroke=\"black\" d=\"M806.59,-45C826.98,-45 855.72,-45 879.29,-45\"/>\n<polygon fill=\"black\" stroke=\"black\" points=\"879.38,-48.5 889.38,-45 879.38,-41.5 879.38,-48.5\"/>\n<text text-anchor=\"middle\" x=\"847.99\" y=\"-48.8\" font-family=\"Times,serif\" font-size=\"14.00\">w0,w1</text>\n</g>\n<!-- E&#45;&gt;F -->\n<g id=\"edge9\" class=\"edge\">\n<title>E-&gt;F</title>\n<path fill=\"none\" stroke=\"black\" d=\"M693.18,-24.06C708.18,-27.74 727.56,-32.5 744.06,-36.55\"/>\n<polygon fill=\"black\" stroke=\"black\" points=\"743.34,-39.98 753.89,-38.96 745.01,-33.18 743.34,-39.98\"/>\n<text text-anchor=\"middle\" x=\"723.49\" y=\"-36.8\" font-family=\"Times,serif\" font-size=\"14.00\">w1</text>\n</g>\n</g>\n</svg>",
      "text/plain": [
       "<IPython.core.display.SVG object>"
      ]
     },
     "execution_count": 16,
     "metadata": {
     },
     "output_type": "execute_result"
    }
   ],
   "source": [
    "# get ready to visualize the decision tree in SVG\n",
    "import graphviz\n",
    "from IPython.display import SVG\n",
    "from collections import defaultdict\n",
    "\n",
    "# node id values must be strings for graphviz\n",
    "a = graphviz.Digraph(format=\"svg\")\n",
    "a.clear()\n",
    "a.attr(rankdir = \"LR\")\n",
    "\n",
    "# create nodes\n",
    "w0 = ['START','A', 'B', 'C', 'D', 'F', 'END']\n",
    "w1 = ['START','A', 'C', 'D', 'E', 'F','END']\n",
    "witnesses = [w0, w1]\n",
    "tokens = []\n",
    "for witness in witnesses:\n",
    "    for token in witness:\n",
    "        if token not in tokens:\n",
    "            tokens.append(token)\n",
    "            a.node(token)\n",
    "\n",
    "# create edges\n",
    "witness_edges = { # edges for each witness\n",
    "    'w0': zip(w0, w0[1:]),\n",
    "    'w1': zip(w1, w1[1:])\n",
    "}\n",
    "all_edges = defaultdict(list) # keys are (source, target) tuples, values are lists of sigla\n",
    "\n",
    "# add edges for each witness to single inventory\n",
    "for siglum, edges_by_witness in witness_edges.items():\n",
    "    for edge_by_witness in edges_by_witness:\n",
    "        all_edges[edge_by_witness].append(siglum)\n",
    "\n",
    "# add edges to graph\n",
    "for edge_endpoint, sigla in all_edges.items():\n",
    "    a.edge(edge_endpoint[0], edge_endpoint[1], label=\",\".join(sigla))\n",
    "\n",
    "\n",
    "\n",
    "SVG(a.view()) # this doesn't seem to work; need to run it in the calling program"
   ]
  },
  {
   "cell_type": "code",
   "execution_count": 0,
   "metadata": {
    "collapsed": false
   },
   "outputs": [
   ],
   "source": [
   ]
  }
 ],
 "metadata": {
  "kernelspec": {
   "display_name": "Python 3 (system-wide)",
   "language": "python",
   "metadata": {
    "cocalc": {
     "description": "Python 3 programming language",
     "priority": 100,
     "url": "https://www.python.org/"
    }
   },
   "name": "python3",
   "resource_dir": "/ext/jupyter/kernels/python3"
  },
  "language_info": {
   "codemirror_mode": {
    "name": "ipython",
    "version": 3
   },
   "file_extension": ".py",
   "mimetype": "text/x-python",
   "name": "python",
   "nbconvert_exporter": "python",
   "pygments_lexer": "ipython3",
   "version": "3.8.5"
  }
 },
 "nbformat": 4,
 "nbformat_minor": 4
}