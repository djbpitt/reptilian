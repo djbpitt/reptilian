{
 "cells": [
  {
   "cell_type": "code",
   "execution_count": 1,
   "metadata": {
    "collapsed": false
   },
   "outputs": [
   ],
   "source": [
    "from bitarray import bitarray"
   ]
  },
  {
   "cell_type": "code",
   "execution_count": 2,
   "metadata": {
    "collapsed": false
   },
   "outputs": [
    {
     "name": "stdout",
     "output_type": "stream",
     "text": [
      "old=bitarray('0101')\n",
      "new=bitarray('0101')\n",
      "old == new=True\n"
     ]
    }
   ],
   "source": [
    "# old and new are equal\n",
    "# new contain no new information\n",
    "# we can do nothing\n",
    "old = bitarray('0101')\n",
    "new = bitarray('0101')\n",
    "print(f\"{old=}\")\n",
    "print(f\"{new=}\")\n",
    "print(f\"{old == new=}\")"
   ]
  },
  {
   "cell_type": "code",
   "execution_count": 3,
   "metadata": {
    "collapsed": false
   },
   "outputs": [
    {
     "name": "stdout",
     "output_type": "stream",
     "text": [
      "old=bitarray('0101')\n",
      "new=bitarray('0100')\n"
     ]
    }
   ],
   "source": [
    "# if result is 0, old contains more information\n",
    "# we can do nothing\n",
    "old = bitarray('0101')\n",
    "new = bitarray('0100')\n",
    "print(f\"{old=}\")\n",
    "print(f\"{new=}\")"
   ]
  },
  {
   "cell_type": "code",
   "execution_count": 4,
   "metadata": {
    "collapsed": false
   },
   "outputs": [
   ],
   "source": [
    "# if result is non-zero, new contains more information\n",
    "# we can replace old with new, without doing merge\n",
    "old = bitarray('0100')\n",
    "new = bitarray('0101')"
   ]
  },
  {
   "cell_type": "code",
   "execution_count": 5,
   "metadata": {
    "collapsed": false
   },
   "outputs": [
   ],
   "source": [
    "# both contain unique information\n",
    "# must merge\n",
    "old = bitarray('0110')\n",
    "new = bitarray('0101')"
   ]
  },
  {
   "cell_type": "code",
   "execution_count": 19,
   "metadata": {
    "collapsed": false
   },
   "outputs": [
    {
     "name": "stdout",
     "output_type": "stream",
     "text": [
      "(old - new < 0).any() = True\n",
      "(new - old < 0).any() = True\n"
     ]
    }
   ],
   "source": [
    "import numpy as np\n",
    "old = np.array([0, 10, 0, 11])\n",
    "new = np.array([0, 0, 10, 11])\n",
    "print(f\"{(old - new < 0).any() = }\") # true if new vector has new information\n",
    "print(f\"{(new - old < 0).any() = }\") # true old vector has new information"
   ]
  },
  {
   "cell_type": "code",
   "execution_count": 0,
   "metadata": {
    "collapsed": false
   },
   "outputs": [
   ],
   "source": [
   ]
  }
 ],
 "metadata": {
  "kernelspec": {
   "display_name": "Python 3 (system-wide)",
   "language": "python",
   "metadata": {
    "cocalc": {
     "description": "Python 3 programming language",
     "priority": 100,
     "url": "https://www.python.org/"
    }
   },
   "name": "python3",
   "resource_dir": "/ext/jupyter/kernels/python3"
  },
  "language_info": {
   "codemirror_mode": {
    "name": "ipython",
    "version": 3
   },
   "file_extension": ".py",
   "mimetype": "text/x-python",
   "name": "python",
   "nbconvert_exporter": "python",
   "pygments_lexer": "ipython3",
   "version": "3.8.10"
  }
 },
 "nbformat": 4,
 "nbformat_minor": 4
}